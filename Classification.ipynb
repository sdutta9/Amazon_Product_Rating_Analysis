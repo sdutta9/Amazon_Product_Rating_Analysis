{
 "cells": [
  {
   "cell_type": "code",
   "execution_count": 164,
   "metadata": {
    "collapsed": false
   },
   "outputs": [],
   "source": [
    "# All Imports\n",
    "from collections import Counter\n",
    "import ConfigParser\n",
    "import matplotlib.pyplot as plt\n",
    "import networkx as nx\n",
    "import sys\n",
    "import time\n",
    "import io\n",
    "import re\n",
    "import nltk\n",
    "from nltk.corpus import sentiwordnet\n",
    "from nltk.corpus import SentiWordNetCorpusReader, SentiSynset\n",
    "swn_root = './'\n",
    "swn_filename = 'SentiWordNet_3.0.0_20130122.txt'\n",
    "swn = SentiWordNetCorpusReader(swn_root,swn_filename,encoding='utf-8')\n",
    "#nltk.download()\n",
    "\n",
    "%matplotlib inline"
   ]
  },
  {
   "cell_type": "code",
   "execution_count": 165,
   "metadata": {
    "collapsed": false
   },
   "outputs": [],
   "source": [
    "# Converts a file to list of strings where each item is one line of the file.\n",
    "def file2string(filename):\n",
    "    result = []\n",
    "    result = io.open(filename, encoding='utf8').readlines()\n",
    "    for val in range(0,len(result)):\n",
    "        result[val]=re.sub(\"\\n\",\"\",result[val])        \n",
    "    return result"
   ]
  },
  {
   "cell_type": "code",
   "execution_count": 192,
   "metadata": {
    "collapsed": false
   },
   "outputs": [
    {
     "name": "stdout",
     "output_type": "stream",
     "text": [
      "Created product dictionary with 29 products\n"
     ]
    }
   ],
   "source": [
    "#Create a dictionary with product id as key and item title and manufacturer tuple as value taking a file as input\n",
    "def productsDictionary(productsfile):\n",
    "    productlst = file2string(productsfile)\n",
    "    result = {}\n",
    "    for product in productlst:\n",
    "        temp = product.split(\"\\t\")\n",
    "        result[temp[0]]=(temp[1],temp[2])\n",
    "    return result\n",
    "\n",
    "product_dictionary = productsDictionary(\"items.txt\")\n",
    "print \"Created product dictionary with\",len(product_dictionary.keys()),\"products\""
   ]
  },
  {
   "cell_type": "code",
   "execution_count": 167,
   "metadata": {
    "collapsed": true
   },
   "outputs": [],
   "source": [
    "def calculateSynsetScore(review):\n",
    "    tokens = nltk.word_tokenize(review)\n",
    "    score = 0\n",
    "    for t in tokens:\n",
    "        try:\n",
    "            synset = swn.senti_synsets(t)[0]\n",
    "            #print t,\"\\t\",synset\n",
    "            score = score + synset.pos_score() - synset.neg_score()\n",
    "        except(IndexError):\n",
    "            #print \"Index error at:\", t\n",
    "            pass\n",
    "    return score"
   ]
  },
  {
   "cell_type": "code",
   "execution_count": 168,
   "metadata": {
    "collapsed": false
   },
   "outputs": [
    {
     "data": {
      "text/plain": [
       "'this would not be replaced. '"
      ]
     },
     "execution_count": 168,
     "metadata": {},
     "output_type": "execute_result"
    }
   ],
   "source": [
    "#Replace the word which contains n't i.e wouldn't,shouldn't  \n",
    "#   with  would not, should not and return the string.   \n",
    "\n",
    "def replace_with_not(string):\n",
    "    ns = \"\"\n",
    "    suffix = \"n't\"\n",
    "    word = \"not\"\n",
    "    for stn in string.split():\n",
    "        if stn.endswith(suffix):\n",
    "            stn = stn[:-3]\n",
    "            ns += stn + ' ' + word + ' '\n",
    "        else:\n",
    "            ns += stn + ' '\n",
    "    return ns\n",
    "    \n",
    "replace_with_not(\"this wouldn't be replaced.\")"
   ]
  },
  {
   "cell_type": "code",
   "execution_count": 195,
   "metadata": {
    "collapsed": false,
    "scrolled": false
   },
   "outputs": [],
   "source": [
    "# Reads a file named (productID).txt and returns a list of all reviews present in that file for the given productID\n",
    "def getAllReviews(productID):\n",
    "    reviews = file2string(productID+\".txt\") \n",
    "    result = []\n",
    "    for review_line in reviews:\n",
    "        #print review.split(\"->\")[1],\"\\n\"\n",
    "        review = review_line.split(\"->\")[1]\n",
    "        review = replace_with_not(review)\n",
    "        score = calculateSynsetScore(review)\n",
    "        result.append((review,score))\n",
    "    return result"
   ]
  },
  {
   "cell_type": "code",
   "execution_count": 196,
   "metadata": {
    "collapsed": false
   },
   "outputs": [
    {
     "name": "stdout",
     "output_type": "stream",
     "text": [
      "Product ID: B013PK8LGQ \tNumber of reviews: 18\n",
      "Product ID: B004KZJ0UM \tNumber of reviews: 100\n",
      "Product ID: B00ZOO1RFO \tNumber of reviews: 76\n",
      "Product ID: B012BPRLO4 \tNumber of reviews: 3\n",
      "Product ID: B00PGELA04 \tNumber of reviews: 46\n",
      "Product ID: B011KFQASE \tNumber of reviews: 100\n",
      "Product ID: B00Z1R85O0 \tNumber of reviews: 15\n",
      "Product ID: B00THEP15O \tNumber of reviews: 55\n",
      "Product ID: B014V3V9J2 \tNumber of reviews: 2\n",
      "Product ID: B015PYZXRU \tNumber of reviews: 39\n",
      "Product ID: B00VKL0I96 \tNumber of reviews: 39\n",
      "Product ID: B00XPUUGDI \tNumber of reviews: 74\n",
      "Product ID: B00V2KX5JA \tNumber of reviews: 8\n",
      "Product ID: B00RY4X8A4 \tNumber of reviews: 100\n",
      "Product ID: B00ZS64K7K \tNumber of reviews: 23\n",
      "Product ID: B00K4PATO8 \tNumber of reviews: 100\n",
      "Product ID: B00NJNE6AA \tNumber of reviews: 99\n",
      "Product ID: B015JVBD64 \tNumber of reviews: 39\n",
      "Product ID: B00YD1OQ1G \tNumber of reviews: 38\n",
      "Product ID: B00U8DHPX4 \tNumber of reviews: 60\n",
      "Product ID: B011N5HFOE \tNumber of reviews: 8\n",
      "Product ID: B014B9IS1S \tNumber of reviews: 6\n",
      "Product ID: B015JVB9C2 \tNumber of reviews: 30\n",
      "Product ID: B015P3SH9W \tNumber of reviews: 59\n",
      "Product ID: B010DODAWM \tNumber of reviews: 37\n",
      "Product ID: B00IB04M5K \tNumber of reviews: 79\n",
      "Product ID: B010DOD2G6 \tNumber of reviews: 30\n",
      "Product ID: B00ZOLT5YC \tNumber of reviews: 100\n",
      "Product ID: B00KMRGF28 \tNumber of reviews: 100\n",
      "Counter({100: 6, 39: 3, 8: 2, 30: 2, 79: 1, 2: 1, 3: 1, 6: 1, 38: 1, 74: 1, 23: 1, 76: 1, 46: 1, 15: 1, 18: 1, 99: 1, 55: 1, 59: 1, 60: 1, 37: 1})\n"
     ]
    }
   ],
   "source": [
    "#Create a dictionary with product id as key and list of its reviews as value.\n",
    "\n",
    "product_ids = product_dictionary.keys()\n",
    "product_reviews = {}\n",
    "\n",
    "for id in product_ids:    \n",
    "    reviews = getAllReviews(id)\n",
    "    product_reviews[id]=reviews;\n",
    "\n",
    "cnt = Counter()\n",
    "for key in product_reviews.keys():\n",
    "    print \"Product ID:\",key,\"\\tNumber of reviews:\",len(product_reviews[key])\n",
    "    cnt[len(product_reviews[key])]+=1\n",
    "print cnt"
   ]
  },
  {
   "cell_type": "code",
   "execution_count": 197,
   "metadata": {
    "collapsed": false
   },
   "outputs": [
    {
     "data": {
      "text/plain": [
       "[(u'Exelent seller... all ok :) ', 0.0),\n",
       " (u'Great product good price ', 0.5),\n",
       " (u'Bare bones ... underpowered ... no CD-ROM / DVD drive ', -0.25),\n",
       " (u'I got up this morning, one year after purchase, and the computer will not come on. It was purchased for my teenager to do homework on, hence, it is not used that much. I expected a longer working life. Plus, all saved work is not accessible at this time. Feeling bad about Dell! ',\n",
       "  -0.25),\n",
       " (u\"Could be better, could be worse. It's definitely a cheap laptop but I do not use it for much, if I needed it for a job/school or something important it would not be ideal. I wish the battery lasted longer, especially now that my AC Adapter stopped working properly. I was able to get a free upgrade to Windows 10 and I like it better with the newer Windows. My husband purchased this laptop for me December of 2014 as a Christmas gift - it is now October of 2015 and my AC adapter has suddenly stopped charging the laptop (so basically 9 months of usage). When plugged in, it makes the screen brighter but I get an error message saying the adapter I have is not supported. I tried plugging in the adapter that goes with my husband's laptop and it works just fine so I know the issue is with the adapter. This is a bit annoying since I have not even had the thing for a year yet. This is my third Dell laptop, I've had 2 others that lasted a good 5 years and this NEVER happened. I looked for a new adapter on Amazon and do not feel like I can trust any of the seller, the thing costs at least $60 if you want it directly from Dell. \",\n",
       "  2.875),\n",
       " (u'In purchasing this laptop we knew we were getting a simple computer with few bells and whistles. What we did not expect was the low quality we would also be purchasing. We have had multiple problems and have to restart the laptop often. Our newest issue is our computer suddenly stopping and showing a &#34;computer_process_died&#34; error. While we are no geniuses, we know this is not good. Please save your money and do NOT purchase this laptop. I am wishing we had done the same... ',\n",
       "  1.125),\n",
       " (u'verry good ', 0.5),\n",
       " (u'verry good ', 0.5),\n",
       " (u'junk already broke ', -0.125),\n",
       " (u'Bare bones, but works well for my purposes, which is exclusively to run QuickBooks and do accounting. Plenty fast enough for that purpose. ',\n",
       "  -0.25),\n",
       " (u'Quite possibly the worse laptop in human history. Such garbage with low battery life, stupid retina and malfuncting keyboards. Do not bother with technical support since they are as stupid and unhelpful. They will try to squeeze every cent out of you, even if it includes buying a new laptop. ',\n",
       "  -1.875),\n",
       " (u'I love this laptop, i use it everydat for school. It is very lightweight, alot lighter than my textbookes. It fits any bookbag with ease, and its very sturdy. I would recommend this to anyone! ',\n",
       "  0.0),\n",
       " (u'nice ', 0.0),\n",
       " (u'I love this computer. And... it was an excellent bargain thanks to amazon. ',\n",
       "  0.75),\n",
       " (u'Very good for my TV ', 0.5),\n",
       " (u'good ', 0.5),\n",
       " (u'I needed an inexpensive laptop to connect to the Internet and this little machine did the trick plus much more. It is very fast processing. It was easy to set up. Love the larger size screen. Only wish I could have gotten it with a lower version of windows as it was a learning curve to use the newest version. ',\n",
       "  2.125),\n",
       " (u'Great laptop! ', 0.0),\n",
       " (u'I bought two of these, one for a high school student and one for myself. We needed basic machines and these did not even qualify for those low expectations. The were both completely unusable in under six months time. One had a manufacturer defect in the power cord whose unstable power had fried the motherboard and the other had a screen that quit. If I did not live in Palau I may have taken the issue up with Dell....but no such luck. I will never buy another Dell. ',\n",
       "  -0.75),\n",
       " (u'Works great ', 0.0),\n",
       " (u'This is a great buy for the amount of money that I spent. The only thing that it lacks in my opinion is Bluetooth. But, it is not a deal breaker for me. If you are a gamer, this is not the laptop for you, but if you were a gamer, you would already know that this is not the laptop for you. If you are a student, working from home (in a non-technical field), browsing online, reading online, listening to music - this is the laptop for you! I did not purchase a warranty or anything and it has been going strong now for about a year. The laptop is so quiet that I forget if it is on when it is in sleep mode. The battery life is AMAZING! It lasts for such a long time. It would be perfect if it were not for the lack of Bluetooth, but you can still use the cord ones. It has USB, a webcam, it has 10-key (which is a plus and kind of a deal breaker for me at this time), the mouse pad is user friendly and it just feels comfortable to me. I have streamed Netflix (my internet speed is great though), and the picture quality is awesome. The search field on the front screen makes it easy to find anything that you are looking for within the computer itself. It has a matte finish and not a shiny or slippery finish and it handles well. The only reason that I did not give it 5 stars is because of the blue-tooth. ',\n",
       "  1.875),\n",
       " (u'I purchased this for very light home use, streaming movies and checking e-mail. It has served its purpose very well. My only complaint is I do not like the version of Windows that comes installed. Also I have had a lot of trouble finding an external CD/DVD drive that I can actually get to work. ',\n",
       "  0.125),\n",
       " (u'would give 3 1/2, if it was an option. price was right;but has windows 8.1, which is terrible version (xp, and 7 were much better, vista even worse), and it is pretty slow. more useful as a second/back up unit; i use a macbook air as a primary, but its difficult to get away from having to use a pc sometimes. ',\n",
       "  -0.75),\n",
       " (u'this is my 3rd dell.. and it is the worst.. never had a new laptop give me problems like this one before.. it seem used or refurbished.. because I do not know why a new system would be running so slow.. ',\n",
       "  0.125),\n",
       " (u\"I've had this laptop for almost a year and it's really not so bad. It's more of a stay-at-home laptop for me at least. It's not extremely heavy, battery life's alright I wanted a bit more but it's okay. Compared to a previous laptop I had that always got hot real fast, this one's actually pretty good. You do not feel the heat on your lap. It's good with speed, performance and it's highly recommened for people who are starting off easy. (: \",\n",
       "  0.375),\n",
       " (u'Great laptop at a great price! The only downside is that the memory is so small that I have had to pick and choose what I download and remove some programs before adding others. (and no there is no way to add more on this unit) For example, I wanted to add an additional wireless printer yesterday, but I had to find a bunch of files that could be deleted just to make room. Ugh!! On the plus side, the laptop is lightweight, versatile and is super fast. It is a great home lap top if you are just using it mostly for Facebook, email and of course shopping on Amazon. It also works well for printing coupons and since adding the Windows products, my daughters can easily write papers, etc. I do recommend it for any one who does not need a lot of storage. ',\n",
       "  4.5),\n",
       " (u'Bare bones computer for a bare bones price. Perfect for word processing and web browsing. ',\n",
       "  0.5),\n",
       " (u'bueno ', 0),\n",
       " (u'for the prices work good ', 0.5),\n",
       " (u'Nice laptop ', 0.0),\n",
       " (u'Unfortunately the cover broke on the laptop in less than a year and had to be replaced with a new laptop ',\n",
       "  -0.875),\n",
       " (u'Excellent service and the actual product delivered to me is awesome!!! ',\n",
       "  -0.25),\n",
       " (u\"Wanted a cheap limited use laptop and got that exactly. You most definitely get what you pay for with this unit. Can barely run Win 8, not even considering Win 10. Has been back to Dell twice for back motherboards which they like to blame the failure of on the battery. Explain to me other than fire or explosion how a battery is going to toast a motherboard, plus if so why did not Dell replace it under warranty? Dell did not want to warrant their original repair, had to deal with them for 59 minutes and 34 seconds (actual phone time) to get them to do so. Asked them point-blank &#34;do you or do not you warrant your repair work?&#34; Was told &#34;no&#34; they do not. Maybe something was lost in translation, if so another reason to move your customer service to an English speaking and English understanding country. Adios Dell, you've seen the last of me. \",\n",
       "  -3.25),\n",
       " (u'Great product ', 0.0),\n",
       " (u\"I really do hate it. It works about 1/8th of the time and that is after I let it take about 15 minutes to connect to the internet. I really just want to throw it off of my 4th story balcony but it'll end up hitting something and get the last laugh. Do not buy, spend more money and get a better one. I just wanted something to browse the internet with and this computer will not even allow that, 7/8ths of the time. \",\n",
       "  1.75),\n",
       " (u'Want to change W7 system, but can not change, computer scrap, now what to do, please contact us as soon as possible. Thank you very much! ',\n",
       "  0.0),\n",
       " (u'Not bad but did not meet my requirements anyway. It has no cd drive. ',\n",
       "  -2.375),\n",
       " (u'Bought &#34;brand new&#34; computer from 3rd party through Amazon, could not even log in because there was already another user on the laptop. My fault for ordering laptop through Amazon. Off to Best Buy. ',\n",
       "  -0.25),\n",
       " (u\"problem since day one with keyboard entries. sent to dell they replaced keyboard and some other misleading jargon. I still have problems with this inferior equipment! Made a second call for service they did a remote connect and said the drivers were out of date. They said this should fix the problem! After disconnect just 15 minutes and the problem came back! Very dissatisfied I think this one is for Ralph Nadar to resolve. I would not recommend this to my worst enemy! Now it's another call for service where ever that is in the world! \",\n",
       "  -6.125),\n",
       " (u\"I should have known that buying a low priced computer would cost money and frustration in the future. First, it did not come with Office--probably says this in the information about it, but I did so many comparisons, I missed it. Second, it came loaded with pop up ware, ad ware, etc so that it's very difficult to use the internet. I removed some of the pre loaded programs, and this helped very little. I would not buy this again, and am so frustrated that I am considering throwing it away. I would give it away if I could find someone tech savvy enough to figure out how to get rid of the adware and malware. \",\n",
       "  -0.75),\n",
       " (u'I received my computer in great condition and have not have a problem with it. ',\n",
       "  -1.25),\n",
       " (u'Good enough for the price. Time to time black out for no reason. But able to recover it. ',\n",
       "  0.0),\n",
       " (u'Perfect performance. Great size. I love the definition in the screen. The number pad on the side is very helpful. ',\n",
       "  0.5),\n",
       " (u'Great price for a great machine. ', 0.0),\n",
       " (u'great ', 0.0),\n",
       " (u'It is very nice and has good specifications fulfills the promise and is a great computer for the price, I will have a year with the device and it works as fast as the first day ',\n",
       "  0.875),\n",
       " (u'its perfect for the price. all I need is a dvd drive. ', 0.125),\n",
       " (u'Ok computer except it should have had keys that light up while using and also a place to install a disc ',\n",
       "  0.25),\n",
       " (u'Excellent value, the trackpad performs erratically after six months. But still a great value. ',\n",
       "  0.375),\n",
       " (u'Like new hope to enjoy it for some years.great price. ', 1.0),\n",
       " (u'I am returning it for repairing. ', -0.125),\n",
       " (u\"Great for the average user. Do not buy if you're using it for work or handling large sets of data via Excel. \",\n",
       "  -0.25),\n",
       " (u'Bought for my daughter for college and the ink from the screen started linking was not dropped. The pc is not a year old yet WOW Dell way to go. ',\n",
       "  -1.0),\n",
       " (u'Great for what I needed. Quick shipping. ', 0.0),\n",
       " (u'Perfectly good computer for a great price! ', 1.0),\n",
       " (u'It was delivered a day early and I am very pleased with that. So far it is working fine and even with the Celeron processor it surprises me. ',\n",
       "  0.75),\n",
       " (u\"Love this computer! I was a little worried because of the low price but it has exceeded all my expectations. I do not do a lot of gaming so I ca not attest to it's speed in that area but it works great for my needs. \",\n",
       "  -1.125),\n",
       " (u'This computer is so slow!!!!! Buy a Surface. It runs well and I have access to great customer service. ',\n",
       "  0.625),\n",
       " (u'For what the computer is and has to offer, I enjoy it. It takes some time to get used to the Windows 8.1 after using Windows 7 for years. Once figured out, it is a great investment!! ',\n",
       "  0.625),\n",
       " (u'Dell should not manufacture such a slow machine ', -0.625),\n",
       " (u'Muy buena laptop. ', 0.0),\n",
       " (u'in the trash ', -0.125),\n",
       " (u'Nice laptop for the money but I am having a hard time acclimated to Windows 8.1 ',\n",
       "  -0.875),\n",
       " (u'Excellent ', 0),\n",
       " (u'fine ', -0.125),\n",
       " (u'I arrived safely and in good condition ', 0.875),\n",
       " (u'have to become more quaified user ', 0.0),\n",
       " (u\"It was one of my daughter's graduation gifts and the best thing ever for her!!! \",\n",
       "  0.625),\n",
       " (u'Excellent computer. Tons of memory. Great price. ', -0.25),\n",
       " (u\"It's awsome \", 0.0),\n",
       " (u'Did not get any paper work with this PC or any disc for it. Was sad about that part of it, but glad I did not need any to get it running or have not needed any to keep it running. Hope it does not crash on me so I need a disc to start it up again. ',\n",
       "  -2.75),\n",
       " (u'Minimal computer, but all that I need and a great price ', 0.0),\n",
       " (u\"Really disappointed in this laptop. Was not worth the money. Really slow, and locks up on it's own. Unable to open specific websites for work information. I gave my Toshiba laptop to my granddaughter, and even though it was older, it worked much better than this one. Had to buy external CD drive. This was the 3rd Dell I have purchased, and the first and last Dell laptop. \",\n",
       "  1.125),\n",
       " (u\"I slapped a solid state drive in it and installed Windows 7. I highly recommend you double check the power settings - disabling these helped this little machine a lot, a long with making sure Window's transparent and other settings were disabled. Personally I wanted a nifty little machine that I could use to type on, maybe play some music or a video when I'm out of the house so that I would not have to use and abuse my cell. It does the job very well for what I paid for it. The processor in mine is definitely on the &#34;very weak&#34; and can &#34;sort of&#34; stream a 1080 youtube video, though it does mostly okay with 720. All in all for the price? Not bad. Edit: So even with Linux the machine still has problems running more than one webpage at a time. If this had a slightly better processor I think this would be a very worthy 4/5 for the price. As is I feel that it's a 3/5 since it does about 3/5ths of my main machine's web browsing. \",\n",
       "  -2.375),\n",
       " (u'Excelente ', 0),\n",
       " (u'nice no cd rom ', -0.25),\n",
       " (u'This computer came completely infested with malware. It has been more than frustrating trying to clear the system of all the damn viruses and malware pop-ups. If I had known I was going to have to deal with all of that I would not have bought it. ',\n",
       "  0.5),\n",
       " (u\"Loved it its fast reliable and Portable. Only thing I do not like is that the casing is a fingerprint magnet. I've also played Minecraft and get an average of 30 FPS without optifine \",\n",
       "  0.5),\n",
       " (u'Really good laptop, bought 1 year ago and I have no problems, I upgraded from 4 to 8 GB ram and now is even better ! :D (This laptop is it really good for basic stuffs, can run some games really decent, (Elsword Online, Dragon Nest etc) Not your ideal laptop, if you are looking for a cheap gaming one.. xD ',\n",
       "  3.0),\n",
       " (u'Great lap top for the money...dont think you can go wrong with this purchase at the price. ',\n",
       "  -0.75),\n",
       " (u'Very good laptop, excellent price, and excellent seller. I recomended ',\n",
       "  0.5),\n",
       " (u'Still getting used to it. I love it so far. ', 0.625),\n",
       " (u\"Edit: I purchased an 8gb stick of RAM, and now this computer works pretty well. I can watch Netflix now! I have not needed to reboot in two days! I revise my previous opinion of this machine. All it needs is a RAM upgrade and it's just fine for the price. I suspect that an additional processor upgrade would make it great for the price. Hands down this is the worst computer I've ever owned. It's barely fast enough to run Netflix videos, and if I do not restart it every couple hours, it will be too slow to use. On top of this, the Windows 8 operating system is extremely poorly designed. I recommend taking your $269 and going to a pawn shop. I ca not imagine you'd do much worse than this machine. \",\n",
       "  -3.5),\n",
       " (u'Ca not find charger, not very user friendly ', -0.375),\n",
       " (u'I bought this as a refurbished computer. Very good price and quality computer. No issues. Seller shipped fast and was exactly as described. ',\n",
       "  1.125),\n",
       " (u'does not have a CD drive. Also only has 2 usb ports. If I would have known would not have bought it. also does not have an internet jack - can only use with wifi. ',\n",
       "  -2.0),\n",
       " (u'Works way better than my Toshiba did. Owned this for about half a year now and have had no troubles with it yet! ',\n",
       "  0.75),\n",
       " (u'Excellent! ', 0),\n",
       " (u'I returned. ', 0.0),\n",
       " (u'Poor quality. Processes slowly. Has difficulties managing Internet and Word at same time. ',\n",
       "  0.0),\n",
       " (u'touch pad freezes. customer support has hung up on me four times tonight ',\n",
       "  0.5),\n",
       " (u'Arrived in good condition. Work as expected. ', 0.5),\n",
       " (u'great computer ', 0.0),\n",
       " (u'Completely lost entire desktop in under a year without a way to connect to the internet to restore anything. Also, the CD port is FAKE!!! DO NOT buy this laptop ',\n",
       "  0.0),\n",
       " (u'Do not Buy. Junk.Key R does not work. It shut downs occasionally . I hate it waste of your money. It does not have DVD case.... cannot believed that someone will produce comp without DVD. Yak ',\n",
       "  -1.75),\n",
       " (u\"Like it a lot--best of all it has Windows 7--ca not stand Window 8 and thereafter. It's a big computer; it stays home. For the price it is top-notch. Please bear this review in mind with the price. The screen-cover is thin and I'm always conscientious of this, so no heavy things on top; and because it's thin, it wobbles when you adjust the angle and when you move the laptop. The sound is not back and loud enough for my purposes. The DVD player is a bit flimsy but it has not failed and does the job. After MS Vista you cannot buy to own MS Office apps: you RENT or buy the annual license to used MS Word/Office. You'll be paying every year. This is crap--one reason I am keeping my older laptops just so I do not have to keep buying the right to use Office Word or Excell or Access!!! Anyone who uses the Cloud storage for important document is crazy--it's not your document if it's in some one else's home, is it! Keep you own external storage drivers. I would only keep downloaded music in any 'floating' storage facility--I would not even keep pictures in any fluff storage. The picture is sharp, color is true, but the screen is much wider than I'm used to: because of the thinner bezel you have more viewing screen--nothing is wrong with this; I just have to get used to it. Not that crazy about the clear glossy screen; it does reflects too much back image but it does give the picture clear and truer color display; really great watching movies in the dark. I'll be using this for the Internet and saving my older laptop for work. For a couple of hundred bucks, this laptop is a great value. Would have given it 5 stars if it the keyboard was backlit. \",\n",
       "  1.25),\n",
       " (u'good ', 0.5),\n",
       " (u'Its great thank you. ', 0.0),\n",
       " (u'It gets the basic jobs done and is good for persons who do not need a highly spec laptop,for notes taking, creating assignments, internet and multimedia, not video games this laptop easily gets the job done ',\n",
       "  0.25),\n",
       " (u'very good product and economic , in spite of being purchased from new wine stores ',\n",
       "  0.0)]"
      ]
     },
     "execution_count": 197,
     "metadata": {},
     "output_type": "execute_result"
    }
   ],
   "source": [
    "product_reviews[product_ids[28]]"
   ]
  }
 ],
 "metadata": {
  "kernelspec": {
   "display_name": "Python 2",
   "language": "python",
   "name": "python2"
  },
  "language_info": {
   "codemirror_mode": {
    "name": "ipython",
    "version": 2
   },
   "file_extension": ".py",
   "mimetype": "text/x-python",
   "name": "python",
   "nbconvert_exporter": "python",
   "pygments_lexer": "ipython2",
   "version": "2.7.6"
  }
 },
 "nbformat": 4,
 "nbformat_minor": 0
}
