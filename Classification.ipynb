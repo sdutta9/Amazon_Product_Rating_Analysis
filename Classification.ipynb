{
 "cells": [
  {
   "cell_type": "code",
   "execution_count": 97,
   "metadata": {
    "collapsed": false
   },
   "outputs": [],
   "source": [
    "# All Imports\n",
    "from collections import Counter\n",
    "import ConfigParser\n",
    "import matplotlib.pyplot as plt\n",
    "import networkx as nx\n",
    "import sys\n",
    "import time\n",
    "from amazon.api import AmazonAPI\n",
    "import io\n",
    "import re\n",
    "#import nltk\n",
    "#nltk.download()\n",
    "from nltk.corpus import sentiwordnet as swn\n",
    "\n",
    "%matplotlib inline"
   ]
  },
  {
   "cell_type": "code",
   "execution_count": 98,
   "metadata": {
    "collapsed": false
   },
   "outputs": [],
   "source": [
    "# Converts a file to list of strings where each item is one line of the file.\n",
    "def file2string(filename):\n",
    "    result = []\n",
    "    result = io.open(filename, encoding='utf8').readlines()\n",
    "    for val in range(0,len(result)):\n",
    "        result[val]=re.sub(\"\\n\",\"\",result[val])\n",
    "        \n",
    "    return result\n",
    "\n",
    "item_list = file2string(\"items.txt\")\n",
    "#print item_list[:5]"
   ]
  },
  {
   "cell_type": "code",
   "execution_count": 99,
   "metadata": {
    "collapsed": false
   },
   "outputs": [],
   "source": [
    "#Create a dictionary with item id as key and item title and manufacturer tuple as value\n",
    "def itemsDictionary(itemlst):\n",
    "    result = {}\n",
    "    for item in itemlst:\n",
    "        temp = item.split(\"\\t\")\n",
    "        result[temp[0]]=(temp[1],temp[2])\n",
    "    return result\n",
    "\n",
    "item_dictionary = itemsDictionary(item_list)"
   ]
  },
  {
   "cell_type": "code",
   "execution_count": 113,
   "metadata": {
    "collapsed": false,
    "scrolled": false
   },
   "outputs": [
    {
     "name": "stdout",
     "output_type": "stream",
     "text": [
      "29\n",
      "Product ID: B013PK8LGQ \tNumber of reviews: 18\n",
      "Product ID: B004KZJ0UM \tNumber of reviews: 100\n",
      "Product ID: B00ZOO1RFO \tNumber of reviews: 76\n",
      "Product ID: B012BPRLO4 \tNumber of reviews: 3\n",
      "Product ID: B00PGELA04 \tNumber of reviews: 46\n",
      "Product ID: B011KFQASE \tNumber of reviews: 100\n",
      "Product ID: B00Z1R85O0 \tNumber of reviews: 15\n",
      "Product ID: B00THEP15O \tNumber of reviews: 55\n",
      "Product ID: B014V3V9J2 \tNumber of reviews: 2\n",
      "Product ID: B015PYZXRU \tNumber of reviews: 39\n",
      "Product ID: B00VKL0I96 \tNumber of reviews: 39\n",
      "Product ID: B00XPUUGDI \tNumber of reviews: 74\n",
      "Product ID: B00V2KX5JA \tNumber of reviews: 8\n",
      "Product ID: B00RY4X8A4 \tNumber of reviews: 100\n",
      "Product ID: B00ZS64K7K \tNumber of reviews: 23\n",
      "Product ID: B00K4PATO8 \tNumber of reviews: 100\n",
      "Product ID: B00NJNE6AA \tNumber of reviews: 99\n",
      "Product ID: B015JVBD64 \tNumber of reviews: 39\n",
      "Product ID: B00YD1OQ1G \tNumber of reviews: 38\n",
      "Product ID: B00U8DHPX4 \tNumber of reviews: 60\n",
      "Product ID: B011N5HFOE \tNumber of reviews: 8\n",
      "Product ID: B014B9IS1S \tNumber of reviews: 6\n",
      "Product ID: B015JVB9C2 \tNumber of reviews: 30\n",
      "Product ID: B015P3SH9W \tNumber of reviews: 59\n",
      "Product ID: B010DODAWM \tNumber of reviews: 37\n",
      "Product ID: B00IB04M5K \tNumber of reviews: 79\n",
      "Product ID: B010DOD2G6 \tNumber of reviews: 30\n",
      "Product ID: B00ZOLT5YC \tNumber of reviews: 100\n",
      "Product ID: B00KMRGF28 \tNumber of reviews: 100\n",
      "Counter({100: 6, 39: 3, 8: 2, 30: 2, 79: 1, 2: 1, 3: 1, 6: 1, 38: 1, 74: 1, 23: 1, 76: 1, 46: 1, 15: 1, 18: 1, 99: 1, 55: 1, 59: 1, 60: 1, 37: 1})\n"
     ]
    }
   ],
   "source": [
    "item_ids = item_dictionary.keys()\n",
    "item_reviews = {}\n",
    "print len(item_ids)\n",
    "for id in item_ids:\n",
    "    reviews = file2string(id+\".txt\") \n",
    "    #print id,\"\\tnumber:\",i,\"\\n----------------------------------------\"\n",
    "    review_list = []\n",
    "    for review in reviews:\n",
    "        #print review.split(\"->\")[1],\"\\n\"\n",
    "        review_list.append(review.split(\"->\")[1])\n",
    "    item_reviews[id]=review_list;\n",
    "cnt = Counter()\n",
    "for key in item_reviews.keys():\n",
    "    print \"Product ID:\",key,\"\\tNumber of reviews:\",len(item_reviews[key])\n",
    "    cnt[len(item_reviews[key])]+=1\n",
    "print cnt"
   ]
  }
 ],
 "metadata": {
  "kernelspec": {
   "display_name": "Python 2",
   "language": "python",
   "name": "python2"
  },
  "language_info": {
   "codemirror_mode": {
    "name": "ipython",
    "version": 2
   },
   "file_extension": ".py",
   "mimetype": "text/x-python",
   "name": "python",
   "nbconvert_exporter": "python",
   "pygments_lexer": "ipython2",
   "version": "2.7.6"
  }
 },
 "nbformat": 4,
 "nbformat_minor": 0
}
