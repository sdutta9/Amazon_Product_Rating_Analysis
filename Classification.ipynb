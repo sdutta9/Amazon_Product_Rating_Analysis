{
 "cells": [
  {
   "cell_type": "code",
   "execution_count": 1,
   "metadata": {
    "collapsed": false
   },
   "outputs": [],
   "source": [
    "# All Imports\n",
    "from collections import Counter\n",
    "import ConfigParser\n",
    "import matplotlib.pyplot as plt\n",
    "import networkx as nx\n",
    "import sys\n",
    "import time\n",
    "from amazon.api import AmazonAPI\n",
    "import io\n",
    "import re\n",
    "#import nltk\n",
    "#nltk.download()\n",
    "from nltk.corpus import sentiwordnet as swn\n",
    "\n",
    "%matplotlib inline"
   ]
  },
  {
   "cell_type": "code",
   "execution_count": 2,
   "metadata": {
    "collapsed": false
   },
   "outputs": [],
   "source": [
    "# Converts a file to list of strings where each item is one line of the file.\n",
    "def file2string(filename):\n",
    "    result = []\n",
    "    result = io.open(filename, encoding='utf8').readlines()\n",
    "    for val in range(0,len(result)):\n",
    "        result[val]=re.sub(\"\\n\",\"\",result[val])\n",
    "        \n",
    "    return result\n",
    "\n",
    "item_list = file2string(\"items.txt\")\n",
    "#print item_list[:5]"
   ]
  },
  {
   "cell_type": "code",
   "execution_count": 3,
   "metadata": {
    "collapsed": false
   },
   "outputs": [],
   "source": [
    "#Create a dictionary with item id as key and item title and manufacturer tuple as value\n",
    "def itemsDictionary(itemlst):\n",
    "    result = {}\n",
    "    for item in itemlst:\n",
    "        temp = item.split(\"\\t\")\n",
    "        result[temp[0]]=(temp[1],temp[2])\n",
    "    return result\n",
    "\n",
    "item_dictionary = itemsDictionary(item_list)"
   ]
  },
  {
   "cell_type": "code",
   "execution_count": 24,
   "metadata": {
    "collapsed": false,
    "scrolled": false
   },
   "outputs": [
    {
     "name": "stdout",
     "output_type": "stream",
     "text": [
      "29\n",
      "Product ID: B013PK8LGQ \tNumber of reviews: 18\n",
      "Product ID: B004KZJ0UM \tNumber of reviews: 100\n",
      "Product ID: B00ZOO1RFO \tNumber of reviews: 76\n",
      "Product ID: B012BPRLO4 \tNumber of reviews: 3\n",
      "Product ID: B00PGELA04 \tNumber of reviews: 46\n",
      "Product ID: B011KFQASE \tNumber of reviews: 100\n",
      "Product ID: B00Z1R85O0 \tNumber of reviews: 15\n",
      "Product ID: B00THEP15O \tNumber of reviews: 55\n",
      "Product ID: B014V3V9J2 \tNumber of reviews: 2\n",
      "Product ID: B015PYZXRU \tNumber of reviews: 39\n",
      "Product ID: B00VKL0I96 \tNumber of reviews: 39\n",
      "Product ID: B00XPUUGDI \tNumber of reviews: 74\n",
      "Product ID: B00V2KX5JA \tNumber of reviews: 8\n",
      "Product ID: B00RY4X8A4 \tNumber of reviews: 100\n",
      "Product ID: B00ZS64K7K \tNumber of reviews: 23\n",
      "Product ID: B00K4PATO8 \tNumber of reviews: 100\n",
      "Product ID: B00NJNE6AA \tNumber of reviews: 99\n",
      "Product ID: B015JVBD64 \tNumber of reviews: 39\n",
      "Product ID: B00YD1OQ1G \tNumber of reviews: 38\n",
      "Product ID: B00U8DHPX4 \tNumber of reviews: 60\n",
      "Product ID: B011N5HFOE \tNumber of reviews: 8\n",
      "Product ID: B014B9IS1S \tNumber of reviews: 6\n",
      "Product ID: B015JVB9C2 \tNumber of reviews: 30\n",
      "Product ID: B015P3SH9W \tNumber of reviews: 59\n",
      "Product ID: B010DODAWM \tNumber of reviews: 37\n",
      "Product ID: B00IB04M5K \tNumber of reviews: 79\n",
      "Product ID: B010DOD2G6 \tNumber of reviews: 30\n",
      "Product ID: B00ZOLT5YC \tNumber of reviews: 100\n",
      "Product ID: B00KMRGF28 \tNumber of reviews: 100\n",
      "Counter({100: 6, 39: 3, 8: 2, 30: 2, 79: 1, 2: 1, 3: 1, 6: 1, 38: 1, 74: 1, 23: 1, 76: 1, 46: 1, 15: 1, 18: 1, 99: 1, 55: 1, 59: 1, 60: 1, 37: 1})\n"
     ]
    }
   ],
   "source": [
    "item_ids = item_dictionary.keys()\n",
    "item_reviews = {}\n",
    "print len(item_ids)\n",
    "for id in item_ids:\n",
    "    reviews = file2string(id+\".txt\") \n",
    "    #print id,\"\\tnumber:\",i,\"\\n----------------------------------------\"\n",
    "    review_list = []\n",
    "    for review in reviews:\n",
    "        #print review.split(\"->\")[1],\"\\n\"\n",
    "        review_list.append(review.split(\"->\")[1])\n",
    "    item_reviews[id]=review_list;\n",
    "cnt = Counter()\n",
    "for key in item_reviews.keys():\n",
    "    print \"Product ID:\",key,\"\\tNumber of reviews:\",len(item_reviews[key])\n",
    "    cnt[len(item_reviews[key])]+=1\n",
    "print cnt"
   ]
  },
  {
   "cell_type": "code",
   "execution_count": 23,
   "metadata": {
    "collapsed": false
   },
   "outputs": [
    {
     "data": {
      "text/plain": [
       "(u'B013PK8LGQ',\n",
       " [u'This Dell is a very good buy.',\n",
       "  u\"it's OK\",\n",
       "  u'It is strange that info jumps around without being directed to change. Never had this problem with former laptops.',\n",
       "  u\"I'm very happy with my new computer.\",\n",
       "  u\"When I first got it, I really enjoyed this laptop.  Then comes the problems.  The lights on the laptop itself did not light up, as well as the fan kicking on and off in 5 second intervals (this is different then every other laptop I've ever owned.  Long bouts of freezing two or three times an hour (this is before I put any files on it).  So overall, I'm not sure if it was the delivery of this product that perhaps damaged a few key elements or what, but I'm very unhappy with this product.\",\n",
       "  u'I love it',\n",
       "  u'This is the fourth Dell Computer I have purchased over the years,  NUFF SAID!',\n",
       "  u'Love the size of screen. Feels to fragile though but i guess being so light weight means giving up something. Overall i like it so far.',\n",
       "  u'Bought this for my 75 year old husband because of its user friendlyness. Just what he needed.',\n",
       "  u'It is very slow and came with nothing useful buy apps.',\n",
       "  u'love it',\n",
       "  u\"My last laptop was a dell. So it's only natural that I would purchase another dell laptop. Well, I haven't even had this computer for two full weeks and I'm already wanting to smash it with a hammer. As soon as I got it I upgraded to Windows 10. I've had problems with this laptop since. It just froze on me earlier and made a buzzing sound, I had to unplug it and take out the battery to get it to shut off. It wouldn't restart last night, I had to do the same thing. The windows key won't always bring up the windows menu, the windows menu doesn't always want to show up. The sound like to drop for no reason, no matter what I do to try and stop it. This is one of the worst laptops I've ever had in my life. I'm not saying I won't ever buy another dell laptop, but I certainly won't buy this piece of crap again.\",\n",
       "  u'everything is good, and it is the best choice in this price range',\n",
       "  u'Good computer at a good price.',\n",
       "  u\"I have recently bought this computer and I wanted to say that I love it. The Dell Inspiron 3000 is a really nice machine and it was super easy to get setup. It didn't take me long to get used to the product but I sometimes like to consider myself a bit of a tech geek. I've also had Dell computers my whole life so maybe that's why it was so easy for me. The price was greater how good this computer actually is and it even comes with windows10. The screen is super clear and the speakers are really good as well. it's a really great computer for studying and it's even better because of the great price.\",\n",
       "  u'I bought this laptop not from amazon. But it is a really good computer for this price. For this price, you can get window10 and bluetooth, what can you expect more. If you are just dealing with web browsing and office work, it is perfectly fine!',\n",
       "  u\"I'm very pleased with this Dell laptop. The price was worth it. It is a good machine, nice layout and easy to set up. It is fast and meet all my needs for study and entertainment. Both the screen and sound system quality is excellent. It's very affordable with good quality.\",\n",
       "  u'Very nice laptop for the price! Good for work and study. Loving it!'])"
      ]
     },
     "execution_count": 23,
     "metadata": {},
     "output_type": "execute_result"
    }
   ],
   "source": [
    "item_reviews.items()[0]"
   ]
  }
 ],
 "metadata": {
  "kernelspec": {
   "display_name": "Python 2",
   "language": "python",
   "name": "python2"
  },
  "language_info": {
   "codemirror_mode": {
    "name": "ipython",
    "version": 2
   },
   "file_extension": ".py",
   "mimetype": "text/x-python",
   "name": "python",
   "nbconvert_exporter": "python",
   "pygments_lexer": "ipython2",
   "version": "2.7.10"
  }
 },
 "nbformat": 4,
 "nbformat_minor": 0
}
