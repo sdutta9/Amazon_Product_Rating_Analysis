{
 "cells": [
  {
   "cell_type": "code",
   "execution_count": 1,
   "metadata": {
    "collapsed": true
   },
   "outputs": [],
   "source": [
    "# All Imports\n",
    "from collections import Counter\n",
    "import ConfigParser\n",
    "import matplotlib.pyplot as plt\n",
    "import networkx as nx\n",
    "import sys\n",
    "import time\n",
    "from amazon.api import AmazonAPI\n",
    "import io\n",
    "import re\n",
    "#import nltk\n",
    "#nltk.download()\n",
    "from nltk.corpus import sentiwordnet as swn\n",
    "\n",
    "%matplotlib inline"
   ]
  },
  {
   "cell_type": "code",
   "execution_count": null,
   "metadata": {
    "collapsed": true
   },
   "outputs": [],
   "source": [
    "\"\"\"from bs4 import BeautifulSoup\n",
    "import urllib\n",
    "import urllib2\n",
    "headers = {'User-agent': 'Mozilla/5.0 (Windows NT 6.2; WOW64) AppleWebKit/537.36 (KHTML, like Gecko) Chrome/37.0.2062.120 Safari/537.36'}\n",
    "url = 'http://www.amazon.com/dp/0439136369'\n",
    "data = urllib.urlencode(headers)\n",
    "req = urllib2.Request(url,data)\n",
    "soup = BeautifulSoup(urllib2.urlopen(req).read())\n",
    "for x in soup.find_all('table',id='productDetailsTable'):\n",
    "    for tag in x.find_all('li'):\n",
    "        tag.get_text()\"\"\""
   ]
  },
  {
   "cell_type": "code",
   "execution_count": 14,
   "metadata": {
    "collapsed": false
   },
   "outputs": [
    {
     "name": "stdout",
     "output_type": "stream",
     "text": [
      "{u'Age Range': u'9 - 12 years',\n",
      " u'Amazon Best Sellers Rank': u'#572 in Books (',\n",
      " u'Average Customer Review': u'',\n",
      " u'Grade Level': u'4 - 7',\n",
      " u'ISBN-10': u'0439136369',\n",
      " u'ISBN-13': u'978-0439136365',\n",
      " u'Language': u'English',\n",
      " u'Lexile Measure': u'880L',\n",
      " u'Paperback': u'448 pages',\n",
      " u'Product Dimensions': u'1.2 x 5.2 x 7.8 inches',\n",
      " u'Publisher': u'Scholastic Paperbacks (October 1, 2001)',\n",
      " u'Series': u'Harry Potter (Book 3)',\n",
      " u'Shipping Weight': u'11.2 ounces ('}\n"
     ]
    }
   ],
   "source": [
    "\"\"\"from pprint import pprint\n",
    "from bs4 import BeautifulSoup\n",
    "import requests\n",
    "\n",
    "url = 'http://www.amazon.com/dp/0439136369'\n",
    "response = requests.get(url, headers={'User-agent': 'Mozilla/5.0 (Windows NT 6.2; WOW64) AppleWebKit/537.36 (KHTML, like Gecko) Chrome/37.0.2062.120 Safari/537.36'})\n",
    "\n",
    "soup = BeautifulSoup(response.content)\n",
    "tags = {}\n",
    "for li in soup.select('table#productDetailsTable div.content ul li'):\n",
    "    try:\n",
    "        title = li.b\n",
    "        key = title.text.strip().rstrip(':')\n",
    "        value = title.next_sibling.strip()\n",
    "        \n",
    "        tags[key] = value\n",
    "    except AttributeError:\n",
    "        break\n",
    "\n",
    "pprint(tags)\"\"\""
   ]
  },
  {
   "cell_type": "code",
   "execution_count": null,
   "metadata": {
    "collapsed": false
   },
   "outputs": [],
   "source": []
  },
  {
   "cell_type": "code",
   "execution_count": null,
   "metadata": {
    "collapsed": false
   },
   "outputs": [],
   "source": []
  },
  {
   "cell_type": "code",
   "execution_count": null,
   "metadata": {
    "collapsed": false
   },
   "outputs": [],
   "source": []
  },
  {
   "cell_type": "code",
   "execution_count": 73,
   "metadata": {
    "collapsed": false
   },
   "outputs": [],
   "source": [
    "import json\n",
    "from pprint import pprint\n",
    "\n",
    "#config = json.loads(open('rev0.json').read())\n",
    "with open('json/reviews_0101.json', 'r') as handle:\n",
    "    json_data = [json.loads(line) for line in handle]"
   ]
  },
  {
   "cell_type": "code",
   "execution_count": 76,
   "metadata": {
    "collapsed": false
   },
   "outputs": [],
   "source": [
    "lst = []\n",
    "lmp = []\n",
    "for i in range(len(json_data)):\n",
    "     if str(json_data[i]['asin'])=='B00IU745S8':\n",
    "        lst.append(json_data[i]['reviewerID'])\n",
    "        lmp.append(json_data[i]['reviewText'])"
   ]
  },
  {
   "cell_type": "code",
   "execution_count": 2,
   "metadata": {
    "collapsed": false
   },
   "outputs": [
    {
     "name": "stdout",
     "output_type": "stream",
     "text": [
      "read 2462 AFINN terms.\n",
      "E.g.: [('limited', -1), ('suicidal', -2), ('pardon', 2), ('desirable', 2), ('protest', -2), ('lurking', -1), ('controversial', -2), ('hating', -3), ('ridiculous', -3), ('hate', -3)]\n"
     ]
    }
   ],
   "source": [
    "from StringIO import StringIO\n",
    "from zipfile import ZipFile\n",
    "from urllib import urlopen\n",
    "\n",
    "url = urlopen('http://www2.compute.dtu.dk/~faan/data/AFINN.zip')\n",
    "zipfile = ZipFile(StringIO(url.read()))\n",
    "afinn_file = zipfile.open('AFINN/AFINN-111.txt')\n",
    "\n",
    "afinn = dict()\n",
    "\n",
    "for line in afinn_file:\n",
    "    parts = line.strip().split()\n",
    "    if len(parts) == 2:\n",
    "        afinn[parts[0]] = int(parts[1])\n",
    "\n",
    "print 'read', len(afinn), 'AFINN terms.\\nE.g.:', afinn.items()[:10]"
   ]
  },
  {
   "cell_type": "code",
   "execution_count": null,
   "metadata": {
    "collapsed": true
   },
   "outputs": [],
   "source": []
  },
  {
   "cell_type": "code",
   "execution_count": null,
   "metadata": {
    "collapsed": true
   },
   "outputs": [],
   "source": []
  },
  {
   "cell_type": "code",
   "execution_count": 3,
   "metadata": {
    "collapsed": false
   },
   "outputs": [
    {
     "name": "stdout",
     "output_type": "stream",
     "text": [
      "\n",
      "/usr/local/lib/python2.7/dist-packages/virtualenv-13.1.2-py2.7.egg\n",
      "/home/harsh/Desktop/cs579\n",
      "/usr/local/lib/python2.7/site-packages\n",
      "/usr/lib/python2.7\n",
      "/usr/lib/python2.7/plat-x86_64-linux-gnu\n",
      "/usr/lib/python2.7/lib-tk\n",
      "/usr/lib/python2.7/lib-old\n",
      "/usr/lib/python2.7/lib-dynload\n",
      "/usr/local/lib/python2.7/dist-packages\n",
      "/usr/lib/python2.7/dist-packages\n",
      "/usr/lib/python2.7/dist-packages/PILcompat\n",
      "/usr/lib/python2.7/dist-packages/gtk-2.0\n",
      "/usr/lib/pymodules/python2.7\n",
      "/usr/lib/python2.7/dist-packages/ubuntu-sso-client\n",
      "/usr/local/lib/python2.7/dist-packages/IPython/extensions\n",
      "/home/harsh/.ipython\n"
     ]
    }
   ],
   "source": [
    "import sys\n",
    "\n",
    "for path in sys.path:\n",
    "    print path"
   ]
  },
  {
   "cell_type": "code",
   "execution_count": 2,
   "metadata": {
    "collapsed": false
   },
   "outputs": [],
   "source": []
  },
  {
   "cell_type": "code",
   "execution_count": 4,
   "metadata": {
    "collapsed": false
   },
   "outputs": [],
   "source": [
    "def file2string(filename):\n",
    "    result = []\n",
    "    result = io.open(filename, encoding='utf8').readlines()\n",
    "    for val in range(0,len(result)):\n",
    "        result[val]=re.sub(\"\\n\",\"\",result[val])\n",
    "        \n",
    "    return result\n",
    "\n",
    "item_list = file2string(\"items.txt\")"
   ]
  },
  {
   "cell_type": "code",
   "execution_count": null,
   "metadata": {
    "collapsed": false
   },
   "outputs": [],
   "source": []
  },
  {
   "cell_type": "code",
   "execution_count": 5,
   "metadata": {
    "collapsed": false
   },
   "outputs": [],
   "source": [
    "def itemsDictionary(itemlst):\n",
    "    result = {}\n",
    "    for item in itemlst:\n",
    "        #print item\n",
    "        temp = item.split(\"\\t\")\n",
    "        result[temp[0]]=(temp[1],temp[2])\n",
    "    return result\n",
    "\n",
    "item_dictionary = itemsDictionary(item_list)"
   ]
  },
  {
   "cell_type": "code",
   "execution_count": 5,
   "metadata": {
    "collapsed": false,
    "scrolled": true
   },
   "outputs": [
    {
     "data": {
      "text/plain": [
       "[u'B011N5HFOE',\n",
       " u'B004KZJ0UM',\n",
       " u'B00ZOO1RFO',\n",
       " u'B012BPRLO4',\n",
       " u'B00PGELA04',\n",
       " u'B011KFQASE',\n",
       " u'B00Z1R85O0',\n",
       " u'B00VGNZ4PG',\n",
       " u'B015P3SH9W',\n",
       " u'B00VJ1P7TS',\n",
       " u'B014V3V9J2',\n",
       " u'B015PYZXRU',\n",
       " u'B00VKL0I96',\n",
       " u'B00XPUUGDI',\n",
       " u'B00V2KX5JA',\n",
       " u'B00RY4X8A4',\n",
       " u'B00ZS64K7K',\n",
       " u'B00FF6J532',\n",
       " u'B00K4PATO8',\n",
       " u'B00IU745S8',\n",
       " u'B0163GQJOU',\n",
       " u'B00NJNE6AA',\n",
       " u'B015JVBD64',\n",
       " u'B00YD1OQ1G',\n",
       " u'B00U8DHPX4',\n",
       " u'B013PK8LGQ',\n",
       " u'B014B9IS1S',\n",
       " u'B015JVB9C2',\n",
       " u'B00THEP15O',\n",
       " u'B010DODAWM',\n",
       " u'B01606KJ6C',\n",
       " u'B00IB04M5K',\n",
       " u'B010DOD2G6',\n",
       " u'B00ZOLT5YC',\n",
       " u'B00KMRGF28']"
      ]
     },
     "execution_count": 5,
     "metadata": {},
     "output_type": "execute_result"
    }
   ],
   "source": [
    "item_dictionary.keys()"
   ]
  },
  {
   "cell_type": "code",
   "execution_count": 262,
   "metadata": {
    "collapsed": false
   },
   "outputs": [],
   "source": [
    "fil = file2string('B007ED7ZDG.txt')"
   ]
  },
  {
   "cell_type": "code",
   "execution_count": 6,
   "metadata": {
    "collapsed": false,
    "scrolled": true
   },
   "outputs": [],
   "source": [
    "def afinn_sentiment(terms, afinn):\n",
    "    total = 0.\n",
    "    for t in terms:\n",
    "        if t in afinn:\n",
    "            #print '\\t%s=%d' % (t, afinn[t])\n",
    "            total += afinn[t]\n",
    "    return total"
   ]
  },
  {
   "cell_type": "code",
   "execution_count": 289,
   "metadata": {
    "collapsed": false
   },
   "outputs": [],
   "source": [
    "items = ['B004KZJ0UM','B007ED7ZDG','B00FF6J532']"
   ]
  },
  {
   "cell_type": "code",
   "execution_count": 7,
   "metadata": {
    "collapsed": false
   },
   "outputs": [
    {
     "data": {
      "text/plain": [
       "u'B00VJ1P7TS'"
      ]
     },
     "execution_count": 7,
     "metadata": {},
     "output_type": "execute_result"
    }
   ],
   "source": [
    "(item_dictionary.keys())[9]"
   ]
  },
  {
   "cell_type": "code",
   "execution_count": 7,
   "metadata": {
    "collapsed": false,
    "scrolled": true
   },
   "outputs": [],
   "source": [
    "## This will give average rating of all items in our list.\n",
    "\n",
    "\n",
    "avg = []\n",
    "\n",
    "for item in item_dictionary.keys():\n",
    "    #print item\n",
    "    review_list = []\n",
    "    afn = []\n",
    "    lmp = []\n",
    "    fil = file2string(item+'.txt')\n",
    "    \n",
    "    for review in fil:\n",
    "        review_list.append(review.split(\"->\")[1])\n",
    "    \n",
    "    for review in review_list:\n",
    "         afn.append(afinn_sentiment(review.split(), afinn))\n",
    "    \n",
    "    for i in range(len(afn)):\n",
    "        tup = (review_list[i],afn[i])\n",
    "        lmp.append(tup)\n",
    "    \n",
    "    average = sum(afn)/len(afn)\n",
    "    avg.append(average)"
   ]
  },
  {
   "cell_type": "code",
   "execution_count": 8,
   "metadata": {
    "collapsed": false,
    "scrolled": true
   },
   "outputs": [
    {
     "data": {
      "text/plain": [
       "2.125"
      ]
     },
     "execution_count": 8,
     "metadata": {},
     "output_type": "execute_result"
    }
   ],
   "source": [
    "avg[0]"
   ]
  },
  {
   "cell_type": "code",
   "execution_count": 12,
   "metadata": {
    "collapsed": false
   },
   "outputs": [
    {
     "data": {
      "image/png": "[encoded data removed]",
      "text/plain": [
       "<matplotlib.figure.Figure at 0x7f361f276fd0>"
      ]
     },
     "metadata": {},
     "output_type": "display_data"
    }
   ],
   "source": [
    "### This will give the BAR graph of items->average. \n",
    "\n",
    "\n",
    "from collections import Counter\n",
    "import matplotlib.pyplot as plt\n",
    "%matplotlib inline\n",
    "\n",
    "items= [i for i in range(len(item_dictionary.keys()))]\n",
    "average = avg\n",
    "\n",
    "plt.bar(items,average)\n",
    "plt.xticks(items)\n",
    "plt.xlabel('items')\n",
    "plt.ylabel('average')\n",
    "plt.show()"
   ]
  },
  {
   "cell_type": "code",
   "execution_count": 13,
   "metadata": {
    "collapsed": false
   },
   "outputs": [
    {
     "data": {
      "image/png": "[encoded data removed]",
      "text/plain": [
       "<matplotlib.figure.Figure at 0x7f361ef3d390>"
      ]
     },
     "metadata": {},
     "output_type": "display_data"
    }
   ],
   "source": [
    "from collections import Counter\n",
    "import matplotlib.pyplot as plt\n",
    "%matplotlib inline\n",
    "\n",
    "items= [i for i in range(len(item_dictionary.keys()))]\n",
    "average = avg\n",
    "\n",
    "plt.plot(items, average,'bo-')\n",
    "plt.xlabel('items')\n",
    "plt.ylabel('average')\n",
    "plt.show()"
   ]
  },
  {
   "cell_type": "code",
   "execution_count": null,
   "metadata": {
    "collapsed": true
   },
   "outputs": [],
   "source": []
  },
  {
   "cell_type": "code",
   "execution_count": null,
   "metadata": {
    "collapsed": true
   },
   "outputs": [],
   "source": []
  },
  {
   "cell_type": "code",
   "execution_count": null,
   "metadata": {
    "collapsed": true
   },
   "outputs": [],
   "source": []
  },
  {
   "cell_type": "code",
   "execution_count": 9,
   "metadata": {
    "collapsed": true
   },
   "outputs": [],
   "source": [
    "#To get the files in json folder which start from \"reviews_\" ..\n",
    "\n",
    "\n",
    "import os\n",
    "i = 0\n",
    "fl = []\n",
    "for filename in os.listdir(\"json/.\"):\n",
    "    if filename.startswith(\"reviews_\"):\n",
    "        fl.append(filename)\n",
    "    else:\n",
    "        print \"already done\"\n"
   ]
  },
  {
   "cell_type": "code",
   "execution_count": 18,
   "metadata": {
    "collapsed": false,
    "scrolled": true
   },
   "outputs": [
    {
     "data": {
      "text/plain": [
       "'reviews_063.json'"
      ]
     },
     "execution_count": 18,
     "metadata": {},
     "output_type": "execute_result"
    }
   ],
   "source": [
    "(sorted(fl))[72]"
   ]
  },
  {
   "cell_type": "code",
   "execution_count": 15,
   "metadata": {
    "collapsed": false
   },
   "outputs": [
    {
     "data": {
      "text/plain": [
       "u'B004KZJ0UM'"
      ]
     },
     "execution_count": 15,
     "metadata": {},
     "output_type": "execute_result"
    }
   ],
   "source": [
    "item_dictionary.keys()[1]"
   ]
  },
  {
   "cell_type": "code",
   "execution_count": 35,
   "metadata": {
    "collapsed": false,
    "scrolled": true
   },
   "outputs": [
    {
     "name": "stdout",
     "output_type": "stream",
     "text": [
      "reviews_047.json \t{\"reviewerID\": \"A10KXUI08JDRLZ\", \"asin\": \"B00FF6J532\", \"reviewerName\": \"Aaron\", \"helpful\": [0, 0], \"reviewText\": \"One of the best things ever I would take this over the lightweight ipad air. It has a great camera and it can run tons of apps and microsoft office.\", \"overall\": 5.0, \"summary\": \"It's best\", \"unixReviewTime\": 1394236800, \"reviewTime\": \"03 8, 2014\"}\n",
      "reviews_047.json \t{\"reviewerID\": \"A156BKBXEL34M6\", \"asin\": \"B00FF6J532\", \"reviewerName\": \"A. Express \\\"MIA\\\"\", \"helpful\": [1, 1], \"reviewText\": \"great product, delivered in a timely manner. My lady LOVES her Surface, able to do more school work than with the ipad. Only draw back is not enough apps in it's store.\", \"overall\": 5.0, \"summary\": \"Great product\", \"unixReviewTime\": 1389571200, \"reviewTime\": \"01 13, 2014\"}\n",
      "reviews_047.json \t{\"reviewerID\": \"A1CPQK76KT6J49\", \"asin\": \"B00FF6J532\", \"reviewerName\": \"A. Goodsell \\\"educated consumer\\\"\", \"helpful\": [28, 29], \"reviewText\": \"OK.I purchased a surface 1. When it first came out. I tried to like it. I returned it and bought a nexus 7. Glad I did too, because I love my nexus.At work I use powerpoint. ALOT. Re-thought this Surface thing. I just bought the Surface 2 again and WHOA, it is a pleasure to use.PLAY- the surface2 is hands down WAAYYY better than the Surface1. The screen is gorgeoous. The OS is soooo cool. Multitasking and snapping windows is just amazing. This is not a phone OS. Netflix and videos play soo smoothly and look great. This is a media monster.Skype and all that jazz bundled, although my favorite means of videochat- Google Hangouts- is not supported. meh. I suppose more people Skype, anyway.WORK- Office on a 10\\\" screen is surprisingly easy to use-- no, easier to use-- than mousing around. Especially when resizing pictures in PPT. I actually had fun using powerpoint! Skydrive integration is icing on the cake.Google apps are not native, but the screen is so nice and responsive, opening your Gmail or drive in the browser is no problem at all. Its what you do on your PC athome right? Right.I'm super impressed so far and will be dropping jaws at work tomorrow with this thing. I'll update as the next few days go by.\", \"overall\": 5.0, \"summary\": \"Completely surprised by How COOL this is\", \"unixReviewTime\": 1383609600, \"reviewTime\": \"11 5, 2013\"}\n",
      "reviews_047.json \t{\"reviewerID\": \"A3D0YG8DWTJZUT\", \"asin\": \"B00FF6J532\", \"reviewerName\": \"Agustina\", \"helpful\": [1, 1], \"reviewText\": \"I chose 5 stars because it is a great product, however a minor dislike would be that sometimes the start button on the tablet doesn't function right. I would recommend this item to anyone.\", \"overall\": 5.0, \"summary\": \"Great gift, arrived sooner than date stated.\", \"unixReviewTime\": 1388188800, \"reviewTime\": \"12 28, 2013\"}\n",
      "reviews_047.json \t{\"reviewerID\": \"A1MLTMR44XAHM7\", \"asin\": \"B00FF6J532\", \"reviewerName\": \"Alison R.\", \"helpful\": [3, 3], \"reviewText\": \"I love my Window's Surface 2. I bought this to use instead of a larger, heavier laptop because being a teacher, I have enough to carry all the time. The Surface was the perfect substitute. It does everything a laptop does, just on a smaller scale. Sometimes it's a little difficult to create powerpoints and documents because it is smaller, but I've never run into major issues. It produces great sound, I love how the apps work on the tablet, I love the keyboard hook up I purchased along with the Surface so I can type using a keyboard instead, the keyboard on the Surface itself is also very effective and accurate. I love it all around. Such an awesome device and people are always asking me what I have. Again, I'm very satisfied with this purchase\", \"overall\": 5.0, \"summary\": \"LOVE\", \"unixReviewTime\": 1392508800, \"reviewTime\": \"02 16, 2014\"}\n",
      "reviews_047.json \t{\"reviewerID\": \"A2O9UEKO1FGLH9\", \"asin\": \"B00FF6J532\", \"reviewerName\": \"Allen W. Stuart\", \"helpful\": [1, 1], \"reviewText\": \"Wonderful product! So much easier than having to lug around a full sized laptop all over my college campus. Perfect to take notes on and easy to pack up and get to the next class.\", \"overall\": 5.0, \"summary\": \"Perfect For A Student On The Run!\", \"unixReviewTime\": 1392422400, \"reviewTime\": \"02 15, 2014\"}\n",
      "reviews_047.json \t{\"reviewerID\": \"A3LD3EJETJG5U8\", \"asin\": \"B00FF6J532\", \"reviewerName\": \"Amazon Customer\", \"helpful\": [1, 1], \"reviewText\": \"Gift for my college bound daughter...she loves it!! She uses it for various projects, email and movies. It has free Office.\", \"overall\": 5.0, \"summary\": \"Works great for college projects!\", \"unixReviewTime\": 1397260800, \"reviewTime\": \"04 12, 2014\"}\n",
      "reviews_047.json \t{\"reviewerID\": \"A1AW17OQPAP60L\", \"asin\": \"B00FF6J532\", \"reviewerName\": \"Amazon Customer\", \"helpful\": [1, 1], \"reviewText\": \"I love this machine!  Take it out of the box, turn it on, get to work.  Buying a tablet and not having to purchase additional software is a huge advantage.  I tried two Chromebooks, but they would have required too many work-arounds in my Microsoft world.  For context, I'm a university administrator, doctoral student, and part-time faculty member.  I use my Surface for e-mail, grading papers, recording lectures (audio only), basic functions in Excel, and writing papers.  Having the full functionality of a laptop while only sacrificing 1.5 pounds in my carryon is fantastic.  Overall, this is a great little machine.UPDATE:  Can't imagine how I got along without it.  Was skeptical about IE but have no problems, everything works well.  I still hate the Bing search, but the Google search app is sufficient.  Would love to have FF because then I could have Zotero on my tablet, but it's not a deal-breaker.\", \"overall\": 5.0, \"summary\": \"Works great for me\", \"unixReviewTime\": 1386806400, \"reviewTime\": \"12 12, 2013\"}\n",
      "reviews_047.json \t{\"reviewerID\": \"A18L9A64XNGVGU\", \"asin\": \"B00FF6J532\", \"reviewerName\": \"Amazon Customer\", \"helpful\": [1, 1], \"reviewText\": \"It is compact, boots quickly, comes pretty much ready to go and it already has Office and Defender installed. I also like that it has a USB port plus a micro-SD card slot (underneath the kick stand). The magnetic keyboard and charger connectors are slick.The only negative I have with it is that any add-on is costly, such as the cigarette charger or a keyboard.Keyboards: Recommend the 'Type' keyboard over the 'Touch' keyboard. The Touch has zero tactile feedback so you have to watch where you type or you will  be creating nothing but typos. I really like the fact that the keyboard doubles as a display cover plus it puts the Surface to sleep when you close it.Chargers: There are two types of chargers: AC and car cigarette. That's it. Both are 12 volt so don't expect to find any USB-style chargers since USB is 5 volts.\", \"overall\": 4.0, \"summary\": \"Very satisfactory\", \"unixReviewTime\": 1397692800, \"reviewTime\": \"04 17, 2014\"}\n",
      "reviews_047.json \t{\"reviewerID\": \"ASOBD6W96IY9U\", \"asin\": \"B00FF6J532\", \"reviewerName\": \"Amazon Customer\", \"helpful\": [1, 1], \"reviewText\": \"the only thing I dislike about this tablet is actually the safest. The security keeps viruses away, but also limits sites that use java. Wish I would have gone pro. You can use java with pro. Still the best tablet I have ever used.\", \"overall\": 5.0, \"summary\": \"Best tablet\", \"unixReviewTime\": 1392336000, \"reviewTime\": \"02 14, 2014\"}\n",
      "reviews_047.json \t{\"reviewerID\": \"A1EPU7A1KWXSQ5\", \"asin\": \"B00FF6J532\", \"reviewerName\": \"Amazon Customer\", \"helpful\": [1, 1], \"reviewText\": \"The product arrived on time, as ordered.  Unfortunately, it did not come with much in the way of instruction and there is a high learning curve for this device - of course, this is not the fault of Amazon, perhaps just something to pass along to Microsoft for future purchasers.\", \"overall\": 5.0, \"summary\": \"Excellent Service\", \"unixReviewTime\": 1392422400, \"reviewTime\": \"02 15, 2014\"}\n",
      "reviews_047.json \t{\"reviewerID\": \"A38O40MCJLSGH\", \"asin\": \"B00FF6J532\", \"reviewerName\": \"Amazon Customer\", \"helpful\": [2, 2], \"reviewText\": \"Can set it up as tablet, has built in stand, connect a thin lite keyboard, use as a notebook and connect to full kb and mouse and monitor. And, if you haven't Windows 8.1 desktop, easy to keep synched together. OneDrive makes a nice addition for sharing files and open anywhere.I wish without getting Surface Pro that it hadtt at least 4GB RAM instead, constantly using an extra 2GB pagefile (4GB in use) 2 jst ant enough, and seeing how programs are rarely closed and even rarer to reboot, Wold go along way for small imovement.Week area: programs, Store, quality. Just really lackluster Q&A; and of what is there, lack of featureseven in popular, standard social media apps.I wanted to use a LAN had for music nd photo collection, but Libraries cannot be assigned to externally attached, even when directly attached to the USB3 port.Chose this over Surface Pro or MacBook Air, cost of the Pro was only reason I skipped, and don't care for Apple ecosystem, would have used Air as Windows only which has some issues. Next time, Pro or Galaxy 12 inch, the 2 extra inches would be helpful, and more nd better choices in apps, plus 3GB RAM.\", \"overall\": 5.0, \"summary\": \"Handy\", \"unixReviewTime\": 1399161600, \"reviewTime\": \"05 4, 2014\"}\n",
      "reviews_047.json \t{\"reviewerID\": \"A3OZVN1C3U64N5\", \"asin\": \"B00FF6J532\", \"reviewerName\": \"Amazon Customer\", \"helpful\": [2, 6], \"reviewText\": \"good device, but I was disappointed because I could not download and use AutoCAD, Adobe Creative Cloud, and other programs. It is a nice internet device for someone consuming content, but some people like to use there computers to create content and other creative stuff. I like the size but if I cannot use the computer how I want to use a computer...I can do more on my 300 dollar laptop running windows 7 then on the Surface 2.\", \"overall\": 4.0, \"summary\": \"i was disappointed\", \"unixReviewTime\": 1395792000, \"reviewTime\": \"03 26, 2014\"}\n",
      "reviews_047.json \t{\"reviewerID\": \"AGVM6TA2N8T88\", \"asin\": \"B00FF6J532\", \"reviewerName\": \"Amazon Customer\", \"helpful\": [4, 4], \"reviewText\": \"I had bought the Surface Pro and returned it not because I didn't like it but if Microsoft had updated the camera and included the new office software I would have kept it. I returned it for the Surface 2 because of the price, the new updates to the camera and the added Office software.  I also bought the keyboard which I am typing with right now. I have the 16 gig surface and I added a micro SD card. My Surface 2 is very lightweight to carry and I take it to work with me everyday. I love the camera and video which is hybrid; you can take stills while video taping. The Panorama camera is great. This is a great buy and it works very fast just like my computer.\", \"overall\": 5.0, \"summary\": \"I love all technology and this machine suits my needs.\", \"unixReviewTime\": 1386374400, \"reviewTime\": \"12 7, 2013\"}\n",
      "reviews_047.json \t{\"reviewerID\": \"A2UIVLDWX4CFJG\", \"asin\": \"B00FF6J532\", \"reviewerName\": \"Amazon Customer\", \"helpful\": [4, 4], \"reviewText\": \"Purchased the Surface to use around the house as a web browser and media streaming device and wanted long battery life.  Having MS Office was an added bonus, but wasn't planning on using it to write or edit documents. For the most part the Surface met my expectations except for streaming video.  Had problems using IE11 with flash support.  Video using the Netflix app was fine, but when using IE to stream Amazon or HBO GO, the video and audio had noticeable stutter and eventually would stop after several minutes. Applied all updates with no improvement.  Other devices on the same network didn't have the problem. Interestingly, MS doesn't have a version of Silverlight for RT (recommended playback option for Amazon rather than flash) so there wasn't any other option to try for streaming. No other browsers can be installed either.  No app for Amazon or HBO GO.  Decided to return the tablet rather than help MS debug it.  Maybe the Surface 3 will have basic video streaming worked out.Beyond the streaming problems, the tablet is responsive and works quite well. The metro version of IE is a bit cumbersome and sluggish, but serviceable. The desktop version is better. MS Office seems to work well. Application launching and switching works great. Kickstand is very useful when sitting at a table but not on the lap. Natural landscape orientation really requires two hands which can be a bit awkward. Screen is bright and clear. On-screen keyboard works well (didn't purchase the type or touch cover).\", \"overall\": 3.0, \"summary\": \"Wanted to like it\", \"unixReviewTime\": 1400371200, \"reviewTime\": \"05 18, 2014\"}\n",
      "reviews_047.json \t{\"reviewerID\": \"A3CGAUXXSD2XPC\", \"asin\": \"B00FF6J532\", \"reviewerName\": \"Amazon Customer\", \"helpful\": [4, 8], \"reviewText\": \"This is a great tablet. The feel is great and the keyboard is the best. Very happy with the build quality.\", \"overall\": 5.0, \"summary\": \"The Best Tablet Period\", \"unixReviewTime\": 1382659200, \"reviewTime\": \"10 25, 2013\"}\n",
      "reviews_047.json \t{\"reviewerID\": \"AJ7EQIRH85C6J\", \"asin\": \"B00FF6J532\", \"reviewerName\": \"Amazon Customer\", \"helpful\": [73, 83], \"reviewText\": \"If having Microsoft Office included with the Surface 2 is one of the factors you are considering in deciding to buy a Surface 2 then do your homework. This is not a full version of Microsoft Office. The version of Excel (RT) that come with the Surface tablet does not support macros. This truncated version of Microsoft Office is missing a lot of key features from the regular office suite.Also if you go to a store and ask customer service people you will find that most of them believe there is no difference between the regular office suite and Office RT that comes with the Surface 2 tablet.Also note that none of this is mentioned in any of Microsoft's advertising for this product. You can learn more about this on the internet. However it is much like the legalese fine print on some products.I like the Surface 2 and do recommend it to people who are not intermediate or advance Microsoft Office product users.\", \"overall\": 3.0, \"summary\": \"Do your homework\", \"unixReviewTime\": 1383436800, \"reviewTime\": \"11 3, 2013\"}\n",
      "reviews_047.json \t{\"reviewerID\": \"AVKS414VVAARK\", \"asin\": \"B00FF6J532\", \"reviewerName\": \"Amazon Customer \\\"Wendtaway\\\"\", \"helpful\": [2, 10], \"reviewText\": \"It is not as easy to use as advertised.  Many apps that I had on Ipad were not compatible with this.  Found the entire experience confusing and frustrating.\", \"overall\": 2.0, \"summary\": \"Surface 2\", \"unixReviewTime\": 1396224000, \"reviewTime\": \"03 31, 2014\"}\n",
      "reviews_047.json \t{\"reviewerID\": \"AGPT9PHNLK75U\", \"asin\": \"B00FF6J532\", \"reviewerName\": \"Amber\", \"helpful\": [0, 0], \"reviewText\": \"Windows really tried to smash a computer with a tablet. I was happy with the product at first but then I realized that windows 8 wouldn't let me use Google hangouts, snap chat and several other services. I would also recommend getting at least a 64 gig, 32 fills up fast. Not bad for the price.\", \"overall\": 4.0, \"summary\": \"works well, not perfect\", \"unixReviewTime\": 1403049600, \"reviewTime\": \"06 18, 2014\"}\n",
      "reviews_047.json \t{\"reviewerID\": \"A1M58LNIP3G6D3\", \"asin\": \"B00FF6J532\", \"reviewerName\": \"Ameer Khan\", \"helpful\": [2, 2], \"reviewText\": \"Great improvement love it. Better then surface 1st generation. I wish it comes with keyboard too. $119.00 is a steep price for me.\", \"overall\": 4.0, \"summary\": \"Great product\", \"unixReviewTime\": 1386201600, \"reviewTime\": \"12 5, 2013\"}\n",
      "reviews_047.json \t{\"reviewerID\": \"A3QST5MLE7O34A\", \"asin\": \"B00FF6J532\", \"reviewerName\": \"andrea morrow\", \"helpful\": [2, 2], \"reviewText\": \"i was looking to get something easier to carry with me when i have client meeting for my business than my bulky laptop and so i saw this and it seemed to have the right processor, screen size, ram, etc that would atleast work and then i could give my current laptop to my 12 yr old daughter. so this would be  a great little tablet if i had chosen the bigger memory (64gb) but i think even then i would need more...they dont tell you that just the operating system (nothing else downloaded or used) alone takes up 18gb which doesn't leave much if you are planning on doing anything more than email, viewing files off a thumb drive and facebook...yes it has a micro sd slot to add to the memory but they don't make them bigger than 128gb and not even sure that if i bought one if the machine is expandable to that much (i cant find the parameters for micro sd)***also it seems to glitch sometimes where i cant get the screen to come on...i can touch it and hear things but cant see anything until i hold and restart the power button a few times.....i should have bought a another laptop so if your looking for something to do what a laptop does or play games on... you will be disappointed...if your looking for something to just check email and maybe some internet..you will be fine.\", \"overall\": 3.0, \"summary\": \"awesome if...\", \"unixReviewTime\": 1395792000, \"reviewTime\": \"03 26, 2014\"}\n",
      "reviews_047.json \t{\"reviewerID\": \"A3K7W0WAQXCFNQ\", \"asin\": \"B00FF6J532\", \"reviewerName\": \"Ash Walton\", \"helpful\": [2, 2], \"reviewText\": \"Smaller than my old laptop, all tablet capabilities, removable keyboard for easy use on the go.... I love this thing I read at leas 100 reviews to make sure it had what I needed and I must say I have never been so satisfied with a purchase. I take it every where I go and with my galaxy s4 as a mobile hotspot I am never limited to its many functions. Internet word pre loaded programs it is a work and play machine HIGHLY RECOMMEND if you want a device you can used for life and not just for games or social media although its good for that too...\", \"overall\": 5.0, \"summary\": \"Best \\\"computer\\\" I ever had!\", \"unixReviewTime\": 1395100800, \"reviewTime\": \"03 18, 2014\"}\n",
      "reviews_047.json \t{\"reviewerID\": \"A171B7G1CRCSJJ\", \"asin\": \"B00FF6J532\", \"reviewerName\": \"Atallah EL-Layous\", \"helpful\": [0, 0], \"reviewText\": \"Works great as advertised, however, it would be even better if there were a lot more apps in the store. Wonderful product either way.\", \"overall\": 4.0, \"summary\": \"Great Product\", \"unixReviewTime\": 1397606400, \"reviewTime\": \"04 16, 2014\"}\n",
      "reviews_047.json \t{\"reviewerID\": \"A3KMRX9VJ13GLV\", \"asin\": \"B00FF6J532\", \"reviewerName\": \"ATBOD\", \"helpful\": [27, 70], \"reviewText\": \"If you are thinking how great it is that this tablet is loaded with Office, think again. It's loaded with a beginner's version of Office. A stripped-down version that is meant for novice work only.Excel on this tablet has NO macro support.You can't open a macro, you can't run and macro, and you can't write a macro.Here is what Microsoft hides in it's FAQ (which requires digging to find - and which I only found after having wasted money believing that this thing came loaded with Excel - AS ADVERTISED).From the FAQ:Does Office 2013 RT include the same features as Office Home & Student 2013 and Outlook 2013 on my Windows 7 or Windows 8 PC?Almost - The Office 2013 RT version of Word, Excel, PowerPoint, OneNote, and Outlook applications include the vast majority of Office Home & Student 2013 and Outlook 2013 features available on PCs, and nearly all the features most customers use. But because tablets have special needs for security and mobility, a few features are unavailable in Office 2013 RT applications, including macros, add-ins, and other custom programs written by users or developed by third parties.Thanks Microsoft. You couldn't state that up front? You had to bury that off in an area that requires searching?\\\"Almost\\\".Yeah, almost Excel. But they call it Excel, not \\\"Almost Excel\\\" when they advertise it.So no, this is NOT a \\\"productivity\\\" tablet. It's an \\\"almost productivity\\\" tablet. Therefore it's \\\"almost a real tablet\\\", and \\\"almost an actual productivity tablet\\\".So save your money and buy a REAL tablet.This tablet is a poser when it comes to real tablets, and falsely advertised as a productivity tablet.WASTE OF MONEY!!!!!!\", \"overall\": 1.0, \"summary\": \"BUYER BEWARE - NO MACROS (VBA)\", \"unixReviewTime\": 1384214400, \"reviewTime\": \"11 12, 2013\"}\n",
      "reviews_047.json \t{\"reviewerID\": \"A831U5D2JI11Z\", \"asin\": \"B00FF6J532\", \"reviewerName\": \"AV Man\", \"helpful\": [2, 2], \"reviewText\": \"The surface 2 is an amazing device. Currently I own a Lenovo yoga laptop and ipad mini so I have experience now with both windows 8 and windows 8 rt which are 2 different but similar operating systems.If you are considering surface, then the first question you must ask is how are you going to use it. If you want a laptop replacement that can run all programs that you are used to in windows then you should get the surface pro or pro 2. I will tell you below what you can and can't do on the surface 2.The benefit to this device for me, is that I can take the Surface 2 on trips and leave my laptop and ipad at home since this device does everything I need on trips. The battery life is all day and usually lasts for about 10-12 hours depending on what I do with the device.Can do's:1. Use a USB port which can use most devices that can plug into the port. This is one big advantage over the ipad.2. Use a micro SD card to expand memory up to 64 gb3. Boot in about 10 seconds4. Use regular internet explorer (although some add on's are disabled5. Use Microsoft office (comes on device - powerpoint, word, one note, excel, and outlook)6. Use skydrive for extra storage in the cloud7. Access to store for apps8. Connect to a monitor or TV using a micro hdmi to hdmi cable9. Connect a Bluetooth mouse10. Use a magnetically connected keyboard - using to type this review11. Use Miracast to wirelessly connect to a TV12. Multitask and easily change between apps quickly13. Use a windows file system14. Connect Bluetooth devices such as a mouse15. Take pictures or video16. Great Wifi range17. Play games using a Xbox controller (I use wireless USB adapter)Can't do's (limitations):1. Use legacy windows programs (limited to the app store)2. Small amount of apps that I find useful3. Most apps available for ios or android are not available in the windows store4. No iTunes app5. No touch keyboard that pops up automatically in desktop5. Difficulty syncing with skydrive - must restart device to resync and update listListed below are the accessories that I have found useful:1. Micro HDMI to HDMI adapter (I use the mediabridge)2. Microsoft arc mouse surface edition3. Type 2 keyboard4. Nixon case5. wireless Xbox 360 controller for windows with adapter6. Micro SD cardOverall, this an ultraportable device that continues to get better and better with each windows rt update and hopefully the store will begin to catch up with ios and android.The 32 GB is somewhat limited and if you are truly going to use this as a replacement for your laptop then I recommend getting the 64 GB version.\", \"overall\": 5.0, \"summary\": \"Surface 2 - Great Product, Amazing with small limitations for now\", \"unixReviewTime\": 1392249600, \"reviewTime\": \"02 13, 2014\"}\n",
      "reviews_047.json \t{\"reviewerID\": \"A1VSI2BUF12C4R\", \"asin\": \"B00FF6J532\", \"reviewerName\": \"A. Wertheim \\\"werthla\\\"\", \"helpful\": [2, 2], \"reviewText\": \"I have had this for 6 days and the jury is out.  I generally like it.  It's very different from the iPad (I have along with a Windows 8 laptop) and does all the things previous reviewers have noted.  This is built for work and less for play.  Here are the baffling limitations:Office only links directly to Skydrive.  There is a Dropbox app and you can open files in Office and then save to the PC and then upload to Dropbox (I think).  My wife's business only uses Dropbox so this is a real problem for her and maybe for others.  Forget about any other cloud drives, they are not supported at all and are difficult to use on Surface.  I like Sky Drive and they give you 7 gb free forever.  If you are considering this tablet, you NEED to love and use Skydiver.  (The spell checker will not allow you put sky and drive together in one word.)The camera app does not support document scanning or making deposits with banking apps.  The fixed lens focus is set too far away so documents are too blurry.  I called tech support and the upshot is that's how it is.  It takes ok pictures but you have little control over the camera.  Why Microsoft couldn't figure out what every other tablet and smart phone camera does is baffling, so the camera is an afterthought rather then an attempt to make it something useful and productive.If not for these two important limitations, Surface 2 would have been a real home run and an iPad killer.  The issue is Microsoft wanting to control the Surface environment completely to the extent that users of other programs will have to take a pass until this stuff is corrected.The app store is limited but if you mainly use the web like I do, it's not a big deal.The Good:Office works very well.Mouse support.  Despite what Apple thinks, you still need a mouse to be productive.  The iPad has not evolved functionally since it came out.Good keyboard options.  The weight of the Surface and the iPad with a Logitech keyboard feel identical.  However, you can buy a lightweight 11.5 Windows 8 laptop (Asus) with the full version of 8.1 for less than Surface.  And the laptop comes with a keyboard of course.  The trade off is, you cannot use it just as a tablet.I will update this and decide whether it's a keeper.\", \"overall\": 4.0, \"summary\": \"Very good but know its limitations\", \"unixReviewTime\": 1384128000, \"reviewTime\": \"11 11, 2013\"}\n",
      "reviews_047.json \t{\"reviewerID\": \"A2ZS8Y3QAKX1FU\", \"asin\": \"B00FF6J532\", \"reviewerName\": \"Becca\", \"helpful\": [1, 2], \"reviewText\": \"I bought this to upgrade from the original Surface and hoped for even better of a tablet. I got exactly that and even more! I love using this more than I ever enjoyed using a laptop. Everything runs well and I love the fact that it comes with Microsoft Office already! I take it everywhere and can't find a single thing to complain about!If you are thinking about getting this tablet, you HAVE to get the keyboard with it, this is the one I got here on Amazon -----------&#62; http://amzn.to/1mBqX9qThe keyboard matches perfectly and also acts as a protective case over the screen when you are transporting it.You won't regret purchasing this! I promise.\", \"overall\": 5.0, \"summary\": \"This thing is AMAZING!!! READ HERE so I can tell you why!!!!\", \"unixReviewTime\": 1403740800, \"reviewTime\": \"06 26, 2014\"}\n",
      "reviews_047.json \t{\"reviewerID\": \"A2SQZT6KOPLFHM\", \"asin\": \"B00FF6J532\", \"reviewerName\": \"bennett myers\", \"helpful\": [4, 4], \"reviewText\": \"It's been said in virtually every positive review of the Surface 2 - this is not a toy.  Which has two sides to it: don't judge the S2 for its paltry game selection or the limited number of other apps, but for what Surface alone can do among mobile devices - work seamlessly and powerful on the Office apps that you run every day.  This is almost cliche by now - but it's true.  Many reviewers have compared it unfavorably to smartphones for smartphone-like functions, and AND unfavorably to laptops for Windows-type functions, and given insufficient credit for the great value of straddling all of those functions and performing all of the essential tasks of both, in form factor that looks and feels great to use and is impressively svelte.  In my opinion, most tech reviewers are behind the curve when it comes to new device genres, and the Surface/Windows RT is just such a device.Office runs great, and most of the saving/file management behavior is just like Windows.  This is a device you can take home or on the road every day while leaving your laptop at home.Where it's not like full Windows 8 office: Excel macros.  Yes, that's about it, and I feel the inconvenience of this myself, sometimes.  But other than that, the only other things missing that I know of are true power-user capabilities like running third-party extensions for Office.  This is not totally insignificant, and will be important for some users, but understand that all of the other normal functions are as they are in full Office.  There are also good security rationales for these limitations in the lighter, lower-power RT environment that don't have loads of security software and other processes running in the background.If you are used to Android or iOS apps, you have to adjust to doing more from your browser, but you realize that's as much because of the form-factor - this is more like a laptop than a regular tablet, and Internet Explorer runs everything web-based, unlike iPads or cell phones.  I run a solo-practice law office, and the #1 use for my Surface is timekeeping on my web-based practice management software, essentially a sophisticated website - and it works great.I have also set up a VPN for my Surface to port into my disk server at work.  This (as with any device) might take a little tinkering and be fairly basic in terms of functionality/options, but it functions well.  Any web-based portals you have to disk servers as well seem to work fine despite the lack of Java.  It also connects with servers and other computers via local networks including homegroups, with no problems that I have noticed.The other big payoff for this device is the beautiful, businesslike design.  I recommend the magnesium color, which might pick up a scuff or two down the road, but it really stands apart and shows off the matte metal finish and the unique form factor.  The kickstand perfectly complements its more-laptop-than tablet use cases and makes this an attractive and useful fixture on your desk - whether that's your workplace office, an out-of-town meeting, or the breakfast table.\", \"overall\": 5.0, \"summary\": \"Makes workers happy\", \"unixReviewTime\": 1395273600, \"reviewTime\": \"03 20, 2014\"}\n",
      "reviews_047.json \t{\"reviewerID\": \"A2NG2NYOZD01AD\", \"asin\": \"B00FF6J532\", \"reviewerName\": \"Beth Ann Lankford\", \"helpful\": [8, 11], \"reviewText\": \"I received my Surface 2 on 1/6/14. I started setting it up that evening. The screen froze like a digital TV with all the lines running through it. I tried everything to get it unfroze. The task manager would not even come up. I had to shut it down manually. The next morning when I signed on it worked for 30 minutes then froze. It happened again prior to my signing on. Both times it was shut down by off button. Today when I went to turn it on, it would not turn on and told me that my PC needed servicing. It's a piece of crap. Now I have to pay shipping to send it back. Save your money.\", \"overall\": 1.0, \"summary\": \"Froze 3 times in 2 days\", \"unixReviewTime\": 1389225600, \"reviewTime\": \"01 9, 2014\"}\n",
      "reviews_047.json \t{\"reviewerID\": \"A92TEFW3X910J\", \"asin\": \"B00FF6J532\", \"reviewerName\": \"BlackManKAS\", \"helpful\": [84, 93], \"reviewText\": \"After having owned all versions of the iPad (except, obviously the iPad Air which is about to come out, and the original Surface, I have to say that the Surface 2 is probably the best tablet I've owned.First off, I had the iPad 3, and then the Surface RT came out. I bought the RT and wanted to love it so much, but it had a few too many things against it. Windows RT was new and fresh at that point, so the app selection was still pretty bare and some of the core apps didn't have the refinements they needed to be as functionally useful as they needed to be (Xbox Music, for instance). I loved the feel and look of the device and it was quite durable, but one big issue that I found was that the speakers were simply too quiet. They had been subsequently enhanced through updates, but I'm speaking from owning the device for the first 2-3 months of it's life. And the biggest problem of them all was that it was simply too slow. The Tegra 3 made running some of the Windows RT apps simply not enjoyable and it took a bit too long to do simple things like opening up the apps, navigating through them, and even composing word documents and such on the desktop side of things.Well, a year later and the Surface 2 addresses all of this.It comes with a 2-stage kickstand that definitely helps with it's stability in resting in your lap, or visibility when looking at the device form different viewing angles. The device now has a Tegra 4, which Windows RT just flies on. I've seen some intensive apps such as Six Guns (a game) have a little sluggishness to them, but for the most part, any app that you run will run and run well. It nows runs Windows 8.1 RT which has a number of enhancements over the previous version that make it much more feature complete and usable. The device itself, is lighter and slimmer and although I thought I wouldn't particularly care for the change from the black finish to the silver finish on the back of the device, it looks good (especially with the cyan type cover).The screen is better on the device and is now the same as the Surface Pro (2), which makes reading and watching media as crisp and clear as ever. It really is fantastic quality.The new touch and type covers have been improved in many ways over their original incarnations, with the most noticeable of them being that both the new keyboards are now backlit. It's a great addition, although if you have either of the original covers, they will work just fine with the device. Personally, I went with a Type Cover 2 as it has the tactile feedback from the keys that I need to really be effective at typing. The touch cover didn't really give me that, but they have increased the number of sensors on the touch cover, so I'd advice going to a Microsoft Store or getting your hands on one through other means to try them both and see what suits you best.The few issues that I have with the device revolve around the fact that I still believe that the speakers could have a bit more volume and a bit more bass, but they do seem to be a tad louder than what I remember the Surface RT (or Surface 1, as they now call it) to be. The app selection has gotten a whole lot better, but there are still a few that I'd like to have that aren't available, and I wish there were more big name game developers that would port their apps over to the Windows Store (I'm specifically thinking about developers such as Telltale, who made the Walking Dead Game).When it comes down to it, why do I believe that its better than an iPad? Well, Internet Explorer is great and it is flash compatible, which helps on some websites that I need to be able to access and use (for instance, when using Wolfram applications on the web to do my homework). It is compact and the keyboard covers are great at being able to get light work done whether in Word, Powerpoint, or Excel. But by far, the ability to \\\"snap\\\" two apps to your screen (have two apps running at once, while being able to adjust how much of the screen they take up if one is more necessary than another) is the greatest advantage of them all. While you can have apps running in the background on your iPad, which is fine, the ability to use two apps at once, to have two webpages going at once, to be growing the web on one side of things, but on the other side have another app running, such as a video player, the music app, or anything else you want, is simply efficient and immensely useful in getting stuff done.The iPad to me is a great consumption device, but an okay productivity device. I will give it that app makers have built around it's deficiencies to make it a lot more productive than it inherently is by just having a screen. With a Surface 2 and either one of the keyboards, which simply cannot exist without one another (figuratively speaking), though, it cannot be understated that the widescreen display, though it can be an adjustment to make if you've had an iPad, makes it great for viewing media, and the keyboard/ability to use two apps at once on the screen make productivity much more inherent to the device.If you're able to see the device for what it is, which is a great tablet with the potential for great productivity, and believe in the ability for the Windows Store's app selection to grow, though it's pretty decent now, then this is definitely the device for you. If you need to be on the cutting edge of getting all the latest and greatest apps out right now, then although I'd like to say you should still get a Surface, the iPad simply can't be beat in terms of developer support right now.\", \"overall\": 4.0, \"summary\": \"Great tablet all around!\", \"unixReviewTime\": 1382918400, \"reviewTime\": \"10 28, 2013\"}\n",
      "reviews_047.json \t{\"reviewerID\": \"A2L3TF8SZC61BY\", \"asin\": \"B00FF6J532\", \"reviewerName\": \"B. LaFlamme\", \"helpful\": [0, 0], \"reviewText\": \"Unfortunately, the tablet's battery was defective...I had to exchange it through Microsoft.I didn't bother trying to exchange it through the seller on Amazon because I didn't really trust that the next one they sent me would work.\", \"overall\": 2.0, \"summary\": \"It didn't work\", \"unixReviewTime\": 1402704000, \"reviewTime\": \"06 14, 2014\"}\n",
      "reviews_047.json \t{\"reviewerID\": \"ASEODAFAX9APT\", \"asin\": \"B00FF6J532\", \"reviewerName\": \"Blesson George\", \"helpful\": [1, 1], \"reviewText\": \"It's a great tablet. The downside is that it doesn't have most of the popular apps. It still doesn't have instagram. But the tablet is fast and doesn't have any problems. I like that we can play vba games on it.\", \"overall\": 5.0, \"summary\": \"Great Tablet, needs more apps\", \"unixReviewTime\": 1384300800, \"reviewTime\": \"11 13, 2013\"}\n",
      "reviews_047.json \t{\"reviewerID\": \"A38ZNVTDQB109K\", \"asin\": \"B00FF6J532\", \"reviewerName\": \"boze\", \"helpful\": [0, 0], \"reviewText\": \"I have had my 64GB Surface 2 with type cover for a few weeks and I LOVE IT!  I used my laptop primarily for work using MS Office products, email, and web access as my main functions.  This Surface 2 will do all that and give me much of the functionality of my Windows smart phone in one place.  It is very lightweight, very easy to use, nice size for work and personal use.  The ability to add extra memory and use a flash drive was key for me, as was the type cover and MS Office functionality.  This fits my needs perfectly and I couldn't be more pleased with this purchase.\", \"overall\": 5.0, \"summary\": \"I LOVE my Surface 2!\", \"unixReviewTime\": 1403395200, \"reviewTime\": \"06 22, 2014\"}\n",
      "reviews_047.json \t{\"reviewerID\": \"AXH73DM1Q870X\", \"asin\": \"B00FF6J532\", \"reviewerName\": \"Bradley F.\", \"helpful\": [0, 1], \"reviewText\": \"The tablet arrived earlier than expected, but had a large scratch on the back. My wife wasn't happy with that, but I convinced her that the cover she was getting would hide the damage. Otherwise, it's just what she wanted.\", \"overall\": 4.0, \"summary\": \"mostly satisfied\", \"unixReviewTime\": 1395014400, \"reviewTime\": \"03 17, 2014\"}\n",
      "reviews_047.json \t{\"reviewerID\": \"A8J3GET1NMLG2\", \"asin\": \"B00FF6J532\", \"reviewerName\": \"Bubba\", \"helpful\": [75, 80], \"reviewText\": \"I won't get into the technical stuff here. I will just point out some things that a normal person can relate to when comparing a tablet. If your a tech. buff, then read the other reviews.I wanted something portable so my wife can produce Word documents and Excel spread sheets and for my kids to create Power Point presentations for school. I wanted to get the Pro 2, but it was more than I wanted to spend and the Surface 2 had all the Office software that we needed and I had a Netbook that has the full Windows 7 installed that is still portable enough that one can still take with them if they needed a full computer. I figure for the price difference between the Surface 2 and Pro 2, I can use that towards another newer portable Netbook. Still got to have a full featured computer. A two for one if you will. In case you didn't know. You cannot install software on the Surface 2. The Pro 2 you can if you want  a computer replacement.  Although the Surface 2 should have the software that most average people would need. But a good old fashioned computer is still better than any tablet for major work because they are still more powerful and a lot of ports for different plug ins. Get a fully loaded 11 inch laptop if you want portability. So know what you are looking for.Don't believe all the reviews out there saying the ipad Air is the better tablet. Those reviews are biased and only bring up the minor upgrades from the old ipad and base the comparisons off of those few things. And the only two really bad things they had to say about the ipad Air was that it didn't have a fingerprint scanner and it didn't come in gold. The 80's called and they want their gaudy flashy gold bling back.Most of these reviews will only focus on those points and will not mention all the other advantages the Surface 2 has. And for the few reviews that do mention the other features the Surface 2 has, they still favor the ipad because the camera was nicer or more apps. Really?I am using the ipad Air as comparison as it seems to be the standard.What the reviews usually leave out or down play.Surface 21.  Full office software. Word, Excel, PowerPoint, OneNote.2.  Wide screen optimized for wide screen movies. When held in portrait when you are surfing the web for example, you get a  a longer list so you don't scroll as much.3.  Micro Sd slot. Easy to download or upload data on the fly.4.  3.0 USB so you can easily backup files to a hard drive and not have all your eggs in one basket. Or transfer files with anything that has a USB plug and also charge your phone. Ipad? No, unless you have the adapter and you can't charge your phone.5.  Can print to almost every printer.6.  Hdmi port7.  Flash support so you are not limited browsing the web.8.  Built in two position kickstand.9.  Thin keyboards that double as covers. Can get them background lit, flat, with real keys, and a new one coming out withbuilt in battery to recharge your Surface at the same time on a charge. Battery in tablet is good already though. Some say that you need to buy a keyboard to make full use of the Surface and adds to the cost. Ridiculous.  You do not. It will make life more easier though if you are working on a spreadsheet or word document. With an ipad you don't need one because what use would it be for? Sure there are apps. but they are limited to what you can create or edit. You have to do major creating and editing on a computer first and then hook up the ipad and transfer it.10. Hook up to your t.v. or another monitor and drag an open window to the second screen.11. Do a split screen on the tablet.12. Run multiple tasks at the same time in the background like listening to music, watching a video and doing somethingelse like typing an email or working on an a office document in split screen mode.13. Wirelessly sync with your xbox and play games on your t.v, stream videos, pictures, etc.14. Drag and drop files.15. Can set up individual separate users  on the tablet and have parental monitoring updates and deciding what child can do on the tablet. Unlike the iPad I can be in the middle of something and then let others use the Surface with their own logins and not interrupt my session when I come back to it later. Everyone can be working on their own word document for example and don't have to have the other person log out of an app so someone else can use it. And each person has their own private log in to protect their work.Now these are not all the Surface 2 offers. I am finding new things still.The ipad Air is basically the same ipad as before with minor tweaks. It's faster and lighter. Still does the same thing as before, nothing new.ipad Air1. Powerful processor. For doing nothing new. Future fingerprint scanner? Tablet will still only run apps. as before.2. Lighter and thinner is negated by the cases to protect the ipad and without a keyboard.3. Upgraded camera. Put it down, your annoying the people behind your trying to see the wedding or play. Use a real camera.4. No USB or sd slot. Need adapters for just about everything. And with the Surface 2 you can plug the unit in when it is dead and keep on using it and still do things via the sd card or usb cables. On an ipad you can't do both. You either charge it or plug in an adapter to the only port the ipad has do to something. And if it is dead, you have to wait until you charge it first. Also you need to bring all the adapters and keyboard with you vs the Surface 2 of which all you need is the power cable. And the cover/keyboard is so thin it is negligible in bulk and weight. And justifying that the ipad has third party keyboards is not valid. It is a separate bulky keyboard and the ipad does not support mouse functions. You are stuck with third party hardware that is Apple specific whereas with the Surface you can use anything that supports micro SD or USB. And having to buy all these accessories tofor the ipad.will not be cheap. People gripe about the Suface cover/keyboard costs too much. Well to buy a seperate cover for an ipad will cost $40.00 and it will flop around and  a non intergrated keypad  will cost $100.00 that you have to carry seperatley.5. Having to convert simple files with Apple software a hassle.5. Tons of apps. Android not far behind. And Microsoft growing. How much apps. does one need?6. What good is the Reina display if it isn't widescreen? Picture is actually smaller than 9.7 with the black bars.7. Only compatible with Apple products i.e. cant print unless it is an AirPrint printer or stream to t.v. unless Apple t.v.8. Slightly upgraded camera. Put it away! Your blocking my view! And people with a 4.8 inch phone look ridiculous? At least they are not carrying around the perfect sized iphone for one handed operation along with a 9.6 tablet that takes two hands. Kind of contradicting.The ipad Air has more negatives than positives, so how can it be better? Android tablets have more features even than the ipads. I guess if you want one just for games and apps, then an ipad or a higher end Android tablet might suit your needs. People are not weighing in that the Surface 2 can do more than just play games.Now back to the Surface 2. There was a slight learning curve to understand what all the gestures do. It didn't take long though. Look it up on youtube and you will pick it up real quick along with a lot of tips and tricks of what it is capable of. There different ways to open, close, move, split screen, multitask, etc.The tablet feels a little heavy in the hand if you had to hold it I admit. But the two position kickstand works pretty good on the lap as I didn't think it would. I don't have to have a cover to add to the bulk to double as a kickstand also. And even if I put on one of the super thin keyboards they would add very little weight or bulk and they snap on and off without any hassle. Also keep in mind which keyboard would work better for you. The keyboard without the real keys requires a little harder tap on them than with the one with real keys. So if you do a lot of typing or use it on your lap, you may want the one with real keys.The boot up time takes a little while when completely off, but remember it is opening real office programs. When in sleep mode it opens up quickly.I went several days at a time of casual use and in sleep mode without charging and it still had a charge.The tiles are nice because it is real time data so I can glance at them without opening up an app. for email, weather, etc. On Apple you have a bunch of icons and you have open it up, Android you can use widgets.With a real browser and Flash I can use full websites rather than a mobile version. And also it is a lot easier to open multiple tabs when surfing the internet unlike some tablets where it is a pain to pop back and forth between tabs.As I mentioned above it is nice to have the split screen because my kids can research on the web on one side and write their paper on the other side while listening to music of which they shouldn't be.Three cons I find on the Surface 2 so far is that the power cord is only about 58 inches long. You have to be really close to an outlet of some sort. The second con was that the software and backup takes up about 16 gigs so you don't have the full gigs of memory stated. So might have to get an sd card. Yes other tablets you only lose about 2 gigs, but remember they are pretty much entertainment tablets only and can't do what the Surface 2 can do. And the third con was it gets hung up once in a while surfing the web. The last two cons are why I deducted a star.If you are waiting for a ipad Air Pro to come out. Don't be surprised if it doesn't come with a Retina display, finger print scanner, nice camera, etc. You will have to wait for the Pro S, Pro S1, etc. to get one feature at a time and not several at once. I mean come on, cant even throw in a simple  camera flash. The ipads shouldn't even be placed in the categories of tablets that can run Office software. There should be a category for Dumb Tablets that only run apps, a category for Smart Tablets for those that can run fully functioning office software and not just limited mobile versions, and Extreme Tablets for ones that can run full blown Office suites.\", \"overall\": 4.0, \"summary\": \"Finally a tablet for entertainment and work.\", \"unixReviewTime\": 1383177600, \"reviewTime\": \"10 31, 2013\"}\n",
      "reviews_047.json \t{\"reviewerID\": \"A3U5YY6V7DZB9I\", \"asin\": \"B00FF6J532\", \"reviewerName\": \"C. Chesser\", \"helpful\": [1, 3], \"reviewText\": \"Where does Amazon get off claiming the Surface 2 list price is $799?  It's available everywhere - including directly from Microsoft - for $449.00 - LESS than Amazon - NOT $799.\", \"overall\": 1.0, \"summary\": \"\\\"List\\\" price $799 NOT true\", \"unixReviewTime\": 1402704000, \"reviewTime\": \"06 14, 2014\"}\n",
      "reviews_047.json \t{\"reviewerID\": \"AE5A1O5FV1JY8\", \"asin\": \"B00FF6J532\", \"reviewerName\": \"Cecilia M.\", \"helpful\": [0, 0], \"reviewText\": \"Very nice tablet..i enjoy the synchronization with all other devices. However, I find it a bit difficult to hold due to it's weight. Find that if I use it upright, it is easier to hold and does not become so warm. Excellent value for money and I would recommend it any day.\", \"overall\": 4.0, \"summary\": \"Surface 2 is an excellent choice if you want to buy a tablet that can double up as computer.\", \"unixReviewTime\": 1405468800, \"reviewTime\": \"07 16, 2014\"}\n",
      "reviews_047.json \t{\"reviewerID\": \"AGODDVRWENG2L\", \"asin\": \"B00FF6J532\", \"reviewerName\": \"chauvella evans\", \"helpful\": [0, 0], \"reviewText\": \"My daughter who is college traded her iPad for this tablet and can't stop talking bout how much better this tablet is\", \"overall\": 5.0, \"summary\": \"Microsoft verses ipad\", \"unixReviewTime\": 1389571200, \"reviewTime\": \"01 13, 2014\"}\n",
      "reviews_047.json \t{\"reviewerID\": \"AZW3Y0PAD723M\", \"asin\": \"B00FF6J532\", \"reviewerName\": \"Christian Pozo\", \"helpful\": [0, 0], \"reviewText\": \"Very satisfied with my purchase. Arrived within the range of time specified. Thank you!\", \"overall\": 5.0, \"summary\": \"Five Stars\", \"unixReviewTime\": 1405123200, \"reviewTime\": \"07 12, 2014\"}\n",
      "reviews_047.json \t{\"reviewerID\": \"A3KZT6W9D9ESPD\", \"asin\": \"B00FF6J532\", \"reviewerName\": \"Christopher Efird\", \"helpful\": [6, 6], \"reviewText\": \"Let me start by saying that it took me a long time to make the decision to purchase the Surface 2. I had followed the product ever since the Surface RT came out and spent a great deal of time reading reviews, studying tech specs and sampling the product at my local electronics store. Given the negative reviews, I decided to stay away from the original Surface (the RT). However, when the Surface 2 came out and most users experiences were positive, I decided to go ahead and take the plunge. Man am I glad that I did ! This device is exactly what I was looking for. Its small and lightweight, it comes pre-installed with a full version of Microsoft Office, and the Sky Drive integration is seamless with my desktop applications (I also run Windows 8.1 on my desktop). I purchased the 64 GB version and installed a 64 GB micro SD card so I have a full 128 GB of storage. I am not a huge media consumer (although I do have music and a few movies installed for long flights) and with 128 GB I find have almost 50 GB free and clear, even with several movies installed locally.Their are a few things to be mindful of:1. I would defiantly get the Type Cover 2. I can't really comment on the other types of covers but the TC 2 works very well and the backlighting feature is very useful.2. As others have said, I would recommend an external mouse. The USB port makes it very simple to install a Bluetooth doggie for a mouse (and keyboard as well if you want). I don't find a big need for the keyboard but the mouse does make navigation inside of spreadsheets or power point documents much easier.3. Stability surrounding updates is a bit problematic. If you interrupt the update process it tends to lock up the device. My advice is just leave it alone while it is updating and everything will be fine.4. The lack of Apps that so many people bemoan is really a non event for me. I have found that the Microsoft app store has everything that I really need on this device. For the stuff that is missing I have just created short cut links to the respective webpages. I find I have effectively the same functionality just working through the web (Google Earth is the one exception although with it being installed in my desktop and iPhone I don't find that to be a huge issue).Overall, after three weeks of use, the Surface 2 had significantly exceeded my expectations and I am very satisfied with my purchase.\", \"overall\": 5.0, \"summary\": \"Exceeds Expectations\", \"unixReviewTime\": 1394755200, \"reviewTime\": \"03 14, 2014\"}\n",
      "reviews_047.json \t{\"reviewerID\": \"AQGX85NYRP7Q9\", \"asin\": \"B00FF6J532\", \"reviewerName\": \"Chris V\", \"helpful\": [3, 16], \"reviewText\": \"The keyboard in not included in the sale. You have to enlarge the picture that shows the keyboard to see that it is not included.I hate returning items, but this kicked my hat. I will get the Lenovo Yoga 2 instead. Microsoft has some guilt in this by making the keyboard an accessory and selling it as a cover. Maybe techies out there have no issues with this. I do. I absolutely do not tolerate deceptive selling techniques. There is way too much deception in sales. [PS - I have a major in Sales and Sales management]\", \"overall\": 1.0, \"summary\": \"DECEPTIVE SELLER\", \"unixReviewTime\": 1395878400, \"reviewTime\": \"03 27, 2014\"}\n",
      "reviews_047.json \t{\"reviewerID\": \"A1CVKE0PP6UIP6\", \"asin\": \"B00FF6J532\", \"reviewerName\": \"cjmacks17\", \"helpful\": [0, 1], \"reviewText\": \"Would not turn on.  Will return and get a refund.  Very disappointed.\", \"overall\": 1.0, \"summary\": \"Don't buy\", \"unixReviewTime\": 1405555200, \"reviewTime\": \"07 17, 2014\"}\n",
      "reviews_047.json \t{\"reviewerID\": \"AL33T258FIFPV\", \"asin\": \"B00FF6J532\", \"reviewerName\": \"Columba\", \"helpful\": [26, 26], \"reviewText\": \"First off, what is Amazon thinking? This is $300 more than Best Buy or Windows Store. Just crazy. Is it to keep Kindle sales up? Weird. Don't buy through Amazon unless price point drops well below $600.Now for product review. Excellent, well made device that shows marked improvement in speed and video/audio quality versus 1st generation Surface. The stereo sound is excellent. Keyboard is a must (integrates with nearly any keyboard but Surface Keyboard is amazing). I love that it already has drivers for wireless printing and every other device I own. Usb 3 is lightning fast and hdmi works wonders with tv and projectors. Also a piece of cake to plug into monitor. I can't help but think that if this had an Apple logo it would be hailed as one of the best innovative machines. I also looked seriously at purchasing the pro 2, but found this device really has all I need. Microsoft office is perfect on device. Being able to video a presentation in one pane while typing notes in another is slick and has no lag. Multiple panes for working with Powerpoint or Word and excel is also a huge plus. This thing is also an incredibly durable device. It has survived multiple drops without a scratch.\", \"overall\": 5.0, \"summary\": \"Great Product but Amazon's Price is Crazy Expensive\", \"unixReviewTime\": 1387152000, \"reviewTime\": \"12 16, 2013\"}\n",
      "reviews_047.json \t{\"reviewerID\": \"ATGLHCY1BZ0TO\", \"asin\": \"B00FF6J532\", \"reviewerName\": \"conis\", \"helpful\": [6, 6], \"reviewText\": \"Memo from a hard core iPad user: Lets face it... Surface 1 was a POS-loser. Dirt cheap all day long. Not so with Surface 2. Microsoft has this this puppy dialed in and I believe will beat up iPad, bad... I bought one for my daughter, who is working on her PHD.... Heavily involved in MS Office format stuff and was flipping out trying to convert back and forth between her MAC laptop. This did the job. And I did the homework first.Its cost effective against an iPad. It depends on what you need to do with a tablet.  This is ALL about MS office. Get the folio/keyboard that is designed for the S2.I finally had a chance to play with this last week. Ive been away from windows for 3 years so there was a learning curve. It's still pretty intuitive and if You use win 8, you'll fall right inScreen resolution is equal to iPad retina, Its just as fast as iPad 5. One thing I REALLY like about this tablet is USB 3.0 which enable you to add external memory and store docs off the machine. You can also use a wired mouse which means you don't have to navigate by touching the screen all the time to navigate= faster. I &#34;think&#34; apps can be called up by assigned hot keys (didn't get that far). Its possible to have two app screens open-running-visable at the same time.In many ways, S2 does the job where iPad is lacking. Lots of nice features, price is right. Worth a look.Only down side is iPad has been around a lot longer, with 10's thousands of apps. All the essential apps for S2 appear to be available and I am sure more will appear once s2 gains traction.It's definately a competetive viable iPad alternative.\", \"overall\": 5.0, \"summary\": \"Totally SLICK!\", \"unixReviewTime\": 1394496000, \"reviewTime\": \"03 11, 2014\"}\n",
      "reviews_047.json \t{\"reviewerID\": \"A2B4A5YBNAQAEO\", \"asin\": \"B00FF6J532\", \"reviewerName\": \"Country Girl in Illinois\", \"helpful\": [1, 1], \"reviewText\": \"I am so pleased with my tablet.purchase It arrived on time. it is much more than described. I love Amazon, and can count on there service and promises.  I was going to purchase a competitor's tablet, however this one has additional features that none other has.  At first I was concerned about not going with the ipad which my whole family professes to, but after careful study of the Microsoft, it became apparent to me that this is what I needed. I am so pleased!\", \"overall\": 5.0, \"summary\": \"Microsoft Surface 2\", \"unixReviewTime\": 1405641600, \"reviewTime\": \"07 18, 2014\"}\n",
      "reviews_047.json \t{\"reviewerID\": \"A386XH7AV82USR\", \"asin\": \"B00FF6J532\", \"reviewerName\": \"CraigEugene\", \"helpful\": [0, 0], \"reviewText\": \"Awesome tablet. Almost all of the benefits of a windows pc but in a small form factor and for a tiny price. It works well with almost all of my devices (external HD's, flash drives, printer, camera). The app store is growing and is by no means a deal breaker. It comes with a free version of Office 2013, which works great on this device. The optional accessories are impressive. The battery has been lasting around 9 hours with moderate use.\", \"overall\": 5.0, \"summary\": \"A great tablet worth considering\", \"unixReviewTime\": 1384646400, \"reviewTime\": \"11 17, 2013\"}\n",
      "reviews_047.json \t{\"reviewerID\": \"AQGRC5IGF3GQF\", \"asin\": \"B00FF6J532\", \"reviewerName\": \"Crystal Eitle\", \"helpful\": [9, 10], \"reviewText\": \"I received a Surface 2 tablet from my job. (I work in IT support and these are being handed out to one of the user groups at my company).  It has quickly become my favorite computer/tablet/all-purpose-device.  The Surface 2 hits the sweet spot between portability and usability.One thing to be aware of is that to get the most out of this device, you really also need the Type Cover 2 (NOT the Touch Cover, which I've heard is basically a useless piece of garbage).  The reason for this is twofold:1) The Type Cover 2 is a great, useable keyboard.  I'm a fast typist, and I have had no problems touch-typing on the Type Cover keyboard.  It's a little smaller than a standard keyboard, but is very well-designed as far as tactile feedback and the size of the keys.  It's really fun to be able to type a lengthy comment, or review, or email, and then go back to using the touchscreen.  After years of carrying around devices with a touch-only interface, it is so great to have a keyboard back!2) The Type Cover 2 functions as a backup battery for the tablet.  Basically you have two batteries, one in the tablet and one in the keyboard.  (The tablet connects to the keyboard via a magnetic connector that makes a satisfying click as you snap them together.  Sexy!)  When the tablet is connected to the keyboard, it uses up the keyboard battery first, then the tablet's internal battery.  Likewise when you charge, it charges the tablet first, then the keyboard.  In theory, you have up to 20 hours of battery life with the Type Cover 2 attached.  I don't know about that, but I do know I've been able to use the device pretty much all day without running out of battery life.(One drawback is that there is no way to charge the keyboard separately while carrying the tablet around.  The keyboard has to be attached to the tablet in order to charge.)Included with the tablet is a full version of Office 2013 including Word, Excel, PowerPoint, Outlook, and OneNote.  This allows you to do &#34;real work&#34; if your work involves using any of these applications. You can use these applications on the &#34;desktop&#34; side or the &#34;tablet&#34; side.  Basically you have two different home screens you can look at: the mobile screen with the tiles (this is the one I use the most), or an interface that looks more like a traditional Windows desktop.  There are actually separate versions of the Office applications depending on which interface you're using; the ones on the desktop side are more full-featured, but I find myself using the tablet interface for most things.Unfortunately, there is no way to install other Windows desktop programs (you would need a Surface Pro for that), but you can install apps on the &#34;tablet side&#34; via the Store.Have I mentioned how awesome it is to have both a touchscreen and a keyboard? Web browsing becomes much more intuitive and fun.  (The downside is that now I keep trying to touch the screen of my Windows 7 laptop, which of course doesn't do anything).The form factor of this device is ideal.  The screen is large enough for comfortable reading and viewing, but the whole thing is so small and light -- even with the Type Cover attached -- that I can easily slip it into my bag for the day.  As a result, I have the device with me all the time.  It's the device I go to first now for most uses.This is also the device that got me using OneNote.  Learn to use OneNote!  It's practical and surprisingly fun.Pros:- Excellent form factor- Good battery life- Office 2013- AffordableCons:- Type Cover 2 keyboard must be purchased separately- No app to watch Amazon Prime video- Can't install Windows desktop applications.\", \"overall\": 5.0, \"summary\": \"an excellent little machine\", \"unixReviewTime\": 1400889600, \"reviewTime\": \"05 24, 2014\"}\n",
      "reviews_047.json \t{\"reviewerID\": \"A3V7LYL6ASENKD\", \"asin\": \"B00FF6J532\", \"reviewerName\": \"Dacazymon\", \"helpful\": [1, 8], \"reviewText\": \"I got my Surface $100 over the original price, easing my hopes even more from being a Windows guy. I open the box, pretty much no instructions. I'll give it to Microsoft, the Surface did look very cool, and I loved the stand. I held down the power key, and I went through the basic \\\"getting ready\\\" of the system. I restarted it, and it has a very fast startup! I was already pleased. I plugged it in the charge for a few hours, and as soon as I unplugged it, the touch screen was making its own responses on the screen. It was like swiping up and down the screen really fast. I locked it, opened it up again, and to get it out of the way, that glitch happened a lot. I was in my office building, and I was using the Surface (with the type keyboard), to type a few things for work. The thing cuts it's power at 80% battery. I turn it on again (with the screen glitch), and now my volume rocker is unresponsive. My type keyboard isn't recognized. It's stuck with doing the screen glitch! I had it shipped back to Microsoft within days of purchase, and this thing wasn't even as useful as a Palm Pre. I went to a Best Buy, and one of their staff this this; \\\"I know Windows 8 has touchscreen specialized, but it just wasn't ready for a Tablet.\\\" From the same store, I got the \\\"flagship\\\" Android Tablet: Samsung Galaxy Note 10.1 2014 Edition (what a mouthful!), and it is amazing. I love the pen, S Note, Battery Life, Speed (1.9 GHZ Quad Core CPU), and the OS. In summary, my Surface was defective, I see a lot of negative reviews, and this should not ow existed.\", \"overall\": 2.0, \"summary\": \"It went downhill...\", \"unixReviewTime\": 1388620800, \"reviewTime\": \"01 2, 2014\"}\n",
      "reviews_047.json \t{\"reviewerID\": \"A2ALX5U55NTGTL\", \"asin\": \"B00FF6J532\", \"reviewerName\": \"Danny Boy \\\"Danny Boy\\\"\", \"helpful\": [2, 2], \"reviewText\": \"I was fortunate to be a grand prize winner of the Surface 2 and I love it. I won this without the keyboard. So I use this as a pure tablet. I love being able to have two apps open side by side. I usually use the Facebook app or email app with the IE (Internet Explorer) browser taking up most of the screen. I probably would have given this 4 stars because when I play Spotify through the Modern UI version of IE browser and go to another screen, the music stops. However, I figured out that I could use the desktop version of IE and it will play Spotify without stopping when I switch apps.I also like the fact that it stays connected with my Windows 8.1 laptop. I can view pictures from my laptop on my Surface with Pictures app. Unfortunately, the Photos app was not showing my local pictures at first. So I just went to the File Explorer and added the local Pictures folder to the Pictures Library, then my Photos app was able to see the local pictures. I'm not sure if the average person would know to do that though, but I figured it out. So it's great for me.I love the how the kickstand has two different positions, because sometimes the 1st position is not good for the position I'm in at the moment. Microsoft was very smart to add that feature to the Surface 2.So great job Microsoft at making a really good 2nd generation Surface. I hope this is a good indicator that your 3rd generation is going to be even more awesome.\", \"overall\": 5.0, \"summary\": \"A Good 2nd generation Surface\", \"unixReviewTime\": 1384905600, \"reviewTime\": \"11 20, 2013\"}\n",
      "reviews_047.json \t{\"reviewerID\": \"A24UTS8MRQ9AWY\", \"asin\": \"B00FF6J532\", \"reviewerName\": \"Danny C.\", \"helpful\": [11, 11], \"reviewText\": \"Pros:1. This thing is fast, and I mean really fast!2. Great battery life3. Outstanding operating system, Microsoft listened to customer feedback & it really shows with the 8.1 update.4. The web browser, I know its Internet Explorer, but in the 10 inch tablet market it's definitely the best right now in both speed and functionality.5. The new kick stand, it's just plain awesome.6. Great screen quality.7. The Windows Speech Recognition application allows for full voice control of the OS, and speech to text in Office!8. Plug in a PC or 360 controller and you have a portable gaming box, install some emulators from the apps store and get some retro gaming going.9 Media casting, you can stream music, photos and movies to other devices. I've only tested this with my 360 and it works great.10. Multiple user accounts. If you have family or friends that uses your tablet this is extremely useful.Cons:1. The lack of applications. Not a big deal anymore, but it still has some catching up to do. I'm impressed with how much they've managed to catch up being that the win 8 store is only a little over a year old. Using iOS as the app-store standard one tends to forget it's over 6 years old now.2. It doesn't make me a sandwich.\", \"overall\": 5.0, \"summary\": \"Nice come back Microsoft!\", \"unixReviewTime\": 1385769600, \"reviewTime\": \"11 30, 2013\"}\n",
      "reviews_047.json \t{\"reviewerID\": \"AOY0GMIMN422A\", \"asin\": \"B00FF6J532\", \"reviewerName\": \"Danny Hsu\", \"helpful\": [1, 2], \"reviewText\": \"The Surface is a hybrid tablet, which you get the best of both worlds, touch screen tablet, and a super light, mobile laptop.  Way better value than the overpriced iPad.\", \"overall\": 5.0, \"summary\": \"Better than iPad and Android\", \"unixReviewTime\": 1397347200, \"reviewTime\": \"04 13, 2014\"}\n",
      "reviews_047.json \t{\"reviewerID\": \"A2UNAIVP91P1VK\", \"asin\": \"B00FF6J532\", \"reviewerName\": \"danny y\", \"helpful\": [0, 3], \"reviewText\": \"I own the surface 2 and the Ipad retina. Both have same but different uses. I use my surface as a desktop more than a tablet. Using it as a desktop i bought the wireless mouse, HDMI adapter for my monitor and the 5 to 1 adapter . The adapter allows you more options such as an additional much needed USB port. I like the abilty to use Microsoft Office making the tablet a good choice. If MS office was out of the question the ipad is probably a better choice\", \"overall\": 4.0, \"summary\": \"Surface 2\", \"unixReviewTime\": 1387756800, \"reviewTime\": \"12 23, 2013\"}\n",
      "reviews_047.json \t{\"reviewerID\": \"AGZON65V7PRG2\", \"asin\": \"B00FF6J532\", \"reviewerName\": \"Dave\", \"helpful\": [1, 1], \"reviewText\": \"I use the tablet as a pseudo laptop replacement despite not being able to run legacy apps.  It's quick and responsive, and frankly, I don't open my laptop any longer unless I have to.  My wife and I have two separate accounts on the same device.  Hence, we can share the tablet and keep our emails and apps separate.  The app selection is not as plentiful as you will find in the iTunes or the Playstore, but I haven't found anything that I absolutely needed or missed.  That being said, the Windows Store is actually getting better by the day and the tablet comes with some nice built-in apps (most of all, Office).  Anything in between can be replaced by IE 11, which is actually a flash enabled browser.Office works great and only lacks macro support.  If don't know what macros are, you more than likely never use them.The OS itself is fairly easy to learn but may take a day if the user is coming from iOS and has no familiarity with Windows 8.  Once learned, you will realize it's probably the most versatile and best tablet OS on the market.  Having the ability to have two apps side-by-side is easy to dismiss unless you actually start using it on a regular basis on a tablet.I don't have much more to add on top of the already glowing reviews from many of the users.  Since most of what I do is centered around the Internet and some Office, I don't find myself missing legacy apps as much as I thought I would.  Given that, I have taken my Surface 2 as my sole device on my last two trips.There are really only two criticisms that I have of the tablet.  First, 32GB doesn't really go as far as you think it would (even on a tablet).  However, you can clear maybe an extra 3GB by creating a recovery drive on a USB stick, and you can also add up to an additional 64GB via a micro SD card.  Second, the type cover (which is an absolute must-have accessory) is overpriced.Otherwise, I am extremely happy, and the Surface 2 has actually exceeded my expectations.\", \"overall\": 5.0, \"summary\": \"Surface 2 Review\", \"unixReviewTime\": 1384905600, \"reviewTime\": \"11 20, 2013\"}\n",
      "reviews_047.json \t{\"reviewerID\": \"A16JECDJZC1HDH\", \"asin\": \"B00FF6J532\", \"reviewerName\": \"david\", \"helpful\": [19, 20], \"reviewText\": \"The surface 2 is a whooole  lot faster than the first one. A lot of my classes assign online  homework which requires flash. I can do them all on this! The multitasking lets me open two books at once, awesome for reading the solutions manual while I am reading the textbook. The office suite is great, word is the best, I can input my lab data with excel, PowerPoint for those rare presentations and such. Also the keyboards for it are better than any keyboard ive used with my moms ipad, its a full size keyboard so typing is always easy and it fits perfectly well with tge device, but it does add a little more weight. Althought you wouldnt really be holding it anyways, given that you get an integrated kick stand. Its nice having a tablet that runs the full office suite with no compromise. Plus I can connect to any printer, even those that dont support wireless printing such as mine., through the USB port. Plus I can charge my phone with the USB port. The USB port is especially awesome because in the first two weeks of school everyone is trying to get the pdf's. Makes sharing a lot easier between classmates.This is the best productivity tablet there is, given that its the only one lol. But I like where Microsoft is going with this. I went over a relatives house a  few weeks ago twho lived about three hours away but I forgot my surface. They had an iPad so I thought hey I can experiment with that. After the first day I couldn't stand using the iPad anymore. The smart cover  kickstand was flimsy compared to the surfaces integrated kickstand, I didnt quite trust it. And all of the durable kickstands for the iPad seemed bulky and heavy. No flash on the iPad so no online HW for me that day. Eventually I needed to borrow their laptop to do the writing portion of my studies, which I could have just done on my surface. The small iPad keyboard just didnt do it for me. Oh and my phone died before I moved to the laptop, so no charging my phone with the iPad while I listen to music on my phone for me =[ to sum up, if your in for productivity, the surface is a damn good device. I haven't touched my laptop, except to transfer files to my surface, in about 9 months.\", \"overall\": 5.0, \"summary\": \"perfect for school\", \"unixReviewTime\": 1383955200, \"reviewTime\": \"11 9, 2013\"}\n",
      "reviews_047.json \t{\"reviewerID\": \"A3BT7LZAD197AP\", \"asin\": \"B00FF6J532\", \"reviewerName\": \"David J.\", \"helpful\": [1, 1], \"reviewText\": \"I was very impressed with all the features in this tablet for both school and at home. It lived up to the commercial when they say, &#34;It's a tablet when you want it and a laptop when you need it.&#34;\", \"overall\": 5.0, \"summary\": \"Very impressive\", \"unixReviewTime\": 1389744000, \"reviewTime\": \"01 15, 2014\"}\n",
      "reviews_047.json \t{\"reviewerID\": \"A3GRGK4ZZM1SZM\", \"asin\": \"B00FF6J532\", \"reviewerName\": \"derick\", \"helpful\": [4, 26], \"reviewText\": \"Complete Piece of Junk. If all you want to do is browse the internet with Limitation, then by all means, go ahead and buy this.1. Does not and Will not support JAVA. Not a big deal until you run into a site that depends on it. See Note 22. Bought WD MyCloud as a solution to stream my Media to my Failure of a Tablet (Surface 2), while away from my Home netowrk. Will not work, because the WD MyCloud website depends on JAVA. Complete FAIL.3. Can not and Will not download Anything from the Internet! EVERYTHING you want must be installed from the Windows Store. Which, in my opinion, is E M P T Y. Could not grab any software for VPN to connect to my home network. Complete Fail.4. 32GB is really 25GB. Haven't installed anything because of Note 3, and only 15GB free. Complete Fail.Pro:  It is aesthetically pleasant.Microsoft, these complaints are real. Please listen to them and improve your product instead of forcing your customers to purchase Option 2 which cost Twice as much. Steve Ballmer and Satya Nadella, please contact me...you owe me $500.\", \"overall\": 1.0, \"summary\": \"Please Read Before BUYING\", \"unixReviewTime\": 1391126400, \"reviewTime\": \"01 31, 2014\"}\n",
      "reviews_047.json \t{\"reviewerID\": \"A27JMKHL10T0GN\", \"asin\": \"B00FF6J532\", \"reviewerName\": \"Devtiffy\", \"helpful\": [0, 0], \"reviewText\": \"Just takes some time to get used to it I'm an ipad user.. lol.. its not going tabloid iTunes if you think it might... it doesn't..\", \"overall\": 4.0, \"summary\": \"nice\", \"unixReviewTime\": 1392163200, \"reviewTime\": \"02 12, 2014\"}\n",
      "reviews_047.json \t{\"reviewerID\": \"AT3IXXO8L2FAZ\", \"asin\": \"B00FF6J532\", \"reviewerName\": \"Diane Helmle\", \"helpful\": [0, 1], \"reviewText\": \"This item came on time and has so far worked great. I have spent quite a bit of time getting acquainted with the touch screen and I like it more and more.\", \"overall\": 5.0, \"summary\": \"Terriffic images!\", \"unixReviewTime\": 1398902400, \"reviewTime\": \"05 1, 2014\"}\n",
      "reviews_047.json \t{\"reviewerID\": \"A1D2W3SXWR23NK\", \"asin\": \"B00FF6J532\", \"reviewerName\": \"DnHSis\", \"helpful\": [1, 1], \"reviewText\": \"I love this product. We have an iPad, laptop, MAC, and kindle (and kindle fire), and this is definitely my GO-TO device. I plan everything on here and do most of my work. We homeschool our children and without this device, it would be much more difficult. GREAT product. Love that you can do multiple things at one time\", \"overall\": 5.0, \"summary\": \"What would I do without it?\", \"unixReviewTime\": 1393891200, \"reviewTime\": \"03 4, 2014\"}\n",
      "reviews_047.json \t{\"reviewerID\": \"A2Y4NDVHD4LIN9\", \"asin\": \"B00FF6J532\", \"reviewerName\": \"Dwanna Whitener \\\"artistmom\\\"\", \"helpful\": [1, 1], \"reviewText\": \"Great size and weight. I've been plugging along on an old clunky laptop and this little machine is so much easier to carry. Taking some getting used to the new touch screen and apps. The tutorials aren't really clear, but everyday working on this machine is becoming more efficient. If you've been using an android or iOS, you'll probably be able to pick up the operating system easily enough. Going from Windows Vista has been more of a challenge.\", \"overall\": 4.0, \"summary\": \"Microsoft-Surface 2\", \"unixReviewTime\": 1387929600, \"reviewTime\": \"12 25, 2013\"}\n",
      "reviews_047.json \t{\"reviewerID\": \"A5FS8SOC3Z6W6\", \"asin\": \"B00FF6J532\", \"reviewerName\": \"E\", \"helpful\": [0, 0], \"reviewText\": \"Went from a Samsung notebook 10.1 to a Surface 2...love the idea that its a computer and tablet all in one.\", \"overall\": 5.0, \"summary\": \"love my srface\", \"unixReviewTime\": 1390608000, \"reviewTime\": \"01 25, 2014\"}\n",
      "reviews_047.json \t{\"reviewerID\": \"A3RNCFYSI1GZM0\", \"asin\": \"B00FF6J532\", \"reviewerName\": \"Elizabeth \\\"Mama Bear\\\"\", \"helpful\": [1, 2], \"reviewText\": \"Ordered this item from this seller because I couldn't find it anywhere!  The service was great and it shipped so quickly. It is a Christmas present so I only have really turned it on and did a basic check but it seems great. My daughter wanted one badly for school and I am so glad that I found it.  I would buy from this seller again.\", \"overall\": 5.0, \"summary\": \"So far so good.....\", \"unixReviewTime\": 1387065600, \"reviewTime\": \"12 15, 2013\"}\n",
      "reviews_047.json \t{\"reviewerID\": \"A3LTM0Q2I9063E\", \"asin\": \"B00FF6J532\", \"reviewerName\": \"Emily Church\", \"helpful\": [1, 1], \"reviewText\": \"I chose this over any other tablet or laptop because I needed it to function for school and still be able to read while on the treadmill so it needed a keyboard to be removable. I've only had it a weekend but I am already in love with this device. Prior to this I had a Google Nexus 10 which was annoyingly buggy and glitch. I have no such complaints with this so far. I absolutely love that it comes with real Microsoft Office and not the web-based limited version. Bottom line if you need a laptop AND a tablet this will work well for you. My only suggestion is that if you intend to install a lot of applications or maintain a lot of data plan to buy the largest SD Card possible at the same time or just opt for the larger size though dollar for dollar its cheaper to expand through SD Card.\", \"overall\": 4.0, \"summary\": \"Great for On The Go Student\", \"unixReviewTime\": 1404086400, \"reviewTime\": \"06 30, 2014\"}\n",
      "reviews_047.json \t{\"reviewerID\": \"A39ZRHOJC3LD1V\", \"asin\": \"B00FF6J532\", \"reviewerName\": \"Eric Barton\", \"helpful\": [6, 7], \"reviewText\": \"Before buying this tablet, I read a lot of other user reviews. I consistently saw the same thing here as well as other websites: the pro's knocked it but the users liked it more. I decided to take the plunge. Full disclosure, I have an IPad 3rd generation Retina and a Nexus 7.Overall fit and finish of this thing is up there with the IPad. Very well put together. The functionality of this is way better than either of my previous two tablets. The IPad is great but it lacked office. I, like most professionals, need Microsoft office. Unfortunately that is something outside of my control. My work basically forces that on me and I have to use a PC at work. While the iPad has made strides there's still a gap there. I wanted something that is seamless and I didn't have to worry about compatibility.This thing has way more usability than the Nexus. Honestly it was nice, light, had a great screen, decadent selection of apps, but at the end of the day I didn't use it much. I was always intrigued by the Surface.I was looking between the Surface 2 and the Surface pro. If you're looking to replace your laptop, get the pro. If you want something to do work on and have the lighter weight, smaller price, Get the surface 2. I love this thing.The type cover is a must.Office is seamless on this. I love the fact I can edit spread sheets, power point, and type as fast as I do on a laptop. I gained a lot of respect for MS.ConsPrice. This thing wasn't cheap. I think if they had it at $300-$350 for the Surface 2, that'd be a great price. But at $450 plus the price of the type cover, $149. You're looking at a pretty hefty price.The only other thing I didn't like is the fact that it's weird when you hold it in portrait mode. It's not a deal breaker, but it takes some getting used to.Lack of apps. Look this is something everyone brings up when comparing between MS, Android, and Apple. I read something somewhere that its not of a big of a deal if you just go to the website. For example Yelp. There's no yelp app, but I just went to yelp.Com and problem solved. Same thing with Spotify. Works fine on explorer. At the end of the day it wasn't as bad as I thought it would be. Explorer works great. You just don't see 'custom' designed things for the Surface. I hope they get there, bc that would be pretty cool and I think something like this deserves the same treatment from developers bc it's a great piece of machinery.If you're considering the surface, I'd say take the plunge. I am glad I did and haven't regretted it once. Well done MS. I actually DO more things with this tablet than I ever did with the IPad and the Nexus.\", \"overall\": 5.0, \"summary\": \"Very Impressed. Better than I thought it would be\", \"unixReviewTime\": 1392508800, \"reviewTime\": \"02 16, 2014\"}\n",
      "reviews_047.json \t{\"reviewerID\": \"A2EDH7D5SVQNCU\", \"asin\": \"B00FF6J532\", \"reviewerName\": \"Eric Martin\", \"helpful\": [6, 21], \"reviewText\": \"#1- 32g hd space is a lie. It says 25.3 upon install, then after all the updates, it starts at 18.5g: That's 14g gone just by turning it on and updating!#2- you can't turn off the updates! So everything keeps changing, and you cant stop it, ever! So it will eventually fill up even more space and force you to accept 'their' changes to apps.#3- you can't use more than one Bluetooth device without lagging issues: Why sell a wireless keyboard and a wireless mouse, and a wireless speaker if you can't use them together!#4- you can only download new apps from their 'store':  if it's not there, too bad!#5- the web support lasted for 3 whole months, and all they tell you to do is:  \\\"reboot and reinstall everything from scratch.\\\"#6- geez, 5 is enough.\", \"overall\": 1.0, \"summary\": \"Not impressed with Microsoft's Surface 2\", \"unixReviewTime\": 1392681600, \"reviewTime\": \"02 18, 2014\"}\n",
      "reviews_047.json \t{\"reviewerID\": \"A8I4URU3M8CS0\", \"asin\": \"B00FF6J532\", \"reviewerName\": \"E. Thompson \\\"caltrop\\\"\", \"helpful\": [11, 18], \"reviewText\": \"Better than the Surface RT but still Win 8 RT. The new OS is better.More apps are there but still lacking. No alternate browsers because Microsoft won't allow it so you're stuck with IE in two flavors. MS is pretty restrictive allowing third party development which will kill this product eventually.IE is still two different versions: the crappy touch version which doesn't work well & the real desktop version. But some of the FLASH issues have been resolved but the touch version will still not do RSS Feeds like the desktop version does.Things were fine until horizontal static started on the display. And the SD card started corrupting. So as with the Surface RT I had back it went for a refund.\", \"overall\": 2.0, \"summary\": \"Better But...\", \"unixReviewTime\": 1384992000, \"reviewTime\": \"11 21, 2013\"}\n",
      "reviews_047.json \t{\"reviewerID\": \"A3GWNMYAL03T34\", \"asin\": \"B00FF6J532\", \"reviewerName\": \"Fred Desiderio\", \"helpful\": [3, 18], \"reviewText\": \"Device did not last that long.  After 2 weeks battery would not take a charge.Returned item for refund.  Going to buy a Mac.\", \"overall\": 1.0, \"summary\": \"Device did not last that long.  After 2 weeks battery would not take a charges.\", \"unixReviewTime\": 1390089600, \"reviewTime\": \"01 19, 2014\"}\n",
      "reviews_047.json \t{\"reviewerID\": \"A2GOHNFBHUU3UI\", \"asin\": \"B00FF6J532\", \"reviewerName\": \"Gadget Man \\\"Gadget Man\\\"\", \"helpful\": [7, 12], \"reviewText\": \"I really wanted to like the Surface 2.  After all, what is not to like about a tablet that can run all those nice Microsoft Office programs, has a nice screen, and weighs about 1.5 lbs.Well I found some usability issues.1.  First, this machine is rather slow when doing web browsing.  Pages that take 3-4 seconds to load on the Ipad or on a Windows laptop, take about 8 seconds to load on the Surface 2.  Tap a link and it appears nothing is happening.  Then finally, if you haven't gotten impatient and tapped the link again, the browser finally renders the page.  It works.  It is adequate.  But if you are use to any modern computer or competing tablet, it is just slow.2.  Some pages don't render properly on the Surface 2.  This can happen on any computer.  But I found that on the Surface 2 it happens quite often.  Go to an Amazon page, and you find that the picture of a product obscures the first 3 or 4 letters of the text all the way down the page.  No way to get around it.3.  When using an Ipad, whenever you tap into a box which requires typing text, the keyboard automatically appears.  Hit enter and the keyboard will politely disappear. But on the Surface 2, you have to tap on the keyboard icon to call it up.  Apparently the operating system is not bright enough to figure out you want to type when you place the cursor into a text box.  When you hit enter, it lingers on, and you have to hit the X to make it disappear.  Okay, you can live with this.  But here is where it gets bad.  The keyboard will actually hide the box you are trying to type into.  So you are forever trying to move boxes around to avoid the keyboard.  Very messy and unimpressive.4.  On the Surface 2, it seems that sometimes the operating system forgets that you are using your fingers to tape a link or menu.  So quite often you find you have actually tapped a neighboring menu...very frustrating.  The IOS system is designed to totally minimize this sort of thing.5.  Then there is the occasional erratic behavior.  Tap on a folder in favorite, and IE tries to open all 12 bookmarks in the folder.  This jams the Surface and it becomes unusable.6.  Since this just runs RT, and not standard Windows 8.1, why does it insist on having two versions of IE, 2 versions of OneNote, and 2 versions of Word.  One is in Metro (tileworld), and the other is on the desktop.  Open one, and it has no idea what you've done in the companion twin program.  For instance set up a bookmark in desktop IE, and metro IE has no idea you did that.  For whatever reason, the system set up 2 different tiles for OneNote.  The first is in perfect sync with desktop OneNote.  But the second tile acts as thought it is on a totally different computer and has no idea what you did in desktop OneNote.  This system often seems schizophrenic.  Desktop makes sense in standard windows. You can run dozens or hundreds of windows programs from Desktop. But in RT Windows 8.1, Desktope is so limited, with so few programs that work in it, you wonder why they didn't just go with tileworld.7.  The $129 keyboard seems rather flimsy.  Looks like it would tear apart after a few months use.I give the Surface 2 3 Stars because for some tasks it works okay, and it does run Office -- a big plus.  But many things, including basic web browsing experience, need improving.  I think most people who want to run on a Windows type platform would be better off with a small Windows laptop.  Or if you really want a tablet, I'd get the Ipad Air.One more thing I should add about Microsoft's return procedures.  I made the mistake of purchasing the Surface 2 directly from Microsoft's online site.  When it came to returning it, the procedure was something out of the paleozoic age.  You are directed to an outsourced staff in the Phillipines who are given very cumbersome procedures.  It takes about 30 minutes on the phone, then you have to wait a few days for a shipping label and they say about 2 weeks for a refund.  I told them they should take a look at Amazon where returns and shipping labels take 1 minute, and refunds are nearly instantaneous.  I like other Microsoft products (OneNote is superb), but I would never think of ever buying from their online store again.\", \"overall\": 3.0, \"summary\": \"Can't Understand Why People Rate it Highly\", \"unixReviewTime\": 1386806400, \"reviewTime\": \"12 12, 2013\"}\n",
      "reviews_047.json \t{\"reviewerID\": \"A1B4M1DDWYBVRY\", \"asin\": \"B00FF6J532\", \"reviewerName\": \"G. Engel\", \"helpful\": [8, 27], \"reviewText\": \"I bought the Surface 2 to do course work on line.  There is no written documentation that accompanies it so it's hard to get started because nothing about it's operating system is intuitive.  I managed to watch a couple of online videos to get started (on my Mac).  I found it difficult to navigate around the desktop none the less.  Yesterday, during an automatic update, one of many, the Surface crashed.  It gave me some kind of Internal Power Error message. It's completely frozen. I have been unable to figure out how to repair it.  So for now, it's a piece of electronic junk, expensive junk.  I'm going to have to take it to a Microsoft store to get it unstuck.  Talk about a big pain you know where!  Don't buy it.\", \"overall\": 1.0, \"summary\": \"Don't buy it.\", \"unixReviewTime\": 1387929600, \"reviewTime\": \"12 25, 2013\"}\n",
      "reviews_047.json \t{\"reviewerID\": \"A5JB5FUAJM8XR\", \"asin\": \"B00FF6J532\", \"reviewerName\": \"Gerhard Roux\", \"helpful\": [4, 4], \"reviewText\": \"I use this Surface 2 on an overhead projector for my university classes. It is infinitively more useful as a classroom tool than an iPad. Really glad I made the change.\", \"overall\": 5.0, \"summary\": \"Upgraded from an iPad and never looked back!\", \"unixReviewTime\": 1395014400, \"reviewTime\": \"03 17, 2014\"}\n",
      "reviews_047.json \t{\"reviewerID\": \"A3R9A26OXB9RR6\", \"asin\": \"B00FF6J532\", \"reviewerName\": \"Giada V. \\\"Giada\\\"\", \"helpful\": [0, 0], \"reviewText\": \"I just got it yesterday and so far it is great. I am really happy about the office word etc. is already to use,no paying extra for it\", \"overall\": 5.0, \"summary\": \"got here quick\", \"unixReviewTime\": 1389225600, \"reviewTime\": \"01 9, 2014\"}\n",
      "reviews_047.json \t{\"reviewerID\": \"A2AYZL1OXQYFE2\", \"asin\": \"B00FF6J532\", \"reviewerName\": \"GM\", \"helpful\": [2, 2], \"reviewText\": \"I have had my surface 2 for about a month now because I had to send the first one back to Microsoft because it was defective. Other than that, it is the best tablet i have used. Very versatile, intuitive, well made, but not the best quality control at Microsoft.\", \"overall\": 4.0, \"summary\": \"Great tablet if you get one that works\", \"unixReviewTime\": 1390176000, \"reviewTime\": \"01 20, 2014\"}\n",
      "reviews_047.json \t{\"reviewerID\": \"A2C66ZWC2V5FES\", \"asin\": \"B00FF6J532\", \"reviewerName\": \"Grace G\", \"helpful\": [4, 4], \"reviewText\": \"I bought this at the Microsoft store, and it was my best decision by far. I am a senior in university. I used the iPad2 and depended on Google Docs for my assignments. The surface 2 is packed with what an average students would need (Microsoft office, internet, kindle app, email, Netflix, Amazon app, and of course Facebook). I purchased the surface 2 clearly for being more productive, and it has shown. This is like a little stylish netbook but with the fun of your basic Microsoft office apps already installed (word, powerpoint, excel, one note, and outlook).There is NO trial version for Microsoft word, powerpoint, excel, one note or outlook. They are pre-installed and yours to keep.What I love about this is that it has win8. I am able to switch from the new tiles to the traditional desktop interface. Also Skydrive is very useful.  I can easily edit my documents, view pdf files and email documents. My Surface 2 came with the free 200GB Skydrive promo, and glad to say that I have only filled 2gb worth of docs!!The downside with any Microsoft tablet/phone is the app store. There isn't a lot of apps. Research the apps that you must have at the microsoft app store. Like I said, the apps I usually use (netflix, facebook, amazon) are already in the app store. There are some popular apps (google drive) that are not there. So research the apps before committing to the surface.Another important thing to note is that Microsoft actually pre-installs a lot of stuff making your 32gb down to 16gb.Honestly, I wished that this was made 5 years ago when I was about to purchase the ipad2. I would've bought the surface in a heartbeat because it is packed with the stuff average students would need.Please note: test drive the surface at a store before buying it!\", \"overall\": 4.0, \"summary\": \"Freedom never tasted so sweet\", \"unixReviewTime\": 1390435200, \"reviewTime\": \"01 23, 2014\"}\n",
      "reviews_047.json \t{\"reviewerID\": \"A3L718O4D850RP\", \"asin\": \"B00FF6J532\", \"reviewerName\": \"Grant Lankard\", \"helpful\": [2, 14], \"reviewText\": \"Way too difficult to use. Even simple tasks take 4 or 5 steps. Almost everyday I find something that I wish it did that it does not.Super frustrating.\", \"overall\": 1.0, \"summary\": \"Way to hard to use\", \"unixReviewTime\": 1391990400, \"reviewTime\": \"02 10, 2014\"}\n",
      "reviews_047.json \t{\"reviewerID\": \"A120BPRX233DLL\", \"asin\": \"B00FF6J532\", \"reviewerName\": \"Greg \\\"smitz0327\\\"\", \"helpful\": [1, 1], \"reviewText\": \"First off, my wife and I were surprised of how small this tablet is. It is not really a big tablet so I would recommend checking it out first at a store. After about a week, my wife started to really like it because of its size where you can bring it much anywhere. It does come with office excel and word which is all you really need if you are using it for personal or school use. Remember this does not come with a keyboard so be prepared to spend another 100 dollars for that.One thing I wish I would of done was do more research because the tablet is expensive especially with the keyboard. I did find an ASUS along with other Windows 8 tablets with keyboards and they were cheaper by a long shot. Also HP is coming out with a new Windows 8 tablet soon and I have always been a fan of HP.Nothing I can say about Windows 8 besides it is excellent. I have used iPads and apple products and I have to say soon, Microsoft will be taking a bigger chunk out of the market because this is much better than what Apple has to offer.I would of given it a 5 but the price is way to much for what you get in terms of memory and hard drive space. I really cannot mention hard drive because if you have a Windows email account, Sky drive is free and it stores everything off sight and is always available even if you don't have your computer. One final note, the web cam is very good and takes great video and photos.\", \"overall\": 4.0, \"summary\": \"Too Much Money!\", \"unixReviewTime\": 1384819200, \"reviewTime\": \"11 19, 2013\"}\n",
      "reviews_047.json \t{\"reviewerID\": \"A13ZUUYFOVOJAA\", \"asin\": \"B00FF6J532\", \"reviewerName\": \"henry bordelon\", \"helpful\": [1, 24], \"reviewText\": \"Did not run itunes and the return fee was too high and it was not progr capable thank you much\", \"overall\": 1.0, \"summary\": \"not what I expexted\", \"unixReviewTime\": 1390003200, \"reviewTime\": \"01 18, 2014\"}\n",
      "reviews_047.json \t{\"reviewerID\": \"A7L96GS2RNTCY\", \"asin\": \"B00FF6J532\", \"reviewerName\": \"Hike AZ\", \"helpful\": [0, 0], \"reviewText\": \"I have an iPad air provided for me by my company.  It works well for its intended purpose but it is not suited to my needs.  I love my Surface 2.  It comes complete with Microsoft Office and I use it daily.  It is light, reliable and has great battery life.  I liked it well enough that I purchased one for my wife.  I find the USB port and the micro SD slot to be a vast improvement over the limitations of my iPad.  The display is excellent and like the ability to run apps side by side.  The wedge mouse and the keyboard are great accessories for this product.\", \"overall\": 5.0, \"summary\": \"I love my Surface 2\", \"unixReviewTime\": 1405468800, \"reviewTime\": \"07 16, 2014\"}\n",
      "reviews_047.json \t{\"reviewerID\": \"A3PD4CSULDACRR\", \"asin\": \"B00FF6J532\", \"reviewerName\": \"Jacob\", \"helpful\": [8, 34], \"reviewText\": \"Amazon you suck. This should not be this expensive. Price is way too high. I can get this at Best Buy or Microsoft for $450. So much for a cyber Monday deal.\", \"overall\": 1.0, \"summary\": \"Price is too high.\", \"unixReviewTime\": 1385942400, \"reviewTime\": \"12 2, 2013\"}\n",
      "reviews_047.json \t{\"reviewerID\": \"A237P1PNDE6VHG\", \"asin\": \"B00FF6J532\", \"reviewerName\": \"James J. Berlier\", \"helpful\": [0, 0], \"reviewText\": \"I am unfamiliar with Windows 8 and still in the learning mode. Thus I find it more difficult to use than my laptop which has W 7.As I become more familiar I guess I will like it more. It seems some pages do not allow me to go back a page, trying to figure out how store favorites and recall them, and trying to add files to favorites.\", \"overall\": 3.0, \"summary\": \"My problem?\", \"unixReviewTime\": 1405123200, \"reviewTime\": \"07 12, 2014\"}\n",
      "reviews_047.json \t{\"reviewerID\": \"AD26HTHNSMF7K\", \"asin\": \"B00FF6J532\", \"reviewerName\": \"James W. Eggert\", \"helpful\": [3, 8], \"reviewText\": \"This was my second unit in less than one month. Microsoft has Major update and power on problems with the surface 2. There are work wronged for some the problems but not all. It has some nice features and size but not ready for prime time. Support on this product very poor. Stay away.\", \"overall\": 1.0, \"summary\": \"Not ready for market\", \"unixReviewTime\": 1392249600, \"reviewTime\": \"02 13, 2014\"}\n",
      "reviews_047.json \t{\"reviewerID\": \"A27SS44X6USVMN\", \"asin\": \"B00FF6J532\", \"reviewerName\": \"Janet C. Smith\", \"helpful\": [1, 2], \"reviewText\": \"i'm still learning this.  I like it better than android but the only thing i don't like about so far is that I can't download my own antivirus like norton.  Not compatible with any of the popular antivirus software.\", \"overall\": 3.0, \"summary\": \"microsoft surface 2\", \"unixReviewTime\": 1397260800, \"reviewTime\": \"04 12, 2014\"}\n",
      "reviews_047.json \t{\"reviewerID\": \"A3K5L3WYSWY8LO\", \"asin\": \"B00FF6J532\", \"reviewerName\": \"Janette H.\", \"helpful\": [2, 2], \"reviewText\": \"It's a great tablet, the battery life is amazing, and it's very easy to use. As a college student dealing with a lot of business, writing, and law classes here are my major pro's and consPros- Word/Excel/One Note work seamlessly- SkyDrive cloud storage makes it impossible to lose important notes or project info- Ereader app in windows store works perfect with .epub .mobi and .pdf so textbooks work fine- speakers give a nice clear sound for background music/netflix while relaxingCons- windows 8 RT keeps you from downloading apps/programs not from windows store, you have to use Internet Explorer which isn't compatible with my University's online system meaning I can't take quizzes or studied online powerpoints with my surface, also doesn't work with McGrawHill Connect so online homework has to be done on my laptopoverall, it was well worth the money. just make sure you research what you really want to use the surface for and consider getting the surface pro if you want a more notebook like tablet\", \"overall\": 4.0, \"summary\": \"Pros and Cons\", \"unixReviewTime\": 1393113600, \"reviewTime\": \"02 23, 2014\"}\n",
      "reviews_047.json \t{\"reviewerID\": \"A2I0IF9GTB9LD8\", \"asin\": \"B00FF6J532\", \"reviewerName\": \"JB\", \"helpful\": [1, 2], \"reviewText\": \"I'll keep my review short and sweet...We have an Ipad 4 and a Surface 2 (2.5 months now).  The only time I use the Ipad anymore is when the Surface 2 battery is dead.  The Ipad was fine, but now I know better.  The Surface 2 16:9 screen is wonderful.\", \"overall\": 5.0, \"summary\": \"Use it All the Time\", \"unixReviewTime\": 1391126400, \"reviewTime\": \"01 31, 2014\"}\n",
      "reviews_047.json \t{\"reviewerID\": \"A3804ZIFOTX9JZ\", \"asin\": \"B00FF6J532\", \"reviewerName\": \"J. Cavin\", \"helpful\": [8, 20], \"reviewText\": \"I have had some serious issues with my Surface 2. I was so pumped when it came out and bought one immediately to use for school work and writing papers. The Microsoft Office programs are perfect and make doing homework on the go a breeze. My biggest problem is that my Surface 2 will not hold a charge. I will charge it over night, unplug it the next morning and by the time I need to use it in the afternoon it is already dead. It is only left on standby during that period of time, so I cannot understand what is draining the battery. I've also had issues with it just crashing. There have been several times that I have gone to turn it on and it won't. It doesn't even give me the warning for the low battery. I get nothing, a dead black screen. The first couple of times it did this, I would hold the power button and the volume button and it would eventually reboot and power back on. However, this time it won't even do that. Now I've shelled out over $500 for a tablet that won't even power on. There are also very few apps that can be downloaded for this tablet. The Kindle app was okay, but lacking. I'm also not able to watch my videos on it from my Amazon cloud. The backing on the Surface is also very delicate. I carried it in my purse for the first week that I had it and my wallet  ended up scratching the heck out of the back of my Surface. I'm very disappointed with this tablet and will be returning it today, possible for the new Samsung 10.1 2014 edition or maybe even the iPad Air.\", \"overall\": 2.0, \"summary\": \"Disappointed\", \"unixReviewTime\": 1384473600, \"reviewTime\": \"11 15, 2013\"}\n",
      "reviews_047.json \t{\"reviewerID\": \"A1D0CX9OC7890\", \"asin\": \"B00FF6J532\", \"reviewerName\": \"Jeanne \\\"Jeanne\\\"\", \"helpful\": [0, 0], \"reviewText\": \"Bought this for my 26 yr old son for Xmas and he has nothing but praise for it.  He is amazed by how much he can do with it.\", \"overall\": 5.0, \"summary\": \"Surface 2\", \"unixReviewTime\": 1389139200, \"reviewTime\": \"01 8, 2014\"}\n",
      "reviews_047.json \t{\"reviewerID\": \"A1D8RJ3LH1ORAC\", \"asin\": \"B00FF6J532\", \"reviewerName\": \"Jeff Kennedy\", \"helpful\": [10, 17], \"reviewText\": \"Bought the big brand new 64 G Surface 2..plugged it in, charged it up, and it worked for an amazing 2 minutes before the screen goes blank and nothing works.  Period.  Won't turn on, won't make noise, buzzes a little when you hit the home button,but nothing but a blank screen.Side note; bought another one to replace it, and it just lasted about 3 weeks and guess what??  Blank screen, won't turn on, this time nothing.  Dead.Worthless.  I won't buy another Surface.  Microsoft support?  Ha.  Spent 45 minutes on hold only to get transferred to another agent, for another 35 minute hold.  Avoid Avoid Avoid.\", \"overall\": 1.0, \"summary\": \"Surface 2 won't turn on\", \"unixReviewTime\": 1390176000, \"reviewTime\": \"01 20, 2014\"}\n",
      "reviews_047.json \t{\"reviewerID\": \"A12GCNTWIVI0T8\", \"asin\": \"B00FF6J532\", \"reviewerName\": \"Jenny\", \"helpful\": [3, 27], \"reviewText\": \"So, I had a friend purchase this item for my wishlist and was so excited. Then I open it, only to find out that they sent me the Surface 1 RT. No I have to tell my friend he wasted his money. This has been so upsetting especially with so many positive reviews from this seller. Highly disappointing.\", \"overall\": 1.0, \"summary\": \"THEY SENT ME A SURFACE RT BUYER BEWARE!\", \"unixReviewTime\": 1386979200, \"reviewTime\": \"12 14, 2013\"}\n",
      "reviews_047.json \t{\"reviewerID\": \"A3QZSR9NZWDHME\", \"asin\": \"B00FF6J532\", \"reviewerName\": \"Jivtesh Singh\", \"helpful\": [1, 1], \"reviewText\": \"After using this Microsoft Tablet for a couple of weeks, I am completely convinced that this is the best tablet out there if you spend more than a couple of hours everyday in Microsoft Office. Sean Ong has a great review here on amazon showing the power of Surface 2, and I recommend watching it. Two freebies which stood out for me apart from the Window Stacking/Microsoft Office/Remote desktop capabilities are -One year of Skype Unlimited World subscription : Living in Australia, and making a lot of calls to US, I always bought this anyway. I used to pay $45 every quarter for unlimited calls to US &#8211; so that was immediately a saving of $180 for me.2 years of 200 GB free with SkyDrive : This means $200 of free storage for two years. After that I will have to either pay or download and dump it else where.  I currently have a Dropbox subscription, but its $199.20 per year. Skydrive is almost half the cost, so there is a big chance I&#8217;ll probably just end up using Skydrive storage.\", \"overall\": 5.0, \"summary\": \"Surface 2 is surprisingly good!\", \"unixReviewTime\": 1385424000, \"reviewTime\": \"11 26, 2013\"}\n",
      "reviews_047.json \t{\"reviewerID\": \"A3CUIBB7VFJ4FS\", \"asin\": \"B00FF6J532\", \"reviewerName\": \"JL\", \"helpful\": [449, 458], \"reviewText\": \"I heard a lot of lackluster reviews about the original Surface tablet but I heard that Microsoft fixed a lot of issues in the Surface 2 so I checked it out. I liked what I saw in the store demo so I bought it. After using it for 2 days solid, I can say that this is an excellent tablet and entirely underrated. I give it 4 1/2 stars overall.The good:1) Excellent look and feel. The frame is made of a beautiful alloy and it feels both strong and light. Unlike all the other tablets I've seen, this one is widescreen. This is great for media viewing, and provides a substantial and useful difference in viewing between portrait and landscape mode. The screen is full 1080p and everything looks super clear. Comparing it with the ipad, the ipad is sharper but not quite as clear. It kind of feels like with the ipad you are looking through thicker glass so it seems \\\"cloudier\\\" than the Surface 2, even though the iPad has higher resolution.2) Microsoft Office comes bundled FOR FREE. This is awesome. No other tablet has anything comparable. Fully functional versions of Excel, Word, Outlook, Powerpoint, and Onenote.3) A micro SD slot for expansion of primary storage. Up to 64gb additional storage. Ipads don't have this, and with androids some do and some don't. Very useful and welcome.4) A mini HD port, so you can output the display directly to a tv or monitor. You might need a mini HD to HDMI adapter, depending what you have on your bigger screen. This is awesome because you can play movies, show photos, etc directly to your tv from the tablet. Apple has airplay, which only works over wireless IF you have a $100 apple tv box, but the direct cable is better in my opinion because you never have network lag or loading issues, which I sometimes get on my apple tv. I think this also can do wireless streaming to a tv via an xbox but I don't have an xbox.This is also great because you can attach a type cover or keyboard and mouse, and connect this to a monitor, and use it like a full pc dual monitor system.5) Bluetooth support for keyboards and mice and other devices.6) The Surface has a built-in kickstand with 2 angles that makes viewing and using very convenient, especially when used with the touch or type covers or a usb keyboard.7) A fully functional USB 3.0 port. This is another HUGE advantage. If you need more storage you can connect a full hard drive and have all the storage you want (I connected a 1.5 Terabayte media drive to mine and transferred files using windows explorer). Also this makes it easy to transfer files to and from the device. I was always emailing or texting stuff to myself on my ipad because the ipad doesn't have a better way to do this.8) You can have 2 apps open on the screen at the same time, split with a vertical bar between them. You can change the size of the split to anywhere you want by dragging the divider left and right for 50/50, 80/20, 29/71, whatever breakdown you want.9) There are front and rear cameras. I think the front is 3.5 megapixels and the rear is 5.0. You can record video as well.10) Live tiles. This means that tiles are large enough to show useful information without opening the app. The weather app shows the current weather, the email app shows the latest email subject, the NFL app shows recent scores. These update in the background automatically.11) Gestures. Open by tapping, close by swiping down, go back to the main page by swiping in from the right, switch between open apps by swiping in from the left, and open split screen by swiping down and then to either side. I find them second nature after a couple hours.12) Battery life is fine. Over two days I used it about 10 hours before charging it at 12%, including about 4 hours of video streamed to the device. The charger is a cool magnetic clip.13) Handwriting recognition. This works with a stylus or your finger, and reads both block and cursive. I love this because I like to write out my onenote notes. Some people may not care about this but this is one of the Galaxy Note's key points and the Surface 2 can also do it.14) There is a desktop app that looks like the windows 7 desktop with a few basic things like control panel, windows explorer, ms office, etc.15) The type and touch covers are awesome, they are like 3mm thick and provide both a protective cover and a full keyboard and mousepad. The connector is a cool magnetic thing that can be pulled right off.Now for the not so good:1) This is not a full version of windows 8, so you can't install standard windows software on it. To do that, you need a Surface Pro. A lot of reviewers in the media made a big deal out of this, but it's not like you can install Photoshop on an ipad, or any other mac os software on the ipad. Android doesn't even have a desktop OS that I know of. So this to me isn't a big deal but be warned that you need to have Surface Pro to install standard windows software, and the pro costs about twice as much.2) The app selection is fairly limited. It's much better than it was 6 months ago when I first looked at the older surface but it still is noticeably behind Android and IOS. The difference is enough that it may be a dealbreaker for some people. I found most of the major apps I cared about but I don't use a whole lot of apps in general. Check out the app store online to see if you will be missing anything you use a lot, because that is super important. This alone may outweigh everything else if your favorite apps are missing.3) The type covers ($120), micro SD cards (up to $50 for 64gb), hdmi adapter ($10), stylus, and other add-ons are not free.4) If you hold the surface in portrait mode, it is possible to have your thumb bump the start button, which returns you to the tiles screen. After this happened twice, I got around the issue by rotating it 180degrees so the button was on the opposite side of my hand.5) The version with LTE connectivity (i.e. cell phone data) is slated to be available in Spring 2014. This doesn't bother me because that's not how I use this, but if you need a data connection everywhere, you might want to wait for the LTE version.EDIT:6) The operating system takes up more space than I originally realized, so you don't get the full 32 GB of built in storage. It's more like 20 GB. I looked up the iPad and IOS uses about 2.5 GB of space. I take off half a star, but a) you still get more than 16 on the base model and B) the micro SD slot mitigates this somewhat. Still, it feels a little deceptive since the OS is big.Check if the apps you want are available or coming soon, and if you need cell data wait for the LTE version, but in every other way this is an excellent tablet with a lot of advantages.\", \"overall\": 5.0, \"summary\": \"Surprisingly excellent tablet\", \"unixReviewTime\": 1382745600, \"reviewTime\": \"10 26, 2013\"}\n",
      "reviews_047.json \t{\"reviewerID\": \"A3I7LU6QVAIXKV\", \"asin\": \"B00FF6J532\", \"reviewerName\": \"Jon H.\", \"helpful\": [3, 3], \"reviewText\": \"After several weeks of usagePros:Very lightSleek, smooth, comfortable feeling.Dual position kickstand is something that you'll see nowhere else in the tablet worldBattery Life is stupidly long, you could go a couple daysCopy of 2013 office included, 200 GB cloud storage and Skype unlimitedOn screen keyboard is very nice to use, even has a hand writing mode built inBeautiful display, I haven't seen anything like itBluetooth capabilitiesCtrl button on the keyboard, every possible ctrl + key option availableSD and USB 3.0 ports, I haven't heard of another tablet with a USB port.Cons:Advertised at 32 GB, they do state it's actual usable memory at 22 GB but it's about 20 after updates.If there's a game or program you want that's not in the app store or already included, you're screwed.Keyboards from Microsoft are absurdly price, buy one from another company. Moko is nice.Microsoft decided to design this tablet with the stupidest charger they could, the most unavailable charge there is.UPDATE: I lowered my rating because of the ridiculous charger.Overall, I would definitely recommend this, but if you can, 64 GB or the pro version\", \"overall\": 3.0, \"summary\": \"It''s good\", \"unixReviewTime\": 1392681600, \"reviewTime\": \"02 18, 2014\"}\n",
      "reviews_047.json \t{\"reviewerID\": \"ATHHS4E5C8P2W\", \"asin\": \"B00FF6J532\", \"reviewerName\": \"Josephine Ruiz\", \"helpful\": [0, 0], \"reviewText\": \"I chose the Surface 2 because it had Windows Office and a battery life of up to 10 hours, my granddaughter loved it!\", \"overall\": 5.0, \"summary\": \"MEETS ALL EXPECTATIONS\", \"unixReviewTime\": 1403481600, \"reviewTime\": \"06 23, 2014\"}\n",
      "reviews_047.json \t{\"reviewerID\": \"A1H84VWK88Q2R9\", \"asin\": \"B00FF6J532\", \"reviewerName\": \"JP\", \"helpful\": [35, 40], \"reviewText\": \"I purchased this tablet b/c I was frustrated with the way Apple products I owned controlled me and my files.  Surface works on everything that frustrated me about the Apple products I owned (ipad, iphones, etc).  For example, I have more freedom in saving files, emailing files, viewing files, plugging in various USB devices, and using the tablet for work/play.At first Windows 8 is intimidating because it is new; however, it was easy to learn and isn't much different than previous versions of windows if you prefer the desktop view over tiles.I also purchased the type cover 2 keyboard.  It works extremely well and I have had no issues yet.\", \"overall\": 5.0, \"summary\": \"Better than Apple Products\", \"unixReviewTime\": 1383868800, \"reviewTime\": \"11 8, 2013\"}\n",
      "reviews_047.json \t{\"reviewerID\": \"A1QW4Z6OEQLXEA\", \"asin\": \"B00FF6J532\", \"reviewerName\": \"JT\", \"helpful\": [17, 17], \"reviewText\": \"When I finally got a desktop for serious work and decided to replace my monolithic beast of a laptop with something a bit lighter, I was in luck as the iPad Air and Surface 2 had just been released. What to do? Well, when it came down to it, I got sucked in by the nice keyboard covers and multitasking of the Surface 2, so I grudgingly shelled out the cash for the Surface, hoping I wouldn't regret it and want the iPad later. Turns out, I can honestly say I have no desire to switch. This tablet is good. Actually, it's REALLY good.First, the build quality is sublime. The finish is positively fondle-able. Yes, I invented a term just to describe it. The sintered magnesium allow has a wonderful Macbook-trackpad-like feel, and the fabric and soft plastic that covers the Type cover also has a luxurious feel. The kickstand pops out with a lovely car-door feel, and so far, I have had no problems with it staying in position. Speaking of the keyboard cover, the magnetic attachment is really solid-- in fact, you can easily hang the tablet from it. The bezel is just the right width to allow your thumbs to rest without interfering with the touchscreen as well, an the smooth edge-to-edge glass feels great.Now, I'll say that the interface takes a little getting used to, but once you do it's quite fast and fluid, whether you're changing settings, switching between apps, or snapping two apps beside each other. That brings me to my favorite feature on Windows 8.1 RT: Multitasking. I have no idea how people on iOS and Android live without this on a tablet, but I'm glad I don't. It's incredibly nice to have your email open right next to Facebook, or your browser right next to MS Word. It just makes things so much faster and more fluid. That being said, not all apps seem to take kindly to this yet, and it takes a little while to get a feel for the maximum amount you can change the proportion between apps before one of the leaves the screen by accident. Switching between different apps and workspaces (panes of two or more apps) is pretty fluid, but I wish that the response time to edge gestures was a little better--a minor complaint.Battery life is a bit tricky. I've heard reviews state as little as 5 hours for moderate usage, and as much as 14 hours for playing video. That being said, in my personal experience I've gotten 13-14 hours of moderate usage out of mine without any trouble. If you're planning on keeping the brightness at 100%, or watching back to back movies, I can't really say what your experience will be like. For me, well let's just say I could have kept the charger at home.As far as peripherals go and ports go, the Surface 2 turned out to be quite good, and better than anything else I tried out. The micro SD slot is very handy, and adds up to an extra 64GB of storage (for only about 50 dollars, if you get one of the better micro SD cards on amazon. The full sized USB 3.0 port is also a welcome addition, although I haven't used it a lot yet. Also, the headphone jack is quite powerful, easily powering my 300ohm headphones at full volume. I haven't yet had occasion to try the video out port, so I can't really comment on that.This brings us to my favorite hardware feature of the Surface 2: the Type Cover 2. Now, I realize this review is for the Surface 2 alone, but it's worth mentioning this, as it's an exclusive to the Surface, and I wouldn't own one without it. For the sake of brevity, I'll just say it rocks. I actually prefer it to my full sized Logitech keyboard because of the quick action and well proportioned key spacing. After a little bit of practice, you'll be typing as fast as on a real keyboard (probably because it is a real keyboard).Now, there are a few issues I've had with the tablet: First, I did once have to restart it after things started lagging pretty badly. It hasn't happened since, so I'm hoping it's fixed. Second, when I was Skyping on it for a number of hours (3-4), it became quite warm and began dimming the screen. I'll have to keep using it to determine whether it's a defect and I have to return it, a software issue, or just a one off. I'll update here when I find out. It's also just a tad slower at opening apps than I would like. And by a tad, I really mean a tad. This thing is very zippy in general. Lastly, the app store is not incredibly inviting at the moment. There are a lot of crap apps, and it's hard to sort the wheat from the chaff in the way they have it laid out now. It doesn't bother me much, as they still have pretty much anything I need, it just takes a little longer to find it. (And if you don't think Windows 8 has great apps, check out FL Studio--it's really a good example of a fantastic metro app.)All in all, I'm quite happy with my decision to go with the Surface 2 over the iPad Air. It fits my needs very well. It works great in your lap if you're sitting on a bus, on your desk if you're at work, or in your lap as a tablet at home. There are still a few rough edges (such as the quite bare app store) in Windows 8.1 RT, so I can't say it's a perfect experience, but at the same time it's something fairly paradigm breaking for tablets so I understand and accept it. Nothing I've found so far has been anything more than a minor annoyance. If there's one word I would use to describe it, it would be \\\"versatile.\\\" I find it odd that some reviews I've read take this as evidence of the Surface 2's schizophrenia--stuck between products so to speak. For a tablet that does everything that it does, as well as it does, it's a price I'll gladly pay.\", \"overall\": 4.0, \"summary\": \"Surprisingly, really good.\", \"unixReviewTime\": 1383782400, \"reviewTime\": \"11 7, 2013\"}\n",
      "reviews_047.json \t{\"reviewerID\": \"A3DHA1V7QQO2RD\", \"asin\": \"B00FF6J532\", \"reviewerName\": \"Juan V.\", \"helpful\": [0, 0], \"reviewText\": \"I love this surface. I just wish they would have offered insurance for purchase as I dropped mine and don't have it anymore. :o(\", \"overall\": 5.0, \"summary\": \"Surface\", \"unixReviewTime\": 1401926400, \"reviewTime\": \"06 5, 2014\"}\n",
      "reviews_047.json \t{\"reviewerID\": \"A1B94ODJ22T38Z\", \"asin\": \"B00FF6J532\", \"reviewerName\": \"Judy\", \"helpful\": [0, 0], \"reviewText\": \"This tablet is awesome. Processor is fast. It is easy to use. It is very light weight. I can take it with me anywhere and use.\", \"overall\": 5.0, \"summary\": \"Surface2\", \"unixReviewTime\": 1389398400, \"reviewTime\": \"01 11, 2014\"}\n",
      "reviews_047.json \t{\"reviewerID\": \"A33NVTCOXHUGNJ\", \"asin\": \"B00FF6J532\", \"reviewerName\": \"Judy Rubin\", \"helpful\": [3, 6], \"reviewText\": \"In the six months I have owned this tablet I've had a total of 40 minutes' use of it. I bought it to use while travelling on business so I wouldn't have to lug my laptop around with me. It has never worked for what I needed it for. The first time I tried to turn it on after bringing it home, it wouldn't go on. I brought it back, and the store gave me a new one. A week later, again it wouldn't go on; I brought it in again, and this time the sales person was able to get it working, but while I was waiting someone else came in with the same problem. The first time I took it on a business trip, I tried to turn it on and I got an error message saying it needed a recovery code. A couple of times I've used it for 20 minutes, but was unable to open attachments in either Word or Excel, though the tablet is supposed to have the complete programs for both. All told, I've spent four hours getting help at the store and five hours on the phone with Microsoft technical support, and they've never solved my connectivity problem or my attachments problem. The people at the store where I bought it said I have to download a whole new operating system as well as 17 other upgrades. Only problem is, my machine can't find the upgrades in my house, because it can't connect to my network (even though it's in the same room with my computer, which connects just fine). I'd like to trash the machine, but it cost too much and they won't give me my money back, even though I have an extended warranty--they'll just give me another one, and I don't want the headache. It's already drained 15 hours of my time that I'd much rather have spent on other things. It's full of great ideas, and the graphics are beautiful, but in its current incarnation it just doesn't work.\", \"overall\": 1.0, \"summary\": \"Don't buy a Surface 2!\", \"unixReviewTime\": 1400371200, \"reviewTime\": \"05 18, 2014\"}\n",
      "reviews_047.json \t{\"reviewerID\": \"A45CEAVSSB1WY\", \"asin\": \"B00FF6J532\", \"reviewerName\": \"Jung Park\", \"helpful\": [151, 164], \"reviewText\": \"I was struggling between Surface 2 and Surface Pro 2 and finally pulled the trigger on Surface 2. My initial reason for choosing the Surface 2 was price. I knew I wanted a Windows device but paying north of $1,200 for Surface 2 Pro with 128GB and keyboard was too risky. What if didn't like it? What if it ended up collecting dust?For my needs, Surface 2 is perfect. This device comes preinstalled with a \\\"touch enabled\\\" Microsoft Office which includes Outlook. Basically, all I was looking for was a tablet to check my email, do some word processing, edit spreadsheets, browse the web, and pay bills online.I've been using Kingsoft Office on my Nexus 7 and Galaxy Note 8.0 but the experience is nothing to write home about. With the Surface 2, I can now get some serious work done.Referring back to the title of this review, the reasons why Surface 2 is \\\"truly something else\\\" are as follows:1. The 10.6 inch screen is gorgeous. Also, one finger typing, with the onscreen keyboard in portrait mode, is rather good. This is a good thing because browsing the web just works better in portrait mode.2. Battery life is amazing. The Surface 2 out lasts my Nexus 7 (2012) with room to spare. I guess the whole point of putting Windows on an ARM device was power consumption. Intel is closing the gap but Surface Pro 2 is not going to give you 10 hours.3. Everyone knows Surface 2 comes with Windows RT. If you absolutely need to run x86 apps or have extra cash, you should buy the Pro. I just wanted to mention the positive for running Windows RT. You don't need to install antivirus software. The way I understand it, Windows RT works like iOS.4. Surface 2 is not a tablet. That is to say Surface 2 is not a toy. Maybe I'm too harsh in calling tablets mere toys. But the Surface 2 just feels different from all my android devices, my desktop and laptop computers. Let's just say I have the Surface 2 right by my side while working on my HP desktop or Dell laptop.Choosing a tablet is very much a personal taste. My wife would never buy a Surface 2 unless it has angry bird or candy crunch. I just had to write this review about the best thing since slice bread (at least for me).\", \"overall\": 5.0, \"summary\": \"Surface 2 is truly something else\", \"unixReviewTime\": 1383004800, \"reviewTime\": \"10 29, 2013\"}\n",
      "reviews_047.json \t{\"reviewerID\": \"A1XW9UXWGUI5TR\", \"asin\": \"B00FF6J532\", \"reviewerName\": \"jwroc\", \"helpful\": [1, 3], \"reviewText\": \"windows 8.1 r....doesn't run other programs already on desktop pc...lousy apps for the tablet (chess/bridge/Sudoku very poor vs ipad..sent it back\", \"overall\": 2.0, \"summary\": \"good machine...wrong operating system\", \"unixReviewTime\": 1390694400, \"reviewTime\": \"01 26, 2014\"}\n",
      "reviews_047.json \t{\"reviewerID\": \"AXK51OJ1LSIUA\", \"asin\": \"B00FF6J532\", \"reviewerName\": \"Kamal \\\"kamal k\\\"\", \"helpful\": [0, 0], \"reviewText\": \"I sold my iPad mini and bought a Surface 2 and I love it. I don't miss my iPad at all. Surface is just a lot better.\", \"overall\": 5.0, \"summary\": \"Sold my iPad for a Surface\", \"unixReviewTime\": 1405296000, \"reviewTime\": \"07 14, 2014\"}\n",
      "reviews_047.json \t{\"reviewerID\": \"A1UCVAD1HNT3BW\", \"asin\": \"B00FF6J532\", \"reviewerName\": \"Kasey Chelemedos\", \"helpful\": [2, 3], \"reviewText\": \"Best tablet I've used! The programs run great and is easy to use! Having the option between a typical Microsoft desktop interface or the new windows is awesome, you can even use both side by side! I use that feature often! I definitely recommend the surface 2 keyboard! The keys feel like real buttons without the bulk! I couldn't imagine not having my surface 2!The only negative is you can't use the surface pro pen, only a stylus design.\", \"overall\": 5.0, \"summary\": \"AWESOME!\", \"unixReviewTime\": 1389744000, \"reviewTime\": \"01 15, 2014\"}\n",
      "reviews_047.json \t{\"reviewerID\": \"A2NGF4XVGPJVHF\", \"asin\": \"B00FF6J532\", \"reviewerName\": \"Kathy Buri\", \"helpful\": [0, 0], \"reviewText\": \"I love it. Although Im still learning how to use it and all the apps that were included. I am sure it will only get better.\", \"overall\": 5.0, \"summary\": \"Surface 2 Magnesium\", \"unixReviewTime\": 1388966400, \"reviewTime\": \"01 6, 2014\"}\n",
      "reviews_047.json \t{\"reviewerID\": \"A1YV4M4UD2DFML\", \"asin\": \"B00FF6J532\", \"reviewerName\": \"Kay Cunningham\", \"helpful\": [1, 2], \"reviewText\": \"This is an amazing tablet...does anything I want or need, even on the job.  I really like it and highly recommend it.\", \"overall\": 5.0, \"summary\": \"Great buy!\", \"unixReviewTime\": 1391731200, \"reviewTime\": \"02 7, 2014\"}\n",
      "reviews_047.json \t{\"reviewerID\": \"A20RZA1AV2K6VM\", \"asin\": \"B00FF6J532\", \"reviewerName\": \"Keith R. Cole\", \"helpful\": [19, 22], \"reviewText\": \"I bought one of these from my local Best Buy.  I did own the first Surface RT and will say that this one is a definate improvement.  From them adding another angle to the kickstand to the movement of the SD card reader to a more logical place to the new screen this tablet screams premium experience.  I truely use this more than I use my laptop now and I used to use that for all my business.  Now I can use this small little tablet to do all my office work.  All I can say is don't be a iSheep or a fandroid or whatever and give this little tablet a try.  You might like it.\", \"overall\": 5.0, \"summary\": \"It is worth a shot, Trust me!\", \"unixReviewTime\": 1385424000, \"reviewTime\": \"11 26, 2013\"}\n",
      "reviews_047.json \t{\"reviewerID\": \"A10JF46ZAUQYYW\", \"asin\": \"B00FF6J532\", \"reviewerName\": \"ken falls\", \"helpful\": [2, 2], \"reviewText\": \"I would have given it 5stars but after a month I still haven't figured Windows 8.1 out completelyI do like 8.1 - it just takes some getting use to. Bought the keyboard - love it.\", \"overall\": 4.0, \"summary\": \"great product\", \"unixReviewTime\": 1387670400, \"reviewTime\": \"12 22, 2013\"}\n",
      "reviews_047.json \t{\"reviewerID\": \"AY1NZPQXQ9Z0G\", \"asin\": \"B00FF6J532\", \"reviewerName\": \"K\", \"helpful\": [1, 3], \"reviewText\": \"Purchased Surface 2 in Nov 2013.  Problems from start to power and unsteady screen illumination at low intensity. Despite problems decided not to make a warranty claim.  Now  battery will not recharge.  MSFT store says that only option is to send device away and wait for a replacement.  Local store says this despite fact that they have inventory of new devices.  My guess is that they want to give me a refurbished version.  And it will take up to 14 DAYS!!! Terrible devices.  Terrible customer service.  Minimal apps.\", \"overall\": 1.0, \"summary\": \"Poor product; poor customer service\", \"unixReviewTime\": 1404345600, \"reviewTime\": \"07 3, 2014\"}\n",
      "reviews_047.json \t{\"reviewerID\": \"A3VBIMZZPKU853\", \"asin\": \"B00FF6J532\", \"reviewerName\": \"Kindle \\\"As you may be able to tell from the f...\", \"helpful\": [7, 26], \"reviewText\": \"Sorry, this is not an actual review of the Surface 2.  I have not purchased this device.  This is a review of this web page.  Microsoft's full retail price for this device is $449.  Amazon seems to be offering it for $488 - with an entirely fictional retail price of $800.  You get to save a fictional $312 by purchasing it from them.  That's a crock of stuff.  Amazon needs to correct this page.\", \"overall\": 1.0, \"summary\": \"Advertised price is a crock\", \"unixReviewTime\": 1391126400, \"reviewTime\": \"01 31, 2014\"}\n",
      "reviews_047.json \t{\"reviewerID\": \"A1CO082ZAMEYYZ\", \"asin\": \"B00FF6J532\", \"reviewerName\": \"lala\", \"helpful\": [1, 11], \"reviewText\": \"The reason I am giving this device such a low score in this review, is based off one of the most simple concepts that I would think a reputable company would have mastered by now!!!The CHARGING mechanism/cord/plug does not work after 3 short weeks of ownership! the light does not come on to indicate charger is plugged in nor does it charge the device.  What is the use of having a useful tablet on hand at all time, anywhere........if it will never, ever charge?  Microsoft is doing something about it, but boy was it hard thing to get to get a new charger?! What if that isn't the prob?then what? Aghhhh!The screen has also become non responsive to TOUCH at times? Weird, huh?This is not what I imagined buying a Microsoft product. (current iPad owner, that charges, all the time, 3 years later)Plain disappointment. Sad face.*******UPDATE: MICROSOFT HAS SENT A NEW CHARGING MECHANISM/CORD. TABLET IS WORKING PERFECTLY, CHARGING PERFECTLY. Yes! So happy now!SO AS MY REVIEW FOR ACTUAL PRODUCT IS 5 STARS, THE COMPANY I PURCHASED IT FROM WAS NOT AS HIGH SCORING.  YES, THEY WERE GOING TO ACCEPT IT BACK, BUT I HAD TO PAY.? For a damaged product, and never did that company suggest anything like the tech support of Microsoft.Sooooooooo.......In conclusion, BUY THIS PRODUCT DIRECTLY THRU MICROSOFT, UNLESS YOU DONT MIND JUMPING THRU HOOPS FOR A \\\"cheaper\\\" priced item!\", \"overall\": 5.0, \"summary\": \"What a bummer! Experience with Touch has been a huge disappointment! Charging issues....can't use if it won't charge...right?\", \"unixReviewTime\": 1389916800, \"reviewTime\": \"01 17, 2014\"}\n",
      "reviews_047.json \t{\"reviewerID\": \"A2VLYI85SVB4I3\", \"asin\": \"B00FF6J532\", \"reviewerName\": \"Lally \\\"Lally\\\"\", \"helpful\": [0, 0], \"reviewText\": \"I had decided to purchase this at the last minute for a Christmas gift.  It was exactly as described and shipped in 2 days so it did arrive before Christmas.  I purchased this for my husband.  He lives and dies by Outlook, so I needed a tablet that would do that.  He is having to learn Windows 8, so that is a bit of a challenge.  He loves the size and weight of the tablet.  Still exploring what it can do.  Love that it has the USB port unlike the ipad.  As most people know, the ipad has more apps, but since he is not a &#34;gamer&#34; or into apps, it is not a problem.\", \"overall\": 5.0, \"summary\": \"Surface 2\", \"unixReviewTime\": 1388707200, \"reviewTime\": \"01 3, 2014\"}\n",
      "reviews_047.json \t{\"reviewerID\": \"AH1XMYY6VUK9J\", \"asin\": \"B00FF6J532\", \"reviewerName\": \"Lasca Bird\", \"helpful\": [1, 1], \"reviewText\": \"First off, I want to start with saying I really do love my Surface.  The camera works well, I like being able to split the screen.  I like everything!  I just don't like the lack of apps.  The apps that Windows does have are more expensive than with Apple or Android.Other than that, like I said, I love it!  I use for recreational use as well as for work.\", \"overall\": 4.0, \"summary\": \"Windows 8. 'Nuff said.\", \"unixReviewTime\": 1394496000, \"reviewTime\": \"03 11, 2014\"}\n",
      "reviews_047.json \t{\"reviewerID\": \"A3MG02QWWCB953\", \"asin\": \"B00FF6J532\", \"reviewerName\": \"Linda \\\"Overspends\\\"\", \"helpful\": [4, 5], \"reviewText\": \"Having read all of the other review for the Surface 2 here, be forewarned that I'm just a user, not an expert.  I have not owned any previous tablets so the Surface is my first. I have played a little with my kids' iPads but know little of what they can do.  Those are the caveats.I chose the Surface because I wanted a work machine, not a toy. I'm used to a laptop but wanted to try something with the functionality of a laptop and convenience and \\\"fun\\\" of a tablet.  The type keyboard, Office Suite and full USB port were the main attractions. I don't use many apps on my phone and wasn't that interested in apps.I've now had the Surface 2 about 2 weeks.  I had no problem setting it up with my favorite tiles in the start window and immediately getting to work with Word, Excel and Powerpoint.  I can search the web fairly easily. Most of the software problems I face are probably inexperience more than structural: learning to cut and paste, navigating easily between windows, and so on. I have not managed to network the Surface with my desktop yet though I've tried a couple times.  Again, could be ignorance.  Closing windows is not intuitive, something I need to do since I have rural (slow) internet.I do love the double screen, the beautiful pictures and camera quality, the double kickstand that works great on my lap and the light-up type keyboard.What has frustrated me are two instances so far when the tablet would not work for me.  The first time, it wouldn't turn on and it took a good deal of searching and finally connection with support (Twitter support is what worked for me) to learn how to reset it (hold power button down 10 seconds, release and wait 10 more seconds, then press it once). The second frustration was today.  For some reason mysterious to me, the computer insisted upon a recovery key, something I had to get from another computer since I couldn't get into the tablet.  I finally succeeded in getting the key, but it was forty-eight (yes, 48) digits long and I had to retype it ever so carefully into the tablet.  Afterwards, it worked fine however.My other frustrations are the inability of Windows 8.1 to interact with some websites I use regularly.  One of those is blogger or blogspot.  I can read blogs but cannot log in to work with my blogs.  It does not support this version.  Hopefully that will change. Another is one of the few games I do like, Ticket to Ride.  Also unavailable for Windows 8.1.If the glitches stop, I'll be a happy customer. I'm still learning how to use it and realize that's part of my problem. My two cents is for others like me who want to use it but aren't experts.\", \"overall\": 4.0, \"summary\": \"Good Work Machine with a Few Frustrations\", \"unixReviewTime\": 1383696000, \"reviewTime\": \"11 6, 2013\"}\n",
      "reviews_047.json \t{\"reviewerID\": \"A3STBRA374VBQX\", \"asin\": \"B00FF6J532\", \"reviewerName\": \"L. Loftus-Klontz\", \"helpful\": [0, 0], \"reviewText\": \"The Surface 2 was my Christmas present from my husband. It goes everywhere with me. Poor laptop is left behind now.\", \"overall\": 5.0, \"summary\": \"So useful!\", \"unixReviewTime\": 1391040000, \"reviewTime\": \"01 30, 2014\"}\n",
      "reviews_047.json \t{\"reviewerID\": \"A1J246F17SBEL4\", \"asin\": \"B00FF6J532\", \"reviewerName\": \"Luis\", \"helpful\": [1, 1], \"reviewText\": \"I ordered my tablet and it should be arriving soon, I will update this review after I receive it. I just wanted to post this because of how I purchased it. I also had to order this device from another website because it is too expensive on here. I suggest that many do the same by using \\\"in stock trackers\\\" they are websites that notify you when any reliable site (best buy, amazon, etc) has the item you want in stock (online only). If you google those words you'll find some, I won't post the one I used since I don't want to advertise and don't know if that's even allowed. Just a suggestion, especially after I see that some people are actually paying the ridiculously marked up price on here. I'll update this review and let everyone know how I like the product after I receive it. I have used it at a Microsoft store in a mall near by (multiple times) and I loved it which is why I was so impatient to get it, I was most impressed by the build quality and how fast and responsive it was. I used both the touch and type cover with it and as you can imagine the type cover is much better but the touch cover was also great (not what I expected at all). I would actually consider the touch cover if it were significantly cheaper than the type, but since It's only a 10 dollar difference, I'd go with the type cover.\", \"overall\": 5.0, \"summary\": \"Great device, but too expensive on amazon\", \"unixReviewTime\": 1387238400, \"reviewTime\": \"12 17, 2013\"}\n",
      "reviews_047.json \t{\"reviewerID\": \"A13AYJM90DQE5U\", \"asin\": \"B00FF6J532\", \"reviewerName\": \"m425 \\\"Lanney\\\"\", \"helpful\": [0, 1], \"reviewText\": \"This thing really sucks,  won't start up, won't shut down, I always have to go through a system restore, it's just a piece of crap!\", \"overall\": 1.0, \"summary\": \"This thing really sucks, won't start up\", \"unixReviewTime\": 1404864000, \"reviewTime\": \"07 9, 2014\"}\n",
      "reviews_047.json \t{\"reviewerID\": \"A37EBNPG1PDSY5\", \"asin\": \"B00FF6J532\", \"reviewerName\": \"Mamun Rahman\", \"helpful\": [8, 9], \"reviewText\": \"I was really surprised about all the \\\"not so great\\\" reviews the Surface 2 got, so I had to put my 2 cents in. This is a great tablet with all the bells and whistle plus a full sized USB 3.0 port and a micro sd card slot. That is a huge plus in my book. I connected my 1tb portable hard drive and space became unlimited. You can buy a USB hub and add as many ports you want. Microsoft included loads of drivers, so it can support almost any device that is connected to the USB port. The design is very stylish and doesn't feel like a cheap plastic tablet. It also has micro HDMI connection. Seems like a lot of people complain about how can't run exe application on it, if you want that go buy a freaking laptop and stop crying. This is a tablet and it is meant to run apps designed for tablets. That being said Microsoft needs to add more apps to their collection and lower the price for the paid apps. Connect a wireless keyboard and a mouse, and you can use it like a PC since it has file explorer, full version of IE 11(as well as the metro version) with flash support, Free copy of Microsoft Office. You can use the Internet Explorer just like you'd use it on your pc( that means all the online apps, games, video sites etc). Transferrig files is a breeze with this thing. Buy one, try it out for 14 days, thanks to Best Buys return policy and if you are not happy next best thing is an IPAD, which will cost you $499+tax for 16gb and minus all the ports but at least you will have millions of Apps and Itunes.\", \"overall\": 5.0, \"summary\": \"Microsoft Surface 2 32GB\", \"unixReviewTime\": 1383091200, \"reviewTime\": \"10 30, 2013\"}\n",
      "reviews_047.json \t{\"reviewerID\": \"A3JKG3DOJ4NFUX\", \"asin\": \"B00FF6J532\", \"reviewerName\": \"marilyn\", \"helpful\": [0, 1], \"reviewText\": \"my son is in 8 th grade and he loves it for school. it is easy to carry around in his backpack.\", \"overall\": 5.0, \"summary\": \"very happy\", \"unixReviewTime\": 1390348800, \"reviewTime\": \"01 22, 2014\"}\n",
      "reviews_047.json \t{\"reviewerID\": \"AQDWO9XC5J7IU\", \"asin\": \"B00FF6J532\", \"reviewerName\": \"Martin B. Haub \\\"mbhaub2\\\"\", \"helpful\": [7, 8], \"reviewText\": \"Bashing Microsoft and the Windows RT tablet seems to be a popular theme on the web. What a mistake to take them seriously! I've had my Surface 2 just a few days and it's a great, great machine.Setup was amazingly simple: just enter my Hotmail account info and everything else was done for me. Using SkyDrive with my Win 8 desktop is seamless. The Surface 2 even found my HP wireless printer and configured it for use.The display on the S2 is brilliant - high rez, easy to read, brilliant colors. The Type Cover took getting used to since it's small, but now it's second nature.The ability to have two windows open simultaneously is a real plus; sorry iPad users - you can't do that. Surface 2 is fast and easy to use. I've used it watch Netflix videos and then using an optional cable connect it to a wall mounted HDTV that doesn't have internet built in.Having Office on the Surface (and it's free) is a real genuine plus. I don't play games so I couldn't care less about Candy Crush or whatever it is. I do use I(heart)Radio and it works just fine.Microsoft has a real winner here. I just hope they continue to support it and that people realize that there's more to a tablet than iOS or Android. My hope is that Microsoft realizes how cool this device is and port over Microsoft Mathematics and Small Basic to it - the educational possibilities are endless.\", \"overall\": 5.0, \"summary\": \"Superb Tablet\", \"unixReviewTime\": 1383696000, \"reviewTime\": \"11 6, 2013\"}\n",
      "reviews_047.json \t{\"reviewerID\": \"A2X99TVI7J2HXQ\", \"asin\": \"B00FF6J532\", \"reviewerName\": \"MaryAnn Sieber\", \"helpful\": [1, 3], \"reviewText\": \"App selection poor, both in choises and quality. Video/ pic unable to zoom in or out, picture quality also poor.\", \"overall\": 2.0, \"summary\": \"disappointed\", \"unixReviewTime\": 1398902400, \"reviewTime\": \"05 1, 2014\"}\n",
      "reviews_047.json \t{\"reviewerID\": \"A31EFSFKICIIWS\", \"asin\": \"B00FF6J532\", \"reviewerName\": \"Mary\", \"helpful\": [0, 17], \"reviewText\": \"After a few year of having Ipad, yes ofcourse eventually I got the ipad air but it died after 13 days, ( APPLE DOES NOT HAVE EXCUSE FOR A LEMON), and decided to try an other brand, so here I am, this Microsoft - Surface 2 with 32GB - Magnesium worked for 9 minutes and so far the screan definition was not great and the it died, no well, I have got a bad one and that's ok!, but I'm sorry just did not have time to order an other one..\", \"overall\": 1.0, \"summary\": \"Microsoft - Surface 2 with 32GB - Magnesium\", \"unixReviewTime\": 1392681600, \"reviewTime\": \"02 18, 2014\"}\n",
      "reviews_047.json \t{\"reviewerID\": \"A11XC7RLVM1ZBH\", \"asin\": \"B00FF6J532\", \"reviewerName\": \"Matthew D. Weidner \\\"weidnerlaw\\\"\", \"helpful\": [1, 12], \"reviewText\": \"I bought a Surface, dropped it from a very low height and it completely cracked....so first up, the product is very flimsily created...read all the other reviews on this subject area.  If you are not planning on sitting on a couch with this device or having it encased in a bulky protector....go with a more solidly created product. Next...ever since i cracked it days ago, I've been trying to speak with any person from Microsoft who could even tell me if it's possible to get it fixed.....It's been days and days and days and I cannot even get close to any communication from a human.  No phone. No email. No text.  The only support options are logging onto their website, but if you don't have account info, they will not let you through to get customer support.  And guess where my account info is?  IN THE DEVICE THAT IS BROKEN.  And so because my device is broken, i cannot get support to fix it.  See how that works?  So the product might be fine as long as it's not broken, but if it's broken, you get no service.  I've been on the phone for 40 minutes now...nothing.  I give companies like ASUS a lot of credit...they have live operators that immediately pick up the phone and help....not at all so with Microsoft...here i sit...on the phone...it will probably be days before the finally tell me, &#34;we're sorry sir, your device is broken and because it's broken, we cannot help you.&#34; Oh wait....here someone finally picked up....42 minutes later...\", \"overall\": 1.0, \"summary\": \"Microsoft Will NOT Support Their Products\", \"unixReviewTime\": 1392940800, \"reviewTime\": \"02 21, 2014\"}\n",
      "reviews_047.json \t{\"reviewerID\": \"A2YE9RERQN0J0A\", \"asin\": \"B00FF6J532\", \"reviewerName\": \"Matthew\", \"helpful\": [0, 1], \"reviewText\": \"Purchased from world-sellers via Amazon, and the machine will not power on.A complete waste of time. I don't understand why Amazon would allow a seller to screw a customer like this. I am now in the process of returning it, and trying again.\", \"overall\": 1.0, \"summary\": \"A machine from world-sellers that powers on would be great\", \"unixReviewTime\": 1405382400, \"reviewTime\": \"07 15, 2014\"}\n",
      "reviews_047.json \t{\"reviewerID\": \"AJEZIGGA5YH9M\", \"asin\": \"B00FF6J532\", \"reviewerName\": \"Matthew Therrien\", \"helpful\": [7, 8], \"reviewText\": \"So full disclosure - we are an Apple shop, although we deploy lots of android tablets as wellSo in no way can we be accused of being biased in favor of MicrosoftHaving said that we decided to test Surface 2 for enterprise deployment and we were and are blown away by it!No it doesn't run any x86 apps but it has all the apps we could need, it is blazing fast, beautiful build quality, hugely upgraded hi-res 1080p display, great battery life (better than our iPad 4s) and is a real productivity tool with free of charge Office with Outlook - and yeah, it plays games too :-)But just because we are evaluating the Surface from a business perspective, that doesn't mean that it isn't a great home device as well - because it is - Netflix looks superb - and so we have bought some for the home as well :-)Put any pre-conceptions to one side - and make sure to look at Surface 2\", \"overall\": 5.0, \"summary\": \"The Surface 2 Is Beatutiful, Blazing Fast and Enough Apps\", \"unixReviewTime\": 1383177600, \"reviewTime\": \"10 31, 2013\"}\n",
      "reviews_047.json \t{\"reviewerID\": \"AS3RQ4242POI2\", \"asin\": \"B00FF6J532\", \"reviewerName\": \"Megan\", \"helpful\": [3, 3], \"reviewText\": \"I really love this tablet. Here are some pros and cons I have found (I have had the Surface 2 for about a month):1. The touch screen is very responsive; better than some I have used.2. Windows 8.1 RT is easy to use and easy to personalize. I really like having the metro/tiles start screen as well as a traditional desktop (though I don&#8217;t use the traditional desktop much).3. Great for web surfing. If there isn&#8217;t an app for what I want to do, I just use the browser.4. Free Microsoft Office- the full version, no trial!5. Good hardware: lightweight, full USB port, rocker volume button and power button. The kickstand with two positions makes it comfortable to use while at a desk, on the lap, laying down, etc.6. The speakers and video quality are good. This would be good for games and movies, though I have really only used it with YouTube and some free games from the app store.7. I have a Canon printer and had no problems printing using the USB port. Wifi printing should also work fine.8. The battery is better than a traditional laptop. I can get easily 6 to 8 hours of use depending on screen brightness. Using it nonstop versus turning it on and off actually seems to prolong battery life, and it charges quickly.Cons:1. The on screen keyboard takes up a lot of the screen, but it is still usable. An external keyboard is great when typing long emails, papers, documents, etc.2. The charge cord is rather short, and the light doesn&#8217;t change between charging and fully charged, so I don&#8217;t know when it is done without turning on the tablet to check the battery level.3. The tablet is very rectangular. I don&#8217;t mind, but iPad users may have a problem with this. It looks great as a laptop with an external keyboard, though.Overall, my complaints are minor. I am a teacher and I LOVE this tablet for work but also for play. It does pretty much anything a laptop can do. I purchased the Type Cover 2 to go with this, and it is great. It has moving keys like a regular keyboard, the keys light up, plus it closes to protect your tablet screen. It makes this functional tablet that much more functional.\", \"overall\": 5.0, \"summary\": \"The Surface 2 is great for anyone who has a lot of work to do, but is also looking for a tablet to have fun with.\", \"unixReviewTime\": 1394409600, \"reviewTime\": \"03 10, 2014\"}\n",
      "reviews_047.json \t{\"reviewerID\": \"A1RCW6XVRIT1GF\", \"asin\": \"B00FF6J532\", \"reviewerName\": \"mello56 \\\"mello\\\"\", \"helpful\": [1, 1], \"reviewText\": \"I love the surface 2!!!!!  Received it as a Christmas present from the husband and haven't put it down since.  The only thing I hate is that it is limited on the games, such as candy crush, pet farm saga, and others that I got thru the google play store.  Is there another way to get these games that came from the google play store?\", \"overall\": 5.0, \"summary\": \"Love Surface 2\", \"unixReviewTime\": 1388707200, \"reviewTime\": \"01 3, 2014\"}\n",
      "reviews_047.json \t{\"reviewerID\": \"AR8TK531QJ4GP\", \"asin\": \"B00FF6J532\", \"reviewerName\": \"Michael_writes_mails \\\"Michael L\\\"\", \"helpful\": [3, 4], \"reviewText\": \"no regrets. have ipads at home but  the surface 2 does not need to hide.  clean interface, not cluttered like android devices and very easy to use. like the expansion via micro sd card and the usb 3 port, a very high quality tablet.\", \"overall\": 5.0, \"summary\": \"no regrets\", \"unixReviewTime\": 1395360000, \"reviewTime\": \"03 21, 2014\"}\n",
      "reviews_047.json \t{\"reviewerID\": \"A237TB0CH1DW4N\", \"asin\": \"B00FF6J532\", \"reviewerName\": \"Michelle B\", \"helpful\": [15, 24], \"reviewText\": \"It says 64GB but it's really only 32gb, be sure to read the &#34;fine&#34; print so you aren't surprised like we were. It's super slow. I would not recommend buying this item from this seller!\", \"overall\": 1.0, \"summary\": \"Beware of false title!\", \"unixReviewTime\": 1388102400, \"reviewTime\": \"12 27, 2013\"}\n",
      "reviews_047.json \t{\"reviewerID\": \"A24Q491MMB39JX\", \"asin\": \"B00FF6J532\", \"reviewerName\": \"mike faben\", \"helpful\": [8, 11], \"reviewText\": \"It went back to Microsoft for service due to screen freezing and not being operative. Still not working well. Customer service has not exactly been user friendly.\", \"overall\": 1.0, \"summary\": \"Surface 2.  Maybe look at another tablet first\", \"unixReviewTime\": 1391040000, \"reviewTime\": \"01 30, 2014\"}\n",
      "reviews_047.json \t{\"reviewerID\": \"A1UGLA2RT0YO49\", \"asin\": \"B00FF6J532\", \"reviewerName\": \"min2383\", \"helpful\": [1, 1], \"reviewText\": \"I purchased this tablet as a nursing student and also adding photos for real estate websites.  This is perfect!  Everything I do can be saved to SkyDrive which eliminates the need for excess memory.  I have uploaded a few games and apps, and have had no issues.  The functionality of word, PowerPoint, excel and one note have helped with my school work and not having to carry around tons of books!  The type keyboard is a must have to be able to use these programs.  Despite all the up and down reviews I read before purchasing, I have been pleasantly surprised.  So much more than a tablet!\", \"overall\": 5.0, \"summary\": \"Excellent tablet and more!\", \"unixReviewTime\": 1393545600, \"reviewTime\": \"02 28, 2014\"}\n",
      "reviews_047.json \t{\"reviewerID\": \"A10FD8EJ8CSJK0\", \"asin\": \"B00FF6J532\", \"reviewerName\": \"Miss Kate Beckett Parker \\\"RitaLee\\\"\", \"helpful\": [3, 6], \"reviewText\": \"Unless just want to enjoy your music and read documents (not all Kindle books!) and watch video files, do not purchase this! Unless you plan to just try it out and then return it for a full refund...right now the best thing about the Surface 2 that I have is that it has a nice large screen for reading articles and watching videos.Pros:Came installed with Office...and this appears to work as expectedNice large screenUSB input allows you to easily access stored files(Note that none of these above &#34;pros&#34; are UNavailable in other tablets...in other words, there's nothing unique here yet)Power seems to last well...but it could be because I do not use it very often.The Cons:Kindle for Windows 8 does not allow you to send personal documents  - if someone has found a way to do this, I would give this review another star.Kindle for Windows 8 does not open all books....what? (If you're expected to replace your tablet with a Surface, what happens to the books you suddenly cannot open...are you expected to just read them on a PC? How is that innovative? C'mon Microsoft....I am one of your biggest flagwavers...I hate Apple for their DRM...but you keep regressing with every other OS....!)Cannot install most software that can be downloaded and run on a PC...(not even a Windows 8 PC) so,,,why is Microsoft calling this a PC? (Again if someone has a way to do this, I will most definitely add a star!)There is no way to kill an app that appears to be stuck....this is an important feature that can be available in most Android tablets  (either with a built-in feature or from a free app in the Play store), so you are forced to shutdown and then restart....notice i said &#34;shut down&#34; first...there is no option to reboot...which all PCs have...so I ask again....why is Microsoft calling this a PC?Bing (sorry...but even Google tablets don't flaunt Google so much....this does not endear me to Bing....just makes me loathe it more) ...and I know it's not a real con...not til you try the maps anyway...which makes you long for Google maps...Compels you to sync your Skype account with a Microsoft account....what is that about? I do not like coercion in any way shape or form....do NOT try to tell me this is good for me...I was doing just fine logging into Skype the old-fashioned way.There is no &#34;one step back&#34; [button] if it's not available in the app, you have only the option to go to &#34;Home&#34; ...again...this is a feature most Android tablets have...Apparently you can install updates for only the app you want to install updates for, but you have to click to update all then select the ones you don't want to update (because it will take that much longer to get the one you really want updated) and click &#34;cancel update&#34; on those...I can probably find more cons...but mostly I have a general dislike for Microsoft building this thing and calling it a PC and a tablet, when every time I try to do something that was previously easy on a PC or a tablet I find some new thing to dislike....so...great job Microsoft...if you were trying to alienate your fans in a new way and chase them over to Apple or Android...\", \"overall\": 2.0, \"summary\": \"Surface pretends to be a tablet and a PC, but is really neither...stay very far away!\", \"unixReviewTime\": 1401494400, \"reviewTime\": \"05 31, 2014\"}\n",
      "reviews_047.json \t{\"reviewerID\": \"ABSC9KO2GXJUE\", \"asin\": \"B00FF6J532\", \"reviewerName\": \"MKap\", \"helpful\": [3, 3], \"reviewText\": \"I love my surface. I don't know where to begin. The beautiful hi-def screen , the highly responsive touch feature, the fluent windows 8 with it's many tiles. Microsoft has made computing fun and personal again. The applications are great and with windows cloud I will never have to fear losing important documents. OneNote is one of my favorite applications! And with this tablet I am able to split the screen so I can take notes on one side and read my textbook on the other side of the screen. One note allows you either draw or type what you want to record as notes. Office is good but it seems to me that office is more of a desktop application as it is incredible difficult to write term papers with the attachable keyboard. The keyboard is so sensitive that you will often find yourself fat fingering words. But office does levitate some of this problem with auto correct. Another problem is that my surface shut off in the second week and when I powered it on, it gave me s \\\"bitlocker\\\" code to enter. I have no idea what this, and Microsoft tech support is a nuance. Microsoft will have you log into your \\\"account\\\" rather then just hand you a phone number to get it fix. No easy solutions from Microsoft.I finally did get this fix , but only thanks to searching online for answers not because of Microsoft supportIn short, a great tablet but be scared if it breaks and you have to contact Microsoft support, (outsourced to India) be very afraid\", \"overall\": 4.0, \"summary\": \"love the surface- a review from a student\", \"unixReviewTime\": 1389571200, \"reviewTime\": \"01 13, 2014\"}\n",
      "reviews_047.json \t{\"reviewerID\": \"AO5LVU9PRRBRA\", \"asin\": \"B00FF6J532\", \"reviewerName\": \"Nancy Burnet\", \"helpful\": [0, 0], \"reviewText\": \"When you have an engineer as a husband, it becomes a challenge to buy him a gift he enjoys and he does love his new surface 2\", \"overall\": 5.0, \"summary\": \"Again a Xmas Gift for my diffult to buy for husband\", \"unixReviewTime\": 1390348800, \"reviewTime\": \"01 22, 2014\"}\n",
      "reviews_047.json \t{\"reviewerID\": \"AIJNEIBWTLT6E\", \"asin\": \"B00FF6J532\", \"reviewerName\": \"Neil D. Mclaughlin\", \"helpful\": [1, 5], \"reviewText\": \"It's like a giant smart phone that can't make calls. I like that the hardware meets the laptop and cell phone half way. I don't like that the software meets Windows 7 and DOS half way. It's like Windows '94.\", \"overall\": 3.0, \"summary\": \"Bought one because I had to\", \"unixReviewTime\": 1391212800, \"reviewTime\": \"02 1, 2014\"}\n",
      "reviews_047.json \t{\"reviewerID\": \"A1DKSQPY8LWP16\", \"asin\": \"B00FF6J532\", \"reviewerName\": \"Nevil Robson\", \"helpful\": [1, 1], \"reviewText\": \"Great device used by my students at school and they love it. Great educational opportunities with office included. Would buy another .\", \"overall\": 5.0, \"summary\": \"Surface 2\", \"unixReviewTime\": 1397088000, \"reviewTime\": \"04 10, 2014\"}\n",
      "reviews_047.json \t{\"reviewerID\": \"A4Z7T58VKMSZN\", \"asin\": \"B00FF6J532\", \"reviewerName\": \"Nick Carrigan\", \"helpful\": [1, 6], \"reviewText\": \"Won't go into specifics as there are plenty of \\\"honest\\\" reviews of Windows RT but in my opinion it's a terrible product with too many limitations.  It looks like Microsoft is giving up on RT as well.  Don't waste your time or money.\", \"overall\": 1.0, \"summary\": \"The hardware is decent but Windows RT is terrible product\", \"unixReviewTime\": 1400630400, \"reviewTime\": \"05 21, 2014\"}\n",
      "reviews_047.json \t{\"reviewerID\": \"A39FVKNWIHSZQ0\", \"asin\": \"B00FF6J532\", \"reviewerName\": \"Nick\", \"helpful\": [2, 2], \"reviewText\": \"I did a lot of research on the 2 in 1 market and almost made 3 other purchases before I finally bought the surface 2. After reading many reviews and looking at the specs for just about every mid ranged price tablet on the market, I thought the surface made the most sense. Keep in mind I did not research any apple products, I'm just not as big a fan as everyone else. Plus I wanted to be able to write and type papers using Microsoft programs. I figured the surface was more productive compared to an I pad and it seems as though I was correct. First the pros of the surface 1)productivity- I typed a few sentences right after I got this and hit print and it printed to my printer without ever really setting anything up, it just sensed it, so I thought that was pretty cool. 2)ports-it has more ports or connections on the tablet than most other tablets and keyboards combined. USB 3.0, mini hdmi, headphone and mic jack mini sd card for more storage and of course the 2 position kickstand. 3)camera- the surfaces aren't the best tablet cameras on the market but they are pretty good 3.5 mp front facing and 5 mp rear facing. Considering the surface pro 2 did not upgrade their cameras, I would say that is a good addition for the surface 2 rt. Most other tablets only have one camera and if they have 2 they are not as many mp's. 4)security- The security on the surface 2 is excellent because of the fact that you can not download 3rd party applications or software. Most people hate this point, but I love the fact that I don't have to worry about viruses and things to slow down the tablet, I have laptops and a desktop if I want that. This brings me to my next point, which is the 5) speed and connectivity- the connectivity is great after a month I have not experienced any lag or glitchyness either while on the internet watching movies or playing games. The speed of the processor is excellent very fast, I guess this was a problem on the 1st surface but they definitely upgraded the processor. 6)look and feel\\\\screen quality- I love the look and feel of the tablet. The magnesium alloy back looks like a very expensive product especially with the kickstand. It weighs a little more than some of its competitors, but that is because of the quality of the construction which is very sturdy not much flex in the surface compared to some other tablets, which tells me it was built well and worth a couple extra ounces of weight. At less that 1.5 pounds it is still not that heavy. The screen resolution is spectacular 1080p HD, watching movies on it is second to none because of the widescreen display and the HD, absolutely wonderful movie viewing compared to anything on the market in my humble opinion. 7)touchscreen- the touchscreen is very responsive.In my opinion there are not many cons with the surface unless you're a big app person, which I am not, but if you are you're in for a real problem because the windows app store kinda sucks. My wife is a big candy crush saga player and this app is not in the store, however most apps can be played through an actual website (which is what she does). So if you're worried about that, check and see if the app can actually be played through a website. Then it doesn't matter but if you're a big app person and going to an actual website doesn't fit into your plans then maybe the surface 2 isn't right for you. In conclusion, if apps are not that big of a deal to you and productivity is, then I would suggest a surface 2.\", \"overall\": 5.0, \"summary\": \"Great tablet/laptop\", \"unixReviewTime\": 1388793600, \"reviewTime\": \"01 4, 2014\"}\n",
      "reviews_047.json \t{\"reviewerID\": \"ARBW730WRGUD0\", \"asin\": \"B00FF6J532\", \"reviewerName\": \"Nick\", \"helpful\": [3, 4], \"reviewText\": \"It isn't perfect, but it suits my needs really well and, overall, I think it's one of the best tablets out there. Definitely recommended. I don't own a laptop and now I really don't need one. This thing is great. Having said that...Pros:-Office. FULL Office. I commute to school and I don't have a laptop, so in the 4 hours between classes, I can do my homework. No other tablet has this feature.-Keyboard covers. Even the Touch Cover works pretty well. I often forget this is a tablet and tend to use it like a laptop...-Actual stereo speakers. The sound is loud (enough) and it's nice to actually get stereo separation.-The screen is really nice, even if it's &#34;only&#34; 1080p.-Battery life is pretty good. I can browse the web all day, watch a couple TV shows on Hulu, and still have juice left over for the next day.-It syncs my settings from my desktop, so everything I'm used to is already there. Plus it's Windows, so I don't feel like I am using a limited tablet.Cons:-Limited app selection, but honestly, I don't even notice. You can access everything through the web sites anyway, so the only really notable exceptions are games, which I don't really play on a tablet anyway.-Still some bugs to work out. I, and many other users, have had to refresh the OS to be able to turn off the typing sounds when using the Touch Cover 2. Really shouldn't have to do that. Also, it sometimes won't wake up from sleep and has to be manually shut down and booted back up. Not the worst thing in the world, but it just isn't quite there yet.-Since it is Windows RT, you can't install regular Windows programs. Not the end of the world, but it would be fun to have, say, Minecraft. They do give us Office, though, Hopefully more developers will program for RT.\", \"overall\": 4.0, \"summary\": \"Really great, but not quite perfect.\", \"unixReviewTime\": 1386288000, \"reviewTime\": \"12 6, 2013\"}\n",
      "reviews_047.json \t{\"reviewerID\": \"A3ATRBK2C3BDZH\", \"asin\": \"B00FF6J532\", \"reviewerName\": \"Patricia L. Phillips\", \"helpful\": [1, 1], \"reviewText\": \"I am excited to have a tablet.  This is the one my son had recommended.  I am getting used to using it.\", \"overall\": 5.0, \"summary\": \"surface\", \"unixReviewTime\": 1403481600, \"reviewTime\": \"06 23, 2014\"}\n",
      "reviews_047.json \t{\"reviewerID\": \"A1OAOMSW22CJP1\", \"asin\": \"B00FF6J532\", \"reviewerName\": \"Patrick\", \"helpful\": [11, 40], \"reviewText\": \"When I first saw this tablet I thought It was really cool, and even better that I could get one in the cheaper price range.  However, now that I have I've found that I can't run even the most basic of programs.  Windows Movie maker I was the most surprised about because it was their own program.  But I would not suggest buying this tablet.  Other programs it cannot run, Google chrome, Java, adobe flashware, it can't even run pivot.  And now after only owning it for a month and a half the screen is starting to have an issue. A bar of black and white flashes on the screen.\", \"overall\": 1.0, \"summary\": \"cannot run even the most basic programs\", \"unixReviewTime\": 1385596800, \"reviewTime\": \"11 28, 2013\"}\n",
      "reviews_047.json \t{\"reviewerID\": \"A3TA6E3J0AC4F1\", \"asin\": \"B00FF6J532\", \"reviewerName\": \"Pauline chambers\", \"helpful\": [0, 1], \"reviewText\": \"Best tablet ever,absolutely awesome what ever you use Surface for.you want be disappointed.this is what I gave my husband for Christmas.I like my I-pad but I LOVE his Surface2.\", \"overall\": 5.0, \"summary\": \"Surface is top tablet in our house!!\", \"unixReviewTime\": 1390694400, \"reviewTime\": \"01 26, 2014\"}\n",
      "reviews_047.json \t{\"reviewerID\": \"A14ZKALJM4BWJ7\", \"asin\": \"B00FF6J532\", \"reviewerName\": \"Paul Vines\", \"helpful\": [5, 6], \"reviewText\": \"I did my research before I bought it, so I knew what I was getting into. To be fair, I really do like the hardware; and the OS is decent enough once you get used to it.That being said: be prepared to be disappointed in the applications available for the Surface 2. They are horribly designed - particularly if you have ever used the iTunes equivalent application. Example: eBay app for Apple allows you to track shipping of purchases. Not so for the Windows app. In fact, for several of these apps, it just opens an explorer window and takes you to the website with a split screen when you try to utilize a function. Gee, thanks for nothing. I could do that on my own without wasting drive space with a useless app.However, to be fair, I wanted a very portable tablet (my PC laptop is 17\\\") that came with the Office suite, so a lack of quality support apps didn't really turn me off to it. I still liked my Surface 2 a lot.For three whole weeks. Then it died. I returned it through FedEx as they instructed so I could get my replacement. After a few days, I chatted with their tech support to receive an ETA for my replacement. They gave me an ETA and told me they would send me tracking information when it shipped. The ETA came and went. No tracking information. I contacted them again and was told that the replacement surface was definitely in the mail. I asked for tracking information. They said they couldn't give it because  the storms were delaying shipments. I pointed out that the storms would not have effected FedEx giving them a tracking number; it would only effect the speed of the delivery itself. It took 2 hours of tech support chat to get them to confess that they had no idea if it had shipped or not; they were just assuming it had. So. Here I sit. No Surface 2, no tracking information.I can but assume I will eventually get my replacement Surface 2; however, I just want to warn other potential customers. Many people have had their Surface 2s mysteriously stop working. If and when that happens you will have to deal with their customer service. This is what you can expect.Still, I must admit, I really did like my Surface 2. Sigh.\", \"overall\": 3.0, \"summary\": \"Its an OK product, but Microsoft customer service is deplorable\", \"unixReviewTime\": 1391040000, \"reviewTime\": \"01 30, 2014\"}\n",
      "reviews_047.json \t{\"reviewerID\": \"A2D91CC53H74E5\", \"asin\": \"B00FF6J532\", \"reviewerName\": \"pbtx\", \"helpful\": [3, 3], \"reviewText\": \"First off, buy a full Windows 8 tablet if you need a computer.  Buy the Surface 2 if you need a tablet. I have owned 2 iPads, and what I liked about them was they were less than a computer, meaning low maintenance.  Because Safari was getting a bit slow, I was considering moving from the iPad 3 to the latest generation.  But after playing around with a Dell Venue 8 a bit, I was very impressed with the Win8 version of internet explorer.  And what I wanted was a larger tablet mainly for reading newspapers, surfing the web, and limited productivity tasks.  I took the plunge and went with the Surface 2.  I am very happy with that call.  Some thoughts  that made the decision:1)  Obviously, the iPad has more app selections.  I own more iOS apps than I care to count.  I realized I use about 4 regularly.  The windows store is picking up quickly, and a couple key apps I needed .. namely ewallett, taskangel, and Trello are there and work well.  A lot of total junk there too, but I suppose that is true of the Apple store as well... the ratio of good/bad is just higher there.2)  I don't mind iTunes too much, until it is time to migrate to a new computer.  Every time that joy comes around, I realize Apple must still hate the PC.  That memory is fresh now.. and so I am ready to start moving... if slowly.... out of the apple world again.3) It has Outlook.  I manage 3 email accounts, POP and iMAP, and need something more complete than what you can get in Android or iOS.  Especially rules.  Using the Surface 2, I can get through my emails in the AM and in the PM much more quickly than with the iPad, and more pleasantly than having to sit down with a computer.  Outlook is still not as integrated with the Windows 8 apps as it should be (contacts for example), but as an email application nothing I have found beats it if you have to filter through a lot of chaff to get at the meat.4)  It's not a PC.  It has some limitations.  Excel does not do macros, for example.  This is a good thing.  Security is better.  I have to be paranoid about my laptop and desktop.  Less so here.  Also, Apple's little SSL issue reminded me that whatever we may say about our friends in Redmond, they have a lot of horsepower focused on security.5) The Surface 2 really wants to be used in landscape mode.  An iPad is a bit more handy in that sense, as it works well in portrait or landscape.  But you also get less screen real estate.  For my purposes, I prefer the Surface.  (If MS comes out with a smaller one,  I would probably get one of those as well).  Read alot in bed, the iPad is better.  Sit in a chair, or at a table, the surface wins.6) Oddly enough, I actually like the Win8 interface better than the iOS one, especially since everything went low contrast with iOS7.  Live tiles are great.  I wish you had more control on the \\\"non tiled\\\" application list organization (easy in Win8, have not figured it out in RT yet)7) As I am old enough to know what a VAX is, and am an engineer, I am also thus obviously not the best target demographic for my friends at MS.  Still, so far, I think this tablet is not out of place for the computationally challenged.  But it is not quite at the iOS level yet either.  I have hopes the volumes will pick up, and MS will not abandon this effort.  But for now, enjoy the fact that there are not enough of them out there to make them a very attractive target for cybercrime.\", \"overall\": 5.0, \"summary\": \"Better than the iPad for many tasks.\", \"unixReviewTime\": 1393891200, \"reviewTime\": \"03 4, 2014\"}\n",
      "reviews_047.json \t{\"reviewerID\": \"A35TD170V2YYNH\", \"asin\": \"B00FF6J532\", \"reviewerName\": \"Peter Boxman\", \"helpful\": [0, 0], \"reviewText\": \"The only element that kept me from giving it a five star is the fact that Microsoft is apparently at war with Google and as a result Google Maps will NOT display correctly.  My new car's nav system interfaces over the internet with google map and I am just plain out of luck here because of this childish behavior of microsoft.\", \"overall\": 4.0, \"summary\": \"The only element that kept me from giving it a ...\", \"unixReviewTime\": 1404864000, \"reviewTime\": \"07 9, 2014\"}\n",
      "reviews_047.json \t{\"reviewerID\": \"A2BD8SQY642GFA\", \"asin\": \"B00FF6J532\", \"reviewerName\": \"Peter Shashkin\", \"helpful\": [13, 13], \"reviewText\": \"First, about me. I am IT manager at my regular job, where I work on Windows, my phone is Android, I also Android developer myself have an app with 150K users (my side project). I have Surface Pro 1, iPhone and iPad in my family too.RT version is not a \\\"simpler\\\" version of the Pro, in my opinion. It is a separate thing, defining a separate market and its own business cases. I would like to go as far as to say that in its market share it does not really compete with anybody. Remember, it is a compromise between tablet and a laptop, and this is quite successful compromise in my case. Let me explain.1. If your world is Email, Browsing, working with Office, taking notes - you will be amazed how you can apply your previous experience in such a light a compact device. I am using this as a complement to my laptop when I am away from the office or at the meetings. It does not have capability to run your legacy apps BUT I would never try to (say) do my programming on a 10 inch device anyways.2. Unlike 1st version, this one is versatile - it can accommodate pretty much any body position, and illuminated keyboard is very helpful. The only thing I miss is fingerprint sensor. Considering that Surface RT is built with keyboard in mind, you cant beat its resemblance to laptop with iPad or typical Android tablets.3. Video experience on-the-go. We took both devices on the plane with my wife (iPad and Surface) - I was amazed how easy it was to watch videos on Surface, which we used most of the time, instead of iPad. The reason is - video-friendly form factor, low height, integrated stand, and most importantly (a killer feature) ability to watch movies from USB driveThe bottom line: I prefer RT devices, and do not really get Pro due to their weight and extra dimensions.  If you think of RT as a supplement to your laptop and not a replacement for it - this is probably the best device of its kind ever created.\", \"overall\": 5.0, \"summary\": \"Arguably the best tablet PC ever created. (I mean RT, not the Pro)\", \"unixReviewTime\": 1389484800, \"reviewTime\": \"01 12, 2014\"}\n",
      "reviews_047.json \t{\"reviewerID\": \"A2YTYDULAUKOPF\", \"asin\": \"B00FF6J532\", \"reviewerName\": \"PurpleMonkeyDishwasher\", \"helpful\": [3, 3], \"reviewText\": \"I bought a Surface 2 from my local Microsoft Store, and absolutely love it. I had the previous generation and this is an amazing improvement.The kickstand has two angles now, and the second angle makes it MUCH easier to use in your lap. The Surface 2 is also only made with two pieces versus three since the last generation; resulting in a more solid-feeling device.The silver Magnesium is so good looking, and so is the screen. Full 1080p resolution, resulting in more crisp pictures and breathtaking movie visuals. The sound is good, not the best; but much better than the first generation.The cameras on the Surface 2 are vastly improved since the last generation. So, if you're one that's particular on a tablet with a good camera; Surface 2 will be able to fulfill that.The Surface 2 comes with Windows 8.1 which is also an improvement in itself. Of course, it comes with Microsoft Office 2013 RT which includes: Outlook, OneNote, Word, PowerPoint and Excel.Also, I'm not sure if it's because I bought my Surface 2 from a Microsoft Store, but it came with codes for 200GB of free SkyDrive storage for 2 years and 1 year of unlimited Skype minutes and WIFI. Which, in my opinion, is SUCH a great value, especially since the SkyDrive storage that can be used across all your Windows devices associated with your Microsoft account.In conclusion, if you're looking for a tablet that can not only meet your productivity needs (Office) and has great battery life for consumption; look no further than the Surface 2.\", \"overall\": 5.0, \"summary\": \"Beautiful, Solid Performing Tablet\", \"unixReviewTime\": 1383350400, \"reviewTime\": \"11 2, 2013\"}\n",
      "reviews_047.json \t{\"reviewerID\": \"AXUWL2DCZK4AP\", \"asin\": \"B00FF6J532\", \"reviewerName\": \"raymond reyes\", \"helpful\": [0, 1], \"reviewText\": \"It does not support Java, so I could not use it for my work applications. Other than that it's real fast for internet surfing, great for getting lost in youtube and the headphone jack is very nice it's loud and has a crisp sound distribution. I like that I could open more than one webpage at a time. Not many fun apps like android, actually dismal compared to android. Beautiful screen resolution, and easy to use and learn to use.\", \"overall\": 3.0, \"summary\": \"Good for student, home internet surfing.\", \"unixReviewTime\": 1393891200, \"reviewTime\": \"03 4, 2014\"}\n",
      "reviews_047.json \t{\"reviewerID\": \"A3S7ZM6YLQAMOU\", \"asin\": \"B00FF6J532\", \"reviewerName\": \"Ray Parvis\", \"helpful\": [1, 1], \"reviewText\": \"Bought this for my daughter, who absolutely loves it.  She uses it all the time.  Very convenient and light weight.\", \"overall\": 5.0, \"summary\": \"Daughters Christmas Gift\", \"unixReviewTime\": 1393286400, \"reviewTime\": \"02 25, 2014\"}\n",
      "reviews_047.json \t{\"reviewerID\": \"A1B45AMOGRXFNN\", \"asin\": \"B00FF6J532\", \"reviewerName\": \"Rebecca LaBarca\", \"helpful\": [0, 1], \"reviewText\": \"The Surface 2 is the professional version of an iPad.  It includes the staple software, Microsoft Office.  But the Surface is not complete without the compatible keyboard that snaps in place with ease. (Type cover 2!)\", \"overall\": 4.0, \"summary\": \"Surface 2 is Perfect Tablet Computer\", \"unixReviewTime\": 1391126400, \"reviewTime\": \"01 31, 2014\"}\n",
      "reviews_047.json \t{\"reviewerID\": \"A9CI6M8G1PP6W\", \"asin\": \"B00FF6J532\", \"reviewerName\": \"Robert J. Mansfield\", \"helpful\": [1, 3], \"reviewText\": \"It is difficult to learn how to use. It has a lot of good features but will take some getting use to. Plus it will only interface with 8.1 operating systems.\", \"overall\": 3.0, \"summary\": \"It has potential\", \"unixReviewTime\": 1393113600, \"reviewTime\": \"02 23, 2014\"}\n",
      "reviews_047.json \t{\"reviewerID\": \"A2ICV14BHW74T7\", \"asin\": \"B00FF6J532\", \"reviewerName\": \"robert lee\", \"helpful\": [0, 2], \"reviewText\": \"Microsoft  innovates and improve not for the general un.......I found the old windows 6 or 7 better than this.\", \"overall\": 3.0, \"summary\": \"Not for the un.....\", \"unixReviewTime\": 1390867200, \"reviewTime\": \"01 28, 2014\"}\n",
      "reviews_047.json \t{\"reviewerID\": \"A1SASDLKIOZQWI\", \"asin\": \"B00FF6J532\", \"reviewerName\": \"Roland L. Halpern\", \"helpful\": [4, 7], \"reviewText\": \"Worked great for eight weeks, even though I used it maybe 20 times. Right before a major road trip, where I needed it for presentations, it simply stopped working. Although the Microsoft rep tried to help fix the problem, he said the unit had to be replaced and they  would send a new one that would arrive in two to three days - which didn't help because I was about to leave for the airport. Thank God I still had my Mac. I don't know why I every thought about switching - oh yea - Microsoft claimed Surface 2 was better than a Mac - not in my opinion.Update - 2 to 3 day replacement that Microsoft promised? Where is it? I'm now on day 6 and waiting. I would lower my rating to zero stars if it were an option.\", \"overall\": 1.0, \"summary\": \"If you want something reliable, skip this one.\", \"unixReviewTime\": 1400112000, \"reviewTime\": \"05 15, 2014\"}\n",
      "reviews_047.json \t{\"reviewerID\": \"A3BJYM007A3ZQ4\", \"asin\": \"B00FF6J532\", \"reviewerName\": \"Roy A. Gonzalez\", \"helpful\": [1, 1], \"reviewText\": \"This tablet has it all ; very fast , set up a breaze , long run time , familiar and easy GUI , the kick stand is perfect I use it constantly , an optional type keypad cover which just clicks in ( love it ) .  The apps are plentiful and useful . I like the very protected environment that the windows RT provides . when you get apps ( many free ) from the windows store they are safe , no worries. I have many pc and lap tops at home and in my buisness , but this guy sits at my coffee table and as I relax in my living room I can surf , handle emails , game , work ( if i can stop surfing and gaming ) , read news and weather  . very good quality productIn summary , you can't go wrong with this tablet , enjoy !!\", \"overall\": 5.0, \"summary\": \"A tablet like no other\", \"unixReviewTime\": 1389225600, \"reviewTime\": \"01 9, 2014\"}\n",
      "reviews_047.json \t{\"reviewerID\": \"AEOEJAO9Y9TK5\", \"asin\": \"B00FF6J532\", \"reviewerName\": \"Roy Lamberton\", \"helpful\": [1, 6], \"reviewText\": \"but since the OS didn't run any 3rd party software for web browser or e-mail, it got cleaned and returned within 24 hours.The product description should have pointed out the limitations of RT, I thought I was buying a tablet with 8.1 but this wouldn't even let me install many of the 3rd party apps that I must have on a tablet if it is to replace my laptop.It has severe limits on e-mail, essentially it only works with Microsoft Exchange - something that I avoid like the Plague.Sorry Microsoft - this one is a turkey.\", \"overall\": 2.0, \"summary\": \"Great if you like an ONLY Microsoft solution\", \"unixReviewTime\": 1396915200, \"reviewTime\": \"04 8, 2014\"}\n",
      "reviews_047.json \t{\"reviewerID\": \"AB3Y1G9IHTC85\", \"asin\": \"B00FF6J532\", \"reviewerName\": \"R. Scott \\\"Grouch\\\"\", \"helpful\": [5, 5], \"reviewText\": \"Does Everything I need. While its not a replacement for a full laptop PC, it does a LOT. Matter of fact, I started leaving my laptop at home when going on the road. I can be productive (via the office apps and one note), while at the same time entertain myself. VPN and RDP work well for remote connectivity to work and clients. Also use Citrix. All works well. Heck of a value for a tablet price. Oh yeah, you also get 250GB of cloud storage thrown in.\", \"overall\": 5.0, \"summary\": \"Best All-In-One Device Out There\", \"unixReviewTime\": 1392508800, \"reviewTime\": \"02 16, 2014\"}\n",
      "reviews_047.json \t{\"reviewerID\": \"A3N12FDFTQ2QON\", \"asin\": \"B00FF6J532\", \"reviewerName\": \"Sangoh Choi\", \"helpful\": [0, 0], \"reviewText\": \"THIS IS NOT &#34;NEW&#34;\", \"overall\": 1.0, \"summary\": \"One Star\", \"unixReviewTime\": 1405987200, \"reviewTime\": \"07 22, 2014\"}\n",
      "reviews_047.json \t{\"reviewerID\": \"A304MEXXIMDMWJ\", \"asin\": \"B00FF6J532\", \"reviewerName\": \"ScorpioQueen\", \"helpful\": [2, 2], \"reviewText\": \"All the reviews on the Microsoft Surface 2 is so biased it's sad. But, I would recommend this device to any student and anyone who really needs work done on the go. I mean who really wants to carry around a laptop all day, and who wants to get a tablet that's is lacking this and that. I brought this tablet and the Type Cover 2 and that's it. I don't have to purchase anything else. With Skydive my work goes from my Surface 2 to my laptop without doing anything, but saving my work. Love it. And One Note really got rid of all that paper of notes I had everywhere. All my notes are organized in one place. I heard a lot of students say they had e-books to replace there books on the Surface 2, but I prefer the physical books.Now one thing I didn't know (but should have guessed lol) was that it doesn't support MOODLE Blackboard Collaborate. BUT, you can turn in your homework and type up and summit your work on the discussion board forums. Which really shocked me, because I thought I wouldn't be able to login period, since I couldn't download Java. Learn something new everyday lol. This is actually good for me because my classes are a hour long, so I go to class then I'm gone to the library, friend's house, grandparent's house (love them) or etc with nothing but my Surface 2. Before I barely left my home (being an online student) because I really didn't feel like taking my laptop everywhere I went and I had work to be done. With the Surface 2 all my homework is done on the go. Now, my laptop is huge lol and I didn't want to replace it (because I paid $700 for it), but I wanted something that can do at least half of what it does in a tablet. I thought I would never get that, but then low and behold the Surface 2 hit the shelves. (You want a replacement for you laptop get the Microsoft Surface Pro or Pro 2)I didn't get a chance to use my Skype yet, but I will soon. Listening to music out loud isn't to die for. It's decent but put some headphones in and wow! I'm too scared to put it on 100 and this is coming from someone who blast music all the time. Netflix looks good and the app store is still growing. I heard a lot of crying about not enough apps, but I don't need the same apps on my phone, laptop, and tablet. Plus not having a certain app isn't make or break my decision or review on any device. I even had a Blackberry Playbook and they were the REAL definition on lacking apps lol, so people be patient... it could be Playbook worst. I also heard confusion about Windows RT, which confused me because it took me about 2 minutes to see the difference between full Windows and Windows RT. If you don't know the difference save your money and pay a little extra to stick to what you know, and go Pro or Pro 2.By the way, I'm writing this on my beast the Microsoft Surface 2 with my Type Cover 2!!\", \"overall\": 5.0, \"summary\": \"Love It!!!\", \"unixReviewTime\": 1397001600, \"reviewTime\": \"04 9, 2014\"}\n",
      "reviews_047.json \t{\"reviewerID\": \"A3ADBY055YSLVK\", \"asin\": \"B00FF6J532\", \"reviewerName\": \"Scott Vittum\", \"helpful\": [0, 0], \"reviewText\": \"Is limited by it's number of apps in the Microsoft store and the Microsoft stores search is as bad as Bing.  I did a search for a wireless printer app and it came back with everything but what I wanted, including games.  It sucks big time.  I am just starting to get comfortable with the Surface but so far it is OK, (except for the huge disparity of apps)  Get it together Microsoft if you want to sell anymore of these.\", \"overall\": 4.0, \"summary\": \"Surface\", \"unixReviewTime\": 1397520000, \"reviewTime\": \"04 15, 2014\"}\n",
      "reviews_047.json \t{\"reviewerID\": \"A1ZB9HQUYYNHV2\", \"asin\": \"B00FF6J532\", \"reviewerName\": \"Sean\", \"helpful\": [15, 17], \"reviewText\": \"Recently my laptop broke and while considering replacement options, I thought \\\"Why not a tablet?\\\" So I did some research, and the recently released Surface 2 seemed like the best option. It has a USB port (which was a big deal for me), Word/Excel, and a desktop mode that looks just like a regular computer. This really is a nice tablet, great screen, nice weight/size, good speakers.But this is not a laptop replacement, for me at least. All I need for a computer is: internet, word/excel/powerpoint, and a fast operating system. And the thing is, I can purchase a laptop with all of that for less than the Surface 2. A $450 price tag as well as $120 on the touch cover (keyboard) is pretty steep for this device, and after a week using it, I will be sending it back to Microsoft.So overall, this is a very good tablet. A bit overpriced (would be fine if the $120 keyboard was included), and definitely not a laptop replacement. If you really want a tablet, and are willing to spend this much money (there are options that are just as good for almost half the price), then this is the tablet for you.\", \"overall\": 3.0, \"summary\": \"Good tablet, but not for me.\", \"unixReviewTime\": 1383177600, \"reviewTime\": \"10 31, 2013\"}\n",
      "reviews_047.json \t{\"reviewerID\": \"A21PBG4DJFBVY2\", \"asin\": \"B00FF6J532\", \"reviewerName\": \"Senior citizen\", \"helpful\": [6, 10], \"reviewText\": \"All it does is crash.  I couldn't even retrieve my data from it because all it could do is crash.. The dealer jis nice and letting me send it back.\", \"overall\": 1.0, \"summary\": \"Crasher\", \"unixReviewTime\": 1389139200, \"reviewTime\": \"01 8, 2014\"}\n",
      "reviews_047.json \t{\"reviewerID\": \"AOS5Y3TUWZE3S\", \"asin\": \"B00FF6J532\", \"reviewerName\": \"Shane Gruninger\", \"helpful\": [10, 15], \"reviewText\": \"I was given this product as a gift for Christmas and was overly excited. When I started using the tablet, everything was fine until I charged the tablet all the way and removed the power cord. This caused phantom touching on the screen and was unusable unless the power cord was attached. I then returned this tablet and got a different one that has the same issue, in addition to this issue, the screen now also flickers and freezes the whole system. I am returning the tablet tomorrow and am looking into something more reliable.\", \"overall\": 1.0, \"summary\": \"screen and phantom touching issue\", \"unixReviewTime\": 1388102400, \"reviewTime\": \"12 27, 2013\"}\n",
      "reviews_047.json \t{\"reviewerID\": \"A26QQRWTEN6H30\", \"asin\": \"B00FF6J532\", \"reviewerName\": \"shelisa868\", \"helpful\": [1, 1], \"reviewText\": \"If I could give my tablet six stars, I would. This is my first tablet purchase, after weeks of researching this particular one. The limitations of the RT operating system is to be expected, so no complaints; the tablet does what I need it to do, and that's important to me. The free bundles of MS Office and unlimited Skype calls are a refreshing bonus. Won't get into the tech details, but it is a powerhouse by comparison. I am very pleased with my purchase here.Point to note: I'd recommend purchasing a touch or type cover as well. Pity it wasn't bundled with the tab.\", \"overall\": 5.0, \"summary\": \"Loving my new Surface 2\", \"unixReviewTime\": 1385596800, \"reviewTime\": \"11 28, 2013\"}\n",
      "reviews_047.json \t{\"reviewerID\": \"A3UZBBBAX3OTNO\", \"asin\": \"B00FF6J532\", \"reviewerName\": \"sherrie hutchinson\", \"helpful\": [3, 3], \"reviewText\": \"After much research and comparisons to many other tablets I think I made a decent choice. The windows 8 RT is taking some getting used to. It looks nice and the display is good. The kickstand is helpful with two positions and you can use it on your lap.I did not buy the keyboard, but the on screen keyboard is responsive and not at all crowded. I may eventually invest in a back lit keyboard but for now I don't really need it. The weight is fairly light and the size is great for surfaing, word processing etc ( and my sight is not the best). The limited amount of apps free or pay is a little bit of a bummer for me but I was aware of that. One app I find sorely missing is a good Driving navigator. There are no free apps for driving navigation and few more than one that actually uses verbal prompts, and I want to say that the cost is 2.50...(a Year?)The software that is included is fantastic and makes the Surface a good value. The camera is not the best but I use my phone for pics. I got a 64 GB model, which in all actuality only gives you 47 GB after the OS takes up its portion. The battery life seems good as well as it charges quickly. The charging cord is rather short.The speed of downloads is also pretty good. All in all for the price paid on Amazon I feel the MS Surface 2 is a good choice!\", \"overall\": 4.0, \"summary\": \"So far so good\", \"unixReviewTime\": 1393286400, \"reviewTime\": \"02 25, 2014\"}\n",
      "reviews_047.json \t{\"reviewerID\": \"A3A4ZAIBQWKOZS\", \"asin\": \"B00FF6J532\", \"reviewerName\": \"Stephen M. Lerch\", \"helpful\": [5, 6], \"reviewText\": \"With the Surface 2, you kind of need to know what you are getting into. Surface 2 doesn't use the normal version of Windows 8.1, it uses Windows 8.1 RT. This is a watered down version of the full blown OS that will only run on ARM and similar based processors, NOT the standard Intel processors in the Surface Pro (and Pro 2). This means you CAN NOT run standard Windows software on the Surface or Surface 2. This can only be done on the Surface Pro or Pro 2.So then what are you buying? You are buying a tablet that can only run software from the Windows Store. This means that none of the standard Windows programs will work, and you had better make sure the apps you are looking for are available prior to buying the Surface 2. I recommend going through and listing all the things you want to be able to do, then check the  Apps for Windows website to ensure you can do what you want.The Surface 2 comes with the ability to run Internet Explorer 11 and send/ receive email with the built in Mail app. That's 2 of the things most people want from a tablet right there.And there is something new to Windows RT 8.1, you now get Outlook, the full featured version not just the Mail app, included for \\\"free.\\\" This is a bonus as not all business based email systems wanted to work well with the Mail App.Something else that is included, so in theory a $220 value added to the Surface, is Office 2013 Home and Business. This means that you get Word, Excel, Power Point and the above mentioned Outlook pre-installed and \\\"free.\\\" If you want to use this device for business, and need full Office capability, functionality and compatibility, this is probably one of the best ways to get it in a tablet form. It's important to note that Office programs still aren't \\\"touch first\\\" programs, so you probably want to invest in a type cover for the Surface, though in a pinch the touch keyboard and any of the Office apps run really well on this device.I really love the Surface 2. I actually think that Windows RT 8.1, when you know what you are getting into, can be a viable alternative to an iPad. Sort of, right? There are still some native apps you would expect to find in the Windows App Store that just don't exist, but since you can use the web browser and it is fully functional, this isn't a massive issue. Pinning a website to the Start screen (where all the tiles are) is pretty simple, so you can make your own apps ghetto style with the pin capability. And everything I've done this way, including Instagram, works quite well.In terms of performance, the Office programs are probably the most demanding pieces of software on the Surface 2, and they all open fairly quickly and input is quick and responsive. I also played the Halo Spartan Assault game and that runs well also. Not quite as fluid and flawless as my Surface Pro, but it works really well regardless.The screen is bright, crisp and clean. It's a 1080p screen, so it's 1920x1080 resolution. I would have rather seen 1920x1200, as this makes Excel files easier to use and is more the \\\"business\\\" 16x10 aspect ratio, but regardless, even in 16x9, everything just looks fantastic and is easy to read.Battery life is very good. I can squeeze out about 9.5 hours if I'm just browsing the Internet and messing in Office. The least I've gotten is about 7.5 hours and the most was around 10.5 hours.Overall:If you are on the market for a tablet, and it doesn't need to be an iOS based tablet, I recommend giving the Surface 2 a serious look. Just remember you can't run standard Windows programs (no different than an iPad or Android tablet) and you will do well.If you want full Windows capability, the Surface Pro and Pro 2 are great devices, you just pay quite a bit more for that capability with less battery life.\", \"overall\": 5.0, \"summary\": \"Good tablet\", \"unixReviewTime\": 1384732800, \"reviewTime\": \"11 18, 2013\"}\n",
      "reviews_047.json \t{\"reviewerID\": \"A1K88M5628NPLM\", \"asin\": \"B00FF6J532\", \"reviewerName\": \"Steven C. Crosbie \\\"Steve\\\"\", \"helpful\": [10, 10], \"reviewText\": \"I didn&#8217;t need a new computer.  I have a Lenovo T420 and that I really like, but I wanted something more portable to have around the house and to travel with.I originally purchased a discounted Surface Pro 1 at the Microsoft Store.  I was convinced I needed the Pro even though I had a good friend who said I didn&#8217;t based upon my needs.  I brought it home and instantly fell in love&#8230;except for the price, weight, and battery life.  At the end of the day, it was super powerful, but not what I had in mind for something to carry around the house that would also work with the DoD CaC card websites.I took it back and purchased a Surface 2 64 gig with a bundle that got me the Type Cover 2, touch cover 1, $25 Microsoft Store card, Microsoft Complete Care, and tablet sleeve.If you do your research, you know the specs of the machine.Pros-2 position kick stand is much better than the version 1-great screen!-Comes with an Office suite that actually works-IE 11 is a browser with few limitations compared to iOS and Android.  You don&#8217;t need stupid Apps.  The websites just work.-Both keyboards are a great addition-Battery life is very good-RT is compatible with Smart Card readers and DoD Common Access card PKI software.-Skydrive integration with 200 gig free for 2 yeas-MicroSD Card reader-Integration with Windows 8 PCsCons-Microsoft&#8217;s poor marketing and the biased reviews who try to tell people RT should run x86.  Nobody complains that iOS doesn&#8217;t run full desktop software-Cost.  This is a premium machine and you will pay for itThis tablet is really all I use anymore.  The tipping point for me was the fact that my CaC card works with this machine. I can log into DoD email and other protected websites with my tablet.  I can&#8217;t say the same for Android or iOS.  This was the original reason I thought I needed the Pro. Turns out I don&#8217;t (although I want one&#8230;.but for no particular reason)\", \"overall\": 5.0, \"summary\": \"This is a productivity device and not a Toy!\", \"unixReviewTime\": 1387929600, \"reviewTime\": \"12 25, 2013\"}\n",
      "reviews_047.json \t{\"reviewerID\": \"A2LGCH3OLD56SW\", \"asin\": \"B00FF6J532\", \"reviewerName\": \"Steve Sigal\", \"helpful\": [3, 4], \"reviewText\": \"Bought last month. Learned Windows RT and how to use this thing. Having Office on it is good for me as I have Office 365 on my desktop. However, do not buy this if you expect to integrate your calendar and contacts with your desktop version of Office. The Surface has its own 'calendar' and 'contacts' which are nice but do not sync with Office. The Surface does have an Office Desktop BUT you can only sync if you have an exchange server or your email is not a pop server based. Microsoft support is no help as the look it up and indeed it will not sync or automatically update. So if one of your uses is to enter calendar and contacts on both your Surface 2 and desktop version of Office, do not buy this.\", \"overall\": 3.0, \"summary\": \"Good except.......\", \"unixReviewTime\": 1395964800, \"reviewTime\": \"03 28, 2014\"}\n",
      "reviews_047.json \t{\"reviewerID\": \"A39K06SERLDB2H\", \"asin\": \"B00FF6J532\", \"reviewerName\": \"Sumo Pixel \\\"Sumo Pixel\\\"\", \"helpful\": [19, 24], \"reviewText\": \"I love my surface 2!  I've had it for several weeks now and the more I use it the better I like it.I've found that the surface 2 does so many things so well that I really don't care whether or not it runs every last program in the universe - in fact I'm very happy that it doesn't run many of the old viruses.  I've found that I use Microsoft  Office on the tablet much more than I imagined I would and I love it.Internet browsing, email, news reading, and map apps all work great.  I especially like that you can do an internet search by just typing what you are looking for without having to bring up a browser - and the results are presented so nicely and easy to navigate using the touch interface.  Adding web pages to the &#34;Reading List&#34; so that you can go back to read them later is a nice feature that I enjoy.  Battery life very good - it lasts all day for me.The wide screen is excellent for watching videos, having two pages side by side, or having to apps on the screen.on the screen at the same time.If you're looking for a computer that runs every app in the universe, such as Photoshop or TurboTax, then go buy a laptop or a different Windows Tablet - the Surface 2 is not for you.Surface 2 is for you if you want a reliable, yet very powerful tablet that lets you do common things very well while still letting you do productive work with Microsoft Office.I own an IPad 2 and a Nexus 7 and they both just sit there collecting dust since I got my Surface 2.\", \"overall\": 5.0, \"summary\": \"I absolutely love my surface 2!\", \"unixReviewTime\": 1384732800, \"reviewTime\": \"11 18, 2013\"}\n",
      "reviews_047.json \t{\"reviewerID\": \"A1LOFSTV4R4SQT\", \"asin\": \"B00FF6J532\", \"reviewerName\": \"SurfJake\", \"helpful\": [4, 4], \"reviewText\": \"I've been looking for a tablet that I can also use for productivity - such as word / excel. I have an ipad and although it is great, it's hard to use it for productivity. I bought the Surface 2 hoping it would solve my problem and it pretty much did.The windows titles are a nice change to iOS icons and I like how they update with new text/photos for top stories etc. I also like that the apps take advantage of the full size screen. A criticism of mine toward iOS and android apps is that they are heavily text based (built with cell phones in mind) and do not take advantage of large tablet screens. This is not the case here.I also purchased the Kindle Fire HDX and although the build is fantastic, the colors are amazing, unfortunately the apps are lacking and productivity is out of the question. If you want to use it for media consumption only, it would be my first choice.The disadvantage of the surface is that there aren't a lot of apps available. Also, there are not many cases to choose from. The screen is pretty impressive but the contrast and color richness is not as a good as the HDX or retina screens. Also, the keyboards aren't cheap and when added to the price, it gets close to the ipad in terms of cost. However, the surface keyboards are more comfortable for those with large hands as they take advantage of the the screen's additional width that is absent on the HDX / ipad.As a plus, this came with 200gb for 2 years of skydrive (saving me $240 on my dropbox subscription), a $25 app store gift card, and a years worth of free skype calling.\", \"overall\": 4.0, \"summary\": \"Almost perfect!\", \"unixReviewTime\": 1388016000, \"reviewTime\": \"12 26, 2013\"}\n",
      "reviews_047.json \t{\"reviewerID\": \"A1SAHASZ1O3G4B\", \"asin\": \"B00FF6J532\", \"reviewerName\": \"Susan Belisle\", \"helpful\": [29, 36], \"reviewText\": \"I bought a Surface 2 64GB for my husband a month ago when they first came out. It worked great until yesterday when a recent update changed the volume level so you can barely hear it when streaming a movie or listening to online music.The volume level is at 100% and is fine if you want the tablet next to your head or exclusively use headphones.According to Microsoft technical support, this is a known issue and there is no resolution for this at this time. They were not able to give me a time frame for this to be resolved Save your money until this issue is taken care of. I spoke to them today.It is a nice product but this issue reduces the tablet's value in my opinion. I hope Microsoft listens to its customers and fixes this issue very soon.\", \"overall\": 3.0, \"summary\": \"Audio Issues with the Surface 2 - due to recent Windows update\", \"unixReviewTime\": 1385510400, \"reviewTime\": \"11 27, 2013\"}\n",
      "reviews_047.json \t{\"reviewerID\": \"A178WVCEND7T96\", \"asin\": \"B00FF6J532\", \"reviewerName\": \"S. Watlington \\\"Sandi\\\"\", \"helpful\": [0, 0], \"reviewText\": \"This is a great tablet. Screen is large. Great apps. Easy to use. Purchased it for my husband but now I want one too. Great clear screen.\", \"overall\": 5.0, \"summary\": \"Microsoft surface 2\", \"unixReviewTime\": 1389225600, \"reviewTime\": \"01 9, 2014\"}\n",
      "reviews_047.json \t{\"reviewerID\": \"AZI22S7R4LXJN\", \"asin\": \"B00FF6J532\", \"reviewerName\": \"Symbol for Hope\", \"helpful\": [1, 8], \"reviewText\": \"MS should give up heard.  Heavy, clunky, tiles are not easy to view, big bezzle, list goes on...MS should move on here.  Apple is eating and will eat your lunch in mobile and Macs.  Lucky you have Office.\", \"overall\": 1.0, \"summary\": \"Buy an iPad!\", \"unixReviewTime\": 1403913600, \"reviewTime\": \"06 28, 2014\"}\n",
      "reviews_047.json \t{\"reviewerID\": \"AAWOKV18A8EAN\", \"asin\": \"B00FF6J532\", \"reviewerName\": \"S. Zink\", \"helpful\": [0, 0], \"reviewText\": \"I absolutely love this tablet. I have had my eye on the Surface 2 for a while, and I am so glad I finally purchased it. I have a Mac laptop, but I really like what Microsoft did with this tablet.\", \"overall\": 5.0, \"summary\": \"I love this device!\", \"unixReviewTime\": 1389830400, \"reviewTime\": \"01 16, 2014\"}\n",
      "reviews_047.json \t{\"reviewerID\": \"A3GCC3RUTH4M2J\", \"asin\": \"B00FF6J532\", \"reviewerName\": \"Terry L. Barnett\", \"helpful\": [0, 1], \"reviewText\": \"Absolutely beautiful.  Fit perfect can use prop at any angle. Good fast delivery.  Feels like soft leather. Color is very nice .\", \"overall\": 5.0, \"summary\": \"great value\", \"unixReviewTime\": 1395360000, \"reviewTime\": \"03 21, 2014\"}\n",
      "reviews_047.json \t{\"reviewerID\": \"AV1WAYOHXD1MA\", \"asin\": \"B00FF6J532\", \"reviewerName\": \"The Pes \\\"Deerhoads\\\"\", \"helpful\": [29, 31], \"reviewText\": \"With the introduction of Microsoft's Surface 2, Microsoft set out to reinvigorate their own attempt at the premium hardware space in the tablet market.  The first Surface RT was a disaster, at least initially.  From hearsay, the latest updates and the introduction of Windows 8.1 have really addressed some of the lag issues and shortcomings of the user experience.Be that as it may, Microsoft would like you to try Windows RT and like it.  With the exodus of other hardware OEMs scrapping and abandoning their own Windows RT tablets, it left Microsoft as the sole provider of an RT experience.  With their new Surface 2 tablet, they're trying to make RT sexy...if that's even possible.I felt that Windows RT was a compromise, and that it shouldn't exist.  It makes some concessions in an effort to extend battery life, and it does so by using ARM as it's processor muscle.  That means no legacy x86 apps like the full Adobe Creative Suite (Photoshop, Dreamweaver, etc)and all the other professional grade programs that you come to expect on a Windows machine.  As a graphic designer and amateur photographer, having a limited tablet with no support for Photoshop was a deal breaker.Having said that, I have to say that I \\\"get\\\" what Windows RT, and to that extent, Surface 2 is about.  Let's face it, the problem with Windows RT isn't an operating system problem, but rather a marketing one.  Simply put, Microsoft is just terrible at explaining things.  It doesn't know how to describe the key benefits of an RT tablet to a particular consumer.Now, to be honest, Windows RT is not going to fill everyone's needs.  In fact, I feel this product is better suited to students as a replacement for aging laptops, and for professionals (like me) that need a companion device to service their mundane tasks like web searches, portfolio displays and light Office tasks like word documents and Powerpoint presentations.The way I've worked the Surface 2 into my work flow is by using it as a portable device that allows me to check images on the field to make sure I captured everything perfectly.  Surface 2 allows me to hook up my DSLR and see my RAW files through Skydrive on that beautiful 1080p screen.  As a display for my portfolio, I can let potential clients check out previous work in the form of a slideshow (again through Skydrive) and have a compact and light device that allows me to check the internet when I need some assistance finding a particular location.  For simple tasks of that nature, Surface 2 really addresses those needs.It's not just that since I would also be hesitant to bring along my full work laptop around.  The size and form factor of my laptop just doesn't help when I'm on the field as it's too cumbersome to carry around.  Plus it helps that I'm not carrying around the source of my livelihood around with the potential of theft or damage.  The Surface 2 can be stolen (knock on wood) and I wouldn't be left out in the cold and without a way to get critical work done.That brings me to the hardware itself.  This tablet is discreet enough and slim enough that I can lug it into my backpack without a noticeable bulge.  The fit and finish is incredible, and it feels great in the hands.  The silver tone VaporMG is a step up from the black casing the first gen Surface has, and the screen is brilliant and displays pictures with such vibrancy that it adds a new layer of pop that my laptop lacks.  I can't stress enough how good the screen is on this thing.  The two-stage kickstand is functional and I can't see myself not having it on my tablets ever again.  It's a joy to not have to fiddle with a tablet because the angle of the kickstand just sits well when laying down in bed, in a chair or at the table.  Microsoft really nailed this one.The other accessories like the Touch Cover, which I have a first gen one, really extend the functionality of the Surface 2.  The audible \\\"snap\\\" of the magnet-adorned keyboard when it latches on to the Surface is satisfying.  When using the Surface 2 for Office purposes, the keyboard and tablet combination is almost perfect.  While the Touch Cover is serviceable, it does take some getting used to.  I'm using it to write this review and I can type at a good clip.  There are times when I lose my way since there is very little tactile response from the keyboard due to its flatness.  However, once I'm locked onto the proper F-J position to type, I can fly without a problem.  The way to go if you're going to use Surface 2 primarily for typing is the Type Cover 2.  With backlit and full functional keys the Type Cover 2 is much more comfortable to type on, but if you're seldom going to type essays the Touch Cover will do.  Spring for the Cyan version if you can, the Silver-Cyan combo is eye catching.There are some negatives of course, and some things that cancel themselves out.  The most obvious complaint when it comes to Windows RT is, of course, the lack of app support.  Yes, people will want Instagram and whatever else the \\\"it\\\" app of the moment is on tablets, the stuff you can find os iOS or the Android marketplace.  However, for most stuff, if you can't find the official app, most likely you wont miss much since Surface 2 has a great running Internet Explorer app with full Flash support.  This makes the whole \\\"no support\\\" of such apps moot, since you can still get to use the app through its website equivalent.  Don't get me wrong, some apps just don't have a website equivalent, and thus you won't get to play with it.  Period.  But for the most part, the major things you want can be access through IE.  On the flip side, you do have some things that other platforms don't have, such as Halo: Spartan Assault, the aforementioned Office suite, and some killer tools like great integration of Xbox 360 and Skydrive services. Still, Microsoft has to do better at supporting its tablet with rich game content, which should be a no brainer, but at least things are improving as we speak.The last bit I want to talk about before finishing off is this: is this tablet for you?  In some cases yes, and in some no.  If you need to get work done and are just fine with web searches and using websites instead of apps for music streaming, photo viewing and commenting on social networks, then Surface 2 is more than enough.  I've found a way to work it into my work flow and it does work well even after I was highly skeptical of the Windows RT platform.  Can it stand to use some minor improvements, sure, but that's with any tablet out there.The real test is not the tablet itself, as hardware, it's rock solid and impressive.  Rather, the investment is solely dependent on the success of Windows RT.  If Surface 2, and to a greater extent Nokia's 2520 model, succeed then yes, Windows RT has a future and Microsoft will support it until it becomes a viable ecosystem on its own.  But, if Surface 2 follows the same path as its first gen big brother, then investing on Surface 2 as a platform wouldn't be wise.  I can't tell how well it will do, although Microsoft is betting big bucks into it by infusing $406 million dollars of marketing muscle behind it.  I suspect it will do alright, squeak in enough interest for consumers to keep it alive for at least one more life cycle into 2015.  The app situation should improve dramatically in the next couple of months as adoption ramps up, and with a few improvements to Windows 8.1, RT could be a really good operating system.What it comes down to is your own work flow and how a tablet like this might fit in it.  For me, I understand its limitations, but also appreciate what it does in other spaces in my daily usage.  I think as a tablet it rocks and makes life easier and enjoyable when dealing with the internet of things.  If you give it a try, I think you would too.**Update**  A Month With The Surface**So I've had the privilege of using the Surface for a solid month after purchase. With plenty of reviews by tech journalists and different individual consumers I have to say that most of the tech journalist are full of bunk.  Lets be fair here, most of those reporters have a carousel of devices coming in and out of their mitts on a given basis.  To really give a product its fair shake, one must live and breathe with the product for a solid month at least.  To see its idiosyncrasies, be it detrimental or encouraging, you really have to put a product through the daily paces of one's life.  After a solid month, I have to say that Surface 2 is a great product.First, the device works wonderfully as a laptop replacement for those mundane tasks like web surfing and Office work.  It's incredible how much I've reduced my usage of my work laptop.  I've barely touched the thing due to the fact that the Surface is incredible for its portability and battery life.  Sure, PhotoShop is still something I need for my work life, but the fact that I can stream all my media (Netflix, Hulu, YouTube) through IE11 (never mind the apps available for such services) through this machine has almost made my Samsung laptop obsolete.  If the full Adobe Creative Suit came to the Surface 2 (I'm dreaming, but you can always dream, right) I'm sure I'd forgo the laptop all together.The app marketplace has improved somewhat with the inclusion of Flipboard, which looks amazing, and other apps, but in reality it's still the same as it was a month ago.  I don't see much movement in that area.  It could be a deal breaker for some interested in apps like Pinterest and Instagram, but, again, IE11 can take care of most circumstances that arise when an app is missing.  Gaming is much the same, which is that it's still missing some killer apps.  Halo: Spartan Assault is really good graphically and the new Asphalt 8: Airborne is bananas, but other than that it's pretty bare bones.  This is something Microsoft has to address and take advantage of, specially with the launch of the Xbox One console.  Games has to be a priority to make Surface 2 a true consumption device.Lastly, the support Microsoft gives the tablet in the way of updates is incredible.  There are constant updates to improve battery life and other problems.  I've only encountered two instances of bugs, but other than that, the foundation is rock solid.  Some might complain about the number of updates that come about, but I see it as Microsoft backing up its product.  They aren't intrusive and they are mostly done in a couple of minutes.Overall, I'm satisfied with the Surface 2.  I still feel it needs a few more months of maturation, specially in the gaming department, but most people will love the device and should give it a fair trial to see how well the device can perform for 99% of the people out there.  If you're on the fence about it, don't be.  Surface 2 is a special device worth considering as a bridge/laptop replacement device.\", \"overall\": 4.0, \"summary\": \"**Update** A Step Up From Previous Generation, But Jury Still Out on RT\", \"unixReviewTime\": 1383523200, \"reviewTime\": \"11 4, 2013\"}\n",
      "reviews_047.json \t{\"reviewerID\": \"A2X22D5D7BJPZ7\", \"asin\": \"B00FF6J532\", \"reviewerName\": \"Thomas B. Talbot\", \"helpful\": [235, 250], \"reviewText\": \"I've just upgraded from the Surface RT to the Surface 2 and it was well worth it for me.  Previously I upgraded to the Surface from an iPad2.  So here is what I've found:The Surface 2 has been an excellent performer.  Besides common tablet tasks like Skype, web browsing, email, kindle books, ebay and a few other things, I've got a complete Microsoft office system that lets me do serious work - not just viewing files but actually creating content and editing documents.  The thing runs all day on battery and I'm finding that I can get away from using a computer on trips and go for a full week with my surface 2 without carrying my laptop.General:  Great battery life, its snappy and has a nice screen.  I use the original type cover from my old surface which works great and use a Bluetooth mouse when doing a lot of production work.  The touch gestures are awesome as is the multitasking where I can have a couple tablet apps up at the same time.  A negative thing is that some apps are lacking, but this is compensated by the fact that you can do the full website version of just about everything.Improvements over iPad:  My iPad was a good consumption device for web and apps, but it was really bad at several things like writing anything, office type apps, email (doesn't hook up to exchange), getting files on or off it without going through iTunes, playing non-apple video files, expanding storage, connecting with USB peripherals, etc.  The surface 2 is quick, it lets me do office, I can sync all my documents with skydrive and selectively choose what stays on the machine, I can play all kinds of videos (but not some MKVs - awaiting VLC player), etc.  I can copy files on it at will, print to printers, connect thumb drives and other peripherals, etc.  It lets me do things so I can get things done.  I also like that the included email program (much improved) hooks up with business exchange accounts.  I don't really use the outlook app, now included, though. The SD slot is really nice and I keep a 32GB card full of videos and music for flights.  Although I was worried about not being able to install legacy X86 windows programs, I feel so much freer than I did with iPad because the iPad felt like a prison to me.  I do prefer the iPad 4:3 screen to the more awkward 16:9 on surface.  (I don't hate iPads and my wife/kids love theirs).Improvements over Surface RT:  Higher screen resolution and much faster speed.  The old surface actually wasn't too bad at running office and tablet apps, but the web browser was sometimes much too slow on complicated pages.  I like that the surface 2 is much snappier and the Windows 8.1 improvements are significant as well, especially the improved skydrive (it is enough better to finally get me to switch from dropbox - by the way the RT dropbox for surface RT and surface 2 is pretty bad - the web browser version is even better because you can drag and drop with it).Overall, if you want a tablet that can do productive things and isn't locked down as far as files/expandability, I think it is worth trying out for a few days.  I'm very happy with mine.\", \"overall\": 5.0, \"summary\": \"A formidable tablet and a major improvement\", \"unixReviewTime\": 1383004800, \"reviewTime\": \"10 29, 2013\"}\n",
      "reviews_047.json \t{\"reviewerID\": \"A74ASQKX769ZZ\", \"asin\": \"B00FF6J532\", \"reviewerName\": \"Tom Holland\", \"helpful\": [0, 0], \"reviewText\": \"Product arrived on time and as described. I'm happy with this product. It is easy to use and no problems thus far.\", \"overall\": 4.0, \"summary\": \"Happy, happy, happy\", \"unixReviewTime\": 1394668800, \"reviewTime\": \"03 13, 2014\"}\n",
      "reviews_047.json \t{\"reviewerID\": \"A2UM0Y71AMFJV0\", \"asin\": \"B00FF6J532\", \"reviewerName\": \"TPG\", \"helpful\": [5, 16], \"reviewText\": \"The Surface 2 we purchased has crashed two times in less than a month.  I am returning it.  Unsatisfactory product for a latge amount of $$$$\", \"overall\": 1.0, \"summary\": \"not happy at all\", \"unixReviewTime\": 1389744000, \"reviewTime\": \"01 15, 2014\"}\n",
      "reviews_047.json \t{\"reviewerID\": \"A1G8TS00M6VZL1\", \"asin\": \"B00FF6J532\", \"reviewerName\": \"Trini\", \"helpful\": [0, 1], \"reviewText\": \"I think it is better than the (dare I say) the iPad.  Just as fun, all the connectivity that you require and definitely more productive\", \"overall\": 5.0, \"summary\": \"Better than the iPad\", \"unixReviewTime\": 1388016000, \"reviewTime\": \"12 26, 2013\"}\n",
      "reviews_047.json \t{\"reviewerID\": \"A2VRBCMSQROCI6\", \"asin\": \"B00FF6J532\", \"reviewerName\": \"tyrihay\", \"helpful\": [9, 9], \"reviewText\": \"Day 1 1st Impression* Feels like an upgrade&#9675; Better stand (can use on my lap)&#9675; New finish (unlike the pro)* Camera&#9675; Great quality&#9675; Panoramic mode* 8.1&#9675; Better optimized store experience&#9675; Start button with background&#9675; Resizing tiles* Email&#9675; Better handling of links (opens in side by side window) which your email stays on the screen; if you click other links in email, web is updated to show that link* Keyboard&#9675; Backlight looks nice&#9675; Option onboard to turn off the trackpad!&#9675; Keyboard has better build for maneuvering* Kindle&#9675; Able to highlight (was very difficult in previous model)* Full access to control panel and folders* Not sure why I felt that I needed to spend $500 more for the proCONS* A little sluggish in some apps* Some apps crashed* Some kindle books that I bought are not recognized for windows 8* Still uncomfortable to type on a deskThis is a big improvement over the previous model!I picked mine up at the grand opening of the Microsoft Store in Millenia Mall, Orlando. There is a lot to like about it: screen quality, flash support, access to control panel and folders, windows 8.1 (which has its own improvements) better windows store experience, better stand, new look and finish (unlike the pro), better cameras (with panoramic mode), new keyboard with backlight, options on surface to turn off the trackpad (this is huge!) better kindle app (able to highlight words), and a few free caveats to get you going (office with outlook, premium Skype for a year, 200 GB skydrive for 2 years).There a few cons as well: such as some lag, freezing, and apps crashing. I'm pretty sure these will be fixed with updates. I have only had it for a couple of days, so I will give an update in about a week. The pros definitely outweigh the cons now. With this upgrade, there is no need for me to spend an extra $500 for the pro because the RT has most of the features that I would need! You can take a look at my First Look video by clicking the link below.http://youtu.be/SDWL-cf5n50After a week and a half:PROS* Better bluetooth connectivity&#9675; Previous windows 8 did not allow for easy reconnection&#9675; This time the computer recognizes if you have your bluetooth turned on your device and connects it like in android and ipad* Internet&#9675; Now can slide screen to left or right to go to previous pagesCONS* Issues with type cover not being recognized;&#9675; I turned off the trackpad in settings, but the trackpad is still being registered on my screen* Issues with skydrive&#9675; Its iffy with saving my documents\", \"overall\": 4.0, \"summary\": \"Definitely an Uprade!\", \"unixReviewTime\": 1383609600, \"reviewTime\": \"11 5, 2013\"}\n",
      "reviews_047.json \t{\"reviewerID\": \"A2LBDKC2WCAUKH\", \"asin\": \"B00FF6J532\", \"reviewerName\": \"U. Jacob\", \"helpful\": [2, 2], \"reviewText\": \"I was a touch-screen resistant PC user and this is my first experience with a tablet (except playing with friends' iPad and not liking it much).Heaving read all the negative reviews below and decided to buy it anyway, because of Office being pre-installed and the full size USB port. After testing it for a few days, I can confirm that it has some flaws, but overall it serves my purpose.Now the keypad finally arrived, I can start working - before that everything seemed to take twice as long as normal (may be a user problem), although it offers some clever ways of inputting data in excel sheets and I've finally warmed up to some touch-screen features.Main reasons for only 3 stars:- the link to a Microsoft account to sign in and to use Skype is very annoying- Uploading photos via USB from my camera works reasonably well, but editing them is very limited: Picasa does not seem to work, downloading Picasa HD (free version comes with advertising) lets you see your existing albums, but no editing functions.- basic FB entries work, but I'm having ongoing problems when trying to upload multiple photos to Facebook - seems to take only 1 or 2 at a time, if lucky!- Have not found any interesting apps yet- if anybody found a way to download Google Chrome, please let me know!- does not at work outdoors - way too much glare, screen works like a mirror!Overall, being a totally non-tech person, I found the set-up and customization (replacing all the unwanted Bing apps on the start screen with my favorites) fairly easy and straightforward. Microsoft's online chat has been helpful on a few issues I've encountered in the process.After waking up to a dark screen: battery can drain in 'deep sleep mode' over night, even if you don't notice low battery indicator before (it only shows on the desktop page or lockout screen). Takes 3-4h to fully charge and even more if using it while charging.\", \"overall\": 3.0, \"summary\": \"ok as travel PC with limited functionality\", \"unixReviewTime\": 1403568000, \"reviewTime\": \"06 24, 2014\"}\n",
      "reviews_047.json \t{\"reviewerID\": \"A3SW5AGD91FTEV\", \"asin\": \"B00FF6J532\", \"reviewerName\": \"Unlisted\", \"helpful\": [5, 6], \"reviewText\": \"First the good:Why buy an iPad when you can have a Surface 2!  This device will give you most of what the iPad will give you, plus is a full computer with the complete Office Suite included.  You can actually do real work on this product, unlike the stripped down versions of Pages, Numbers, and Keynote offered on the iPad.Now the bad:The operating system on the Surface 2 is locked down, so you can not install anything buy RT 8.1 Apps.  Unfortunately, these Apps are pretty poor, scarce, and full of advertising unless you pay overpriced prices to remove the adds.  You can find most of your major Apps that you love on your iPad or iPhone, but then it is a VERY steep drop off in availability and quality of Apps.  To get around the locked down operating system and install your own software, you will need to instead buy the Surface 2 Pro, but at that price, why not just buy a small full featured laptop instead?  Note that you can not run PortableApps off a USB drive because the RT8.1 runs on an ARM chip, while PortableApps is designed for an Intel chip.  No windows .exe files will run on the Surface 2, you will need to upgrade to a Surface 2 Pro for that power, but then why not just buy a nice small laptop instead?Summary:The biggest frustration of the Surface 2 is the lack of good Apps beyond the major Apps, and the inability to install any software.  MICROSOFT really needs to develop some good core Apps for free, and also get more external developers to port their Apps over to the Surface 2.  But the power of having a full Office Suite, internet, and the major Apps on this device make it a better choice than an iPad.\", \"overall\": 3.0, \"summary\": \"The good and the bad\", \"unixReviewTime\": 1394841600, \"reviewTime\": \"03 15, 2014\"}\n",
      "reviews_047.json \t{\"reviewerID\": \"A35L2E8M7S59MQ\", \"asin\": \"B00FF6J532\", \"reviewerName\": \"V. Berk\", \"helpful\": [5, 7], \"reviewText\": \"I've always been interested in Microsoft's Surface line, but decided to hold off on the device's first generation.  With the inclusion of Microsoft Office, two years worth of 200 GB Skydrive Cloud Storage, I decided to go with the Surface 2 tablet (along with a purple Type Cover 2).  I'm not qualified to compare specs, and hardware to other tablets, but I can describe my favorite features.1. The Surface is a great looking tablet.  Surface's design is what attracted me to it in the first place.  In an age where their are countless iPad clones, and indistinguishable flood of Android tablets on the market the Surface immediately sets itself apart.  More importantly: Surface has a practical design!  The Surface 2's improved kickstand that now comes with two fixed positions can fit just about any situation (lap, desk, bed, etc.).  Microsoft designed this product to go hand-in-hand with their Touch and Type covers, and you really aren't fully experiencing Surface without one (although it works fine as a standalone tablet since Microsoft's touch keyboard is pretty good).  I can say that the Type Cover 2 (now with back lit keys) is a worthwhile accessory to invest in (it now comes in multiple colors!).  I also hear the Touch Cover 2 is a significant improvement over the first generation!2. Those free 200 GBs worth of cloud storage and the device's integration with Skydrive cannot be overstated.  Already I find myself keeping as much of my work in the cloud as possible, and if I'm worried about connection the USB 3.0 port allows for easy, hands-on data transportation on flash drives and even full-sized external hard drives!  .  This device makes working on the go, or across multiple work stations a breeze!  This coupled with the expandable memory through Micro SD makes me question why anyone would ever need more internal storage for the Surface 2.  If flexibility, and mobile work is something you care about the Surface 2 is an outstanding choice of tablet.3. Surface 2's battery life allows me to use it all day.  I can take notes during lectures, work on a paper, listen to music, stream moves all over the course of a day and still have a sufficient charge.  I then make it back, charge it over night, and I'm good to go another day (and often times I don't use it THAT much, so doing all those things was me testing the battery life.  Typically I only use up 10-15% of the charge on a regular day).4.  Xbox integration.  It is awesome earning Xbox Achievements on the go with mobile games!  You also have access to Xbox Video and Xbox Music (I had a brief problem connected to my Xbox Video account the first week, and I don't know if it was an update or what but now I can stream my Xbox Video movies and TV shows with ease).This is a great product, pure and simple.  Ever since I got my Surface 2 I've found that I only need my laptop when I'm working on more demanding tasks such as gaming, Photoshop, and video editing.  I don't think the Surface 2 (running Windows RT) is by any means a laptop replacement, but it is an outstanding tablet for work and media consumption.  If you're looking for a portable device that works within the Microsoft ecosystem, runs Office, is integrated with the cloud, and is just practical for quick and easy on-the-go work the Surface 2 is an outstanding choice.Notes (will update with time):* Keep at least 3GBs free on your Surface 2's internal storage.  Your local drive needs to have at least 3GBs free to access, and make use of Skydrive.  Trust me, those 200GBs of free cloud storage are worth it!* Freeze Ups Sometimes if you're running too many apps for too long on Surface 2 it can freeze up.  This isn't a major problem, and doesn't happen often enough for me to change my rating.  If you need to restart the device hold down the Home button at the bottom of the tablet and the power button until it vibrates.  This will get you up and running in no time.\", \"overall\": 5.0, \"summary\": \"Great for a College Student!\", \"unixReviewTime\": 1383264000, \"reviewTime\": \"11 1, 2013\"}\n",
      "reviews_047.json \t{\"reviewerID\": \"A1FA7766VZJXNQ\", \"asin\": \"B00FF6J532\", \"reviewerName\": \"visayan1\", \"helpful\": [0, 3], \"reviewText\": \"But unable to load Firefox and other programs because it does not have an app for it. Tried looking for the app in the Microsoft App Store, but it was non-existent. Had to return it.\", \"overall\": 2.0, \"summary\": \"Only good for Internet Surfing\", \"unixReviewTime\": 1394755200, \"reviewTime\": \"03 14, 2014\"}\n",
      "reviews_047.json \t{\"reviewerID\": \"A3BLIXDKRD35UY\", \"asin\": \"B00FF6J532\", \"reviewerName\": \"V. Sethuraman \\\"VS\\\"\", \"helpful\": [7, 7], \"reviewText\": \"I have owned the surface2 for about a month now. Very impressed and happy with the performance so far. I knew before hand that it is RT, not regular windows & wont support legacy software. There is a lot of complaining about this. I think if people did a little bit research before buying they would know this. Here are some of my thoughts:Pros:Performance - Very snappy with no lag, buttery smooth and have had no crashes yet.Build - You can easily tell that this is a quality product with premium material and looks and feels classyDisplay - Stunning colors and excellent uniformity and contrastBrowser - Very quick and supports flash, any apps you dont find can be run via the browser. E.g.: I couldnt find amazon video app but was able to watch videos via the browser, also you can pin websites directly into metroPorts - microSD, UBS 3.0, HD video (smaller one); I had USB headphones & it works great (didnt have to buy yet another accessory!)Mulitasking - I am really surprised how much I use and love the split screen (e.g.: in email, click a link, view link in split window then either go to the next email or close browser and done)Multiple users - Me, wife & boy have our own accounts with own apps & content (cant emphasis the usefullness of child account enough)Office RT - Havent really used it much (this was the main reason I bought the surface, oh well)Kick stand - Use it all the time, once you use it cant really live without it.Battery Life - Not really evaluated it but charge it once 3 or 4 daysCons:Apps - Some apps are excellent but most thrid party apps are pretty bad (most essential apps are available & are good quality). FYI, flipboard is amazing!Browser flash sometimes causes issuesSound from speaker not the bestI have used the iPad & some android products before. iPad was alright but I was annoyed with constant use of the home button and switching b/w apps was cumbersome. Had a Toshiba android table, worst experince ever. Much happier with the surface.\", \"overall\": 5.0, \"summary\": \"Better product than some reviews would have you believe\", \"unixReviewTime\": 1386720000, \"reviewTime\": \"12 11, 2013\"}\n",
      "reviews_047.json \t{\"reviewerID\": \"A31JJRZRP92C92\", \"asin\": \"B00FF6J532\", \"reviewerName\": \"Walt\", \"helpful\": [3, 4], \"reviewText\": \"Let me get this out of the way, having owned the Surface RT and now the Surface 2, I want to start off with the Surface 2 is way underrated and definitely better than the generation 1 Surface RT.  Yes, they are technically the same concept but you have to compare it with the analogy as if they were both cars, one is the Delorian and one is a Mercedes/BMW.  The hardware on the Surface 2 is far superior than that of the Surface RT but the concept is still the same.Why did I say that this device has an identity crisis?  Simply this.  When we use a tablet, it's mainly a rectangle where we can carry with us, hold on our beds to play minigames, read books, watch movies/tv, and use apps.  The Surface 2 can do that, but it has problems doing so (in my opinion)-Let's start with reading.  When we read books/magazines/websites, normally we read in portrait mode.  Reading the Surface 2 in portrait mode is awkward and hard to hold long without feeling uncomfortable. For reading books or magazines etc., get a 7 or 8 inch tablet.-Watching TV/Movies with Netflix, Amazon Prime, YouTube, etc. don't need an app.  You can run them natively on the IE browser.  The apps (save Netflix) are either nonexistent or just plain suck.  But because you can just use the browser, it's like a laptop rather than a tablet.-And finally, the apps.  What can I say about the apps except that it does have Evernote, but made poorly-the browser login to Evernote is better than the app itself.  You'll find this in a lot of cases, either because you are just used to using the browser or you are used to the Android or Apple version.-Can't install software outside of the app store.  This statement alone makes the Surface 2 a tablet.The best way to say is that this is a tablet that tries to be a laptop and a tablet but fails at both because it's not one or the other per se.  It's not the best tablet; nor is it a good laptop since you can't install whatever software you want.  However, it does the job of an \\\"extension of your PC\\\" if you will, VERY WELL.  Microsoft Office is pretty much the same across the board except you can't add any addons (such as Khalix etc.).Once the Microsoft App Store is at the same level of Android and Apple however, Microsoft has the potential to beat them both.  However, getting there seems to be a huge problem.  Until then though, I love using this as an \\\"extension of my PC.\\\"\", \"overall\": 5.0, \"summary\": \"Identity Crisis Tablet/Laptop with Restrictions BUT...\", \"unixReviewTime\": 1384300800, \"reviewTime\": \"11 13, 2013\"}\n",
      "reviews_047.json \t{\"reviewerID\": \"A3BQMJI3NTQAA4\", \"asin\": \"B00FF6J532\", \"reviewerName\": \"White Sox Fan\", \"helpful\": [0, 0], \"reviewText\": \"The surface 2 works well over the few months of ownership, which is not enough time.to verify durability. Support has been excellent, and operation has been relatively easy for a first time tablet user. Normal USB port is a big plus. Only major complaint is way too much advertising, especially in apps, and they cannot be blocked.\", \"overall\": 4.0, \"summary\": \"Good windows tablet\", \"unixReviewTime\": 1390867200, \"reviewTime\": \"01 28, 2014\"}\n",
      "reviews_047.json \t{\"reviewerID\": \"A16VLOFZ3PRD02\", \"asin\": \"B00FF6J532\", \"reviewerName\": \"Yuri\", \"helpful\": [0, 0], \"reviewText\": \"It is exactly what I wanted. The only thing missing is a keyboard with Cyrillic letters for this very item.\", \"overall\": 5.0, \"summary\": \"It's exactly what I wanted\", \"unixReviewTime\": 1385510400, \"reviewTime\": \"11 27, 2013\"}\n"
     ]
    }
   ],
   "source": [
    "for i in range(len(sorted(fl))):\n",
    "    rv = file2string('json/'+ (sorted(fl))[i])\n",
    "    for r in rv:\n",
    "        if item_dictionary.keys()[17] in r:\n",
    "            print (sorted(fl))[i],\"\\t\",r"
   ]
  },
  {
   "cell_type": "code",
   "execution_count": null,
   "metadata": {
    "collapsed": false
   },
   "outputs": [],
   "source": []
  },
  {
   "cell_type": "code",
   "execution_count": null,
   "metadata": {
    "collapsed": false
   },
   "outputs": [],
   "source": []
  },
  {
   "cell_type": "code",
   "execution_count": null,
   "metadata": {
    "collapsed": true
   },
   "outputs": [],
   "source": []
  },
  {
   "cell_type": "code",
   "execution_count": null,
   "metadata": {
    "collapsed": true
   },
   "outputs": [],
   "source": []
  },
  {
   "cell_type": "code",
   "execution_count": null,
   "metadata": {
    "collapsed": true
   },
   "outputs": [],
   "source": []
  },
  {
   "cell_type": "code",
   "execution_count": null,
   "metadata": {
    "collapsed": true
   },
   "outputs": [],
   "source": []
  },
  {
   "cell_type": "code",
   "execution_count": null,
   "metadata": {
    "collapsed": true
   },
   "outputs": [],
   "source": []
  },
  {
   "cell_type": "code",
   "execution_count": null,
   "metadata": {
    "collapsed": true
   },
   "outputs": [],
   "source": []
  },
  {
   "cell_type": "code",
   "execution_count": null,
   "metadata": {
    "collapsed": true
   },
   "outputs": [],
   "source": []
  },
  {
   "cell_type": "code",
   "execution_count": null,
   "metadata": {
    "collapsed": true
   },
   "outputs": [],
   "source": []
  },
  {
   "cell_type": "code",
   "execution_count": null,
   "metadata": {
    "collapsed": false
   },
   "outputs": [],
   "source": []
  },
  {
   "cell_type": "code",
   "execution_count": null,
   "metadata": {
    "collapsed": false
   },
   "outputs": [],
   "source": []
  },
  {
   "cell_type": "code",
   "execution_count": 174,
   "metadata": {
    "collapsed": true
   },
   "outputs": [],
   "source": [
    "### This will give the list of tuples which contain the reviews and it's rating. \n",
    "\n",
    "\n",
    "lmp = []\n",
    "for i in range(len(afn)):\n",
    "    tup = (review_list[i],afn[i])\n",
    "    lmp.append(tup)"
   ]
  },
  {
   "cell_type": "code",
   "execution_count": 98,
   "metadata": {
    "collapsed": false,
    "scrolled": true
   },
   "outputs": [],
   "source": [
    "#lmp"
   ]
  },
  {
   "cell_type": "code",
   "execution_count": 176,
   "metadata": {
    "collapsed": true
   },
   "outputs": [],
   "source": [
    "dictn={}\n",
    "dictn[item_ids]=lmp"
   ]
  },
  {
   "cell_type": "code",
   "execution_count": null,
   "metadata": {
    "collapsed": false,
    "scrolled": true
   },
   "outputs": [],
   "source": []
  },
  {
   "cell_type": "code",
   "execution_count": 17,
   "metadata": {
    "collapsed": true
   },
   "outputs": [],
   "source": [
    "import nltk"
   ]
  },
  {
   "cell_type": "code",
   "execution_count": 20,
   "metadata": {
    "collapsed": false
   },
   "outputs": [
    {
     "name": "stdout",
     "output_type": "stream",
     "text": [
      "showing info http://www.nltk.org/nltk_data/\n",
      "showing info http://www.nltk.org/nltk_data/\n",
      "showing info http://www.nltk.org/nltk_data/\n"
     ]
    },
    {
     "data": {
      "text/plain": [
       "True"
      ]
     },
     "execution_count": 20,
     "metadata": {},
     "output_type": "execute_result"
    }
   ],
   "source": [
    "nltk.download()"
   ]
  },
  {
   "cell_type": "code",
   "execution_count": null,
   "metadata": {
    "collapsed": false
   },
   "outputs": [],
   "source": []
  },
  {
   "cell_type": "code",
   "execution_count": 27,
   "metadata": {
    "collapsed": false
   },
   "outputs": [
    {
     "name": "stderr",
     "output_type": "stream",
     "text": [
      "/home/harsh/anaconda/lib/python2.7/site-packages/nltk/twitter/__init__.py:20: UserWarning: The twython library has not been installed. Some functionality from the twitter package will not be available.\n",
      "  warnings.warn(\"The twython library has not been installed. \"\n"
     ]
    }
   ],
   "source": [
    "import collections, itertools\n",
    "import nltk.classify.util, nltk.metrics\n",
    "from nltk.classify import NaiveBayesClassifier\n",
    "from nltk.corpus import movie_reviews, stopwords\n",
    "from nltk.collocations import BigramCollocationFinder\n",
    "from nltk.metrics import BigramAssocMeasures\n",
    "from nltk.probability import FreqDist, ConditionalFreqDist\n",
    "from nltk.sentiment.vader import SentimentIntensityAnalyzer"
   ]
  },
  {
   "cell_type": "code",
   "execution_count": 30,
   "metadata": {
    "collapsed": false
   },
   "outputs": [],
   "source": [
    "sentences = [\"VADER is smart, handsome, and funny.\", # positive sentence example\n",
    "...    \"VADER is smart, handsome, and funny!\", # punctuation emphasis handled correctly (sentiment intensity adjusted)\n",
    "...    \"VADER is very smart, handsome, and funny.\",  # booster words handled correctly (sentiment intensity adjusted)\n",
    "...    \"VADER is VERY SMART, handsome, and FUNNY.\",  # emphasis for ALLCAPS handled\n",
    "...    \"VADER is VERY SMART, handsome, and FUNNY!!!\",# combination of signals - VADER appropriately adjusts intensity\n",
    "...    \"VADER is VERY SMART, really handsome, and INCREDIBLY FUNNY!!!\",# booster words & punctuation make this close to ceiling for score\n",
    "...    \"The book was good.\",         # positive sentence\n",
    "...    \"The book was kind of good.\", # qualified positive sentence is handled correctly (intensity adjusted)\n",
    "...    \"The plot was good, but the characters are uncompelling and the dialog is not great.\", # mixed negation sentence\n",
    "...    \"A really bad, horrible book.\",       # negative sentence with booster words\n",
    "...    \"At least it isn't a horrible book.\", # negated negative sentence with contraction\n",
    "...    \":) and :D\",     # emoticons handled\n",
    "...    \"\",              # an empty string is correctly handled\n",
    "...    \"Today sux\",     #  negative slang handled\n",
    "...    \"Today sux!\",    #  negative slang with punctuation emphasis handled\n",
    "...    \"Today SUX!\",    #  negative slang with capitalization emphasis\n",
    "...    \"Today kinda sux! But I'll get by, lol\" # mixed sentiment example with slang and constrastive conjunction \"but\"\n",
    "... ]"
   ]
  },
  {
   "cell_type": "code",
   "execution_count": 31,
   "metadata": {
    "collapsed": true
   },
   "outputs": [],
   "source": [
    "paragraph = \"It was one of the worst movies I've seen, despite good reviews. \\\n",
    "... Unbelievably bad acting!! Poor direction. VERY poor production. \\\n",
    "... The movie was bad. Very bad movie. VERY bad movie. VERY BAD movie. VERY BAD movie!\"\n"
   ]
  },
  {
   "cell_type": "code",
   "execution_count": 32,
   "metadata": {
    "collapsed": true
   },
   "outputs": [],
   "source": [
    "from nltk import tokenize"
   ]
  },
  {
   "cell_type": "code",
   "execution_count": 33,
   "metadata": {
    "collapsed": true
   },
   "outputs": [],
   "source": [
    "lines_list = tokenize.sent_tokenize(paragraph)"
   ]
  },
  {
   "cell_type": "code",
   "execution_count": 34,
   "metadata": {
    "collapsed": true
   },
   "outputs": [],
   "source": [
    "sentences.extend(lines_list)"
   ]
  },
  {
   "cell_type": "code",
   "execution_count": 35,
   "metadata": {
    "collapsed": true
   },
   "outputs": [],
   "source": [
    "tricky_sentences = [\n",
    "...    \"Most automated sentiment analysis tools are shit.\",\n",
    "...    \"VADER sentiment analysis is the shit.\",\n",
    "...    \"Sentiment analysis has never been good.\",\n",
    "...    \"Sentiment analysis with VADER has never been this good.\",\n",
    "...    \"Warren Beatty has never been so entertaining.\",\n",
    "...    \"I won't say that the movie is astounding and I wouldn't claim that \\\n",
    "...    the movie is too banal either.\",\n",
    "...    \"I like to hate Michael Bay films, but I couldn't fault this one\",\n",
    "...    \"It's one thing to watch an Uwe Boll film, but another thing entirely \\\n",
    "...    to pay for it\",\n",
    "...    \"The movie was too good\",\n",
    "...    \"This movie was actually neither that funny, nor super witty.\",\n",
    "...    \"This movie doesn't care about cleverness, wit or any other kind of \\\n",
    "...    intelligent humor.\",\n",
    "...    \"Those who find ugly meanings in beautiful things are corrupt without \\\n",
    "...    being charming.\",\n",
    "...    \"There are slow and repetitive parts, BUT it has just enough spice to \\\n",
    "...    keep it interesting.\",\n",
    "...    \"The script is not fantastic, but the acting is decent and the cinematography \\\n",
    "...    is EXCELLENT!\",\n",
    "...    \"Roger Dodger is one of the most compelling variations on this theme.\",\n",
    "...    \"Roger Dodger is one of the least compelling variations on this theme.\",\n",
    "...    \"Roger Dodger is at least compelling as a variation on the theme.\",\n",
    "...    \"they fall in love with the product\",\n",
    "...    \"but then it breaks\",\n",
    "...    \"usually around the time the 90 day warranty expires\",\n",
    "...    \"the twin towers collapsed today\",\n",
    "...    \"However, Mr. Carter solemnly argues, his client carried out the kidnapping \\\n",
    "...    under orders and in the ''least offensive way possible.''\"\n",
    "... ]"
   ]
  },
  {
   "cell_type": "code",
   "execution_count": 36,
   "metadata": {
    "collapsed": true
   },
   "outputs": [],
   "source": [
    "sentences.extend(tricky_sentences)"
   ]
  },
  {
   "cell_type": "code",
   "execution_count": 79,
   "metadata": {
    "collapsed": false
   },
   "outputs": [],
   "source": [
    "#sid = SentimentIntensityAnalyzer()"
   ]
  },
  {
   "cell_type": "code",
   "execution_count": null,
   "metadata": {
    "collapsed": true
   },
   "outputs": [],
   "source": []
  },
  {
   "cell_type": "code",
   "execution_count": null,
   "metadata": {
    "collapsed": true
   },
   "outputs": [],
   "source": []
  },
  {
   "cell_type": "code",
   "execution_count": 28,
   "metadata": {
    "collapsed": false
   },
   "outputs": [],
   "source": [
    "from nltk.classify import NaiveBayesClassifier"
   ]
  },
  {
   "cell_type": "code",
   "execution_count": 386,
   "metadata": {
    "collapsed": false,
    "scrolled": true
   },
   "outputs": [],
   "source": [
    "from nltk.corpus import sentiwordnet as swn"
   ]
  },
  {
   "cell_type": "code",
   "execution_count": 373,
   "metadata": {
    "collapsed": false
   },
   "outputs": [
    {
     "name": "stdout",
     "output_type": "stream",
     "text": [
      "<happy.a.01: PosScore=0.875 NegScore=0.0>\n"
     ]
    }
   ],
   "source": [
    "happy = swn.senti_synsets('happy', 'a')[0]\n",
    "print happy"
   ]
  },
  {
   "cell_type": "code",
   "execution_count": 374,
   "metadata": {
    "collapsed": false
   },
   "outputs": [
    {
     "name": "stdout",
     "output_type": "stream",
     "text": [
      "<hate.n.01: PosScore=0.125 NegScore=0.375>\n"
     ]
    }
   ],
   "source": [
    "sad = swn.senti_synsets('hate', 'n')[0]\n",
    "print sad"
   ]
  },
  {
   "cell_type": "code",
   "execution_count": 375,
   "metadata": {
    "collapsed": true
   },
   "outputs": [],
   "source": [
    "sentence = \"\"\"At eight o'clock on Thursday morning\n",
    "... Arthur didn't feel very good.\"\"\""
   ]
  },
  {
   "cell_type": "code",
   "execution_count": 377,
   "metadata": {
    "collapsed": true
   },
   "outputs": [],
   "source": [
    "tokens = nltk.word_tokenize(sentence)\n",
    "tagged = nltk.pos_tag(tokens)"
   ]
  },
  {
   "cell_type": "code",
   "execution_count": 378,
   "metadata": {
    "collapsed": true
   },
   "outputs": [],
   "source": [
    "entities = nltk.chunk.ne_chunk(tagged)"
   ]
  },
  {
   "cell_type": "code",
   "execution_count": 379,
   "metadata": {
    "collapsed": false
   },
   "outputs": [
    {
     "data": {
      "image/png": "[encoded data removed]",
      "text/plain": [
       "Tree('S', [('At', 'IN'), ('eight', 'CD'), (\"o'clock\", 'JJ'), ('on', 'IN'), ('Thursday', 'NNP'), ('morning', 'NN'), Tree('PERSON', [('Arthur', 'NNP')]), ('did', 'VBD'), (\"n't\", 'RB'), ('feel', 'VB'), ('very', 'RB'), ('good', 'JJ'), ('.', '.')])"
      ]
     },
     "execution_count": 379,
     "metadata": {},
     "output_type": "execute_result"
    }
   ],
   "source": [
    "entities"
   ]
  },
  {
   "cell_type": "code",
   "execution_count": 380,
   "metadata": {
    "collapsed": true
   },
   "outputs": [],
   "source": [
    "from nltk.corpus import treebank"
   ]
  },
  {
   "cell_type": "code",
   "execution_count": 381,
   "metadata": {
    "collapsed": true
   },
   "outputs": [],
   "source": [
    "t = treebank.parsed_sents('wsj_0001.mrg')[0]"
   ]
  },
  {
   "cell_type": "code",
   "execution_count": 382,
   "metadata": {
    "collapsed": true
   },
   "outputs": [],
   "source": [
    "t.draw()"
   ]
  },
  {
   "cell_type": "code",
   "execution_count": 365,
   "metadata": {
    "collapsed": false
   },
   "outputs": [
    {
     "name": "stdout",
     "output_type": "stream",
     "text": [
      "*** Introductory Examples for the NLTK Book ***\n",
      "Loading text1, ..., text9 and sent1, ..., sent9\n",
      "Type the name of the text or sentence to view it.\n",
      "Type: 'texts()' or 'sents()' to list the materials.\n",
      "text1: Moby Dick by Herman Melville 1851\n",
      "text2: Sense and Sensibility by Jane Austen 1811\n",
      "text3: The Book of Genesis\n",
      "text4: Inaugural Address Corpus\n",
      "text5: Chat Corpus\n",
      "text6: Monty Python and the Holy Grail\n",
      "text7: Wall Street Journal\n",
      "text8: Personals Corpus\n",
      "text9: The Man Who Was Thursday by G . K . Chesterton 1908\n"
     ]
    }
   ],
   "source": [
    "from nltk.book import *"
   ]
  },
  {
   "cell_type": "code",
   "execution_count": 367,
   "metadata": {
    "collapsed": false
   },
   "outputs": [
    {
     "data": {
      "text/plain": [
       "[u'The', u'Fulton', u'County', u'Grand', u'Jury', ...]"
      ]
     },
     "execution_count": 367,
     "metadata": {},
     "output_type": "execute_result"
    }
   ],
   "source": [
    "from nltk.corpus import brown\n",
    "brown.words()"
   ]
  },
  {
   "cell_type": "code",
   "execution_count": 391,
   "metadata": {
    "collapsed": false
   },
   "outputs": [
    {
     "ename": "IOError",
     "evalue": "[Errno 2] No such file or directory: '/path/to/NAME_OF_CLASSIFIER.pickle'",
     "output_type": "error",
     "traceback": [
      "\u001b[1;31m---------------------------------------------------------------------------\u001b[0m",
      "\u001b[1;31mIOError\u001b[0m                                   Traceback (most recent call last)",
      "\u001b[1;32m<ipython-input-391-1edf39a9b9b0>\u001b[0m in \u001b[0;36m<module>\u001b[1;34m()\u001b[0m\n\u001b[0;32m      1\u001b[0m \u001b[1;32mimport\u001b[0m \u001b[0mpickle\u001b[0m\u001b[1;33m\u001b[0m\u001b[0m\n\u001b[1;32m----> 2\u001b[1;33m \u001b[0mclassifier\u001b[0m \u001b[1;33m=\u001b[0m \u001b[0mpickle\u001b[0m\u001b[1;33m.\u001b[0m\u001b[0mload\u001b[0m\u001b[1;33m(\u001b[0m\u001b[0mopen\u001b[0m\u001b[1;33m(\u001b[0m\u001b[1;34m\"/path/to/NAME_OF_CLASSIFIER.pickle\"\u001b[0m\u001b[1;33m)\u001b[0m\u001b[1;33m)\u001b[0m\u001b[1;33m\u001b[0m\u001b[0m\n\u001b[0m",
      "\u001b[1;31mIOError\u001b[0m: [Errno 2] No such file or directory: '/path/to/NAME_OF_CLASSIFIER.pickle'"
     ]
    }
   ],
   "source": [
    "import pickle\n",
    "classifier = pickle.load(open(\"/path/to/NAME_OF_CLASSIFIER.pickle\"))"
   ]
  },
  {
   "cell_type": "code",
   "execution_count": null,
   "metadata": {
    "collapsed": true
   },
   "outputs": [],
   "source": []
  },
  {
   "cell_type": "code",
   "execution_count": 179,
   "metadata": {
    "collapsed": false
   },
   "outputs": [],
   "source": [
    "avg = sum(afn)/len(afn)"
   ]
  },
  {
   "cell_type": "code",
   "execution_count": 182,
   "metadata": {
    "collapsed": false
   },
   "outputs": [
    {
     "data": {
      "text/plain": [
       "3.1"
      ]
     },
     "execution_count": 182,
     "metadata": {},
     "output_type": "execute_result"
    }
   ],
   "source": [
    "avg"
   ]
  },
  {
   "cell_type": "code",
   "execution_count": null,
   "metadata": {
    "collapsed": true
   },
   "outputs": [],
   "source": []
  },
  {
   "cell_type": "code",
   "execution_count": null,
   "metadata": {
    "collapsed": true
   },
   "outputs": [],
   "source": []
  },
  {
   "cell_type": "code",
   "execution_count": 250,
   "metadata": {
    "collapsed": false,
    "scrolled": true
   },
   "outputs": [
    {
     "data": {
      "text/plain": [
       "-2.0"
      ]
     },
     "execution_count": 250,
     "metadata": {},
     "output_type": "execute_result"
    }
   ],
   "source": [
    "dictn.items()[0][1][0][1]"
   ]
  },
  {
   "cell_type": "code",
   "execution_count": 237,
   "metadata": {
    "collapsed": false
   },
   "outputs": [],
   "source": [
    "i = 0"
   ]
  },
  {
   "cell_type": "code",
   "execution_count": 239,
   "metadata": {
    "collapsed": false
   },
   "outputs": [
    {
     "data": {
      "text/plain": [
       "-2.0"
      ]
     },
     "execution_count": 239,
     "metadata": {},
     "output_type": "execute_result"
    }
   ],
   "source": [
    "dictn.values()[0][0][1]"
   ]
  },
  {
   "cell_type": "code",
   "execution_count": 241,
   "metadata": {
    "collapsed": false
   },
   "outputs": [],
   "source": [
    "##### Find the list of tuple which contains 'touch' word\n",
    "\n",
    "mp = []\n",
    "for i in range(len(dictn.values()[0])):\n",
    "    lst = str(dictn.values()[0][i][0]).lower()\n",
    "    if re.findall(r'touch\\S*', lst):\n",
    "        tup=(lst,dictn.values()[0][i][1])\n",
    "        mp.append(tup)\n",
    "            "
   ]
  },
  {
   "cell_type": "code",
   "execution_count": null,
   "metadata": {
    "collapsed": false
   },
   "outputs": [],
   "source": []
  },
  {
   "cell_type": "code",
   "execution_count": 392,
   "metadata": {
    "collapsed": false
   },
   "outputs": [
    {
     "name": "stdout",
     "output_type": "stream",
     "text": [
      "train on 1500 instances, test on 500 instances\n",
      "accuracy: 0.728\n",
      "Most Informative Features\n",
      "             magnificent = True              pos : neg    =     15.0 : 1.0\n",
      "             outstanding = True              pos : neg    =     13.6 : 1.0\n",
      "               insulting = True              neg : pos    =     13.0 : 1.0\n",
      "              vulnerable = True              pos : neg    =     12.3 : 1.0\n",
      "               ludicrous = True              neg : pos    =     11.8 : 1.0\n",
      "                  avoids = True              pos : neg    =     11.7 : 1.0\n",
      "             uninvolving = True              neg : pos    =     11.7 : 1.0\n",
      "              astounding = True              pos : neg    =     10.3 : 1.0\n",
      "             fascination = True              pos : neg    =     10.3 : 1.0\n",
      "                 idiotic = True              neg : pos    =      9.8 : 1.0\n"
     ]
    }
   ],
   "source": [
    "def word_feats(words):\n",
    "    return dict([(word, True) for word in words])\n",
    " \n",
    "negids = movie_reviews.fileids('neg')\n",
    "posids = movie_reviews.fileids('pos')\n",
    " \n",
    "negfeats = [(word_feats(movie_reviews.words(fileids=[f])), 'neg') for f in negids]\n",
    "posfeats = [(word_feats(movie_reviews.words(fileids=[f])), 'pos') for f in posids]\n",
    " \n",
    "negcutoff = len(negfeats)*3/4\n",
    "poscutoff = len(posfeats)*3/4\n",
    " \n",
    "trainfeats = negfeats[:negcutoff] + posfeats[:poscutoff]\n",
    "testfeats = negfeats[negcutoff:] + posfeats[poscutoff:]\n",
    "print 'train on %d instances, test on %d instances' % (len(trainfeats), len(testfeats))\n",
    " \n",
    "classifier = NaiveBayesClassifier.train(trainfeats)\n",
    "print 'accuracy:', nltk.classify.util.accuracy(classifier, testfeats)\n",
    "classifier.show_most_informative_features()"
   ]
  },
  {
   "cell_type": "code",
   "execution_count": null,
   "metadata": {
    "collapsed": true
   },
   "outputs": [],
   "source": []
  },
  {
   "cell_type": "code",
   "execution_count": null,
   "metadata": {
    "collapsed": true
   },
   "outputs": [],
   "source": []
  },
  {
   "cell_type": "code",
   "execution_count": null,
   "metadata": {
    "collapsed": true
   },
   "outputs": [],
   "source": []
  },
  {
   "cell_type": "code",
   "execution_count": null,
   "metadata": {
    "collapsed": false
   },
   "outputs": [],
   "source": []
  },
  {
   "cell_type": "code",
   "execution_count": null,
   "metadata": {
    "collapsed": false
   },
   "outputs": [],
   "source": []
  },
  {
   "cell_type": "code",
   "execution_count": 3,
   "metadata": {
    "collapsed": true
   },
   "outputs": [],
   "source": [
    "#Replace the word which contains n't i.e wouldn't,shouldn't  \n",
    "#   with not and return the string.   \n",
    "\n",
    "def replace_with_not(string):\n",
    "    ns = \" \"\n",
    "    suffix = \"n't\"\n",
    "    word = \"not\"\n",
    "    for stn in string.split():\n",
    "        if stn.endswith(suffix):\n",
    "            stn = stn[:-3]\n",
    "            ns += stn + ' ' + word + ' '\n",
    "        else:\n",
    "            ns += stn + ' '\n",
    "    print ns"
   ]
  },
  {
   "cell_type": "code",
   "execution_count": 4,
   "metadata": {
    "collapsed": false
   },
   "outputs": [
    {
     "name": "stdout",
     "output_type": "stream",
     "text": [
      " he does not like it would not should not \n"
     ]
    }
   ],
   "source": [
    "replace_with_not(\"he doesn't like it wouldn't shouldn't\")"
   ]
  },
  {
   "cell_type": "code",
   "execution_count": null,
   "metadata": {
    "collapsed": true
   },
   "outputs": [],
   "source": []
  },
  {
   "cell_type": "code",
   "execution_count": 75,
   "metadata": {
    "collapsed": false,
    "scrolled": true
   },
   "outputs": [],
   "source": [
    "#%run \"Classification.ipynb\""
   ]
  },
  {
   "cell_type": "code",
   "execution_count": 76,
   "metadata": {
    "collapsed": false,
    "scrolled": true
   },
   "outputs": [],
   "source": [
    "#item_ids"
   ]
  },
  {
   "cell_type": "code",
   "execution_count": null,
   "metadata": {
    "collapsed": false
   },
   "outputs": [],
   "source": []
  }
 ],
 "metadata": {
  "kernelspec": {
   "display_name": "Python 2",
   "language": "python",
   "name": "python2"
  },
  "language_info": {
   "codemirror_mode": {
    "name": "ipython",
    "version": 2
   },
   "file_extension": ".py",
   "mimetype": "text/x-python",
   "name": "python",
   "nbconvert_exporter": "python",
   "pygments_lexer": "ipython2",
   "version": "2.7.6"
  }
 },
 "nbformat": 4,
 "nbformat_minor": 0
}
