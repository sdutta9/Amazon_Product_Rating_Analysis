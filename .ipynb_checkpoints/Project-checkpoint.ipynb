{
 "cells": [
  {
   "cell_type": "code",
   "execution_count": 1,
   "metadata": {
    "collapsed": true
   },
   "outputs": [],
   "source": [
    "# All Imports\n",
    "from collections import Counter\n",
    "from operator import itemgetter\n",
    "import ConfigParser\n",
    "import matplotlib.pyplot as plt\n",
    "import networkx as nx\n",
    "import sys\n",
    "import time\n",
    "import io\n",
    "import os\n",
    "import re\n",
    "import nltk\n",
    "import string\n",
    "import shutil\n",
    "import hashlib\n",
    "from sklearn.cross_validation import KFold\n",
    "from sklearn import cross_validation\n",
    "from sklearn.feature_extraction.text import CountVectorizer\n",
    "from sklearn.linear_model import LogisticRegression\n",
    "from sklearn.metrics import accuracy_score\n",
    "#nltk.download()\n",
    "from tabulate import tabulate\n",
    "from nltk.corpus import sentiwordnet\n",
    "from nltk.corpus import SentiWordNetCorpusReader, SentiSynset\n",
    "import pylab as plt\n",
    "import numpy as np\n",
    "import scipy.stats as stats\n",
    "import pylab as pl\n",
    "%matplotlib inline\n",
    "swn_root = './'\n",
    "swn_filename = 'SentiWordNet_3.0.0_20130122.txt'\n",
    "swn = SentiWordNetCorpusReader(swn_root,swn_filename,encoding='utf-8')"
   ]
  },
  {
   "cell_type": "code",
   "execution_count": 2,
   "metadata": {
    "collapsed": true
   },
   "outputs": [],
   "source": [
    "# Converts a file to list of strings where each item is one line of the file.\n",
    "def file2string(filename):\n",
    "    result = []\n",
    "    result = io.open(filename, encoding='utf8').readlines()\n",
    "    for val in range(0,len(result)):\n",
    "        result[val]=re.sub(\"\\n\",\"\",result[val])        \n",
    "    return result"
   ]
  },
  {
   "cell_type": "code",
   "execution_count": 3,
   "metadata": {
    "collapsed": false
   },
   "outputs": [
    {
     "name": "stdout",
     "output_type": "stream",
     "text": [
      "Created product dictionary with 40 products\n"
     ]
    }
   ],
   "source": [
    "#Create a dictionary with product id as key and item title and manufacturer tuple as value taking a file as input\n",
    "def productsDictionary(productsfile):\n",
    "    productlst = file2string(productsfile)\n",
    "    result = {}\n",
    "    for product in productlst:\n",
    "        temp = product.split(\"\\t\")\n",
    "        result[temp[0]]=(temp[1],temp[2])\n",
    "    return result\n",
    "\n",
    "product_dictionary = productsDictionary(\"items.txt\")\n",
    "print \"Created product dictionary with\",len(product_dictionary.keys()),\"products\""
   ]
  },
  {
   "cell_type": "code",
   "execution_count": 4,
   "metadata": {
    "collapsed": true
   },
   "outputs": [],
   "source": [
    "## To calculate the Sentiment score of a review. \n",
    "\n",
    "\n",
    "def calculateSynsetScore(review):\n",
    "    tokens = nltk.word_tokenize(review)\n",
    "    score = 0\n",
    "    for t in tokens:\n",
    "        try:\n",
    "            synset = swn.senti_synsets(t)[0]\n",
    "            #print t,\"\\t\",synset\n",
    "            score = score + synset.pos_score() - synset.neg_score()\n",
    "        except(IndexError):\n",
    "            #print \"Index error at:\", t\n",
    "            pass\n",
    "    return score"
   ]
  },
  {
   "cell_type": "code",
   "execution_count": 5,
   "metadata": {
    "collapsed": false
   },
   "outputs": [],
   "source": [
    "# preprocess the review data\n",
    "\n",
    "\n",
    "# URLs\n",
    "reg_URL = re.compile(r\"http\\S+\")\n",
    "\n",
    "# Spliting by word boundaries\n",
    "reg_Wordbound = re.compile(r\"\\W+\")\n",
    "\n",
    "# Replace Repeating words like gooooooooood \n",
    "\n",
    "reg_Repeat = re.compile(r\"(.)\\1{1,}\", re.IGNORECASE);\n",
    "\n",
    "def replace_repeat(match):\n",
    "    return match.group(1)+match.group(1)\n",
    "\n",
    "# Emoticons\n",
    "#replacing emoticons, you can specify any name\n",
    "\n",
    "emoticons = [('', [':-)', ':)', '(:', '(-:', ':-D', ':D', 'X-D', 'XD', 'xD', '<3', ':\\*', ';-)', ';)', ';-D', ';D', '(;', '(-;', ':-(', ':(', '(:', '(-:', ':,(', ':\\'(', ':\"(', ':(('] )]\n",
    "\n",
    "\n",
    "punct_list = []\n",
    "\n",
    "for i in string.punctuation:\n",
    "    punct_list.append(i)\n",
    "    \n",
    "# Punctuations\n",
    "punctuations = \\\n",
    "    [   #Classify all punctuation as same\n",
    "        #you can control which punctuation to use by creating new punctuation list\n",
    "        #i have stripped down all the punctuations, you can put something in that blank\n",
    "        ('',punct_list ),\\\n",
    "    ]\n",
    "\n",
    "\n",
    "#For emoticon regexes\n",
    "\n",
    "def escape_paren(arr):\n",
    "    return [review.replace(')', '[)}\\]]').replace('(', '[({\\[]') for review in arr]\n",
    "\n",
    "def reg_Union(arr):\n",
    "    return '(' + '|'.join( arr ) + ')'\n",
    "\n",
    "reg_Emoticons = [ (repl, re.compile(reg_Union(escape_paren(regx))) ) \\\n",
    "                    for (repl, regx) in emoticons ]\n",
    "\n",
    "\n",
    "#For punctuation replacement\n",
    "def replace_punctuations(match):\n",
    "    review = match.group(0)\n",
    "    repl = []\n",
    "    for (key, parr) in punctuations :\n",
    "        for punc in parr :\n",
    "            if punc in review:\n",
    "                repl.append(key)\n",
    "    if( len(repl)>0 ) :\n",
    "        return ' ' + ' '.join(repl) + ' '\n",
    "    else :\n",
    "        return ' '\n",
    "\n",
    "\n",
    "def preprocess_Urls(review, subject='', query=[]):\n",
    "    return re.sub( regURL, '', review )\n",
    "\n",
    "def preprocess_Emoticons(review, subject='', query=[]):\n",
    "    for (repl, regx) in regEmoticons :\n",
    "        review = re.sub(regx, ' '+repl+' ', review)\n",
    "    return review\n",
    "\n",
    "def preprocess_Punctuations(review, subject='', query=[]):\n",
    "    return re.sub( reg_Wordbound , replace_punctuations, review )\n",
    "\n",
    "def preprocess_Repeatings(review, subject='', query=[]):\n",
    "    return re.sub( reg_Repeat, replace_repeat, review )\n",
    "\n",
    "\n",
    "def processAll(review, subject='', query=[]):\n",
    "\n",
    "    if(len(query)>0):\n",
    "        query_regex = \"|\".join([ re.escape(q) for q in query])\n",
    "        review = re.sub(query_regex, '', review, flags=re.IGNORECASE )\n",
    "    \n",
    "    review = re.sub( reg_URL, '', review )\n",
    "    \n",
    "\n",
    "    for (repl, regx) in reg_Emoticons :\n",
    "        review = re.sub(regx, ' '+repl+' ', review)\n",
    "\n",
    "\n",
    "    review = review.replace('\\'',' ')\n",
    "\n",
    "    #replcae underscore with space\n",
    "    review = review.replace('_',' ')\n",
    "    \n",
    "\n",
    "    review = re.sub( reg_Wordbound , replace_punctuations, review )\n",
    "    review = re.sub( reg_Repeat, replace_repeat, review )\n",
    "    \n",
    "    lst = review.lower().split()\n",
    "    \n",
    "    \n",
    "    return ' '.join(lst)"
   ]
  },
  {
   "cell_type": "code",
   "execution_count": 6,
   "metadata": {
    "collapsed": false
   },
   "outputs": [
    {
     "data": {
      "text/plain": [
       "'this would not be replaced. '"
      ]
     },
     "execution_count": 6,
     "metadata": {},
     "output_type": "execute_result"
    }
   ],
   "source": [
    "#Replace the word which contains n't i.e wouldn't,shouldn't  \n",
    "#   with  would not, should not and return the string.   \n",
    "\n",
    "def replace_with_not(string):\n",
    "    ns = \"\"\n",
    "    suffix = \"n't\"\n",
    "    word = \"not\"\n",
    "    for stn in string.split():\n",
    "        if stn.endswith(suffix):\n",
    "            stn = stn[:-3]\n",
    "            ns += stn + ' ' + word + ' '\n",
    "        else:\n",
    "            ns += stn + ' '\n",
    "    return ns\n",
    "    \n",
    "replace_with_not(\"this wouldn't be replaced.\")"
   ]
  },
  {
   "cell_type": "code",
   "execution_count": 7,
   "metadata": {
    "collapsed": true
   },
   "outputs": [],
   "source": [
    "# Reads a file named (productID).txt and returns a list of all reviews present in that file for the given productID\n",
    "def getAllReviews(productID):\n",
    "    reviews = file2string(\"Reviews_Data/\"+ productID+\".txt\") \n",
    "    result = []\n",
    "    for review_line in reviews:\n",
    "        #print review.split(\"->\")[1],\"\\n\"\n",
    "        review = review_line.split(\"->\")[1]\n",
    "        r1 = processAll(review)\n",
    "        review = replace_with_not(r1)\n",
    "        score = calculateSynsetScore(review)\n",
    "        result.append((review,score))\n",
    "    return result"
   ]
  },
  {
   "cell_type": "code",
   "execution_count": 8,
   "metadata": {
    "collapsed": false
   },
   "outputs": [
    {
     "name": "stdout",
     "output_type": "stream",
     "text": [
      "Reading reviews for Product ID: B004KZJ0UM \tNumber of total reviews: 316\n",
      "Reading reviews for Product ID: B00ZOO1RFO \tNumber of total reviews: 76\n",
      "Reading reviews for Product ID: B00K6ZIL0K \tNumber of total reviews: 22\n",
      "Reading reviews for Product ID: B00PGELA04 \tNumber of total reviews: 46\n",
      "Reading reviews for Product ID: B00SV72ZA2 \tNumber of total reviews: 70\n",
      "Reading reviews for Product ID: B00HRO37UC \tNumber of total reviews: 53\n",
      "Reading reviews for Product ID: B011KFQASE \tNumber of total reviews: 100\n",
      "Reading reviews for Product ID: B00PPTP9IO \tNumber of total reviews: 92\n",
      "Reading reviews for Product ID: B00Z1R85O0 \tNumber of total reviews: 15\n",
      "Reading reviews for Product ID: B00VGNZ4PG \tNumber of total reviews: 50\n",
      "Reading reviews for Product ID: B00THEP15O \tNumber of total reviews: 55\n",
      "Reading reviews for Product ID: B01606KJ6C \tNumber of total reviews: 49\n",
      "Reading reviews for Product ID: B015PYZXRU \tNumber of total reviews: 39\n",
      "Reading reviews for Product ID: B00VKL0I96 \tNumber of total reviews: 39\n",
      "Reading reviews for Product ID: B00XPUUGDI \tNumber of total reviews: 74\n",
      "Reading reviews for Product ID: B00V2KX5JA \tNumber of total reviews: 74\n",
      "Reading reviews for Product ID: B00MMLW3X2 \tNumber of total reviews: 100\n",
      "Reading reviews for Product ID: B00KDI9C4O \tNumber of total reviews: 52\n",
      "Reading reviews for Product ID: B00RY4X8A4 \tNumber of total reviews: 100\n",
      "Reading reviews for Product ID: B00ZS64K7K \tNumber of total reviews: 23\n",
      "Reading reviews for Product ID: B00X9KPSKK \tNumber of total reviews: 73\n",
      "Reading reviews for Product ID: B00FF6J532 \tNumber of total reviews: 244\n",
      "Reading reviews for Product ID: B00K4PATO8 \tNumber of total reviews: 100\n",
      "Reading reviews for Product ID: B00IU745S8 \tNumber of total reviews: 85\n",
      "Reading reviews for Product ID: B00NJNE6AA \tNumber of total reviews: 99\n",
      "Reading reviews for Product ID: B015JVBD64 \tNumber of total reviews: 39\n",
      "Reading reviews for Product ID: B00N9ERISQ \tNumber of total reviews: 51\n",
      "Reading reviews for Product ID: B00K4PAV5U \tNumber of total reviews: 74\n",
      "Reading reviews for Product ID: B00YD1OQ1G \tNumber of total reviews: 38\n",
      "Reading reviews for Product ID: B00U8DHPX4 \tNumber of total reviews: 60\n",
      "Reading reviews for Product ID: B013PK8LGQ \tNumber of total reviews: 18\n",
      "Reading reviews for Product ID: B014B9IS1S \tNumber of total reviews: 6\n",
      "Reading reviews for Product ID: B015JVB9C2 \tNumber of total reviews: 30\n",
      "Reading reviews for Product ID: B015P3SH9W \tNumber of total reviews: 59\n",
      "Reading reviews for Product ID: B010DODAWM \tNumber of total reviews: 37\n",
      "Reading reviews for Product ID: B015JJNF8K \tNumber of total reviews: 62\n",
      "Reading reviews for Product ID: B00IB04M5K \tNumber of total reviews: 79\n",
      "Reading reviews for Product ID: B010DOD2G6 \tNumber of total reviews: 30\n",
      "Reading reviews for Product ID: B00ZOLT5YC \tNumber of total reviews: 100\n",
      "Reading reviews for Product ID: B00KMRGF28 \tNumber of total reviews: 100\n",
      "\n",
      "Counter({100: 6, 39: 3, 74: 3, 30: 2, 6: 1, 15: 1, 18: 1, 22: 1, 23: 1, 37: 1, 38: 1, 46: 1, 49: 1, 50: 1, 51: 1, 52: 1, 53: 1, 55: 1, 59: 1, 316: 1, 62: 1, 70: 1, 73: 1, 76: 1, 79: 1, 85: 1, 92: 1, 99: 1, 60: 1, 244: 1})\n"
     ]
    }
   ],
   "source": [
    "#Create a dictionary with product id as key and list of its reviews as value.\n",
    "\n",
    "product_ids = product_dictionary.keys()\n",
    "product_reviews = {}\n",
    "\n",
    "for id in product_ids:\n",
    "    reviews = getAllReviews(id)\n",
    "    product_reviews[id]=reviews;\n",
    "    print \"Reading reviews for Product ID:\",id,\"\\tNumber of total reviews:\",len(reviews)\n",
    "\n",
    "cnt = Counter()\n",
    "for key in product_reviews.keys():\n",
    "    #print \"Product ID:\",key,\"\\tNumber of reviews:\",len(product_reviews[key])\n",
    "    cnt[len(product_reviews[key])]+=1\n",
    "print \"\\n\",cnt"
   ]
  },
  {
   "cell_type": "code",
   "execution_count": 9,
   "metadata": {
    "collapsed": false,
    "scrolled": true
   },
   "outputs": [
    {
     "name": "stdout",
     "output_type": "stream",
     "text": [
      "╒═══════════════╤════════════════════════════════════════════════════════════════════╤═══════════════════╕\n",
      "│  Item Number  │ Product Title                                                      │  Sentiment Score  │\n",
      "╞═══════════════╪════════════════════════════════════════════════════════════════════╪═══════════════════╡\n",
      "│       1       │ Microsoft Surface 2 (32 GB)                                        │      1.94442      │\n",
      "├───────────────┼────────────────────────────────────────────────────────────────────┼───────────────────┤\n",
      "│       2       │ Dell Inspiron i7359-6790SLV 2-in-1 Touchscreen Laptop              │      1.74788      │\n",
      "├───────────────┼────────────────────────────────────────────────────────────────────┼───────────────────┤\n",
      "│       3       │ G-Tab Iota Quad Core Android Tablet PC                             │      1.45588      │\n",
      "├───────────────┼────────────────────────────────────────────────────────────────────┼───────────────────┤\n",
      "│       4       │ 2015 Newest Dell Chromebook, 11.6 inch HD Non-Touch LCD            │       1.25        │\n",
      "├───────────────┼────────────────────────────────────────────────────────────────────┼───────────────────┤\n",
      "│       5       │ Microsoft Surface Pro 4, Intel Core i5                             │      1.23724      │\n",
      "├───────────────┼────────────────────────────────────────────────────────────────────┼───────────────────┤\n",
      "│       6       │ Dell Inspiron 3000 15.6-Inches Windows 8.1 Laptop                  │      1.05556      │\n",
      "├───────────────┼────────────────────────────────────────────────────────────────────┼───────────────────┤\n",
      "│       7       │ Microsoft Surface 3 Tablet                                         │       0.94        │\n",
      "├───────────────┼────────────────────────────────────────────────────────────────────┼───────────────────┤\n",
      "│       8       │ Dell 15 5000 i15547-5003sLV 16-Inch Touch Screen Laptop            │     0.923913      │\n",
      "├───────────────┼────────────────────────────────────────────────────────────────────┼───────────────────┤\n",
      "│       9       │ ASUS F555LA-AB31 15.6-inch Full-HD Laptop                          │      0.83728      │\n",
      "├───────────────┼────────────────────────────────────────────────────────────────────┼───────────────────┤\n",
      "│      10       │ Dell Inspiron 15 7000 Series i7537T Touchscreen Laptop             │     0.784222      │\n",
      "├───────────────┼────────────────────────────────────────────────────────────────────┼───────────────────┤\n",
      "│      11       │ Dell Inspiron 15 i5548-1670SLV Touchscreen Laptop                  │     0.758446      │\n",
      "├───────────────┼────────────────────────────────────────────────────────────────────┼───────────────────┤\n",
      "│      12       │ 2015 Newest Model Dell XPS13 Ultrabook Computer                    │      0.7475       │\n",
      "├───────────────┼────────────────────────────────────────────────────────────────────┼───────────────────┤\n",
      "│      13       │ Lenovo Flex 2 15.6-Inch Touchscreen Laptop (59418271) Black        │     0.636364      │\n",
      "├───────────────┼────────────────────────────────────────────────────────────────────┼───────────────────┤\n",
      "│      14       │ 2015 Newest Dell Inspiron 2 in 1 Convertible Touchscreen Laptop    │     0.633333      │\n",
      "├───────────────┼────────────────────────────────────────────────────────────────────┼───────────────────┤\n",
      "│      15       │ Dell Inspiron 15.6-Inch Touchscreen Laptop (i15RVT-6195BLK)        │     0.608491      │\n",
      "├───────────────┼────────────────────────────────────────────────────────────────────┼───────────────────┤\n",
      "│      16       │ Dell Inspiron 15.6-Inch Touchscreen Laptop                         │     0.569257      │\n",
      "├───────────────┼────────────────────────────────────────────────────────────────────┼───────────────────┤\n",
      "│      17       │ Dell Inspiron i5552-4391BLK 15.6 Inch Touchscreen Laptop           │     0.560897      │\n",
      "├───────────────┼────────────────────────────────────────────────────────────────────┼───────────────────┤\n",
      "│      18       │ Dell Inspiron i5558-2859BLK 15.6 Inch Touchscreen Laptop           │     0.560897      │\n",
      "├───────────────┼────────────────────────────────────────────────────────────────────┼───────────────────┤\n",
      "│      19       │ Dell Inspiron i3541-2001BLK 15.6-Inch Laptop                       │     0.530063      │\n",
      "├───────────────┼────────────────────────────────────────────────────────────────────┼───────────────────┤\n",
      "│      20       │ Dell Latitude D630 14.1-Inch Notebook PC - Silver 2011 Model       │     0.528063      │\n",
      "├───────────────┼────────────────────────────────────────────────────────────────────┼───────────────────┤\n",
      "│      21       │ Acer Aspire Switch 10 E SW3-013-1566 2-in-1 Tablet & Laptop        │     0.493952      │\n",
      "├───────────────┼────────────────────────────────────────────────────────────────────┼───────────────────┤\n",
      "│      22       │ Dell Inspiron i3000-5099SLV Touchscreen Laptop                     │       0.475       │\n",
      "├───────────────┼────────────────────────────────────────────────────────────────────┼───────────────────┤\n",
      "│      23       │ Dell Inspiron i3543 15.6-Inch Touchscreen Laptop                   │     0.460526      │\n",
      "├───────────────┼────────────────────────────────────────────────────────────────────┼───────────────────┤\n",
      "│      24       │ Toshiba Radius 2-in-1 11.6\" Touch-screen Laptop                    │     0.449728      │\n",
      "├───────────────┼────────────────────────────────────────────────────────────────────┼───────────────────┤\n",
      "│      25       │ Dell Inspiron 15 i5548-4167SLV - 15.6\" Touchscreen                 │      0.38587      │\n",
      "├───────────────┼────────────────────────────────────────────────────────────────────┼───────────────────┤\n",
      "│      26       │ 2015 Newest Model DELL Inspiron 15 Touchscreen Laptop              │       0.375       │\n",
      "├───────────────┼────────────────────────────────────────────────────────────────────┼───────────────────┤\n",
      "│      27       │ Dell Inspiron N2840 14-Inch Laptop                                 │     0.371711      │\n",
      "├───────────────┼────────────────────────────────────────────────────────────────────┼───────────────────┤\n",
      "│      28       │ ASUS K200MA-DS01T(S) 11.6-Inch HD Touchscreen Laptop (Black)       │       0.365       │\n",
      "├───────────────┼────────────────────────────────────────────────────────────────────┼───────────────────┤\n",
      "│      29       │ Dell Inspiron 11 3000 Series 2-in-1  11.6 Inch Laptop              │     0.364865      │\n",
      "├───────────────┼────────────────────────────────────────────────────────────────────┼───────────────────┤\n",
      "│      30       │ Dell Inspiron 15.6 Inch Laptop                                     │     0.363636      │\n",
      "├───────────────┼────────────────────────────────────────────────────────────────────┼───────────────────┤\n",
      "│      31       │ Dell Latitude E6420 Premium 14.1-Inch Business Laptop              │     0.333333      │\n",
      "├───────────────┼────────────────────────────────────────────────────────────────────┼───────────────────┤\n",
      "│      32       │ ASUS X551MA 15.6 Inch Laptop                                       │     0.264286      │\n",
      "├───────────────┼────────────────────────────────────────────────────────────────────┼───────────────────┤\n",
      "│      33       │ Dell - Inspiron I3542-11001BK 15.6\" Touch-Screen Laptop            │     0.252083      │\n",
      "├───────────────┼────────────────────────────────────────────────────────────────────┼───────────────────┤\n",
      "│      34       │ Dell Inspiron i3531-1200BK 16-Inch Laptop,Black                    │      0.23125      │\n",
      "├───────────────┼────────────────────────────────────────────────────────────────────┼───────────────────┤\n",
      "│      35       │ Dell Inspiron i5748-2143sLV 17.3-Inch Laptop                       │      0.2225       │\n",
      "├───────────────┼────────────────────────────────────────────────────────────────────┼───────────────────┤\n",
      "│      36       │ Microsoft Surface 2 32GB 10.6\" Tablet                              │     0.156863      │\n",
      "├───────────────┼────────────────────────────────────────────────────────────────────┼───────────────────┤\n",
      "│      37       │ 2015 Newest Model Dell Inspiron 15 Laptop Computer                 │     0.155405      │\n",
      "├───────────────┼────────────────────────────────────────────────────────────────────┼───────────────────┤\n",
      "│      38       │ HP Pavilion x360 13-a010nr Convertible Touchscreen Laptop          │     0.146212      │\n",
      "├───────────────┼────────────────────────────────────────────────────────────────────┼───────────────────┤\n",
      "│      39       │ Dell Inspiron 15 5000 15.6 Inch Laptop                             │      0.1375       │\n",
      "├───────────────┼────────────────────────────────────────────────────────────────────┼───────────────────┤\n",
      "│      40       │ HP Pavilion X360 13.3-Inch WLED HD Touch-screen Convertible Laptop │       0.125       │\n",
      "╘═══════════════╧════════════════════════════════════════════════════════════════════╧═══════════════════╛\n"
     ]
    }
   ],
   "source": [
    "#Calculates average sentiment of all reviews that a product received.\n",
    "def productAverageScore(reviews_dict):\n",
    "    result = []\n",
    "    for pid in reviews_dict.keys():\n",
    "        reviews_lst = reviews_dict[pid]\n",
    "        sum = 0\n",
    "        for review in reviews_lst:\n",
    "            sum+=review[1]\n",
    "        \n",
    "        avg = sum/len(reviews_lst)\n",
    "        result.append((pid,avg))\n",
    "        result = sorted(result,key = itemgetter(1),reverse = True)\n",
    "    \n",
    "    return result\n",
    "        \n",
    "product_avg = productAverageScore(product_reviews)\n",
    "#print product_avg[0][1]\n",
    "\n",
    "cnt = 0\n",
    "table = []\n",
    "for val in range(len(product_avg)):\n",
    "    cnt+=1\n",
    "    table.append([cnt,product_dictionary[product_avg[val][0]][0],product_avg[val][1]])\n",
    "    \n",
    "print tabulate(table,headers=[\"Item Number\",\"Product Title\",\"Sentiment Score\"], tablefmt=\"fancy_grid\", numalign=\"center\")\n"
   ]
  },
  {
   "cell_type": "code",
   "execution_count": 10,
   "metadata": {
    "collapsed": false,
    "scrolled": false
   },
   "outputs": [
    {
     "data": {
      "image/png": "[encoded data removed]",
      "text/plain": [
       "<matplotlib.figure.Figure at 0x7fa06556f590>"
      ]
     },
     "metadata": {},
     "output_type": "display_data"
    }
   ],
   "source": [
    "## Histogram of Product Average rating. \n",
    "\n",
    "h = []\n",
    "for i in range(len(product_avg)):\n",
    "    h.append(product_avg[i][1])\n",
    "\n",
    "#h = sorted(h)\n",
    "#print mp.mean(h)   \n",
    "fit = stats.norm.pdf(h, np.mean(h), np.std(h))  #this is a fitting indeed\n",
    "\n",
    "pl.plot(h,fit,'-o')\n",
    "\n",
    "pl.hist(h,normed=True)      #use this to draw histogram of your data\n",
    "\n",
    "pl.show()"
   ]
  },
  {
   "cell_type": "code",
   "execution_count": 11,
   "metadata": {
    "collapsed": false
   },
   "outputs": [],
   "source": [
    "#Calculates average sentiment of all reviews that a product received.\n",
    "def productFeatureScore(reviews_dict,feature):\n",
    "    result = []\n",
    "    for pid in reviews_dict.keys():\n",
    "        reviews_lst = reviews_dict[pid]\n",
    "        sum = 0.0\n",
    "        cnt = 0.0\n",
    "        for review in reviews_lst:\n",
    "            reviewstr = review[0].lower()\n",
    "            if re.findall(feature, reviewstr):\n",
    "                sum+=review[1]\n",
    "                cnt+=1\n",
    "        if cnt != 0:\n",
    "            avg = sum/cnt\n",
    "            result.append((pid,avg))\n",
    "        result = sorted(result,key = itemgetter(1),reverse = True)\n",
    "    return result"
   ]
  },
  {
   "cell_type": "code",
   "execution_count": 57,
   "metadata": {
    "collapsed": false,
    "scrolled": true
   },
   "outputs": [
    {
     "name": "stdout",
     "output_type": "stream",
     "text": [
      " Item Number   Product Title                                                        Sentiment Score\n",
      "-------------  ------------------------------------------------------------------  -----------------\n",
      "      1        Microsoft Surface 2 (32 GB)                                              5.29421\n",
      "      2        Acer Aspire Switch 10 E SW3-013-1566 2-in-1 Tablet & Laptop               4.25\n",
      "      3        Dell Inspiron i7359-6790SLV 2-in-1 Touchscreen Laptop                    3.40217\n",
      "      4        Dell Inspiron i3000-5099SLV Touchscreen Laptop                            3.375\n",
      "      5        Microsoft Surface Pro 4, Intel Core i5                                   2.41667\n",
      "      6        Dell Inspiron 15 i5548-4167SLV - 15.6\" Touchscreen                       2.33333\n",
      "      7        G-Tab Iota Quad Core Android Tablet PC                                     2.2\n",
      "      8        Dell Inspiron 15 7000 Series i7537T Touchscreen Laptop                   1.96685\n",
      "      9        Microsoft Surface 3 Tablet                                               1.93182\n",
      "     10        ASUS F555LA-AB31 15.6-inch Full-HD Laptop                                 1.802\n",
      "     11        Lenovo Flex 2 15.6-Inch Touchscreen Laptop (59418271) Black               1.55\n",
      "     12        Toshiba Radius 2-in-1 11.6\" Touch-screen Laptop                            1.5\n",
      "     13        Dell Inspiron i3543 15.6-Inch Touchscreen Laptop                         1.45833\n",
      "     14        Dell Inspiron 15 i5548-1670SLV Touchscreen Laptop                        1.40179\n",
      "     15        Dell Inspiron 15.6-Inch Touchscreen Laptop                               1.32031\n",
      "     16        Dell Inspiron 11 3000 Series 2-in-1  11.6 Inch Laptop                    1.3125\n",
      "     17        ASUS X551MA 15.6 Inch Laptop                                               1.3\n",
      "     18        Dell - Inspiron I3542-11001BK 15.6\" Touch-Screen Laptop                  1.26562\n",
      "     19        2015 Newest Model Dell XPS13 Ultrabook Computer                          1.09375\n",
      "     20        2015 Newest Model Dell Inspiron 15 Laptop Computer                       1.08333\n",
      "     21        Dell Inspiron 15.6-Inch Touchscreen Laptop (i15RVT-6195BLK)              1.06818\n",
      "     22        Dell 15 5000 i15547-5003sLV 16-Inch Touch Screen Laptop                 0.958333\n",
      "     23        2015 Newest Dell Inspiron 2 in 1 Convertible Touchscreen Laptop           0.875\n",
      "     24        2015 Newest Model DELL Inspiron 15 Touchscreen Laptop                   0.855769\n",
      "     25        Dell Latitude D630 14.1-Inch Notebook PC - Silver 2011 Model            0.791667\n",
      "     26        Dell Inspiron i3541-2001BLK 15.6-Inch Laptop                             0.6625\n",
      "     27        HP Pavilion x360 13-a010nr Convertible Touchscreen Laptop                0.6585\n",
      "     28        ASUS K200MA-DS01T(S) 11.6-Inch HD Touchscreen Laptop (Black)            0.566667\n",
      "     29        Dell Inspiron i3531-1200BK 16-Inch Laptop,Black                            0.5\n",
      "     30        Dell Inspiron i5748-2143sLV 17.3-Inch Laptop                            0.0909091\n",
      "     31        HP Pavilion X360 13.3-Inch WLED HD Touch-screen Convertible Laptop      0.0568182\n",
      "     32        Dell Inspiron 15.6 Inch Laptop                                              0\n",
      "     33        Microsoft Surface 2 32GB 10.6\" Tablet                                    -0.125\n",
      "     34        Dell Inspiron i5552-4391BLK 15.6 Inch Touchscreen Laptop                  -0.5\n",
      "     35        Dell Inspiron i5558-2859BLK 15.6 Inch Touchscreen Laptop                  -0.5\n",
      "     36        Dell Inspiron 15 5000 15.6 Inch Laptop                                    -0.5\n"
     ]
    }
   ],
   "source": [
    "#Searching for products with reviews related to touch\n",
    "product_touch = productFeatureScore(product_reviews,\"touch\")\n",
    "\n",
    "cnt = 0\n",
    "table = []\n",
    "for val in range(len(product_touch)):\n",
    "    cnt+=1\n",
    "    table.append([cnt,product_dictionary[product_touch[val][0]][0],product_touch[val][1]])\n",
    "print tabulate(table,headers=[\"Item Number\",\"Product Title\",\"Sentiment Score\"], tablefmt=\"simple\", numalign=\"center\")"
   ]
  },
  {
   "cell_type": "code",
   "execution_count": 58,
   "metadata": {
    "collapsed": false,
    "scrolled": true
   },
   "outputs": [
    {
     "name": "stdout",
     "output_type": "stream",
     "text": [
      " Item Number   Product Title                                                        Sentiment Score\n",
      "-------------  ------------------------------------------------------------------  -----------------\n",
      "      1        Microsoft Surface 2 (32 GB)                                               9.625\n",
      "      2        Dell Latitude E6420 Premium 14.1-Inch Business Laptop                     6.125\n",
      "      3        Dell - Inspiron I3542-11001BK 15.6\" Touch-Screen Laptop                   5.125\n",
      "      4        Dell Inspiron i7359-6790SLV 2-in-1 Touchscreen Laptop                     5.025\n",
      "      5        Toshiba Radius 2-in-1 11.6\" Touch-screen Laptop                          4.5625\n",
      "      6        Dell Inspiron 15 i5548-4167SLV - 15.6\" Touchscreen                         3.5\n",
      "      7        ASUS F555LA-AB31 15.6-inch Full-HD Laptop                                2.40687\n",
      "      8        Dell Latitude D630 14.1-Inch Notebook PC - Silver 2011 Model             2.34683\n",
      "      9        Dell Inspiron i5748-2143sLV 17.3-Inch Laptop                             2.3125\n",
      "     10        Dell Inspiron 15 i5548-1670SLV Touchscreen Laptop                         2.25\n",
      "     11        Lenovo Flex 2 15.6-Inch Touchscreen Laptop (59418271) Black               1.875\n",
      "     12        G-Tab Iota Quad Core Android Tablet PC                                   1.78125\n",
      "     13        Microsoft Surface Pro 4, Intel Core i5                                    1.75\n",
      "     14        Dell Inspiron 15.6-Inch Touchscreen Laptop (i15RVT-6195BLK)              1.66667\n",
      "     15        2015 Newest Model Dell Inspiron 15 Laptop Computer                        1.65\n",
      "     16        2015 Newest Dell Chromebook, 11.6 inch HD Non-Touch LCD                   1.625\n",
      "     17        Dell 15 5000 i15547-5003sLV 16-Inch Touch Screen Laptop                  1.5625\n",
      "     18        Microsoft Surface 3 Tablet                                               1.45833\n",
      "     19        ASUS X551MA 15.6 Inch Laptop                                              1.375\n",
      "     20        Dell Inspiron 15 7000 Series i7537T Touchscreen Laptop                    1.273\n",
      "     21        2015 Newest Model Dell XPS13 Ultrabook Computer                           1.15\n",
      "     22        Dell Inspiron 15.6-Inch Touchscreen Laptop                                  1\n",
      "     23        Dell Inspiron i3541-2001BLK 15.6-Inch Laptop                              0.525\n",
      "     24        ASUS K200MA-DS01T(S) 11.6-Inch HD Touchscreen Laptop (Black)              0.25\n",
      "     25        HP Pavilion x360 13-a010nr Convertible Touchscreen Laptop                 0.25\n",
      "     26        Dell Inspiron 15 5000 15.6 Inch Laptop                                    0.125\n",
      "     27        Dell Inspiron i3543 15.6-Inch Touchscreen Laptop                            0\n",
      "     28        2015 Newest Model DELL Inspiron 15 Touchscreen Laptop                    -0.125\n",
      "     29        Dell Inspiron i5552-4391BLK 15.6 Inch Touchscreen Laptop                 -0.6875\n",
      "     30        Dell Inspiron i5558-2859BLK 15.6 Inch Touchscreen Laptop                 -0.6875\n",
      "     31        Dell Inspiron 15.6 Inch Laptop                                            -0.75\n",
      "     32        Dell Inspiron i3531-1200BK 16-Inch Laptop,Black                          -0.875\n",
      "     33        HP Pavilion X360 13.3-Inch WLED HD Touch-screen Convertible Laptop       -1.375\n"
     ]
    }
   ],
   "source": [
    "#Searching for products with reviews related to processor\n",
    "product_processor = productFeatureScore(product_reviews,\"processor\")\n",
    "\n",
    "cnt = 0\n",
    "table = []\n",
    "for val in range(len(product_processor)):\n",
    "    cnt+=1\n",
    "    table.append([cnt,product_dictionary[product_processor[val][0]][0],product_processor[val][1]])\n",
    "print tabulate(table,headers=[\"Item Number\",\"Product Title\",\"Sentiment Score\"], tablefmt=\"simple\", numalign=\"center\")"
   ]
  },
  {
   "cell_type": "code",
   "execution_count": 59,
   "metadata": {
    "collapsed": false,
    "scrolled": true
   },
   "outputs": [
    {
     "name": "stdout",
     "output_type": "stream",
     "text": [
      " Item Number   Product Title                                                 Sentiment Score\n",
      "-------------  -----------------------------------------------------------  -----------------\n",
      "      1        Microsoft Surface 2 (32 GB)                                       5.36538\n",
      "      2        Dell Inspiron 15.6-Inch Touchscreen Laptop (i15RVT-6195BLK)        4.25\n",
      "      3        Dell Inspiron i3531-1200BK 16-Inch Laptop,Black                    4.25\n",
      "      4        G-Tab Iota Quad Core Android Tablet PC                               3\n",
      "      5        Dell Inspiron i5748-2143sLV 17.3-Inch Laptop                       1.875\n",
      "      6        2015 Newest Model DELL Inspiron 15 Touchscreen Laptop              1.875\n",
      "      7        Dell Inspiron 11 3000 Series 2-in-1  11.6 Inch Laptop              1.625\n",
      "      8        Dell Inspiron 15 i5548-1670SLV Touchscreen Laptop                  1.125\n",
      "      9        Dell - Inspiron I3542-11001BK 15.6\" Touch-Screen Laptop            1.125\n",
      "     10        2015 Newest Model Dell XPS13 Ultrabook Computer                   1.0625\n",
      "     11        Dell Inspiron i3543 15.6-Inch Touchscreen Laptop                   0.625\n",
      "     12        Microsoft Surface 3 Tablet                                        0.4375\n",
      "     13        Dell Inspiron 15 i5548-4167SLV - 15.6\" Touchscreen                 0.125\n",
      "     14        Toshiba Radius 2-in-1 11.6\" Touch-screen Laptop                   -0.0625\n",
      "     15        Dell Inspiron 15.6 Inch Laptop                                    -0.5625\n",
      "     16        ASUS X551MA 15.6 Inch Laptop                                        -1\n",
      "     17        ASUS F555LA-AB31 15.6-inch Full-HD Laptop                         -3.625\n"
     ]
    }
   ],
   "source": [
    "#Searching for products with reviews related to processor\n",
    "product_storage = productFeatureScore(product_reviews,\"storage\")\n",
    "\n",
    "cnt =0\n",
    "table = []\n",
    "for val in range(len(product_storage)):\n",
    "    cnt+=1\n",
    "    table.append([cnt,product_dictionary[product_storage[val][0]][0],product_storage[val][1]])\n",
    "print tabulate(table,headers=[\"Item Number\",\"Product Title\",\"Sentiment Score\"], tablefmt=\"simple\", numalign=\"center\")\n",
    "    "
   ]
  },
  {
   "cell_type": "code",
   "execution_count": 15,
   "metadata": {
    "collapsed": true
   },
   "outputs": [],
   "source": [
    "#Create Graph for Every method. \n",
    "\n",
    "def Create_Graph(var):\n",
    "    x = []\n",
    "    y = []\n",
    "    p = []\n",
    "    for i in range(len(var)):\n",
    "        p.append(i+1)\n",
    "        #print p\n",
    "        x.append(product_dictionary[var[i][0]][0])            \n",
    "        y.append(var[i][1])\n",
    "    plt.bar(p,y,align='center')\n",
    "    #plt.figure(figsize=(1,1))\n",
    "    plt.xticks(p)\n",
    "    plt.xlabel('Products')\n",
    "    plt.ylabel('Average Ratings')\n",
    "    plt.show()\n",
    "    table = []\n",
    "    cnt = 0\n",
    "    for i in x:\n",
    "        cnt+=1\n",
    "        table.append([cnt,i])\n",
    "    print tabulate(table,headers=[\"Item Number\",\"Product ID\"], tablefmt=\"grid\", numalign=\"center\")"
   ]
  },
  {
   "cell_type": "code",
   "execution_count": 16,
   "metadata": {
    "collapsed": false,
    "scrolled": false
   },
   "outputs": [
    {
     "data": {
      "image/png": "[encoded data removed]",
      "text/plain": [
       "<matplotlib.figure.Figure at 0x7fa065553050>"
      ]
     },
     "metadata": {},
     "output_type": "display_data"
    },
    {
     "name": "stdout",
     "output_type": "stream",
     "text": [
      "+---------------+-------------------------------------------------------------+\n",
      "|  Item Number  | Product ID                                                  |\n",
      "+===============+=============================================================+\n",
      "|       1       | Microsoft Surface 2 (32 GB)                                 |\n",
      "+---------------+-------------------------------------------------------------+\n",
      "|       2       | Acer Aspire Switch 10 E SW3-013-1566 2-in-1 Tablet & Laptop |\n",
      "+---------------+-------------------------------------------------------------+\n",
      "|       3       | Dell Inspiron i7359-6790SLV 2-in-1 Touchscreen Laptop       |\n",
      "+---------------+-------------------------------------------------------------+\n",
      "|       4       | Dell Inspiron i3000-5099SLV Touchscreen Laptop              |\n",
      "+---------------+-------------------------------------------------------------+\n",
      "|       5       | Microsoft Surface Pro 4, Intel Core i5                      |\n",
      "+---------------+-------------------------------------------------------------+\n",
      "|       6       | Dell Inspiron 15 i5548-4167SLV - 15.6\" Touchscreen          |\n",
      "+---------------+-------------------------------------------------------------+\n",
      "|       7       | G-Tab Iota Quad Core Android Tablet PC                      |\n",
      "+---------------+-------------------------------------------------------------+\n",
      "|       8       | Dell Inspiron 15 7000 Series i7537T Touchscreen Laptop      |\n",
      "+---------------+-------------------------------------------------------------+\n",
      "|       9       | Microsoft Surface 3 Tablet                                  |\n",
      "+---------------+-------------------------------------------------------------+\n",
      "|      10       | ASUS F555LA-AB31 15.6-inch Full-HD Laptop                   |\n",
      "+---------------+-------------------------------------------------------------+\n"
     ]
    }
   ],
   "source": [
    "## Create a graph of top 10 best 'Touch' feature laptop. \n",
    "\n",
    "\n",
    "Create_Graph(product_touch[:10])"
   ]
  },
  {
   "cell_type": "code",
   "execution_count": 17,
   "metadata": {
    "collapsed": false
   },
   "outputs": [
    {
     "data": {
      "image/png": "[encoded data removed]",
      "text/plain": [
       "<matplotlib.figure.Figure at 0x7fa04d246310>"
      ]
     },
     "metadata": {},
     "output_type": "display_data"
    },
    {
     "name": "stdout",
     "output_type": "stream",
     "text": [
      "+---------------+--------------------------------------------------------------+\n",
      "|  Item Number  | Product ID                                                   |\n",
      "+===============+==============================================================+\n",
      "|       1       | Microsoft Surface 2 (32 GB)                                  |\n",
      "+---------------+--------------------------------------------------------------+\n",
      "|       2       | Dell Latitude E6420 Premium 14.1-Inch Business Laptop        |\n",
      "+---------------+--------------------------------------------------------------+\n",
      "|       3       | Dell - Inspiron I3542-11001BK 15.6\" Touch-Screen Laptop      |\n",
      "+---------------+--------------------------------------------------------------+\n",
      "|       4       | Dell Inspiron i7359-6790SLV 2-in-1 Touchscreen Laptop        |\n",
      "+---------------+--------------------------------------------------------------+\n",
      "|       5       | Toshiba Radius 2-in-1 11.6\" Touch-screen Laptop              |\n",
      "+---------------+--------------------------------------------------------------+\n",
      "|       6       | Dell Inspiron 15 i5548-4167SLV - 15.6\" Touchscreen           |\n",
      "+---------------+--------------------------------------------------------------+\n",
      "|       7       | ASUS F555LA-AB31 15.6-inch Full-HD Laptop                    |\n",
      "+---------------+--------------------------------------------------------------+\n",
      "|       8       | Dell Latitude D630 14.1-Inch Notebook PC - Silver 2011 Model |\n",
      "+---------------+--------------------------------------------------------------+\n",
      "|       9       | Dell Inspiron i5748-2143sLV 17.3-Inch Laptop                 |\n",
      "+---------------+--------------------------------------------------------------+\n",
      "|      10       | Dell Inspiron 15 i5548-1670SLV Touchscreen Laptop            |\n",
      "+---------------+--------------------------------------------------------------+\n"
     ]
    }
   ],
   "source": [
    "## Create a graph of top 10 best 'Processor' feature laptop. \n",
    "\n",
    "\n",
    "Create_Graph(product_processor[:10])"
   ]
  },
  {
   "cell_type": "code",
   "execution_count": 18,
   "metadata": {
    "collapsed": false
   },
   "outputs": [
    {
     "data": {
      "image/png": "[encoded data removed]",
      "text/plain": [
       "<matplotlib.figure.Figure at 0x7fa04d46b510>"
      ]
     },
     "metadata": {},
     "output_type": "display_data"
    },
    {
     "name": "stdout",
     "output_type": "stream",
     "text": [
      "+---------------+-------------------------------------------------------------+\n",
      "|  Item Number  | Product ID                                                  |\n",
      "+===============+=============================================================+\n",
      "|       1       | Microsoft Surface 2 (32 GB)                                 |\n",
      "+---------------+-------------------------------------------------------------+\n",
      "|       2       | Dell Inspiron 15.6-Inch Touchscreen Laptop (i15RVT-6195BLK) |\n",
      "+---------------+-------------------------------------------------------------+\n",
      "|       3       | Dell Inspiron i3531-1200BK 16-Inch Laptop,Black             |\n",
      "+---------------+-------------------------------------------------------------+\n",
      "|       4       | G-Tab Iota Quad Core Android Tablet PC                      |\n",
      "+---------------+-------------------------------------------------------------+\n",
      "|       5       | Dell Inspiron i5748-2143sLV 17.3-Inch Laptop                |\n",
      "+---------------+-------------------------------------------------------------+\n",
      "|       6       | 2015 Newest Model DELL Inspiron 15 Touchscreen Laptop       |\n",
      "+---------------+-------------------------------------------------------------+\n",
      "|       7       | Dell Inspiron 11 3000 Series 2-in-1  11.6 Inch Laptop       |\n",
      "+---------------+-------------------------------------------------------------+\n",
      "|       8       | Dell Inspiron 15 i5548-1670SLV Touchscreen Laptop           |\n",
      "+---------------+-------------------------------------------------------------+\n",
      "|       9       | Dell - Inspiron I3542-11001BK 15.6\" Touch-Screen Laptop     |\n",
      "+---------------+-------------------------------------------------------------+\n",
      "|      10       | 2015 Newest Model Dell XPS13 Ultrabook Computer             |\n",
      "+---------------+-------------------------------------------------------------+\n"
     ]
    }
   ],
   "source": [
    "## Create a graph of top 10 best 'Storage' feature laptop. \n",
    "\n",
    "\n",
    "Create_Graph(product_storage[:10])"
   ]
  },
  {
   "cell_type": "code",
   "execution_count": null,
   "metadata": {
    "collapsed": false
   },
   "outputs": [],
   "source": []
  },
  {
   "cell_type": "code",
   "execution_count": 19,
   "metadata": {
    "collapsed": false
   },
   "outputs": [
    {
     "name": "stdout",
     "output_type": "stream",
     "text": [
      "Total number of Reviews collected are 2829.\n"
     ]
    }
   ],
   "source": [
    "## Storing one by one processed review in result set. So result set has all the reviews. \n",
    "\n",
    "\n",
    "result = []\n",
    "for i in product_ids:\n",
    "    reviews = file2string(\"Reviews_Data/\"+ i +\".txt\")\n",
    "    for review_line in reviews:\n",
    "        review = review_line.split(\"->\")[1]\n",
    "        r1 = processAll(review)\n",
    "        \n",
    "        result.append(review)\n",
    "        \n",
    "print \"Total number of Reviews collected are %d.\" %len(result)"
   ]
  },
  {
   "cell_type": "code",
   "execution_count": null,
   "metadata": {
    "collapsed": false
   },
   "outputs": [],
   "source": [
    "######     Do not run this code   #########\n",
    "## I have already done this and store all the reviews in Data Folder. This will make a different file for each \n",
    "##  review and store in Data Folder. \n",
    "\n",
    "i = 1\n",
    "rslt = []\n",
    "for review in result:\n",
    "    #print review\n",
    "    score = calculateSynsetScore(review)\n",
    "    rslt.append((review,score))\n",
    "    f = open('Data/r'+ str(i) +'.txt','w+')\n",
    "    f.write(review)\n",
    "    f.close()\n",
    "    i += 1"
   ]
  },
  {
   "cell_type": "code",
   "execution_count": 20,
   "metadata": {
    "collapsed": false
   },
   "outputs": [
    {
     "name": "stdout",
     "output_type": "stream",
     "text": [
      "subdirectories are:['test', 'train']\n"
     ]
    }
   ],
   "source": [
    "# Here is the path to the data directory.\n",
    "\n",
    "path = 'Data'\n",
    "print('subdirectories are:' + str(os.listdir(path)))"
   ]
  },
  {
   "cell_type": "code",
   "execution_count": 21,
   "metadata": {
    "collapsed": true
   },
   "outputs": [],
   "source": [
    "## To get the list of files on specific path. \n",
    "\n",
    "def get_files(path):\n",
    "    list = []\n",
    "    #get list of files in geiven directory\n",
    "    for a in sorted(os.listdir(path)):\n",
    "        #append all files path to list\n",
    "        list.append(path + os.sep + a)\n",
    "    return list"
   ]
  },
  {
   "cell_type": "code",
   "execution_count": 22,
   "metadata": {
    "collapsed": false
   },
   "outputs": [],
   "source": [
    "files = get_files('Data/train/pos')"
   ]
  },
  {
   "cell_type": "code",
   "execution_count": null,
   "metadata": {
    "collapsed": false
   },
   "outputs": [],
   "source": [
    "######     Do not run this code   #########\n",
    "## This script is for distinguishing reviews based on it's sentiment score. if sentiment score > 0 then put it in pos folder\n",
    "##      else move into neg folder. DO this procedure separately for train and test data both.  \n",
    "\n",
    "pos = []\n",
    "neg = []\n",
    "\n",
    "dest1 = 'Data/train/pos'        ## or 'Data/test/pos'\n",
    "dest2 = 'Data/train/neg'        ## or 'Data/train/neg'\n",
    "\n",
    "for file in files:\n",
    "    f = open(file,'r+')\n",
    "    m = processAll(f.read())\n",
    "    review = replace_with_not(m)\n",
    "    score = calculateSynsetScore(review)\n",
    "    if score > 0:\n",
    "        #pos.append(m)\n",
    "        shutil.move(file, dest1)\n",
    "    else:\n",
    "        #neg.append(m)\n",
    "        shutil.move(file, dest2)\n",
    "    \n",
    "        \n",
    "    f.close()\n",
    "\n",
    "    f = open(file,'wb')\n",
    "    f.write(str(review))\n",
    "    f.close()"
   ]
  },
  {
   "cell_type": "code",
   "execution_count": 23,
   "metadata": {
    "collapsed": false
   },
   "outputs": [
    {
     "name": "stdout",
     "output_type": "stream",
     "text": [
      "found 1103 positive and 1093 negative training files\n",
      "first positive file: Data/train/pos/r1.txt\n",
      "first negative file: Data/train/neg/r10.txt\n"
     ]
    }
   ],
   "source": [
    "pos_train_files = get_files(path + os.sep + 'train' + os.sep + 'pos')\n",
    "neg_train_files = get_files(path + os.sep + 'train' + os.sep + 'neg')\n",
    "all_train_files = pos_train_files + neg_train_files\n",
    "\n",
    "print('found %d positive and %d negative training files' %\n",
    "      (len(pos_train_files), len(neg_train_files)))\n",
    "print('first positive file: %s' % pos_train_files[0])\n",
    "print('first negative file: %s' % neg_train_files[0])"
   ]
  },
  {
   "cell_type": "code",
   "execution_count": 24,
   "metadata": {
    "collapsed": false
   },
   "outputs": [
    {
     "name": "stdout",
     "output_type": "stream",
     "text": [
      "first 3 and last 3 labels are: [1 1 1 0 0 0]\n"
     ]
    }
   ],
   "source": [
    "def get_true_labels(file_names):\n",
    "    \"\"\"Return a *numpy array* of ints for the true sentiment labels of each file.\n",
    "    1 means positive, 0 means negative. Use the name of the file to determine\n",
    "    the true label.\n",
    "    Params:\n",
    "        file_names....a list of .txt file paths, e.g., Data/train/pos/r1.txt\n",
    "    Returns:\n",
    "        a numpy array of 1 or 0 values corresponding to each element\n",
    "        of file_names, where 1 indicates a positive review, and 0\n",
    "        indicates a negative review.\n",
    "    \"\"\"\n",
    "    ###TODO\n",
    "    ###\n",
    "    labels =[]\n",
    "    for f in file_names:\n",
    "        if 'pos' in f:\n",
    "            labels.append(1)\n",
    "        elif 'neg' in f:\n",
    "            labels.append(0)\n",
    "    lst = np.array(labels)\n",
    "    return lst\n",
    "\n",
    "labels = get_true_labels(all_train_files)\n",
    "print('first 3 and last 3 labels are: %s' % str(labels[[1,2,3,-3,-2,-1]]))"
   ]
  },
  {
   "cell_type": "code",
   "execution_count": 25,
   "metadata": {
    "collapsed": false
   },
   "outputs": [
    {
     "name": "stdout",
     "output_type": "stream",
     "text": [
      "Positive Product Review:  just exactly what i wanted and would recommend to anyone looking for a great personal computer for everyday use very satisfied \n",
      "\n",
      "Negative Product Review:  it s disappointing how limited this version of the surface is my daughter cannot use many online textbooks or watch videos for school because the microsoft 8 rt os doesn t allow installation of the necessary plugins or software \n",
      "\n"
     ]
    }
   ],
   "source": [
    "#let's look randomly how does a Posotive and negative review look like\n",
    "\n",
    "f = open(pos_train_files[3],'r')\n",
    "print \"Positive Product Review: \", f.read(), \"\\n\"\n",
    "f.close()\n",
    "\n",
    "f = open(neg_train_files[0],'r')\n",
    "print \"Negative Product Review: \", f.read(), \"\\n\"\n",
    "f.close()"
   ]
  },
  {
   "cell_type": "code",
   "execution_count": 26,
   "metadata": {
    "collapsed": false
   },
   "outputs": [],
   "source": [
    "def tokenize(text):\n",
    "    \"\"\"Given a string, return a list of tokens such that: (1) all\n",
    "    tokens are lowercase, (2) all punctuation is removed. Note that\n",
    "    underscore (_) is not considered punctuation.\n",
    "    Params:\n",
    "        text....a string\n",
    "    Returns:\n",
    "        a list of tokens\n",
    "    \"\"\"\n",
    "    \"\"\"regex = re.compile('[%s]' % re.escape(string.punctuation))\n",
    "    text = regex.sub('\\P{P}_','',text)\n",
    "    #text = regex.sub(\\P{P}_+,\"\", text)\n",
    "    #text = text.translate(string.maketrans(\"\",\"\"), string.punctuation)\n",
    "    #preg_replace('/^[^\\P{P}_-]+|[^\\P{P}_-]+$/u', '', text)\n",
    "    print text   \"\"\"\n",
    "    \n",
    "    return re.sub('\\W', ' ', text).lower().split()"
   ]
  },
  {
   "cell_type": "code",
   "execution_count": 27,
   "metadata": {
    "collapsed": false
   },
   "outputs": [
    {
     "name": "stdout",
     "output_type": "stream",
     "text": [
      "Including Common Stop Words Matrix represents 2196 Documents with 7689 Features \n",
      "\n",
      "first document has terms:\n",
      "[6, 28, 93, 164, 203, 235, 282, 323, 356, 505, 528, 547, 577, 578, 584, 590, 595, 612, 615, 663, 678, 694, 702, 727, 753, 808, 823, 881, 922, 931, 959, 972, 1022, 1174, 1188, 1216, 1222, 1244, 1409, 1488, 1495, 1632, 1728, 1731, 1757, 1818, 1867, 1886, 1889, 1906, 1991, 2021, 2039, 2157, 2167, 2169, 2173, 2181, 2236, 2293, 2295, 2324, 2345, 2461, 2463, 2465, 2474, 2486, 2492, 2504, 2548, 2557, 2584, 2674, 2694, 2726, 2729, 2790, 2824, 2836, 2870, 2886, 2912, 2929, 2935, 2975, 3006, 3028, 3032, 3050, 3061, 3102, 3151, 3201, 3213, 3368, 3376, 3402, 3433, 3483, 3576, 3589, 3591, 3612, 3645, 3680, 3695, 3702, 3707, 3712, 3768, 3784, 3839, 3919, 3945, 3983, 4006, 4039, 4040, 4045, 4060, 4065, 4153, 4156, 4165, 4184, 4230, 4244, 4292, 4300, 4318, 4343, 4395, 4401, 4413, 4424, 4439, 4445, 4476, 4490, 4496, 4556, 4571, 4573, 4653, 4662, 4678, 4681, 4722, 4732, 4737, 4738, 4746, 4762, 4907, 5048, 5055, 5077, 5093, 5107, 5127, 5200, 5207, 5217, 5310, 5311, 5433, 5444, 5483, 5689, 5749, 5819, 5830, 5854, 5862, 5863, 5878, 5891, 5946, 5951, 6040, 6088, 6128, 6140, 6148, 6182, 6235, 6267, 6355, 6368, 6393, 6410, 6437, 6456, 6490, 6491, 6546, 6547, 6634, 6651, 6689, 6708, 6735, 6745, 6777, 6810, 6812, 6815, 6837, 6843, 6855, 6859, 6889, 6909, 6927, 7082, 7085, 7211, 7213, 7215, 7216, 7246, 7250, 7253, 7259, 7309, 7316, 7390, 7413, 7443, 7446, 7454, 7465, 7469, 7472, 7478, 7486, 7516, 7524, 7548, 7585, 7589, 7606, 7665]\n"
     ]
    }
   ],
   "source": [
    "def do_vectorize_including_stop_words(filenames, tokenizer_fn=tokenize, min_df=1,\n",
    "                 max_df=1., binary=True, ngram_range=(1,1)):\n",
    "    \"\"\"\n",
    "    Convert a list of filenames into a sparse csr_matrix, where\n",
    "    each row is a file and each column represents a unique word.\n",
    "    Use sklearn's CountVectorizer: http://goo.gl/eJ2PJ5\n",
    "    Params:\n",
    "        filenames.......list of review file names\n",
    "        tokenizer_fn....the function used to tokenize each document\n",
    "        min_df..........remove terms from the vocabulary that don't appear\n",
    "                        in at least this many documents\n",
    "        max_df..........remove terms from the vocabulary that appear in more\n",
    "                        than this fraction of documents\n",
    "        binary..........If true, each documents is represented by a binary\n",
    "                        vector, where 1 means a term occurs at least once in \n",
    "                        the document. If false, the term frequency is used instead.\n",
    "        ngram_range.....A tuple (n,m) means to use phrases of length n to m inclusive.\n",
    "                        E.g., (1,2) means consider unigrams and bigrams.\n",
    "    Return:\n",
    "        A tuple (X, vec), where X is the csr_matrix of feature vectors,\n",
    "        and vec is the CountVectorizer object.\n",
    "    \"\"\"\n",
    "    ###TODO\n",
    "    ###\n",
    "    \n",
    "    \n",
    "    vec = CountVectorizer(input = 'filename', tokenizer = tokenizer_fn,\n",
    "                         min_df = min_df, max_df = max_df, binary = binary, ngram_range = ngram_range,dtype=int)    \n",
    "    X=vec.fit_transform(filenames)\n",
    "    return (X,vec)\n",
    "\n",
    "    \n",
    "matrix_stop, vec_stop = do_vectorize_including_stop_words(all_train_files)\n",
    "print ('Including Common Stop Words Matrix represents %d Documents with %d Features ' % (matrix_stop.shape[0], matrix_stop.shape[1]))\n",
    "print\n",
    "print('first document has terms:\\n%s' % (str(sorted(matrix_stop[1].nonzero()[1]))))"
   ]
  },
  {
   "cell_type": "code",
   "execution_count": 28,
   "metadata": {
    "collapsed": false
   },
   "outputs": [
    {
     "name": "stdout",
     "output_type": "stream",
     "text": [
      "[u'a', u'about', u'above', u'after', u'again', u'against', u'all', u'am', u'an', u'and', u'any', u'are', u\"aren't\", u'as', u'at', u'be', u'because', u'been', u'before', u'being', u'below', u'between', u'both', u'but', u'by', u\"can't\", u'cannot', u'could', u\"couldn't\", u'did', u\"didn't\", u'do', u'does', u\"doesn't\", u'doing', u\"don't\", u'down', u'during', u'each', u'few', u'for', u'from', u'further', u'had', u\"hadn't\", u'has', u\"hasn't\", u'have', u\"haven't\", u'having', u'he', u\"he'd\", u\"he'll\", u\"he's\", u'her', u'here', u\"here's\", u'hers', u'herself', u'him', u'himself', u'his', u'how', u\"how's\", u'i', u\"i'd\", u\"i'll\", u\"i'm\", u\"i've\", u'if', u'in', u'into', u'is', u\"isn't\", u'it', u\"it's\", u'its', u'itself', u\"let's\", u'me', u'more', u'most', u\"mustn't\", u'my', u'myself', u'no', u'nor', u'not', u'of', u'off', u'on', u'once', u'only', u'or', u'other', u'ought', u'our', u'ours', u'ourselves', u'out', u'over', u'own', u'same', u\"shan't\", u'she', u\"she'd\", u\"she'll\", u\"she's\", u'should', u\"shouldn't\", u'so', u'some', u'such', u'than', u'that', u\"that's\", u'the', u'their', u'theirs', u'them', u'themselves', u'then', u'there', u\"there's\", u'these', u'they', u\"they'd\", u\"they'll\", u\"they're\", u\"they've\", u'this', u'those', u'through', u'to', u'too', u'under', u'until', u'up', u'very', u'was', u\"wasn't\", u'we', u\"we'd\", u\"we'll\", u\"we're\", u\"we've\", u'were', u\"weren't\", u'what', u\"what's\", u'when', u\"when's\", u'where', u\"where's\", u'which', u'while', u'who', u\"who's\", u'whom', u'why', u\"why's\", u'with', u\"won't\", u'would', u\"wouldn't\", u'you', u\"you'd\", u\"you'll\", u\"you're\", u\"you've\", u'your', u'yours', u'yourself', u'yourselves']\n",
      "\n",
      "There are total 174 stop words in English\n"
     ]
    }
   ],
   "source": [
    "##  Get the Common stop words in English \n",
    "##  https://github.com/Alir3z4/python-stop-words\n",
    "\n",
    "\n",
    "from stop_words import get_stop_words\n",
    "\n",
    "stop_words = get_stop_words('english')\n",
    "print stop_words\n",
    "print\n",
    "\n",
    "print (\"There are total %d stop words in English\" % len(stop_words))"
   ]
  },
  {
   "cell_type": "code",
   "execution_count": 29,
   "metadata": {
    "collapsed": false
   },
   "outputs": [
    {
     "name": "stdout",
     "output_type": "stream",
     "text": [
      "Our feature vector has 120 stop words\n"
     ]
    }
   ],
   "source": [
    "## Find how many words are there in our feature matrix\n",
    "\n",
    "cnt = len(set(vec_stop.get_feature_names()).intersection(stop_words))\n",
    "print \"Our feature vector has %d stop words\" % (cnt)"
   ]
  },
  {
   "cell_type": "code",
   "execution_count": 30,
   "metadata": {
    "collapsed": false
   },
   "outputs": [
    {
     "name": "stdout",
     "output_type": "stream",
     "text": [
      "matrix represents 2196 documents with 7409 features excluding stop words\n",
      "\n",
      "first document has terms:\n",
      "[6, 28, 93, 164, 203, 235, 282, 323, 501, 539, 636, 651, 667, 777, 791, 887, 911, 923, 973, 1162, 1187, 1352, 1431, 1438, 1574, 1668, 1671, 1697, 1757, 1806, 1825, 1828, 1845, 1929, 1958, 1976, 2103, 2105, 2109, 2117, 2170, 2224, 2226, 2255, 2274, 2386, 2404, 2410, 2421, 2465, 2474, 2501, 2591, 2642, 2700, 2734, 2791, 2837, 2876, 2927, 2931, 2959, 3000, 3261, 3455, 3468, 3470, 3491, 3523, 3557, 3578, 3641, 3656, 3711, 3788, 3813, 3851, 3874, 3907, 3908, 3913, 3928, 3933, 4020, 4023, 4032, 4107, 4155, 4163, 4180, 4204, 4258, 4269, 4294, 4326, 4340, 4346, 4399, 4413, 4497, 4560, 4583, 4726, 4864, 4871, 4893, 4909, 4923, 4943, 5016, 5023, 5033, 5126, 5127, 5246, 5257, 5296, 5502, 5562, 5632, 5643, 5667, 5675, 5690, 5703, 5758, 5763, 5893, 5930, 5942, 5982, 6035, 6147, 6160, 6185, 6202, 6229, 6248, 6281, 6282, 6337, 6338, 6424, 6441, 6478, 6523, 6533, 6564, 6611, 6654, 6689, 6839, 6842, 6966, 6968, 6969, 6997, 7001, 7004, 7010, 7060, 7139, 7190, 7193, 7201, 7253, 7311, 7315]\n"
     ]
    }
   ],
   "source": [
    "def do_vectorize(filenames, tokenizer_fn=tokenize, min_df=1,\n",
    "                 max_df=1., binary=True, ngram_range=(1,1)):\n",
    "    \n",
    "    \"\"\"\n",
    "    Convert a list of filenames into a sparse csr_matrix, where\n",
    "    each row is a file and each column represents a unique word.\n",
    "    Use sklearn's CountVectorizer: http://goo.gl/eJ2PJ5\n",
    "    Params:\n",
    "        filenames.......list of review file names\n",
    "        tokenizer_fn....the function used to tokenize each document\n",
    "        min_df..........remove terms from the vocabulary that don't appear\n",
    "                        in at least this many documents\n",
    "        max_df..........remove terms from the vocabulary that appear in more\n",
    "                        than this fraction of documents\n",
    "        binary..........If true, each documents is represented by a binary\n",
    "                        vector, where 1 means a term occurs at least once in \n",
    "                        the document. If false, the term frequency is used instead.\n",
    "        ngram_range.....A tuple (n,m) means to use phrases of length n to m inclusive.\n",
    "                        E.g., (1,2) means consider unigrams and bigrams.\n",
    "    Return:\n",
    "        A tuple (X, vec), where X is the csr_matrix of feature vectors,\n",
    "        and vec is the CountVectorizer object.\n",
    "    \"\"\"\n",
    "    ###TODO\n",
    "    ###\n",
    "    \n",
    "    vec = CountVectorizer(input='filename', tokenizer=tokenizer_fn, min_df=min_df,\n",
    "                 max_df=max_df, binary=binary, ngram_range=ngram_range, stop_words = 'english', dtype=int)\n",
    "    \n",
    "    X = vec.fit_transform(filenames)   \n",
    "    return (X,vec)\n",
    "    \n",
    "matrix, vec = do_vectorize(all_train_files)\n",
    "print ('matrix represents %d documents with %d features excluding stop words' % (matrix.shape[0], matrix.shape[1]))\n",
    "print \n",
    "print('first document has terms:\\n%s' % ((sorted(matrix[1].nonzero()[1]))))"
   ]
  },
  {
   "cell_type": "code",
   "execution_count": 31,
   "metadata": {
    "collapsed": true
   },
   "outputs": [],
   "source": [
    "def tokenize_with_not(text):\n",
    "    \"\"\"Does the same thing as tokenize_with_punct, with the following difference:\n",
    "    whenever the term 'not' appears, change the two subsequent tokens to have the prefix\n",
    "    'not_' prior to the token. See the example below. You may call \n",
    "    tokenize_with_punct as a subroutine.\n",
    "    Params:\n",
    "        text....a string\n",
    "    Returns:\n",
    "        a list of tokens\n",
    "    \"\"\"\n",
    "    ###TODO\n",
    "    ###\n",
    "    not_tokens = tokenize(text)\n",
    "    i=0\n",
    "    while (i<len(not_tokens)):\n",
    "        if not_tokens[i] == 'not':\n",
    "            if i < len(not_tokens)-2:\n",
    "                not_tokens[i+1] = \"not_\" + not_tokens[i+1]\n",
    "                not_tokens[i+2] = \"not_\" + not_tokens[i+2]\n",
    "                i+=2\n",
    "                \n",
    "            elif i< len(not_tokens)-1:\n",
    "                not_tokens[i+1] =\"not_\"+ not_tokens[i+1]\n",
    "                i+=1\n",
    "                \n",
    "        i+=1\n",
    "        \n",
    "    return not_tokens"
   ]
  },
  {
   "cell_type": "code",
   "execution_count": 32,
   "metadata": {
    "collapsed": false
   },
   "outputs": [
    {
     "name": "stdout",
     "output_type": "stream",
     "text": [
      "first shuffled document Data/train/pos/r1181.txt has label 1 and terms: [71, 1415, 1459, 1874, 1910, 1929, 2229, 2404, 2417, 2552, 2566, 2941, 2958, 3210, 3581, 3732, 3900, 4508, 4552, 4871, 5056, 5650, 5839, 6095, 6611, 6966, 7001, 7012, 7313, 7315, 7375]\n"
     ]
    }
   ],
   "source": [
    "# Do not modify. This is to randomize the order of the documents, but\n",
    "# in a way that is consistent across platforms.\n",
    "# See: http://stackoverflow.com/a/18992474/1756896\n",
    "# You should run this block once to get the shuffled data.\n",
    "def repeatable_random(seed):\n",
    "    hash = str(seed)\n",
    "    while True:\n",
    "        hash = hashlib.md5(hash).digest()\n",
    "        for c in hash:\n",
    "            yield ord(c)\n",
    "\n",
    "def repeatable_shuffle(X, y, filenames):\n",
    "    r = repeatable_random(42) \n",
    "    indices = sorted(range(X.shape[0]), key=lambda x: next(r))\n",
    "    return X[indices], y[indices], np.array(filenames)[indices]\n",
    "\n",
    "X, y, filenames = repeatable_shuffle(matrix, labels, all_train_files)\n",
    "\n",
    "print('first shuffled document %s has label %d and terms: %s' % \n",
    "      (filenames[0], y[0], sorted(X[0].nonzero()[1])))"
   ]
  },
  {
   "cell_type": "code",
   "execution_count": null,
   "metadata": {
    "collapsed": true
   },
   "outputs": [],
   "source": []
  },
  {
   "cell_type": "code",
   "execution_count": null,
   "metadata": {
    "collapsed": true
   },
   "outputs": [],
   "source": []
  },
  {
   "cell_type": "code",
   "execution_count": null,
   "metadata": {
    "collapsed": true
   },
   "outputs": [],
   "source": []
  },
  {
   "cell_type": "code",
   "execution_count": null,
   "metadata": {
    "collapsed": true
   },
   "outputs": [],
   "source": [
    "# Naive Bayes Classifier\n",
    "#  http://scikit-learn.org/stable/modules/naive_bayes.html"
   ]
  },
  {
   "cell_type": "code",
   "execution_count": 33,
   "metadata": {
    "collapsed": true
   },
   "outputs": [],
   "source": [
    "from sklearn.naive_bayes import MultinomialNB\n",
    "\n",
    "def get_clf_naive():\n",
    "    return MultinomialNB(alpha = 0.1)"
   ]
  },
  {
   "cell_type": "code",
   "execution_count": 34,
   "metadata": {
    "collapsed": false
   },
   "outputs": [
    {
     "name": "stdout",
     "output_type": "stream",
     "text": [
      "fold 0 accuracy=0.7250\n",
      "fold 1 accuracy=0.6697\n",
      "fold 2 accuracy=0.6310\n",
      "fold 3 accuracy=0.6651\n",
      "fold 4 accuracy=0.6856\n",
      "average cross validation accuracy=0.6753\n"
     ]
    }
   ],
   "source": [
    "def do_cross_validation(X, y, n_folds=5, verbose=False):\n",
    "    \"\"\"\n",
    "    Perform n-fold cross validation, calling get_clf() to train n\n",
    "    different classifiers. Use sklearn's KFold class: http://goo.gl/wmyFhi\n",
    "    Be sure not to shuffle the data, otherwise your output will differ.\n",
    "    Params:\n",
    "        X.........a csr_matrix of feature vectors\n",
    "        y.........the true labels of each document\n",
    "        n_folds...the number of folds of cross-validation to do\n",
    "        verbose...If true, report the testing accuracy for each fold.\n",
    "    Return:\n",
    "        the average testing accuracy across all folds.\n",
    "    \"\"\"\n",
    "    ###TODO\n",
    "    ###\n",
    "    g = get_clf_naive()\n",
    "    kf = cross_validation.KFold(len(y), n_folds=n_folds)\n",
    "    accuracies = []\n",
    "    \n",
    "    for train_idx, test_idx in kf:    \n",
    "        g.fit(X[train_idx], y[train_idx])\n",
    "        #print len(train_idx)\n",
    "        predicted = g.predict(X[test_idx])\n",
    "        acc = accuracy_score(y[test_idx], predicted)\n",
    "        if verbose:\n",
    "            print \"fold %d accuracy=%.4f\"  %(len(accuracies),acc)\n",
    "        accuracies.append(acc)\n",
    "    avg = np.mean(accuracies)\n",
    "    return avg\n",
    "\n",
    "print('average cross validation accuracy=%.4f' %\n",
    "      do_cross_validation(X, y, verbose=True))"
   ]
  },
  {
   "cell_type": "code",
   "execution_count": 35,
   "metadata": {
    "collapsed": false
   },
   "outputs": [
    {
     "name": "stdout",
     "output_type": "stream",
     "text": [
      "accuracy using default settings: 0.6753\n"
     ]
    }
   ],
   "source": [
    "def do_expt(filenames, y, tokenizer_fn=tokenize,\n",
    "            min_df=1, max_df=1., binary=True,\n",
    "            ngram_range=(1,1), n_folds=5):\n",
    "    \"\"\"\n",
    "    Run one experiment, which consists of vectorizing each file,\n",
    "    performing cross-validation, and returning the average accuracy.\n",
    "    You should call do_vectorize and do_cross_validation here.\n",
    "    Params:\n",
    "        filenames.......list of review file names\n",
    "        y...............the true sentiment labels for each file\n",
    "        tokenizer_fn....the function used to tokenize each document\n",
    "        min_df..........remove terms from the vocabulary that don't appear\n",
    "                        in at least this many documents\n",
    "        max_df..........remove terms from the vocabulary that appear in more\n",
    "                        than this fraction of documents\n",
    "        binary..........If true, each documents is represented by a binary\n",
    "                        vector, where 1 means a term occurs at least once in \n",
    "                        the document. If false, the term frequency is used instead.\n",
    "        ngram_range.....A tuple (n,m) means to use phrases of length n to m inclusive.\n",
    "                        E.g., (1,2) means consider unigrams and bigrams.\n",
    "        n_folds.........The number of cross-validation folds to use.\n",
    "    Returns:\n",
    "        the average cross validation testing accuracy.\n",
    "    \"\"\"\n",
    "    ###TODO\n",
    "    ###\n",
    "    \n",
    "    \n",
    "    mat, vec = do_vectorize(filenames.tolist(),tokenizer_fn=tokenizer_fn,binary=binary,min_df=min_df,max_df=max_df,ngram_range=ngram_range)\n",
    "    avg = do_cross_validation(mat, y,n_folds = n_folds)\n",
    "    return avg\n",
    "\n",
    "\n",
    "print('accuracy using default settings: %.4g' % do_expt(filenames, y))"
   ]
  },
  {
   "cell_type": "code",
   "execution_count": 36,
   "metadata": {
    "collapsed": false
   },
   "outputs": [
    {
     "data": {
      "image/png": "[encoded data removed]",
      "text/plain": [
       "<matplotlib.figure.Figure at 0x7fa04dc20e90>"
      ]
     },
     "metadata": {},
     "output_type": "display_data"
    },
    {
     "data": {
      "text/plain": [
       "[0.66712204007285969,\n",
       " 0.67529612756264246,\n",
       " 0.6816977999169781,\n",
       " 0.68266472060050032]"
      ]
     },
     "execution_count": 36,
     "metadata": {},
     "output_type": "execute_result"
    }
   ],
   "source": [
    "def compare_n_folds(filenames, y):\n",
    "    \"\"\"\n",
    "    Vary the setting of n_folds parameter in the do_expt \n",
    "    function to be in [2,5,10,20]. For each setting, call do_expt and \n",
    "    store the resulting accuracy. Plot the accuracies for each setting.\n",
    "    Also return the list of accuracies. Use the default value for all\n",
    "    other arguments to the do_expt function.\n",
    "    Params:\n",
    "        filenames....list of training file names\n",
    "        y............true labels for each file (a numpy array)\n",
    "    Returns:\n",
    "        a list of average testing accuracies, one per fold.\n",
    "    \"\"\"\n",
    "    ###TODO\n",
    "    ###\n",
    "    fold_list = [2,5,10,20]\n",
    "    \n",
    "    result = [do_expt(filenames,y,n_folds = nf) for nf in fold_list]\n",
    "    plt.plot(fold_list, result,'bo-')\n",
    "    plt.xlabel('n_folds')\n",
    "    plt.ylabel('accuracy')\n",
    "    plt.show()\n",
    "    return result    \n",
    "    \n",
    "compare_n_folds(filenames, y)"
   ]
  },
  {
   "cell_type": "code",
   "execution_count": 37,
   "metadata": {
    "collapsed": false
   },
   "outputs": [
    {
     "data": {
      "text/plain": [
       "[0.67529612756264246, 0.74177365914267956]"
      ]
     },
     "execution_count": 37,
     "metadata": {},
     "output_type": "execute_result"
    }
   ],
   "source": [
    "def compare_binary(filenames, y):\n",
    "    \"\"\"\n",
    "    How does the binary parameter affect results? \n",
    "    Call do_expt twice, once with binary=True, and once with binary=False.\n",
    "    Return the average accuracies for each. Use the default parameters for the\n",
    "    remaining arguments in do_expt.\n",
    "    Params:\n",
    "        filenames....list of training file names\n",
    "        y............true labels for each file (a numpy array)\n",
    "    Returns:\n",
    "        a list of average testing accuracies. The first entry\n",
    "        is for binary=True, the second is for binary=False.\n",
    "    \"\"\"\n",
    "    ###TODO\n",
    "    ###\n",
    "    accuracies=[]\n",
    "    accuracies.append(do_expt(filenames,y,binary=True))\n",
    "    accuracies.append(do_expt(filenames,y,binary=False))\n",
    "    return accuracies\n",
    "          \n",
    "compare_binary(filenames, y)"
   ]
  },
  {
   "cell_type": "code",
   "execution_count": 38,
   "metadata": {
    "collapsed": false,
    "scrolled": true
   },
   "outputs": [
    {
     "data": {
      "text/plain": [
       "['hi',\n",
       " '!',\n",
       " 'how',\n",
       " \"'\",\n",
       " 's',\n",
       " 'it',\n",
       " 'going',\n",
       " '?',\n",
       " '?',\n",
       " '?',\n",
       " 'an_underscore',\n",
       " 'is',\n",
       " 'not',\n",
       " '*',\n",
       " 'really',\n",
       " '*',\n",
       " 'punctuation',\n",
       " '.']"
      ]
     },
     "execution_count": 38,
     "metadata": {},
     "output_type": "execute_result"
    }
   ],
   "source": [
    "def tokenize_with_punct(text):\n",
    "    \"\"\"Given a string, return a list of tokens such that: (1) all\n",
    "    tokens are lowercase, (2) all punctuation is kept as separate tokens.\n",
    "    Note that underscore (_) is not considered punctuation.\n",
    "    Params:\n",
    "        text....a string\n",
    "    Returns:\n",
    "        a list of tokens\n",
    "    \"\"\"\n",
    "    ###TODO\n",
    "    ###\n",
    "    \n",
    "    text = re.sub(r'[\\x85]',\" \",text)\n",
    "    return re.findall(r\"[\\w]+|[^\\w\\s]\", text.lower())\n",
    "   \n",
    "    \n",
    "tokenize_with_punct(\"Hi! How's it going??? an_underscore is not *really* punctuation.\")"
   ]
  },
  {
   "cell_type": "code",
   "execution_count": 39,
   "metadata": {
    "collapsed": false
   },
   "outputs": [
    {
     "name": "stdout",
     "output_type": "stream",
     "text": [
      "not the fiancée of not Henri\n",
      "tokenize: not, the, fianc, e, of, not, henri\n",
      "tokenize_with_punct: not, the, fianc, é, e, of, not, henri\n",
      "tokenize_with_not: not, not_the, not_fianc, e, of, not, not_henri\n",
      "[u'hi', u'there', u'how', u'are', u'you', u'?']\n",
      "[u'hi', u'there', u'how', u'are', u'you', u'?']\n",
      "[u'hi', u'there', u'how', u'are', u'you', u'?']\n"
     ]
    }
   ],
   "source": [
    "nonascii_string = u'not the fiancée of not Henri'\n",
    "print nonascii_string\n",
    "print('tokenize: %s' % \n",
    "      ', '.join(tokenize(nonascii_string)))\n",
    "print('tokenize_with_punct: %s' %\n",
    "      ', '.join(tokenize_with_punct(nonascii_string)))\n",
    "print('tokenize_with_not: %s' %\n",
    "      ', '.join(tokenize_with_not(nonascii_string)))\n",
    "\n",
    "print tokenize_with_punct(u'hi there\\n how are you?')\n",
    "#[u'hi', u'there', u'how', u'are', u'you', u'?']\n",
    "\n",
    "print tokenize_with_punct(u'hi there \\x85 how are you?')\n",
    "#[u'hi', u'there', u'how', u'are', u'you', u'?']\n",
    "\n",
    "print tokenize_with_punct(u'hi there \\r how are you?')\n",
    "#[u'hi', u'there', u'how', u'are', u'you', u'?']"
   ]
  },
  {
   "cell_type": "code",
   "execution_count": 40,
   "metadata": {
    "collapsed": false
   },
   "outputs": [
    {
     "data": {
      "text/plain": [
       "[0.67529612756264246, 0.67529612756264246, 0.69852350383102091]"
      ]
     },
     "execution_count": 40,
     "metadata": {},
     "output_type": "execute_result"
    }
   ],
   "source": [
    "def tokenizer_expt(all_train_files, y):\n",
    "    \"\"\"\n",
    "    How does the tokenizer affect results? \n",
    "    Call do_expt three times, using three different tokenizers:\n",
    "    1- tokenize\n",
    "    2- tokenize_with_punct\n",
    "    3- tokenize_with_not\n",
    "    Return the average cross-validation accuracy for each approach,\n",
    "    in the above order. Use the default parameters for all other \n",
    "    arguments to do_expt.\n",
    "    Params:\n",
    "        filenames....list of training file names\n",
    "        y............true labels for each file (a numpy array)\n",
    "    Returns:\n",
    "        a list of average testing accuracies for each tokenizer.\n",
    "    \"\"\"\n",
    "    ###TODO\n",
    "    ###      \n",
    "    return [do_expt(filenames=all_train_files, y=y,tokenizer_fn = t) \n",
    "            for t in [tokenize,tokenize_with_punct,tokenize_with_not]]\n",
    "\n",
    "tokenizer_expt(filenames, y)"
   ]
  },
  {
   "cell_type": "code",
   "execution_count": null,
   "metadata": {
    "collapsed": true
   },
   "outputs": [],
   "source": [
    "##So among these tokenizers, we are getting maximum accuracy in tokenize_with_not. So we are going to use\n",
    "## tokenize_with_not in every function from now. "
   ]
  },
  {
   "cell_type": "code",
   "execution_count": 41,
   "metadata": {
    "collapsed": false
   },
   "outputs": [
    {
     "data": {
      "image/png": "[encoded data removed]",
      "text/plain": [
       "<matplotlib.figure.Figure at 0x7fa04d451490>"
      ]
     },
     "metadata": {},
     "output_type": "display_data"
    },
    {
     "data": {
      "text/plain": [
       "[0.69852350383102091,\n",
       " 0.69761027127769726,\n",
       " 0.70535307517084278,\n",
       " 0.70398426175191553,\n",
       " 0.70125284738041005,\n",
       " 0.70307620625388267,\n",
       " 0.6998892110167737,\n",
       " 0.70535618140401735,\n",
       " 0.70444191343963547,\n",
       " 0.70717954027749008]"
      ]
     },
     "execution_count": 41,
     "metadata": {},
     "output_type": "execute_result"
    }
   ],
   "source": [
    "def min_df_expt(filenames, y):\n",
    "    \"\"\"\n",
    "    Vary the setting of min_df parameter in the do_expt \n",
    "    function to be ints in the range (1,10) (inclusive). For each setting,\n",
    "    call do_expt and store the resulting accuracy. Plot the accuracies for each setting.\n",
    "    Also return the list of accuracies. Use the default value for all\n",
    "    other arguments to the do_expt function, except that the tokenizer\n",
    "    should be tokenize_with_not.\n",
    "    Params:\n",
    "        filenames....list of training file names\n",
    "        y............true labels for each file (a numpy array)\n",
    "    Returns:\n",
    "        a list of average testing accuracies, one per min_df value.\n",
    "    \"\"\"\n",
    "    ###TODO\n",
    "    ###\n",
    "    accuracy = [do_expt(filenames,y,tokenizer_fn = tokenize_with_not, min_df=i) for i in range(1,11)]\n",
    "    plt.plot(range(1,11), accuracy,'bo-')\n",
    "    plt.xlabel('min_df')\n",
    "    plt.ylabel('accuracy')\n",
    "    plt.show()\n",
    "    return accuracy\n",
    "\n",
    "min_df_expt(filenames, y)"
   ]
  },
  {
   "cell_type": "code",
   "execution_count": 42,
   "metadata": {
    "collapsed": false
   },
   "outputs": [
    {
     "data": {
      "image/png": "[encoded data removed]",
      "text/plain": [
       "<matplotlib.figure.Figure at 0x7fa04d4292d0>"
      ]
     },
     "metadata": {},
     "output_type": "display_data"
    },
    {
     "data": {
      "text/plain": [
       "[0.63978981155518733,\n",
       " 0.6525336508593913,\n",
       " 0.65753986332574033,\n",
       " 0.69761027127769726,\n",
       " 0.69761027127769726,\n",
       " 0.69761027127769726,\n",
       " 0.69761027127769726,\n",
       " 0.69761027127769726,\n",
       " 0.69761027127769726,\n",
       " 0.69761027127769726]"
      ]
     },
     "execution_count": 42,
     "metadata": {},
     "output_type": "execute_result"
    }
   ],
   "source": [
    "def max_df_expt(filenames, y):\n",
    "    \"\"\"\n",
    "    Vary the setting of max_df parameter in the do_expt \n",
    "    function to be one of [.1, .2, .3, .4, .5, .6, .7, .8, .9, 1.].\n",
    "    For each setting, call do_expt and store the resulting accuracy.\n",
    "    Plot the accuracies for each setting. Also return the list of accuracies.\n",
    "    Use the default value for all other arguments to the do_expt function,\n",
    "    except that the tokenizer=tokenize_with_not and min_df=2.\n",
    "    Params:\n",
    "        filenames....list of training file names\n",
    "        y............true labels for each file (a numpy array)\n",
    "    Returns:\n",
    "        a list of average testing accuracies, one per max_df value.\n",
    "    \"\"\"\n",
    "    ###TODO\n",
    "    ###\n",
    "    max_dflist = [.1, .2, .3, .4, .5, .6, .7, .8, .9, 1.]\n",
    "    accuracy = [do_expt(filenames, y, tokenizer_fn = tokenize_with_not, min_df = 2, max_df = i) \n",
    "                for i in max_dflist]\n",
    "    plt.plot(max_dflist, accuracy,'bo-')\n",
    "    plt.xlabel('max_df')\n",
    "    plt.ylabel('accuracy')\n",
    "    plt.show()\n",
    "    return accuracy\n",
    "    \n",
    "max_df_expt(filenames, y)"
   ]
  },
  {
   "cell_type": "code",
   "execution_count": 43,
   "metadata": {
    "collapsed": false
   },
   "outputs": [
    {
     "data": {
      "text/plain": [
       "MultinomialNB(alpha=0.1, class_prior=None, fit_prior=True)"
      ]
     },
     "execution_count": 43,
     "metadata": {},
     "output_type": "execute_result"
    }
   ],
   "source": [
    "# First, we'll train our final classifier using our best settings.\n",
    "X, vec = do_vectorize(filenames, tokenizer_fn=tokenize_with_not,\n",
    "                      binary=False, min_df=3, max_df=.4)\n",
    "clf = get_clf_naive()\n",
    "clf.fit(X, y)"
   ]
  },
  {
   "cell_type": "code",
   "execution_count": 44,
   "metadata": {
    "collapsed": false
   },
   "outputs": [
    {
     "name": "stdout",
     "output_type": "stream",
     "text": [
      "<type 'numpy.ndarray'>\n",
      "(1, 2954)\n"
     ]
    }
   ],
   "source": [
    "print type(clf.coef_)\n",
    "print clf.coef_.shape"
   ]
  },
  {
   "cell_type": "code",
   "execution_count": 45,
   "metadata": {
    "collapsed": false
   },
   "outputs": [
    {
     "name": "stdout",
     "output_type": "stream",
     "text": [
      "[ -7.66254205  -8.00841506  -5.73859224  -5.66454527  -7.66254205\n",
      " -10.40631033  -8.00841506  -8.00841506 -10.40631033  -7.92900828]\n",
      "[u'0', u'00', u'1', u'10', u'100', u'1080', u'1080p', u'11', u'11ac', u'12']\n"
     ]
    }
   ],
   "source": [
    "# Here are the first 10 coefficients.\n",
    "print(clf.coef_[0][:10])\n",
    "# The features corresponding to them can be found using the vectorizer's get_feature_names method.\n",
    "print(vec.get_feature_names()[:10])"
   ]
  },
  {
   "cell_type": "code",
   "execution_count": 46,
   "metadata": {
    "collapsed": false
   },
   "outputs": [
    {
     "name": "stdout",
     "output_type": "stream",
     "text": [
      "             precision    recall  f1-score   support\n",
      "\n",
      "          0       0.24      0.30      0.26      1093\n",
      "          1       0.05      0.04      0.04      1103\n",
      "\n",
      "avg / total       0.14      0.17      0.15      2196\n",
      "\n",
      "[[ 329  764]\n",
      " [1063   40]]\n"
     ]
    }
   ],
   "source": [
    "from sklearn import metrics\n",
    "predict_label = []\n",
    "m = clf.predict_proba(X)\n",
    "for pos, neg in m:\n",
    "    if pos > neg:\n",
    "        predict_label.append(1)\n",
    "    else:\n",
    "        predict_label.append(0)\n",
    "print(metrics.classification_report(y,np.array(predict_label)))\n",
    "print(metrics.confusion_matrix(y,np.array(predict_label)))"
   ]
  },
  {
   "cell_type": "code",
   "execution_count": 47,
   "metadata": {
    "collapsed": false
   },
   "outputs": [
    {
     "name": "stdout",
     "output_type": "stream",
     "text": [
      "top positive coefs: []\n",
      "top negative coefs: [(u'120', -12.804205602486388), (u'1366', -12.804205602486388), (u'144', -12.804205602486388), (u'149', -12.804205602486388), (u'21', -12.804205602486388)]\n"
     ]
    }
   ],
   "source": [
    "def get_top_coefficients(clf, vec, n=10):\n",
    "    \"\"\" Get the top n coefficients for each class (positive/negative).\n",
    "    Params:\n",
    "        clf...a LogisticRegression object that has already been fit to data.\n",
    "        vec...a CountVectorizer\n",
    "        n.....the number of features to print per class.\n",
    "    Returns:\n",
    "        Two lists of tuples. The first list containts the top terms for the positive\n",
    "        class. Each entry is a tuple of (string, float) pairs, where\n",
    "        string is the feature name and float is the coefficient.\n",
    "        The second list is the same but for the negative class.\n",
    "        In each list, entries should be sorted in descending order of \n",
    "        absolute value.\"\"\"\n",
    "    ###TODO\n",
    "    ###\n",
    "    pos_coef = []\n",
    "    neg_coef = []\n",
    "    #iterating through all feature names and their assigned coeeficient value\n",
    "    for i in zip(vec.get_feature_names(),clf.coef_[0]):\n",
    "        #if coef is positive then append it to positive coefficient list \n",
    "        if i[1] > 0:\n",
    "            pos_coef.append(i)\n",
    "        #if coef is negative then append it to negative coefficient list \n",
    "        else:\n",
    "            neg_coef.append(i)\n",
    "    return sorted(pos_coef, key=lambda x:x[1], reverse=True)[:5], sorted(neg_coef, key=lambda x:x[1], reverse=False)[:5]\n",
    "\n",
    "pos_coef, neg_coef = get_top_coefficients(clf, vec, n=5)\n",
    "print('top positive coefs: %s' % str(pos_coef))\n",
    "print('top negative coefs: %s' % str(neg_coef))"
   ]
  },
  {
   "cell_type": "code",
   "execution_count": 48,
   "metadata": {
    "collapsed": false
   },
   "outputs": [
    {
     "name": "stdout",
     "output_type": "stream",
     "text": [
      "X_test represents 550 documents with 2954 features\n",
      "y_test has 219 positive and 331 negative labels\n",
      "first testing file is Data/test/pos/r2196.txt\n",
      "last testing file is Data/test/neg/r2745.txt\n",
      "testing accuracy=0.6091\n"
     ]
    }
   ],
   "source": [
    "# Do not modify.\n",
    "pos_test_files = get_files(path + os.sep + 'test' + os.sep + 'pos')\n",
    "neg_test_files = get_files(path + os.sep + 'test' + os.sep + 'neg')\n",
    "all_test_files = pos_test_files + neg_test_files\n",
    "# Note that we call .transform, not .fit_transform, since we \n",
    "# don't want to learn a new vocabulary.\n",
    "X_test = vec.transform(all_test_files)\n",
    "y_test = np.array([1] * len(pos_test_files) + [0] * len(neg_test_files))\n",
    "print('X_test represents %d documents with %d features' % (X_test.shape[0], X_test.shape[1]))\n",
    "print('y_test has %d positive and %d negative labels' % (len(np.where(y_test==1)[0]),\n",
    "                                                          len(np.where(y_test==0)[0])))\n",
    "print('first testing file is %s' % all_test_files[0])\n",
    "print('last testing file is %s' % all_test_files[-1])\n",
    "print('testing accuracy=%.4g' % accuracy_score(y_test, clf.predict(X_test)))"
   ]
  },
  {
   "cell_type": "code",
   "execution_count": 49,
   "metadata": {
    "collapsed": false
   },
   "outputs": [
    {
     "data": {
      "text/plain": [
       "[{'filename': 'Data/test/pos/r2488.txt',\n",
       "  'index': 130,\n",
       "  'predicted': 0,\n",
       "  'probas': array([  1.00000000e+00,   1.88060135e-13]),\n",
       "  'truth': 1},\n",
       " {'filename': 'Data/test/pos/r2427.txt',\n",
       "  'index': 104,\n",
       "  'predicted': 0,\n",
       "  'probas': array([  9.99810302e-01,   1.89697564e-04]),\n",
       "  'truth': 1},\n",
       " {'filename': 'Data/test/neg/r2389.txt',\n",
       "  'index': 324,\n",
       "  'predicted': 1,\n",
       "  'probas': array([  2.54300534e-04,   9.99745699e-01]),\n",
       "  'truth': 0},\n",
       " {'filename': 'Data/test/pos/r2255.txt',\n",
       "  'index': 35,\n",
       "  'predicted': 0,\n",
       "  'probas': array([ 0.99814817,  0.00185183]),\n",
       "  'truth': 1},\n",
       " {'filename': 'Data/test/neg/r2476.txt',\n",
       "  'index': 370,\n",
       "  'predicted': 1,\n",
       "  'probas': array([ 0.00311235,  0.99688765]),\n",
       "  'truth': 0},\n",
       " {'filename': 'Data/test/neg/r2272.txt',\n",
       "  'index': 252,\n",
       "  'predicted': 1,\n",
       "  'probas': array([ 0.0032878,  0.9967122]),\n",
       "  'truth': 0},\n",
       " {'filename': 'Data/test/neg/r2633.txt',\n",
       "  'index': 479,\n",
       "  'predicted': 1,\n",
       "  'probas': array([ 0.00539518,  0.99460482]),\n",
       "  'truth': 0},\n",
       " {'filename': 'Data/test/neg/r2274.txt',\n",
       "  'index': 254,\n",
       "  'predicted': 1,\n",
       "  'probas': array([ 0.00572095,  0.99427905]),\n",
       "  'truth': 0},\n",
       " {'filename': 'Data/test/pos/r2502.txt',\n",
       "  'index': 133,\n",
       "  'predicted': 0,\n",
       "  'probas': array([ 0.99377502,  0.00622498]),\n",
       "  'truth': 1},\n",
       " {'filename': 'Data/test/neg/r2477.txt',\n",
       "  'index': 371,\n",
       "  'predicted': 1,\n",
       "  'probas': array([ 0.00646231,  0.99353769]),\n",
       "  'truth': 0}]"
      ]
     },
     "execution_count": 49,
     "metadata": {},
     "output_type": "execute_result"
    }
   ],
   "source": [
    "def get_top_errors(X_test, y_test, filenames, clf, n=10):\n",
    "    \"\"\"\n",
    "    Use clf to predict the labels of the testing data in X_test. \n",
    "    We want to find incorrectly predicted documents. Furthermore, we want to look at those \n",
    "    where the probability of the incorrect label, according to the classifier, is highest.\n",
    "    Use the .predict_proba method of the classifier to get the probabilities of\n",
    "    each class label. Return the n documents that were misclassified, sorted by the\n",
    "    probability of the incorrect label. The returned value is a list of dicts, defined below.\n",
    "    Params:\n",
    "        X_test......the testing matrix\n",
    "        y_test......the true labels for each testing document\n",
    "        filenames...the filenames for each testing document\n",
    "        clf.........a trained LogisticRegression object\n",
    "        n...........the number of errors to return\n",
    "    Returns:\n",
    "        A list of n dicts containing the following key/value pairs:\n",
    "           index: the index of this document (in the filenames array)\n",
    "           probas: a numpy array containing the probability of class 0 and 1\n",
    "           truth: the true label\n",
    "           predicted: the predicted label\n",
    "           filename: the path to the file for this document\n",
    "    \"\"\"\n",
    "    ###TODO\n",
    "    ###\n",
    "   \n",
    "    \n",
    "    lst = []\n",
    "    newlist = []\n",
    "    predicted = clf.predict(X_test)\n",
    "    \n",
    "    predicted_proba = clf.predict_proba(X_test)\n",
    "    \n",
    "    for i in range(len(predicted)):\n",
    "        probability = predicted_proba[i][predicted[i]]\n",
    "        d = {}\n",
    "        dic = {}\n",
    "        \n",
    "        if predicted[i] != y_test[i]:\n",
    "            \n",
    "            if predicted[i] == 0:\n",
    "                dic['index'] = i\n",
    "                dic['probas'] = predicted_proba[i][0]\n",
    "            else:\n",
    "                dic['index'] = i\n",
    "                dic['probas'] = predicted_proba[i][1]\n",
    "            \n",
    "            lst.append(dic)\n",
    "    newlist = sorted(lst, key=itemgetter('probas'),reverse=True) \n",
    "    \n",
    "    #print ls\n",
    "    p = []            \n",
    "    for i in newlist[:n]:\n",
    "        p.append(i.values()[0])\n",
    "           \n",
    "    #print p\n",
    "    ls = []\n",
    "    for i in p:\n",
    "        d={}\n",
    "        d['filename'] = filenames[i]\n",
    "        d['index'] = i\n",
    "        d['predicted'] = predicted[i]\n",
    "        d['probas'] = predicted_proba[i]\n",
    "        d['truth'] = y_test[i]\n",
    "    \n",
    "        ls.append(d)\n",
    "    \n",
    "    \n",
    "    return ls \n",
    "    \n",
    "errors = get_top_errors(X_test, y_test, all_test_files, clf)\n",
    "errors "
   ]
  },
  {
   "cell_type": "code",
   "execution_count": 50,
   "metadata": {
    "collapsed": false
   },
   "outputs": [
    {
     "name": "stdout",
     "output_type": "stream",
     "text": [
      "             precision    recall  f1-score   support\n",
      "\n",
      "          0       0.24      0.30      0.26      1093\n",
      "          1       0.05      0.04      0.04      1103\n",
      "\n",
      "avg / total       0.14      0.17      0.15      2196\n",
      "\n",
      "[[ 329  764]\n",
      " [1063   40]]\n"
     ]
    }
   ],
   "source": [
    "from sklearn import metrics\n",
    "predict_label = []\n",
    "m = clf.predict_proba(X)\n",
    "for pos, neg in m:\n",
    "    if pos > neg:\n",
    "        predict_label.append(1)\n",
    "    else:\n",
    "        predict_label.append(0)\n",
    "print(metrics.classification_report(y,np.array(predict_label)))\n",
    "print(metrics.confusion_matrix(y,np.array(predict_label)))"
   ]
  },
  {
   "cell_type": "code",
   "execution_count": 51,
   "metadata": {
    "collapsed": false
   },
   "outputs": [
    {
     "name": "stdout",
     "output_type": "stream",
     "text": [
      "for document Data/test/pos/r2196.txt, the term most predictive of class 0 is appear (index=224)\n",
      "for document Data/test/pos/r2196.txt, the term most predictive of class 1 is use (index=2781)\n"
     ]
    }
   ],
   "source": [
    "# Given a document, find the term in it that is most strongly associated\n",
    "# with a given class label, according to a trained classifier.\n",
    "def most_predictive_term_in_doc(instance, clf, class_idx):\n",
    "    \"\"\"\n",
    "    Params:\n",
    "        instance....one row in the X csr_matrix, corresponding to a document.\n",
    "        clf.........a trained LogisticRegression classifier\n",
    "        class_idx...0 or 1. The class for which we should find the most \n",
    "                    predictive term in this document.\n",
    "    Returns:\n",
    "        The index corresponding to the term that appears in this instance\n",
    "        and has the highest coefficient for class class_idx.\n",
    "    \"\"\"\n",
    "    ###TODO\n",
    "    ###\n",
    "    \n",
    "    lst = []\n",
    "    lm = []\n",
    "    newlist = []\n",
    "    newlist1 = []\n",
    "    \n",
    "    for i in instance.nonzero()[1]:\n",
    "        lst.append(i)\n",
    "    \n",
    "    for i in lst:\n",
    "        clff = {}\n",
    "        clff['index']=i\n",
    "        clff['coef'] = (clf.coef_[0][i])\n",
    "        lm.append(clff)\n",
    "    \n",
    "   \n",
    "    newlist = sorted(lm, key=itemgetter('coef'),reverse=True) \n",
    "    \n",
    "    newlist1 = sorted(lm, key=itemgetter('coef')) \n",
    "    \n",
    "    if class_idx  == 1:\n",
    "        return int(newlist[0]['index'])\n",
    "    \n",
    "    else:\n",
    "        return int(newlist1[0]['index'] )\n",
    "    \n",
    "    \n",
    "#most_predictive_term_in_doc(X_test[0], clf, 0)\n",
    "neg_idx = most_predictive_term_in_doc(X_test[0], clf, 0)\n",
    "pos_idx = most_predictive_term_in_doc(X_test[0], clf, 1)\n",
    "print('for document %s, the term most predictive of class 0 is %s (index=%d)' %\n",
    "      (all_test_files[0], vec.get_feature_names()[neg_idx], neg_idx))\n",
    "print('for document %s, the term most predictive of class 1 is %s (index=%d)' %\n",
    "      (all_test_files[0], vec.get_feature_names()[pos_idx], pos_idx))"
   ]
  },
  {
   "cell_type": "code",
   "execution_count": null,
   "metadata": {
    "collapsed": true
   },
   "outputs": [],
   "source": []
  },
  {
   "cell_type": "code",
   "execution_count": null,
   "metadata": {
    "collapsed": true
   },
   "outputs": [],
   "source": []
  },
  {
   "cell_type": "code",
   "execution_count": null,
   "metadata": {
    "collapsed": false
   },
   "outputs": [],
   "source": []
  },
  {
   "cell_type": "code",
   "execution_count": null,
   "metadata": {
    "collapsed": true
   },
   "outputs": [],
   "source": [
    "## Decision Tree Classifier\n",
    "## http://scikit-learn.org/stable/modules/generated/sklearn.tree.DecisionTreeClassifier.html\n"
   ]
  },
  {
   "cell_type": "code",
   "execution_count": 52,
   "metadata": {
    "collapsed": true
   },
   "outputs": [],
   "source": [
    "from sklearn.tree import DecisionTreeClassifier\n",
    "\n",
    "def get_clf_tree():\n",
    "    return DecisionTreeClassifier(random_state=0)\n"
   ]
  },
  {
   "cell_type": "code",
   "execution_count": 53,
   "metadata": {
    "collapsed": false
   },
   "outputs": [
    {
     "name": "stdout",
     "output_type": "stream",
     "text": [
      "fold 0 accuracy=0.7909\n",
      "fold 1 accuracy=0.7950\n",
      "fold 2 accuracy=0.7973\n",
      "fold 3 accuracy=0.8087\n",
      "fold 4 accuracy=0.8246\n",
      "average cross validation accuracy=0.8033\n"
     ]
    }
   ],
   "source": [
    "def do_cross_validation(X, y, n_folds=5, verbose=False):\n",
    "    \"\"\"\n",
    "    Perform n-fold cross validation, calling get_clf() to train n\n",
    "    different classifiers. Use sklearn's KFold class: http://goo.gl/wmyFhi\n",
    "    Be sure not to shuffle the data, otherwise your output will differ.\n",
    "    Params:\n",
    "        X.........a csr_matrix of feature vectors\n",
    "        y.........the true labels of each document\n",
    "        n_folds...the number of folds of cross-validation to do\n",
    "        verbose...If true, report the testing accuracy for each fold.\n",
    "    Return:\n",
    "        the average testing accuracy across all folds.\n",
    "    \"\"\"\n",
    "    ###TODO\n",
    "    ###\n",
    "    g = get_clf_tree()\n",
    "    kf = cross_validation.KFold(len(y), n_folds=n_folds)\n",
    "    accuracies = []\n",
    "    \n",
    "    for train_idx, test_idx in kf:    \n",
    "        g.fit(X[train_idx], y[train_idx])\n",
    "        #print len(train_idx)\n",
    "        predicted = g.predict(X[test_idx])\n",
    "        acc = accuracy_score(y[test_idx], predicted)\n",
    "        if verbose:\n",
    "            print \"fold %d accuracy=%.4f\"  %(len(accuracies),acc)\n",
    "        accuracies.append(acc)\n",
    "    avg = np.mean(accuracies)\n",
    "    return avg\n",
    "\n",
    "print('average cross validation accuracy=%.4f' %\n",
    "      do_cross_validation(X, y, verbose=True))"
   ]
  },
  {
   "cell_type": "code",
   "execution_count": 54,
   "metadata": {
    "collapsed": false
   },
   "outputs": [
    {
     "name": "stdout",
     "output_type": "stream",
     "text": [
      "accuracy using default settings: 0.8101\n"
     ]
    }
   ],
   "source": [
    "def do_expt(filenames, y, tokenizer_fn=tokenize,\n",
    "            min_df=1, max_df=1., binary=True,\n",
    "            ngram_range=(1,1), n_folds=5):\n",
    "    \"\"\"\n",
    "    Run one experiment, which consists of vectorizing each file,\n",
    "    performing cross-validation, and returning the average accuracy.\n",
    "    You should call do_vectorize and do_cross_validation here.\n",
    "    Params:\n",
    "        filenames.......list of review file names\n",
    "        y...............the true sentiment labels for each file\n",
    "        tokenizer_fn....the function used to tokenize each document\n",
    "        min_df..........remove terms from the vocabulary that don't appear\n",
    "                        in at least this many documents\n",
    "        max_df..........remove terms from the vocabulary that appear in more\n",
    "                        than this fraction of documents\n",
    "        binary..........If true, each documents is represented by a binary\n",
    "                        vector, where 1 means a term occurs at least once in \n",
    "                        the document. If false, the term frequency is used instead.\n",
    "        ngram_range.....A tuple (n,m) means to use phrases of length n to m inclusive.\n",
    "                        E.g., (1,2) means consider unigrams and bigrams.\n",
    "        n_folds.........The number of cross-validation folds to use.\n",
    "    Returns:\n",
    "        the average cross validation testing accuracy.\n",
    "    \"\"\"\n",
    "    ###TODO\n",
    "    ###\n",
    "    \n",
    "    \n",
    "    mat, vec = do_vectorize(filenames.tolist(),tokenizer_fn=tokenizer_fn,binary=binary,min_df=min_df,max_df=max_df,ngram_range=ngram_range)\n",
    "    avg = do_cross_validation(mat, y,n_folds = n_folds)\n",
    "    return avg\n",
    "\n",
    "\n",
    "print('accuracy using default settings: %.4g' % do_expt(filenames, y))"
   ]
  },
  {
   "cell_type": "code",
   "execution_count": 55,
   "metadata": {
    "collapsed": false
   },
   "outputs": [
    {
     "data": {
      "text/plain": [
       "DecisionTreeClassifier(class_weight=None, criterion='gini', max_depth=None,\n",
       "            max_features=None, max_leaf_nodes=None, min_samples_leaf=1,\n",
       "            min_samples_split=2, min_weight_fraction_leaf=0.0,\n",
       "            presort=False, random_state=0, splitter='best')"
      ]
     },
     "execution_count": 55,
     "metadata": {},
     "output_type": "execute_result"
    }
   ],
   "source": [
    "# First, we'll train our final classifier using our best settings.\n",
    "X, vec = do_vectorize(filenames, tokenizer_fn=tokenize,\n",
    "                      binary=True, min_df=4, max_df=.4)\n",
    "clf = get_clf_tree()\n",
    "clf.fit(X, y)"
   ]
  },
  {
   "cell_type": "code",
   "execution_count": 56,
   "metadata": {
    "collapsed": false
   },
   "outputs": [
    {
     "name": "stdout",
     "output_type": "stream",
     "text": [
      "             precision    recall  f1-score   support\n",
      "\n",
      "          0       0.00      0.00      0.00      1093\n",
      "          1       0.00      0.00      0.00      1103\n",
      "\n",
      "avg / total       0.00      0.00      0.00      2196\n",
      "\n",
      "[[   3 1090]\n",
      " [1103    0]]\n"
     ]
    }
   ],
   "source": [
    "from sklearn import metrics\n",
    "predict_label = []\n",
    "m = clf.predict_proba(X)\n",
    "for pos, neg in m:\n",
    "    if pos > neg:\n",
    "        predict_label.append(1)\n",
    "    else:\n",
    "        predict_label.append(0)\n",
    "print(metrics.classification_report(y,np.array(predict_label)))\n",
    "print(metrics.confusion_matrix(y,np.array(predict_label)))"
   ]
  }
 ],
 "metadata": {
  "kernelspec": {
   "display_name": "Python 2",
   "language": "python",
   "name": "python2"
  },
  "language_info": {
   "codemirror_mode": {
    "name": "ipython",
    "version": 2
   },
   "file_extension": ".py",
   "mimetype": "text/x-python",
   "name": "python",
   "nbconvert_exporter": "python",
   "pygments_lexer": "ipython2",
   "version": "2.7.6"
  }
 },
 "nbformat": 4,
 "nbformat_minor": 0
}
