{
 "cells": [
  {
   "cell_type": "code",
   "execution_count": 45,
   "metadata": {
    "collapsed": true
   },
   "outputs": [],
   "source": [
    "# All Imports\n",
    "from collections import Counter\n",
    "from operator import itemgetter\n",
    "import ConfigParser\n",
    "import matplotlib.pyplot as plt\n",
    "import networkx as nx\n",
    "import sys\n",
    "import time\n",
    "import io\n",
    "import re\n",
    "import nltk\n",
    "#nltk.download()\n",
    "from tabulate import tabulate\n",
    "from nltk.corpus import sentiwordnet\n",
    "from nltk.corpus import SentiWordNetCorpusReader, SentiSynset\n",
    "import pylab as plt\n",
    "\n",
    "%matplotlib inline\n",
    "swn_root = './'\n",
    "swn_filename = 'SentiWordNet_3.0.0_20130122.txt'\n",
    "swn = SentiWordNetCorpusReader(swn_root,swn_filename,encoding='utf-8')"
   ]
  },
  {
   "cell_type": "code",
   "execution_count": 2,
   "metadata": {
    "collapsed": true
   },
   "outputs": [],
   "source": [
    "# Converts a file to list of strings where each item is one line of the file.\n",
    "def file2string(filename):\n",
    "    result = []\n",
    "    result = io.open(filename, encoding='utf8').readlines()\n",
    "    for val in range(0,len(result)):\n",
    "        result[val]=re.sub(\"\\n\",\"\",result[val])        \n",
    "    return result"
   ]
  },
  {
   "cell_type": "code",
   "execution_count": 34,
   "metadata": {
    "collapsed": false
   },
   "outputs": [
    {
     "name": "stdout",
     "output_type": "stream",
     "text": [
      "Created product dictionary with 35 products\n"
     ]
    }
   ],
   "source": [
    "#Create a dictionary with product id as key and item title and manufacturer tuple as value taking a file as input\n",
    "def productsDictionary(productsfile):\n",
    "    productlst = file2string(productsfile)\n",
    "    result = {}\n",
    "    for product in productlst:\n",
    "        temp = product.split(\"\\t\")\n",
    "        result[temp[0]]=(temp[1],temp[2])\n",
    "    return result\n",
    "\n",
    "product_dictionary = productsDictionary(\"items.txt\")\n",
    "print \"Created product dictionary with\",len(product_dictionary.keys()),\"products\""
   ]
  },
  {
   "cell_type": "code",
   "execution_count": 26,
   "metadata": {
    "collapsed": true
   },
   "outputs": [],
   "source": [
    "def calculateSynsetScore(review):\n",
    "    tokens = nltk.word_tokenize(review)\n",
    "    score = 0\n",
    "    for t in tokens:\n",
    "        try:\n",
    "            synset = swn.senti_synsets(t)[0]\n",
    "            #print t,\"\\t\",synset\n",
    "            score = score + synset.pos_score() - synset.neg_score()\n",
    "        except(IndexError):\n",
    "            #print \"Index error at:\", t\n",
    "            pass\n",
    "    return score"
   ]
  },
  {
   "cell_type": "code",
   "execution_count": 5,
   "metadata": {
    "collapsed": false
   },
   "outputs": [
    {
     "data": {
      "text/plain": [
       "'this would not be replaced. '"
      ]
     },
     "execution_count": 5,
     "metadata": {},
     "output_type": "execute_result"
    }
   ],
   "source": [
    "#Replace the word which contains n't i.e wouldn't,shouldn't  \n",
    "#   with  would not, should not and return the string.   \n",
    "\n",
    "def replace_with_not(string):\n",
    "    ns = \"\"\n",
    "    suffix = \"n't\"\n",
    "    word = \"not\"\n",
    "    for stn in string.split():\n",
    "        if stn.endswith(suffix):\n",
    "            stn = stn[:-3]\n",
    "            ns += stn + ' ' + word + ' '\n",
    "        else:\n",
    "            ns += stn + ' '\n",
    "    return ns\n",
    "    \n",
    "replace_with_not(\"this wouldn't be replaced.\")"
   ]
  },
  {
   "cell_type": "code",
   "execution_count": 35,
   "metadata": {
    "collapsed": true
   },
   "outputs": [],
   "source": [
    "# Reads a file named (productID).txt and returns a list of all reviews present in that file for the given productID\n",
    "def getAllReviews(productID):\n",
    "    reviews = file2string(\"./Reviews_Data/\"+ productID+\".txt\") \n",
    "    result = []\n",
    "    for review_line in reviews:\n",
    "        #print review.split(\"->\")[1],\"\\n\"\n",
    "        review = review_line.split(\"->\")[1]\n",
    "        review = replace_with_not(review)\n",
    "        score = calculateSynsetScore(review)\n",
    "        result.append((review,score))\n",
    "    return result"
   ]
  },
  {
   "cell_type": "code",
   "execution_count": 36,
   "metadata": {
    "collapsed": false
   },
   "outputs": [
    {
     "name": "stdout",
     "output_type": "stream",
     "text": [
      "Reading reviews for Product ID: B011N5HFOE \tNumber of total reviews: 8\n",
      "Reading reviews for Product ID: B004KZJ0UM \tNumber of total reviews: 316\n",
      "Reading reviews for Product ID: B00ZOO1RFO \tNumber of total reviews: 76\n",
      "Reading reviews for Product ID: B012BPRLO4 \tNumber of total reviews: 3\n",
      "Reading reviews for Product ID: B00PGELA04 \tNumber of total reviews: 46\n",
      "Reading reviews for Product ID: B011KFQASE \tNumber of total reviews: 100\n",
      "Reading reviews for Product ID: B00Z1R85O0 \tNumber of total reviews: 15\n",
      "Reading reviews for Product ID: B00VGNZ4PG \tNumber of total reviews: 50\n",
      "Reading reviews for Product ID: B015P3SH9W \tNumber of total reviews: 59\n",
      "Reading reviews for Product ID: B00VJ1P7TS \tNumber of total reviews: 27\n",
      "Reading reviews for Product ID: B01606KJ6C \tNumber of total reviews: 49\n",
      "Reading reviews for Product ID: B015PYZXRU \tNumber of total reviews: 39\n",
      "Reading reviews for Product ID: B00VKL0I96 \tNumber of total reviews: 39\n",
      "Reading reviews for Product ID: B00XPUUGDI \tNumber of total reviews: 74\n",
      "Reading reviews for Product ID: B00V2KX5JA \tNumber of total reviews: 8\n",
      "Reading reviews for Product ID: B00RY4X8A4 \tNumber of total reviews: 100\n",
      "Reading reviews for Product ID: B00ZS64K7K \tNumber of total reviews: 23\n",
      "Reading reviews for Product ID: B00FF6J532 \tNumber of total reviews: 244\n",
      "Reading reviews for Product ID: B00K4PATO8 \tNumber of total reviews: 100\n",
      "Reading reviews for Product ID: B00IU745S8 \tNumber of total reviews: 85\n",
      "Reading reviews for Product ID: B0163GQJOU \tNumber of total reviews: 10\n",
      "Reading reviews for Product ID: B00NJNE6AA \tNumber of total reviews: 99\n",
      "Reading reviews for Product ID: B015JVBD64 \tNumber of total reviews: 39\n",
      "Reading reviews for Product ID: B00N9ERISQ \tNumber of total reviews: 51\n",
      "Reading reviews for Product ID: B00YD1OQ1G \tNumber of total reviews: 38\n",
      "Reading reviews for Product ID: B00U8DHPX4 \tNumber of total reviews: 60\n",
      "Reading reviews for Product ID: B013PK8LGQ \tNumber of total reviews: 18\n",
      "Reading reviews for Product ID: B014B9IS1S \tNumber of total reviews: 6\n",
      "Reading reviews for Product ID: B015JVB9C2 \tNumber of total reviews: 30\n",
      "Reading reviews for Product ID: B00THEP15O \tNumber of total reviews: 55\n",
      "Reading reviews for Product ID: B010DODAWM \tNumber of total reviews: 37\n",
      "Reading reviews for Product ID: B00IB04M5K \tNumber of total reviews: 79\n",
      "Reading reviews for Product ID: B010DOD2G6 \tNumber of total reviews: 30\n",
      "Reading reviews for Product ID: B00ZOLT5YC \tNumber of total reviews: 100\n",
      "Reading reviews for Product ID: B00KMRGF28 \tNumber of total reviews: 100\n",
      "\n",
      "Counter({100: 5, 39: 3, 8: 2, 30: 2, 3: 1, 6: 1, 10: 1, 15: 1, 18: 1, 23: 1, 27: 1, 37: 1, 38: 1, 46: 1, 49: 1, 50: 1, 51: 1, 55: 1, 59: 1, 60: 1, 74: 1, 76: 1, 79: 1, 85: 1, 99: 1, 316: 1, 244: 1})\n"
     ]
    }
   ],
   "source": [
    "#Create a dictionary with product id as key and list of its reviews as value.\n",
    "\n",
    "product_ids = product_dictionary.keys()\n",
    "product_reviews = {}\n",
    "\n",
    "for id in product_ids:\n",
    "    reviews = getAllReviews(id)\n",
    "    product_reviews[id]=reviews;\n",
    "    print \"Reading reviews for Product ID:\",id,\"\\tNumber of total reviews:\",len(reviews)\n",
    "\n",
    "cnt = Counter()\n",
    "for key in product_reviews.keys():\n",
    "    #print \"Product ID:\",key,\"\\tNumber of reviews:\",len(product_reviews[key])\n",
    "    cnt[len(product_reviews[key])]+=1\n",
    "print \"\\n\",cnt"
   ]
  },
  {
   "cell_type": "code",
   "execution_count": 37,
   "metadata": {
    "collapsed": false
   },
   "outputs": [
    {
     "name": "stdout",
     "output_type": "stream",
     "text": [
      "Product 1 :\tB014B9IS1S \tScore: 1.125\n",
      "Product 2 :\tB015P3SH9W \tScore: 1.09745762712\n",
      "Product 3 :\tB00FF6J532 \tScore: 1.0110204918\n",
      "Product 4 :\tB00IU745S8 \tScore: 0.814705882353\n",
      "Product 5 :\tB013PK8LGQ \tScore: 0.8125\n",
      "Product 6 :\tB00V2KX5JA \tScore: 0.734375\n",
      "Product 7 :\tB00VJ1P7TS \tScore: 0.597222222222\n",
      "Product 8 :\tB00PGELA04 \tScore: 0.573369565217\n",
      "Product 9 :\tB00XPUUGDI \tScore: 0.540540540541\n",
      "Product 10 :\tB00NJNE6AA \tScore: 0.535484848485\n",
      "Product 11 :\tB00Z1R85O0 \tScore: 0.5\n",
      "Product 12 :\tB011KFQASE \tScore: 0.49853\n",
      "Product 13 :\tB015PYZXRU \tScore: 0.471153846154\n",
      "Product 14 :\tB015JVBD64 \tScore: 0.471153846154\n",
      "Product 15 :\tB00VGNZ4PG \tScore: 0.47\n",
      "Product 16 :\tB01606KJ6C \tScore: 0.469387755102\n",
      "Product 17 :\tB011N5HFOE \tScore: 0.453125\n",
      "Product 18 :\tB0163GQJOU \tScore: 0.4375\n",
      "Product 19 :\tB015JVB9C2 \tScore: 0.429166666667\n",
      "Product 20 :\tB00RY4X8A4 \tScore: 0.39\n",
      "Product 21 :\tB004KZJ0UM \tScore: 0.365879746835\n",
      "Product 22 :\tB00ZOO1RFO \tScore: 0.314144736842\n",
      "Product 23 :\tB00VKL0I96 \tScore: 0.288461538462\n",
      "Product 24 :\tB00YD1OQ1G \tScore: 0.230263157895\n",
      "Product 25 :\tB00IB04M5K \tScore: 0.215189873418\n",
      "Product 26 :\tB010DODAWM \tScore: 0.185810810811\n",
      "Product 27 :\tB00ZOLT5YC \tScore: 0.1775\n",
      "Product 28 :\tB00U8DHPX4 \tScore: 0.15\n",
      "Product 29 :\tB00THEP15O \tScore: 0.120454545455\n",
      "Product 30 :\tB010DOD2G6 \tScore: 0.108333333333\n",
      "Product 31 :\tB00KMRGF28 \tScore: 0.0025\n",
      "Product 32 :\tB00K4PATO8 \tScore: -0.00875\n",
      "Product 33 :\tB00N9ERISQ \tScore: -0.120098039216\n",
      "Product 34 :\tB012BPRLO4 \tScore: -0.25\n",
      "Product 35 :\tB00ZS64K7K \tScore: -0.266304347826\n"
     ]
    }
   ],
   "source": [
    "#Calculates average sentiment of all reviews that a product received.\n",
    "def productAverageScore(reviews_dict):\n",
    "    result = []\n",
    "    for pid in reviews_dict.keys():\n",
    "        reviews_lst = reviews_dict[pid]\n",
    "        sum = 0\n",
    "        for review in reviews_lst:\n",
    "            sum+=review[1]\n",
    "        \n",
    "        avg = sum/len(reviews_lst)\n",
    "        result.append((pid,avg))\n",
    "        result = sorted(result,key = itemgetter(1),reverse = True)\n",
    "    \n",
    "    return result\n",
    "        \n",
    "product_avg = productAverageScore(product_reviews)\n",
    "#print product_avg\n",
    "\n",
    "num=1\n",
    "for val in product_avg:\n",
    "    print \"Product\", num,\":\\t\",val[0], \"\\tScore:\",val[1]\n",
    "    num+=1"
   ]
  },
  {
   "cell_type": "code",
   "execution_count": 38,
   "metadata": {
    "collapsed": false
   },
   "outputs": [],
   "source": [
    "#Calculates average sentiment of all reviews that a product received.\n",
    "def productFeatureScore(reviews_dict,feature):\n",
    "    result = []\n",
    "    for pid in reviews_dict.keys():\n",
    "        reviews_lst = reviews_dict[pid]\n",
    "        sum = 0.0\n",
    "        cnt = 0.0\n",
    "        for review in reviews_lst:\n",
    "            reviewstr = review[0].lower()\n",
    "            if re.findall(feature, reviewstr):\n",
    "                sum+=review[1]\n",
    "                cnt+=1\n",
    "        if cnt != 0:\n",
    "            avg = sum/cnt\n",
    "            result.append((pid,avg))\n",
    "        result = sorted(result,key = itemgetter(1),reverse = True)\n",
    "    return result"
   ]
  },
  {
   "cell_type": "code",
   "execution_count": 54,
   "metadata": {
    "collapsed": false
   },
   "outputs": [
    {
     "name": "stdout",
     "output_type": "stream",
     "text": [
      "1 : Microsoft Surface 2 (32 GB) \t\t\tScore: 3.31\n",
      "2 : Dell Inspiron i3000-5099SLV Touchscreen Laptop \t\t\tScore: 3.12\n",
      "3 : 2015 Newest Model Dell Inspiron 15 Laptop Computer \t\t\tScore: 3.00\n",
      "4 : Dell Inspiron i7359-6790SLV 13.3 Inch 2-in-1 Touchscreen Laptop \t\t\tScore: 1.99\n",
      "5 : Newest Dell Inspiron 15 3000 Series 3551 Laptop \t\t\tScore: 1.88\n",
      "6 : Dell Inspiron 15 7000 Series i7537T Touchscreen Laptop \t\t\tScore: 1.51\n",
      "7 : ASUS F555LA-AB31 15.6-inch Full-HD Laptop \t\t\tScore: 1.25\n",
      "8 : Dell Inspiron i3543 15.6-Inch Touchscreen Laptop \t\t\tScore: 1.16\n",
      "9 : Microsoft Surface Pro 4, Intel Core i5 \t\t\tScore: 1.12\n",
      "10 : 2015 Newest Dell Inspiron 2 in 1 Convertible Touchscreen Laptop \t\t\tScore: 0.88\n",
      "11 : Dell Latitude D630 14.1-Inch Notebook PC - Silver 2011 Model \t\t\tScore: 0.79\n",
      "12 : Dell - Inspiron I3542-11001BK 15.6\" Touch-Screen Laptop \t\t\tScore: 0.73\n",
      "13 : Microsoft Surface 3 Tablet \t\t\tScore: 0.70\n",
      "14 : Dell Inspiron 15 i5548-1670SLV Touchscreen Laptop \t\t\tScore: 0.70\n",
      "15 : G-Tab Iota Quad Core Android Tablet PC \t\t\tScore: 0.69\n",
      "16 : Dell Inspiron i3531-1200BK 16-Inch Laptop,Black \t\t\tScore: 0.50\n",
      "17 : Dell Inspiron 11 3000 Series 2-in-1  11.6 Inch Laptop \t\t\tScore: 0.38\n",
      "18 : Dell 15 5000 i15547-5003sLV 16-Inch Touch Screen Laptop \t\t\tScore: 0.04\n",
      "19 : Dell Inspiron 15.6 Inch Laptop \t\t\tScore: 0.00\n",
      "20 : 2015 Newest Model Dell XPS13 Ultrabook Computer \t\t\tScore: -0.04\n",
      "21 : 2015 Newest Model DELL Inspiron 15 3000 Series i3543 Touchscreen Laptop \t\t\tScore: -0.05\n",
      "22 : Dell Inspiron i5552-4391BLK 15.6 Inch Touchscreen Laptop \t\t\tScore: -0.44\n",
      "23 : Dell Inspiron i5558-2859BLK 15.6 Inch Touchscreen Laptop \t\t\tScore: -0.44\n",
      "24 : Dell Inspiron 15 5000 15.6 Inch Laptop \t\t\tScore: -0.44\n",
      "25 : Dell Inspiron i5748-2143sLV 17.3-Inch Laptop \t\t\tScore: -0.51\n",
      "26 : Dell Inspiron i3541-2001BLK 15.6-Inch Laptop \t\t\tScore: -0.80\n",
      "27 : Microsoft Surface 2 32GB 10.6\" Tablet \t\t\tScore: -0.91\n",
      "28 : Microsoft Surface Book Intel Core i5 \t\t\tScore: -1.03\n",
      "29 : Dell Inspiron 15 i5548-4167SLV - 15.6\" Touchscreen \t\t\tScore: -2.00\n",
      "30 : Apple MacBook Air MJVE2LL/A 13-inch Laptop \t\t\tScore: -3.50\n"
     ]
    }
   ],
   "source": [
    "#Searching for products with reviews related to touch\n",
    "product_touch = productFeatureScore(product_reviews,\"touch\")\n",
    "\n",
    "num=1\n",
    "for val in range(len(product_touch)):\n",
    "    print num,\": %s \\t\\t\\tScore: %.2f\" %(product_dictionary[product_touch[val][0]][0], product_touch[val][1])\n",
    "    num+=1"
   ]
  },
  {
   "cell_type": "code",
   "execution_count": 40,
   "metadata": {
    "collapsed": false
   },
   "outputs": [
    {
     "name": "stdout",
     "output_type": "stream",
     "text": [
      "Product 1 :\tB00VKL0I96 \tScore: 6.25\n",
      "Product 2 :\tB00U8DHPX4 \tScore: 5.125\n",
      "Product 3 :\tB00FF6J532 \tScore: 3.83333333333\n",
      "Product 4 :\tB00V2KX5JA \tScore: 3.0\n",
      "Product 5 :\tB0163GQJOU \tScore: 3.0\n",
      "Product 6 :\tB015P3SH9W \tScore: 2.325\n",
      "Product 7 :\tB004KZJ0UM \tScore: 1.80516666667\n",
      "Product 8 :\tB011KFQASE \tScore: 1.75686666667\n",
      "Product 9 :\tB014B9IS1S \tScore: 1.625\n",
      "Product 10 :\tB00PGELA04 \tScore: 1.5625\n",
      "Product 11 :\tB00VGNZ4PG \tScore: 0.958333333333\n",
      "Product 12 :\tB00K4PATO8 \tScore: 0.9375\n",
      "Product 13 :\tB00IU745S8 \tScore: 0.921875\n",
      "Product 14 :\tB00XPUUGDI \tScore: 0.875\n",
      "Product 15 :\tB00NJNE6AA \tScore: 0.4605\n",
      "Product 16 :\tB010DOD2G6 \tScore: 0.25\n",
      "Product 17 :\tB00RY4X8A4 \tScore: 0.2\n",
      "Product 18 :\tB00ZOO1RFO \tScore: 0.0\n",
      "Product 19 :\tB012BPRLO4 \tScore: -0.25\n",
      "Product 20 :\tB00IB04M5K \tScore: -0.3375\n",
      "Product 21 :\tB01606KJ6C \tScore: -0.375\n",
      "Product 22 :\tB015PYZXRU \tScore: -0.625\n",
      "Product 23 :\tB015JVBD64 \tScore: -0.625\n",
      "Product 24 :\tB00THEP15O \tScore: -0.75\n",
      "Product 25 :\tB011N5HFOE \tScore: -0.75\n",
      "Product 26 :\tB00ZOLT5YC \tScore: -0.75\n",
      "Product 27 :\tB00KMRGF28 \tScore: -1.70833333333\n",
      "Product 28 :\tB00ZS64K7K \tScore: -3.0\n"
     ]
    }
   ],
   "source": [
    "#Searching for products with reviews related to processor\n",
    "product_processor = productFeatureScore(product_reviews,\"processor\")\n",
    "\n",
    "num=1\n",
    "for val in product_processor:\n",
    "    print \"Product\", num,\":\\t\",val[0], \"\\tScore:\",val[1]\n",
    "    num+=1"
   ]
  },
  {
   "cell_type": "code",
   "execution_count": 41,
   "metadata": {
    "collapsed": false
   },
   "outputs": [
    {
     "name": "stdout",
     "output_type": "stream",
     "text": [
      "Product 1 :\tB00KMRGF28 \tScore: 2.875\n",
      "Product 2 :\tB00FF6J532 \tScore: 2.63461538462\n",
      "Product 3 :\tB00ZOLT5YC \tScore: 1.875\n",
      "Product 4 :\tB00RY4X8A4 \tScore: 0.875\n",
      "Product 5 :\tB00IU745S8 \tScore: 0.875\n",
      "Product 6 :\tB00U8DHPX4 \tScore: 0.75\n",
      "Product 7 :\tB00ZOO1RFO \tScore: 0.625\n",
      "Product 8 :\tB00ZS64K7K \tScore: 0.125\n",
      "Product 9 :\tB00XPUUGDI \tScore: -0.125\n",
      "Product 10 :\tB010DODAWM \tScore: -0.25\n",
      "Product 11 :\tB00VGNZ4PG \tScore: -0.4375\n",
      "Product 12 :\tB00THEP15O \tScore: -0.9375\n",
      "Product 13 :\tB011KFQASE \tScore: -1.0\n",
      "Product 14 :\tB00K4PATO8 \tScore: -2.125\n"
     ]
    }
   ],
   "source": [
    "#Searching for products with reviews related to processor\n",
    "product_storage = productFeatureScore(product_reviews,\"storage\")\n",
    "\n",
    "num=1\n",
    "for val in product_storage:\n",
    "    print \"Product\", num,\":\\t\",val[0], \"\\tScore:\",val[1]\n",
    "    num+=1"
   ]
  },
  {
   "cell_type": "code",
   "execution_count": 52,
   "metadata": {
    "collapsed": true
   },
   "outputs": [],
   "source": [
    "#Create Graph for Every method. \n",
    "\n",
    "def Create_Graph(var):\n",
    "    x = []\n",
    "    y = []\n",
    "    p = []\n",
    "    for i in range(len(var)):\n",
    "        p.append(i+1)\n",
    "        #print p\n",
    "        x.append(var[i][0])            \n",
    "        y.append(var[i][1])\n",
    "    plt.bar(p,y,align='center')\n",
    "    #plt.figure(figsize=(1,1))\n",
    "    plt.xticks(p)\n",
    "    plt.xlabel('Products')\n",
    "    plt.ylabel('Average Ratings')\n",
    "    plt.show()\n",
    "    table = []\n",
    "    cnt = 0\n",
    "    for i in x:\n",
    "        cnt+=1\n",
    "        table.append([cnt,i])\n",
    "    print tabulate(table)\n",
    "    \n",
    "   "
   ]
  },
  {
   "cell_type": "code",
   "execution_count": 56,
   "metadata": {
    "collapsed": false,
    "scrolled": false
   },
   "outputs": [
    {
     "data": {
      "image/png": "[encoded data removed]",
      "text/plain": [
       "<matplotlib.figure.Figure at 0x7faa33ae3750>"
      ]
     },
     "metadata": {},
     "output_type": "display_data"
    },
    {
     "name": "stdout",
     "output_type": "stream",
     "text": [
      "--  ----------\n",
      " 1  B014B9IS1S\n",
      " 2  B015P3SH9W\n",
      " 3  B00FF6J532\n",
      " 4  B00IU745S8\n",
      " 5  B013PK8LGQ\n",
      " 6  B00V2KX5JA\n",
      " 7  B00VJ1P7TS\n",
      " 8  B00PGELA04\n",
      " 9  B00XPUUGDI\n",
      "10  B00NJNE6AA\n",
      "--  ----------\n"
     ]
    }
   ],
   "source": [
    "#lis = [('p',3),('q',3),('r',5),('s',1)]\n",
    "\n",
    "Create_Graph(product_avg[:10])"
   ]
  }
 ],
 "metadata": {
  "kernelspec": {
   "display_name": "Python 2",
   "language": "python",
   "name": "python2"
  },
  "language_info": {
   "codemirror_mode": {
    "name": "ipython",
    "version": 2
   },
   "file_extension": ".py",
   "mimetype": "text/x-python",
   "name": "python",
   "nbconvert_exporter": "python",
   "pygments_lexer": "ipython2",
   "version": "2.7.6"
  }
 },
 "nbformat": 4,
 "nbformat_minor": 0
}
