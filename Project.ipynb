{
 "cells": [
  {
   "cell_type": "code",
   "execution_count": 2,
   "metadata": {
    "collapsed": true
   },
   "outputs": [],
   "source": [
    "# All Imports\n",
    "from collections import Counter\n",
    "import ConfigParser\n",
    "import matplotlib.pyplot as plt\n",
    "import networkx as nx\n",
    "import sys\n",
    "import time\n",
    "from amazon.api import AmazonAPI\n",
    "\n",
    "%matplotlib inline"
   ]
  },
  {
   "cell_type": "code",
   "execution_count": 38,
   "metadata": {
    "collapsed": false
   },
   "outputs": [
    {
     "name": "stdout",
     "output_type": "stream",
     "text": [
      "Established Amazon connection.\n"
     ]
    }
   ],
   "source": [
    "def get_amazon(config_file):\n",
    "    \"\"\" Read the config_file and construct an instance of AmazonAPI.\n",
    "    Args:\n",
    "      config_file ... A config file in ConfigParser format with Amazon credentials\n",
    "    Returns:\n",
    "      An instance of AmazonAPI.\n",
    "    \"\"\"\n",
    "    config = ConfigParser.ConfigParser()\n",
    "    config.read(config_file)\n",
    "    amazon = AmazonAPI(\n",
    "                   config.get('amazon', 'AMAZON_ACCESS_KEY'),\n",
    "                   config.get('amazon', 'AMAZON_SECRET_KEY'),\n",
    "                   config.get('amazon', 'AMAZON_ASSOC_TAG'),region=\"US\")\n",
    "    return amazon\n",
    "\n",
    "amazon = get_amazon('amazon.cfg')\n",
    "print('Established Amazon connection.')"
   ]
  },
  {
   "cell_type": "code",
   "execution_count": 50,
   "metadata": {
    "collapsed": false
   },
   "outputs": [
    {
     "name": "stdout",
     "output_type": "stream",
     "text": [
      "100\n"
     ]
    }
   ],
   "source": [
    "from lxml import etree\n",
    "\n",
    "product = amazon.lookup(ItemId='B00EOE0WKQ',ResponseGroup='Reviews',TruncateReviewsAt=200, IncludeReviewsSummary=True)\n",
    "#help(amazon)\n",
    "#print product.to_string()\n",
    "#print product.reviews[1]\n",
    "products = amazon.search(Keywords='camera', SearchIndex='Electronics')\n",
    "idlist = []\n",
    "\n",
    "for product in products:  \n",
    "    idlist.append(product.asin)\n",
    "print len(idlist)\n"
   ]
  },
  {
   "cell_type": "code",
   "execution_count": null,
   "metadata": {
    "collapsed": true
   },
   "outputs": [],
   "source": []
  }
 ],
 "metadata": {
  "kernelspec": {
   "display_name": "Python 2",
   "language": "python",
   "name": "python2"
  },
  "language_info": {
   "codemirror_mode": {
    "name": "ipython",
    "version": 2
   },
   "file_extension": ".py",
   "mimetype": "text/x-python",
   "name": "python",
   "nbconvert_exporter": "python",
   "pygments_lexer": "ipython2",
   "version": "2.7.6"
  }
 },
 "nbformat": 4,
 "nbformat_minor": 0
}
