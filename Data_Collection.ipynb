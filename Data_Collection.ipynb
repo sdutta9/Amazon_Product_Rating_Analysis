{
 "cells": [
  {
   "cell_type": "code",
   "execution_count": 1,
   "metadata": {
    "collapsed": true
   },
   "outputs": [],
   "source": [
    "# All Imports\n",
    "from collections import Counter\n",
    "import ConfigParser\n",
    "import matplotlib.pyplot as plt\n",
    "import networkx as nx\n",
    "import sys\n",
    "import time\n",
    "from amazon.api import AmazonAPI\n",
    "import io\n",
    "import re\n",
    "from amazon_scraper import AmazonScraper\n",
    "from nltk.corpus import sentiwordnet as swn\n",
    "\n",
    "%matplotlib inline"
   ]
  },
  {
   "cell_type": "code",
   "execution_count": 2,
   "metadata": {
    "collapsed": false
   },
   "outputs": [
    {
     "name": "stdout",
     "output_type": "stream",
     "text": [
      "Established Amazon connection.\n"
     ]
    }
   ],
   "source": [
    "# This method is done for you. Make sure to put your credentials in amazon.cfg.\n",
    "def get_amazon(config_file):\n",
    "    \"\"\" Read the config_file and construct an instance of AmazonAPI.\n",
    "    Args:\n",
    "      config_file ... A config file in ConfigParser format with Amazon credentials\n",
    "    Returns:\n",
    "      An instance of AmazonAPI.\n",
    "    \"\"\"\n",
    "    config = ConfigParser.ConfigParser()\n",
    "    config.read(config_file)\n",
    "    amazon = AmazonScraper(\n",
    "                   config.get('amazon', 'AMAZON_ACCESS_KEY'),\n",
    "                   config.get('amazon', 'AMAZON_SECRET_KEY'),\n",
    "                   config.get('amazon', 'AMAZON_ASSOC_TAG'))\n",
    "                   \n",
    "    return amazon\n",
    "\n",
    "amzn = get_amazon('amazon.cfg')\n",
    "print('Established Amazon connection.')"
   ]
  },
  {
   "cell_type": "code",
   "execution_count": null,
   "metadata": {
    "collapsed": true
   },
   "outputs": [],
   "source": [
    "# Fetch the 100 most viewes Product IDs of keyword (i.e 'Microsoft Surface') which falls in category (i.e 'Electronics').\n",
    "\n",
    "pid_lst = []\n",
    "for q in itertools.islice(amzn.search(Keywords='Microsoft Surface', SearchIndex='Electronics'), 100):\n",
    "    print(q.asin)\n",
    "    pid_lst.append(q.asin)"
   ]
  },
  {
   "cell_type": "code",
   "execution_count": null,
   "metadata": {
    "collapsed": true
   },
   "outputs": [],
   "source": [
    "# Store all the Product IDs in a file so that we can use it in future. \n",
    "\n",
    "fp = open('MS_PID.txt','w')\n",
    "for item in pid_lst:\n",
    "    fp.write(\"%s\\n\" %item)\n",
    "\n",
    "fp.close()"
   ]
  },
  {
   "cell_type": "code",
   "execution_count": null,
   "metadata": {
    "collapsed": true
   },
   "outputs": [],
   "source": [
    "# Reading the IDs from file and put it in list. \n",
    "\n",
    "pid = []\n",
    "pfile = open('MS_PID.txt','r')\n",
    "for i in pfile.read().split():\n",
    "    pid.append(i)\n",
    "    \n",
    "pfile.close()"
   ]
  },
  {
   "cell_type": "code",
   "execution_count": null,
   "metadata": {
    "collapsed": false
   },
   "outputs": [],
   "source": [
    "# To check the number of Product IDs we have fetched. \n",
    "\n",
    "len(pid)"
   ]
  },
  {
   "cell_type": "code",
   "execution_count": 3,
   "metadata": {
    "collapsed": false
   },
   "outputs": [],
   "source": [
    "# Take one by one Product ID and search for it. \n",
    "\n",
    "#pd = 'B00MA7A876'\n",
    "pd = 'B00VJ1P7TS'\n",
    "p = amzn.lookup(ItemId=pd)"
   ]
  },
  {
   "cell_type": "code",
   "execution_count": 11,
   "metadata": {
    "collapsed": false
   },
   "outputs": [
    {
     "data": {
      "text/plain": [
       "'B00VJ1P7TS'"
      ]
     },
     "execution_count": 11,
     "metadata": {},
     "output_type": "execute_result"
    }
   ],
   "source": [
    "p.asin"
   ]
  },
  {
   "cell_type": "code",
   "execution_count": 4,
   "metadata": {
    "collapsed": true
   },
   "outputs": [],
   "source": [
    "# Download the reviews from amazon page by page and store the id and review text in list form. \n",
    "\n",
    "def Get_Reviews(pid):\n",
    "    \n",
    "    rs = amzn.reviews(ItemId=pid)\n",
    "    myReviews = []\n",
    "    myRID = []\n",
    "\n",
    "    for r in rs.full_reviews():\n",
    "    \n",
    "        myRID.append(r.id)\n",
    "        myReviews.append(r.text)\n",
    "           \n",
    "        if len(myReviews) >= 100:\n",
    "            break\n",
    "    \n",
    "    return myRID, myReviews"
   ]
  },
  {
   "cell_type": "code",
   "execution_count": 5,
   "metadata": {
    "collapsed": false
   },
   "outputs": [],
   "source": [
    "# Calling the Get_Reviews method and get the data. \n",
    "\n",
    "\n",
    "myRID, myReviews = Get_Reviews(pd)"
   ]
  },
  {
   "cell_type": "code",
   "execution_count": 6,
   "metadata": {
    "collapsed": false
   },
   "outputs": [
    {
     "data": {
      "text/plain": [
       "100"
      ]
     },
     "execution_count": 6,
     "metadata": {},
     "output_type": "execute_result"
    }
   ],
   "source": [
    "len(myRID)"
   ]
  },
  {
   "cell_type": "code",
   "execution_count": 7,
   "metadata": {
    "collapsed": false
   },
   "outputs": [
    {
     "data": {
      "text/plain": [
       "[u\"I just purchased this product less than 2 months ago. I've been having several problems and apparently inolving hardware. I'm in Peru now and can't find a place were the warranty works. Would like to know if anybody have a suggestion.\",\n",
       " u'Fantastic product',\n",
       " u'My husband loves this!  Arrived super fast!  He uses it all the time.',\n",
       " u'I love it, the price that I bought it was exellent for all people. I recommended it for people that use this pc for navigate, emails and so much, not for people who work all time with big programs and resolution because is a little slowly in these cases. For example: I am a programmer and it has not  the best performance compared with the macbook pro. You choose what do you want and for what.',\n",
       " u\"MacBook Air , Apple is Apple , you pay for the name . Overall this computer is fairly good . I haven't had any virus' no download problems and no problems with the webcam . I do like that you can use the touch pad to scroll through everything and display through different tabs. I like you can do everything you can do on your phone on this device . The battery lasts me all day and I have to use it all day doing the work I do. Very hard to navigate on how to use at first with using pages or numbers but you get use to it .\\nCons are the touch pad to move your cursor , glitches . Mine freezes up and won't let me scroll down . I don't like the fact either you pay so much money for this device and there's no disc drive . I don't care for he charger . It detaches easily, and can be frustrating . The magnet isn't very strong on it . I'm on the fence with purchasing any other Apple products the only reason I bought one was for anti virus protection . If you want to have a durable computer this is definitely a purchase for you .\",\n",
       " u'Nothing more to say!',\n",
       " u\"So glad I didn't get a surface or any other Microsoft. Never going back\",\n",
       " u\"replaced once and then returned.  not nearly as fast as a macbook pro with similar specs.  I'm an Xcode developer and this was too slow, constantly got the spinning wheel.  For me, the macbook pro is a better choice - just a little thicker and 1/2 pound heavier but better performance.\",\n",
       " u\"Only MacBook laptops got the highest resolution and quality sound that I've been looking for in a gadget.\",\n",
       " u\"Got it before the estimate time, in perfect conditions, great product and the cheapest one I found. I'm very happy with this purchase.\",\n",
       " u\"Takes some getting used to, as I've be using a pc for a long time.\",\n",
       " u\"It's very slow to start up when I shut it down. It makes me nervous.\",\n",
       " u'Great power-efficient laptop that is surprisingly good for high-end gaming. Very thin and light with superior software in Mac OSX. Much beter than any PC I ever used. Responsive and fast. Just wish the resolution was better.',\n",
       " u'I almost forgot how to use a laptop after using primarily an iPad for many years. But this Mac is user friendly and works nicely in sync with an iPad. Easy set up. So far I love it. Great price too!',\n",
       " u'I absolutely love my laptop',\n",
       " u\"This is my first Mac and so far I love it! It is so light and portable but the screen doesn't fell too small. I like the way the mouse works a lot better than it does on the PC laptops.\",\n",
       " u'God bless Steve Jobs',\n",
       " u'Great Laptop',\n",
       " u'The product itself is great! i have never had any issues with any apple devices in the past.\\nHowever this one had a jumpy image while watching videos, so I had to return. The refund process was easy and fast. Already got a new one and happy!\\n4 stars for the odd experience:-/',\n",
       " u'Love this laptop, works great.',\n",
       " u'Very Good',\n",
       " u'Everything I hoped for and heard about.',\n",
       " u'working perfectly',\n",
       " u'I have all of Apples products, iPad, iPhone.. and now my MacBook.  This is  my first Mac and so far I love it.  I am still experimenting and getting used to it.  I am using it for my small business- website updating etc.',\n",
       " u'I like this I have always been a PC girl. I have had to go to the Apple store  twice for software issues, which they fixed immediately. I would definitely buy again.',\n",
       " u'I love my mac Book Air!!!',\n",
       " u\"This is a work horse computer for me. I wish I had gotten a larger display for me, but can't beat the price for performance.\",\n",
       " u'BEST COMPUTER I EVER OWNED BY APPLE AND AT A VERY LOW PRICE WITH QUICK SHIP.  A+++++',\n",
       " u'Absolutely wonderful machine! Macbook Air is fast, responsive & just great to use! Much different than using windows, which is awesome! Apple never fails to go above and beyond! From the moment you take this mac out of the padded box you will love it!',\n",
       " u'I waited to post this review until I had put the laptop through its paces....  gotta say this was a great deal and a reliable seller.  Product is as described and I have had no issues. Would encourage all who read this to buy from them without hesitation.',\n",
       " u'good product',\n",
       " u\"I was very scared about ordering this because it is a lot of money. But I couldn't be happier, it's brand new and in good shape, it works perfectly for me and my homework since I am in college.\",\n",
       " u'Apple has it listed for same price. The list price here is correct which is very rare here. Excellent laptop. Retina screen is worth every penny. Very fast. Great laptop!',\n",
       " u'This laptop is a perfect study machine for college students. The design and weight are so delicate and flawless. Highly recommend to those who wish to have higher working efficiency and better study experience.',\n",
       " u'Apple is the best product ever!!!',\n",
       " u'Thia is my first Mac after being a PC user all my life ( i am 62 ) I love it ! wish I had switched over sooner ! It is fast , simple to use , long battery life , super light .',\n",
       " u'Absolutely LOVE it!',\n",
       " u\"I'm mainly a Mac person.  But I've dipped into the PC world with Windows 10.  Since using a Mac all the way back to 1986, I must say Windows 10 is the first version of Windows that isn't an embarrassment when compared to OS X.  It's no El Capitan yet, but if you need a simple rock solid web, email, light Office-ish PC,  I'd finally agree that Macs are underspec'd and overpriced.\\nTake this MacBook for example.  There's no retina screen here.  It's fuzzy old school TN screen tech.  Which if the unit were cheaper would be okay.  But this is classic Apple gauging.  This unit, as spec'd, should be $799.  Why do I say this?  Because I can purchase on Amazon right now the Asus UX305 with the same sort of screen but at Full HD, twice the SSD storage, and a fanless experience thanks to the Core M processor.  For $100 less.  Actually $200 less with a current rebate.  And I mean $200 less than my make pretend price of $799 -- NOT THE ACTUAL PRICE OF $999.\\nNow I know us Mac types start talking about virus and malware.  I get it, I do.  But Win10 comes with it's own anti-viral software that appears to be working fine.  And virus and malware issues are typically user stupidity mixed with OS issues.  So if you school yourself on how to avoid bad things it seems you likely will.\\nAs a Mac fan I wouldn't even be looking at PCs if Macs were more reasonably priced and spec'd.  Heck -- I'd settle for this price if the SSD doubled and the screen was HD.  But Apple expects you to take their gauging TWICE these days.  I say give it to Apple ONCE by skipping this laptop altogether -- until their greedy little paws at least give you better spec.  OS X simply isn't worth $400 more with half the spec anymore.\",\n",
       " u\"I read all the reviews. I compared other manufacturers specs. I finally decided on this Mac. Got it yesterday and love it. I'm a graphic designer and wasn't sure about the screen resolution. I wish it was more, but it's still pretty good. Actually because of this computers size images appear much sharper then I thought. Its lightning fast and it is an exceptional all around computer. The build is top notch as all Apple products seem to be. I'm satisfied.\",\n",
       " u'I had a pc and switched to this, but now kind of disappointed.',\n",
       " u'On time and as promised',\n",
       " u'Thanks for the Apple MacBook Pro',\n",
       " u'I LOVE it',\n",
       " u\"It's just as advertised. Don't know how we got along without it. Video playback and images extremely high quality. Only needs to be charged every 12 hours, so no need to look for outlets in public places.\",\n",
       " u\"I've owned three MacBook Air's in my life, and I've always loved them.  I've even owned another unit of this model, which was amazing, so this review is solely for the units being sold by Amazon.  The following are a list of my complaints, and why I rated this laptop 3 stars.\\n1) Packaging/Handling:  I'm starting to think that the reason these MacBook Airs are cheaper than others is because the seller knows they're damaged/faulty.\\n2) Quality:  I've ordered one before that arrived in a damaged box and it wouldn't even complete set-up.  I returned it and eventually decided to try again.  This time, the box was once again damaged, and the MacBook has a bit of flex which isn't supposed to happen.  When I hold it one-handed, you can hear creaking occurring.\\n3) Damaged Items:  When I opened this MacBook, I found that on the top and bottom there were several minor, but noticeable, burrs, as if it had been scraped.\\nIf these are the reasons that these laptops are discounted, then the seller/Amazon should notify the customer so that they are aware that they're purchasing a new, but faulty bit of equipment.\",\n",
       " u\"I couldn't be happier. Fast, safe, packaged excellent.\",\n",
       " u'My grandson spent the day with me and the Mac Air  I had bought for my 86th birthday.  This extraordinary machine has already given me access to many new areas of interest, educational and recreational.  Thank you.',\n",
       " u'Amazing!',\n",
       " u'was just what she wanted',\n",
       " u'great',\n",
       " u\"I first had a defective one that wouldn't close properly to seal. I switched it with another one which would electric shock you when plugged in. Then had to switch it again, and now it hangs all the time and gets very hot. Also, when I scroll down, sometimes a paragraph of my text disappears, also often the mouse cursor disappears and you have to click around for it to become visible again. All and all I am super disappointed with this product.\",\n",
       " u'Very nice',\n",
       " u\"So far so good. Daughter loves it. She's freshmen in college. Good purchase:)\",\n",
       " u'Laptop is great. However it appears the touchpad was not assembled correctly... There is a slight &#34;tapping&#34; sound on the touchpad (no, not the actual left/right click options). You can even see the touchpad moving up and down; that is not suppose to happen.\\nTook to Apple store and they wanted to ship it off to get fixed.',\n",
       " u'Hey. Some keys in the keyboard are not working. How can we solve this issue.?  LETTER S X por example.',\n",
       " u'Posting this review from this computer, works great and with original manufacturer warranty. I also have a macbook pro and this one is still pretty fast, although slower than the pro. I have resource intensive windows such as photoshop, mail, skype, chrome (with at least 4 tabs open) and am not noticing any issues. The only main difference is in the graphics... you can definitely tell the difference if you come from a retina display.',\n",
       " u'The newest version is a nice machine, but beware! It only runs OS 10.10.3 and later, no earlier versions.  This means that you cannot keep iPhoto, you have to move to Photos, a new Apple thing.  All your pics can &#34;be migrated&#34;, of course. You will also be urged to get into iCloud, often.  If you want to do all this at your own speed, and want to stay with an earlier OS for a while, then  stay with an older version of Air.  This is not stated in the specs.',\n",
       " u'Got here before promised date, in perfect shape, so far very happy with product. Just had surgery so I needed a very light laptop - this fit the bill!',\n",
       " u'love it',\n",
       " u'\\x1a\\x1a\\x1a\\x1a',\n",
       " u'I received the MacBook Air and it was never opened and in great shape.Great item great price',\n",
       " u'Wow!',\n",
       " u\"It took me a long time to join the Mac crowd, but I'm all in now.  I love this MacBook Air.  The battery lasts way longer than any windows notebook I've ever had and the mouse pad - once you get used to it - is light years ahead of any windows mouse pad.\",\n",
       " u\"Writing this on the Macbook Air:\\nWhen I first purchased this, I was skeptical of how fast it ran, how well it handled programs, and how long the battery lasted, as well as storage with the 128 gigs.\\nSo far, I have Microsoft Office 2016, Adobe Photoshop and Illustrator, Final Cut Pro X, and roughly 10 gigs of songs on the computer. I still have about 78 gigs remaining. So storage likely won't be a problem. If it is, I can easily buy an external HDD that connects via USB.\\nFor the battery, I charged it properly. The day I received it, I plugged it in overnight before ever using it and allowed it to charge fully. Today was the first day I used it. It is currently on hour 14 and is at 9%. My usage includes: VLC Media Player watching movies, iTunes listening to music, pretty much always on Firefox browsing the web, watching YouTube videos, multiple uses of Photoshop and Illustrator, and a single video rendered by Final Cut Pro X. After all that, it is at 9%. Battery life is amazing, as it has been said multiple times. The only changes I've made are to the keyboard backlight, which is set at 1, so the backlight is on but at it's lowest setting. The screen is at the default half setting.\\nAs far as the 4 gigs of RAM. I'm used to working with Windows, which needs about 8 gigs to function decently. Mac OS X, however, manages memory much more efficiently. 4 gigs of RAM allows me to have multiple heavy programs open at once. At the moment, I have Firefox, Photoshop, Mail, iTunes, Photos, Messages, and uTorrent (which is downloading a file), and the computer still doesn't show the slightest sign of struggling. No lag loading webpages, or opening new programs. Opening Activity Monitor shows I'm only using 2.35 gigs of RAM.\\nFor others wondering about the processor, it more than out performs. The Intel i5 combined with the SSD results in Firefox opening instantly, Photoshop and Illustrator take 4-5 seconds to fully load, and other programs (iTunes, Messages, etc) also open instantly.\\nSince the Macbook Air is known for it's weight and how thin it is, I'll comment on that also. As for weight, it's definitely the lightest laptop I've ever owned. Picking it up feels like I'm holding a couple sheets of paper, or perhaps a smartphone with a case on it (in terms of weight of course). When I first started using it, I actually thought it didn't have speakers built in, seeing as how thin it is. After playing one song, I was proven wrong. The speakers are hidden away, but are still great for regular audio listening.\\nThe saying &#34;you get what you pay for&#34; really proves itself here. You pay ~$900 and receive an outstanding computer. Also, as a last note, this was written by a &#34;PC fanboy&#34;, aka somebody who thought they were wasting money buying this.\\nAs a second footnote, this review took me approximately 10 minutes to type, and the battery remains at 9%.\",\n",
       " u'I had a pro before this one and I honestly don&#34;t notice any difference. Lighter, cheaper and prettier !',\n",
       " u'LOVE IT!',\n",
       " u'First Apple computer that I have owned. I am completely satisfied with this machine.',\n",
       " u'i love it',\n",
       " u'Really worth purchasing',\n",
       " u'Good',\n",
       " u'I was happy with this purchase',\n",
       " u\"Oh my god! Words cannot explain how much I love this macbook air! definitely worth the money!! It connects so fast to your printer wirelessly, has an awesome backlit keyboard, and so so much more features!! If you're looking to invest in a laptop, definitely get this one!!\",\n",
       " u'I love it',\n",
       " u'Fast, works great. Functional for what I need it to be.',\n",
       " u'Seller was great, good packaging and it arrived a little faster than advertised. Product is still the best consumer laptop ever made, though some other makers are finally starting to close the gap.',\n",
       " u\"I didn't even get to look at it.  I bought it for my 17 year old grandson.  I did ask him how it worked out and he said it was GREAT.\",\n",
       " u\"this is my first ever apple product that i've purchased and i must say that i'm inloveeeeeeee. the laptop is so thin and beautiful. it's so light  and the keyboard is so nice to type on.\\ni read some comments of people saying that this macbook doesn't have a nice screen so i was concerned but now tbh i don't know what they're talking about because the screen is very nice. maybe the macbook pro might have a nicer screen but the resolution on this laptop is very pretty.\\nso yeah so far i love this macbook air and i got no regrets on spending all my savings on it haha...now i want everything apple ^_^\",\n",
       " u'I love this laptop. It is my first Macbook and I fell in love with it. Highly recommend it.',\n",
       " u'Brand new macbook as stated.  Came very fast.',\n",
       " u'What can I say....Its a Mac!!!!!!!',\n",
       " u'great love it',\n",
       " u'Brand new Mac air , still in original wrap! Love it so far coming from a former pc user.\\x1a',\n",
       " u'Brand new and the Fan constantly runs on high (with CPU use under 5%) and the sound/speakers do not work at all (nor do headphones)...I spent an hour on the phone with Apple support and they said its probably faulty hardware and I need to take it all the way to the store to have it looked at...and likely they will want to take it for a week to get it fixed.  Thats the sort of build quality I might expect from a $300 machine...but not at this cost.  Be sure to buy from a vendor that allows returns with no restocking fees.',\n",
       " u'Great size & super lite!',\n",
       " u\"YOU GET WHAT YOU PAY FOR~BUY JUNK GET JUNK~ I went thru buying two other laptops thru Amazon (THIRD PARTY SELLER) by the way I DO NOT RECOMMEND as I am still waiting on a $400 refund on one Aspire Switch 2 n 1 that burned up the first time i plugged it in!  After two failed attempts with junk  and reading reviews about this lightweight 13&#34; beauty~ I decided to splurge~ I AM SO HAPPY I FINALLY DID!  Like every one else~ it  finds everything ~ my I Phone I PAD no cords wires etc...  I am not a youngin so I like the simplicity this laptop and all Apple products offer~ KEEP YOUR WINDOWS~ that constantly disappear you spend more time trying to figure out how to get back to the page you were just on than being productive with what you are working on.  This MAC lets you do everything and even has demonstrations for first time Mac owners like me!  ~I haven't been off of it since I got it~  it's so lightweight I can take it to bed~the keyboard is comfortable you don't have to press down  so hard and break a fingernail~it's not clunky or chunky or loud (keypad) my arms don't go numb and it has a backlight which is just another added plus~ I also love the magnetic charger and both cables apple includes with this laptop~ it's so convenient  you don't have a hot brick attached to you like other laptops~the battery lasts all day long~ it came a day early (Fulfilled by Amazon) packaged straight from the factory charged and ready to go and unlike the junk i DID NOT have to wait all day to sign for it~ it was left by my front door.  APPLE APPLE APPLE APPLE APPLE  ABSOLUTELY APPLE!\",\n",
       " u'Good',\n",
       " u\"Great computer. I bought it to replace my 2013 MacBook Pro. I just wanted something lighter and more commuter friendly as I walk around a college campus all day. Quick, two day shipping. So far so good. Easy to set up as expected. Can't go wrong with a MacBook. Highly recommended.\",\n",
       " u'Love it SO much!',\n",
       " u\"Very good performance and weight. I've migrate from a macbook pro ,buying an Air in April 2014 (paying around $1,200 bucks - basc version w/ additional 500GB) . It has been working very well until last week. My mac just stopped to work; whenever i plug the power cord to charge it; nothing, no answer, just failed.\\nI've took to a Apple service provider who quote its repair in $500, the problem is in the logic board. I'm so frustrated that after less than 1.5 year of usage, a product which is synonymous of quality and from a brand that I've always trust, fail this big. I'm feeling like abandoned by a brand I'm loyal\\nMy recommendation if you're a mac fan, don't buy it, go for a macbook pro, unless you want to take the risk of your mac suddenly fail\",\n",
       " u'Best investment I ever made',\n",
       " u\"Just requested a replacement since the one I received yesterday is not charging. The battery condition is &#34;replace now&#34; on a brand new Macbook Air (MJVE2LL/A). I'm willing to give a second chance, but it's really disappointing. I do own many other Apple products and none of them are like this right out of the box.\\nUPDATE:\\nThe replacement was delivered today and no issues. Everything seems to be functioning properly as it should be. An excellent customer service from Amazon Prime (5 stars), but only 4 stars for MBA for the issues with defective battery right out of the box.\",\n",
       " u'Very nice, brand new, same date warranty',\n",
       " u'awesome machine',\n",
       " u'Best computer I have ever used...period. Very robust build, and very user friendly. I believe that people are afraid of Macs because they used to be so very different from a Windows/PC machine. However, they have integrated a Windows feel to them, and any PC user can seamlessly move to Mac, and not be susceptible to viruses and constant Windows crashes.',\n",
       " u'It was a gift for my granddaughter. In college she loves the Macbook.',\n",
       " u'Good',\n",
       " u\"I bought one of these to try some Mac exclusive software for my business. I'm primarily a PC user and this was the first Mac I ever purchased and I was impressed with the laptop even if I ultimately decided to return it.\\nThe Good:\\n-The size and the weight is right. I was looking for something that I could carry around easily (my other laptop is a 10lb gaming behemoth and portable it ain't) and this fit the bill.\\n-It worked quite nicely right out of the gate. There was a bit of a learning curve because I'd only used MacOS in passing on friends' computers over the years, but everything was intuitive enough once I figured it out.\\n-The screen is absolutely beautiful even if it is lower resolution than other laptops in this class.\\n-The battery life. Dear gods above the battery life. I had this thing for a week testing it out and I think I only had to charge it once. Obviously your mileage may vary depending on how much you use the thing, but it certainly holds a charge.\\nThe Bad:\\n-The screen looks nice, but as I mentioned above it's also a smaller resolution and so things can seem a bit cramped at times.\\n-Lack of ports. There just weren't as many USB options, etc., compared to similar non-Apple devices on the market.\\n-The price is also something to consider. The MacBook Air is still a good $150-$200 more expensive than comparable PC devices on the market. You're paying the &#34;Apple Tax&#34; that comes with all of their devices which isn't necessarily a bad thing if you like their stuff and have the money, but be aware that you're paying more for the Apple logo and design.\\nUltimately I decided to return this and go with a comparable and cheaper PC alternative. The Mac exclusive software I was testing ultimately didn't perform any better than the PC version so there was no reason for me to switch from PC. I returned it and purchased a comparable PC alternative from Dell.\\nIf you're an Apple user and you're looking for something that's portable with the usual stellar computing experience you get on an Apple machine then this is definitely worth the money. As long as you don't mind paying a little more for that Apple experience. If you're thinking about migrating from PC then there are cheaper alternatives out there that deliver the same form factor on a Windows machine.\",\n",
       " u'Great communication! Deffinetly recommend :)',\n",
       " u'great product and great deal',\n",
       " u\"This is my first Apple Laptop and I LOVED IT!!! I had a Surface but it always froze and it seemed like only half the time it worked\\x1a But with this it ALWAYS WORKS!!! It's literally amazing I love it so much I would recommend this to anyone!!\"]"
      ]
     },
     "execution_count": 7,
     "metadata": {},
     "output_type": "execute_result"
    }
   ],
   "source": [
    "myReviews"
   ]
  },
  {
   "cell_type": "code",
   "execution_count": 8,
   "metadata": {
    "collapsed": true
   },
   "outputs": [],
   "source": [
    "# To store the reviews in text file and named as it's Product ID. \n",
    "\n",
    "def Review_Store_File(p,myRID,myReviews):\n",
    "    \n",
    "    review_file = open('Reviews_Data/' + p.asin + '.txt','a')\n",
    "    for i in range(len(myRID)):\n",
    "\n",
    "        review_file.write(myRID[i] + \"->\" + myReviews[i].replace(\"\\n\", \" \").encode('utf-8') + \"\\n\")\n",
    "\n",
    "\n",
    "    review_file.close()"
   ]
  },
  {
   "cell_type": "code",
   "execution_count": 9,
   "metadata": {
    "collapsed": false
   },
   "outputs": [],
   "source": [
    "Review_Store_File(p,myRID,myReviews)"
   ]
  },
  {
   "cell_type": "code",
   "execution_count": 10,
   "metadata": {
    "collapsed": true
   },
   "outputs": [],
   "source": [
    "# To store the Item into items.txt to keep track of all items.\n",
    "\n",
    "\n",
    "def Item_Store_File(p):\n",
    "\n",
    "    items_file = open('items.txt',\"a\")\n",
    "    items_file.write(p.asin + \"\\t\" + p.title.encode('utf-8') + \"\\t\" + p.manufacturer + \"\\n\")\n",
    "\n",
    "    items_file.close()\n"
   ]
  },
  {
   "cell_type": "code",
   "execution_count": 12,
   "metadata": {
    "collapsed": true
   },
   "outputs": [],
   "source": [
    "Item_Store_File(p)"
   ]
  },
  {
   "cell_type": "code",
   "execution_count": 12,
   "metadata": {
    "collapsed": false
   },
   "outputs": [],
   "source": [
    "# To see the list of Items stored in 'items.txt' file. Here 3 columns are there. first depicts the Product IDs, \n",
    "# second gives Product titles and last column gives Manufacturer details.  \n",
    "\n",
    "def Items(itm):\n",
    "\n",
    "    itm_file = open(itm,\"r\")\n",
    "    print itm_file.read()\n",
    "    itm_file.close()\n"
   ]
  },
  {
   "cell_type": "code",
   "execution_count": 13,
   "metadata": {
    "collapsed": false
   },
   "outputs": [
    {
     "name": "stdout",
     "output_type": "stream",
     "text": [
      "B00THEP15O\tDell Inspiron 15.6 Inch Laptop\tDell Computers\n",
      "B00ZOO1RFO\tDell Inspiron i3543 15.6-Inch Touchscreen Laptop\tDell Computers\n",
      "B015JVB9C2\tDell Inspiron i3000-5099SLV Touchscreen Laptop\tDell Marketing USA, LP\n",
      "B010DOD2G6\tDell Inspiron 15 5000 15.6 Inch Laptop\tDell Marketing USA, LP\n",
      "B00VKL0I96\tDell Latitude E6420 Premium 14.1-Inch Business Laptop\tDell Computers\n",
      "B010DODAWM\tDell Inspiron 11 3000 Series 2-in-1  11.6 Inch Laptop\tDell Marketing USA, LP\n",
      "B013PK8LGQ\tDell Inspiron 3000 15.6-Inches Windows 8.1 Laptop \tDell Computers\n",
      "B012BPRLO4\tDell Latitude E6400 Laptop Core 2 Duo\tDell Computers\n",
      "B00YD1OQ1G\tDell Inspiron N2840 14-Inch Laptop\tDell Computers\n",
      "B014B9IS1S\t2015 Newest Dell Chromebook, 11.6 inch HD Non-Touch LCD\tDell Computers\n",
      "B00V2KX5JA\t2015 Newest Model Dell Inspiron 15 Laptop Computer\tDell Computers\n",
      "B00ZS64K7K\tDell Inspiron 15 i5548-4167SLV - 15.6\" Touchscreen\tDell Computers\n",
      "B00KMRGF28\tDell Inspiron i3531-1200BK 16-Inch Laptop,Black\tDell Computer\n",
      "B00Z1R85O0\t2015 Newest Dell Inspiron 2 in 1 Convertible Touchscreen Laptop\tDell Computers\n",
      "B00XPUUGDI\tDell Inspiron 15 i5548-1670SLV Touchscreen Laptop\tDell Computers\n",
      "B011N5HFOE\tNewest Dell Inspiron 15 3000 Series 3551 Laptop\tDell Computers\n",
      "B015PYZXRU\tDell Inspiron i5552-4391BLK 15.6 Inch Touchscreen Laptop\tDell Marketing USA, LP\n",
      "B00PGELA04\tDell 15 5000 i15547-5003sLV 16-Inch Touch Screen Laptop\tDell\n",
      "B015JVBD64\tDell Inspiron i5558-2859BLK 15.6 Inch Touchscreen Laptop\tDell Marketing USA, LP\n",
      "B00IB04M5K\tDell Inspiron i3541-2001BLK 15.6-Inch Laptop\tDell Computer\n",
      "B00RY4X8A4\t2015 Newest Model Dell XPS13 Ultrabook Computer\tDell Computers\n",
      "B00ZOLT5YC\t2015 Newest Model DELL Inspiron 15 Touchscreen Laptop\tDell Computers\n",
      "B015P3SH9W\tDell Inspiron i7359-6790SLV 2-in-1 Touchscreen Laptop\tDell Marketing USA, LP\n",
      "B00U8DHPX4\tDell - Inspiron I3542-11001BK 15.6\" Touch-Screen Laptop\tDell Computers\n",
      "B00K4PATO8\tDell Inspiron i5748-2143sLV 17.3-Inch Laptop\tDell Computer\n",
      "B004KZJ0UM\tDell Latitude D630 14.1-Inch Notebook PC - Silver 2011 Model\tDell Marketing USA, LP\n",
      "B011KFQASE\tASUS F555LA-AB31 15.6-inch Full-HD Laptop\tASUS Computers\n",
      "B00NJNE6AA\tDell Inspiron 15 7000 Series i7537T Touchscreen Laptop\tDell Computer\n",
      "B00VJ1P7TS\tApple MacBook Air MJVE2LL/A 13-inch Laptop\tApple Computer\n",
      "B01606KJ6C\tMicrosoft Surface Pro 4, Intel Core i5\tMicrosoft PC\n",
      "B00VGNZ4PG\tMicrosoft Surface 3 Tablet\tMicrosoft PC\n",
      "B00FF6J532\tMicrosoft Surface 2 (32 GB)\tMicrosoft Surface\n",
      "B0163GQJOU\tMicrosoft Surface Book Intel Core i5\tMicrosoft\n",
      "B00IU745S8\tG-Tab Iota Quad Core Android Tablet PC\tMatricom\n",
      "B00N9ERISQ\tMicrosoft Surface 2 32GB 10.6\" Tablet\tMicrosoft\n",
      "B00PPTP9IO\tToshiba Radius 2-in-1 11.6\" Touch-screen Laptop\tToshiba\n",
      "B00K4PAV5U\tDell Inspiron 15.6-Inch Touchscreen Laptop\tDell Computer\n",
      "B00MMLW3X2\tASUS K200MA-DS01T(S) 11.6-Inch HD Touchscreen Laptop (Black)\tAsus\n",
      "B00X9KPSKK\tHP Pavilion X360 13.3-Inch WLED HD Touch-screen Convertible Laptop\thp\n",
      "B00HRO37UC\tDell Inspiron 15.6-Inch Touchscreen Laptop (i15RVT-6195BLK)\tDell Computer\n",
      "B00K6ZIL0K\tLenovo Flex 2 15.6-Inch Touchscreen Laptop (59418271) Black\tLenovo\n",
      "B00KDI9C4O\tHP Pavilion x360 13-a010nr Convertible Touchscreen Laptop\thp\n",
      "\n"
     ]
    }
   ],
   "source": [
    "Items('items.txt')"
   ]
  }
 ],
 "metadata": {
  "kernelspec": {
   "display_name": "Python 2",
   "language": "python",
   "name": "python2"
  },
  "language_info": {
   "codemirror_mode": {
    "name": "ipython",
    "version": 2
   },
   "file_extension": ".py",
   "mimetype": "text/x-python",
   "name": "python",
   "nbconvert_exporter": "python",
   "pygments_lexer": "ipython2",
   "version": "2.7.6"
  }
 },
 "nbformat": 4,
 "nbformat_minor": 0
}
