{
 "cells": [
  {
   "cell_type": "code",
   "execution_count": 1,
   "metadata": {
    "collapsed": true
   },
   "outputs": [],
   "source": [
    "# All Imports\n",
    "from collections import Counter\n",
    "import ConfigParser\n",
    "import matplotlib.pyplot as plt\n",
    "import networkx as nx\n",
    "import sys\n",
    "import time\n",
    "from amazon.api import AmazonAPI\n",
    "import io\n",
    "import re\n",
    "from amazon_scraper import AmazonScraper\n",
    "from nltk.corpus import sentiwordnet as swn\n",
    "\n",
    "%matplotlib inline"
   ]
  },
  {
   "cell_type": "code",
   "execution_count": 2,
   "metadata": {
    "collapsed": false
   },
   "outputs": [
    {
     "name": "stdout",
     "output_type": "stream",
     "text": [
      "Established Amazon connection.\n"
     ]
    }
   ],
   "source": [
    "# This method is done for you. Make sure to put your credentials in amazon.cfg.\n",
    "def get_amazon(config_file):\n",
    "    \"\"\" Read the config_file and construct an instance of AmazonAPI.\n",
    "    Args:\n",
    "      config_file ... A config file in ConfigParser format with Amazon credentials\n",
    "    Returns:\n",
    "      An instance of AmazonAPI.\n",
    "    \"\"\"\n",
    "    config = ConfigParser.ConfigParser()\n",
    "    config.read(config_file)\n",
    "    amazon = AmazonScraper(\n",
    "                   config.get('amazon', 'AMAZON_ACCESS_KEY'),\n",
    "                   config.get('amazon', 'AMAZON_SECRET_KEY'),\n",
    "                   config.get('amazon', 'AMAZON_ASSOC_TAG'))\n",
    "                   \n",
    "    return amazon\n",
    "\n",
    "amzn = get_amazon('amazon.cfg')\n",
    "print('Established Amazon connection.')"
   ]
  },
  {
   "cell_type": "code",
   "execution_count": null,
   "metadata": {
    "collapsed": true
   },
   "outputs": [],
   "source": [
    "# Fetch the 100 most viewes Product IDs of keyword (i.e 'Microsoft Surface') which falls in category (i.e 'Electronics').\n",
    "\n",
    "pid_lst = []\n",
    "for q in itertools.islice(amzn.search(Keywords='Microsoft Surface', SearchIndex='Electronics'), 100):\n",
    "    print(q.asin)\n",
    "    pid_lst.append(q.asin)"
   ]
  },
  {
   "cell_type": "code",
   "execution_count": null,
   "metadata": {
    "collapsed": true
   },
   "outputs": [],
   "source": [
    "# Store all the Product IDs in a file so that we can use it in future. \n",
    "\n",
    "fp = open('MS_PID.txt','w')\n",
    "for item in pid_lst:\n",
    "    fp.write(\"%s\\n\" %item)\n",
    "\n",
    "fp.close()"
   ]
  },
  {
   "cell_type": "code",
   "execution_count": null,
   "metadata": {
    "collapsed": true
   },
   "outputs": [],
   "source": [
    "# Reading the IDs from file and put it in list. \n",
    "\n",
    "pid = []\n",
    "pfile = open('MS_PID.txt','r')\n",
    "for i in pfile.read().split():\n",
    "    pid.append(i)\n",
    "    \n",
    "pfile.close()"
   ]
  },
  {
   "cell_type": "code",
   "execution_count": null,
   "metadata": {
    "collapsed": false
   },
   "outputs": [],
   "source": [
    "# To check the number of Product IDs we have fetched. \n",
    "\n",
    "len(pid)"
   ]
  },
  {
   "cell_type": "code",
   "execution_count": 49,
   "metadata": {
    "collapsed": false
   },
   "outputs": [],
   "source": [
    "# Take one by one Product ID and search for it. \n",
    "\n",
    "#pd = 'B00MA7A876'\n",
    "pd = 'B015JJNF8K'\n",
    "p = amzn.lookup(ItemId=pd)"
   ]
  },
  {
   "cell_type": "code",
   "execution_count": 41,
   "metadata": {
    "collapsed": false
   },
   "outputs": [
    {
     "data": {
      "text/plain": [
       "'B015JJNF8K'"
      ]
     },
     "execution_count": 41,
     "metadata": {},
     "output_type": "execute_result"
    }
   ],
   "source": [
    "p.asin"
   ]
  },
  {
   "cell_type": "code",
   "execution_count": 44,
   "metadata": {
    "collapsed": true
   },
   "outputs": [],
   "source": [
    "# Download the reviews from amazon page by page and store the id and review text in list form. \n",
    "\n",
    "def Get_Reviews(pid):\n",
    "    \n",
    "    rs = amzn.reviews(ItemId=pid)\n",
    "    myReviews = []\n",
    "    myRID = []\n",
    "\n",
    "    for r in rs.full_reviews():\n",
    "    \n",
    "        myRID.append(r.id)\n",
    "        myReviews.append(r.text)\n",
    "           \n",
    "        if len(myReviews) >= 100:\n",
    "            break\n",
    "    \n",
    "    return myRID, myReviews"
   ]
  },
  {
   "cell_type": "code",
   "execution_count": 54,
   "metadata": {
    "collapsed": false
   },
   "outputs": [],
   "source": [
    "# Calling the Get_Reviews method and get the data. \n",
    "\n",
    "\n",
    "myRID, myReviews = Get_Reviews(pd)"
   ]
  },
  {
   "cell_type": "code",
   "execution_count": 55,
   "metadata": {
    "collapsed": false
   },
   "outputs": [
    {
     "data": {
      "text/plain": [
       "10"
      ]
     },
     "execution_count": 55,
     "metadata": {},
     "output_type": "execute_result"
    }
   ],
   "source": [
    "len(myRID)"
   ]
  },
  {
   "cell_type": "code",
   "execution_count": 52,
   "metadata": {
    "collapsed": false,
    "scrolled": true
   },
   "outputs": [
    {
     "data": {
      "text/plain": [
       "[u'None',\n",
       " u\"I was in the market for a new Netbook when I stumbled across this Gem. I have purchased numerous ACER products, so I fully expected a quality product. What is awesome about this product is that the device may be used as a Netbook, or a tablet. The Windows OS operates flawlessly. The docking keyboard with full sized USB is far superior than what is currently on the market (versus a Bluetooth one). The Price sealed the deal. If you're looking for a Microsoft Surface, scratch that idea, and pick up one of these! It'll save you a significant amount of money, and works better.\",\n",
       " u'None',\n",
       " u'None',\n",
       " u'This is absolutely perfect for the price paid. It is compact, light and easy to use. The display is good. Very good device for browsing,emailing and watching movies. 5 star to the product. It was delivered the very next day after order, so 5 start to Amazon prime too.',\n",
       " u\"I've only had it for a few days but I LOVE this cute little thing! I use the keyboard mostly but at times I do like to disconnect it and even put it on the keyboard backwards (It acts as stand).  Before you read my rather lengthy review, I want to first start off by saying that I mainly use my laptop to surf the internet and play a few games such as Candy Crush, etc. (So, no hardcore gamer here).\\nI do spend a large portion of my day on one of my computers.  I have a much larger laptop (HP 19.1&#34;) but it is getting a bit old. Poor thing. I can see me using this MUCH more than that. I also have a HP desktop (I love HP's) and it's super powerful. Of course, I have a Note 5 through Verizon as well. In saying that, I do have some other computers to compare this with and I can see myself using this one above all the others.\\nI will start with a few pro's:\\n-PRICE: I have researched and researched and cannot find anything much cheaper than this that has all the specs (I bought mine at BB on sale).\\n-It is MUCH faster than I anticipated. I have about 4 webpages open now as I'm typing this.\\n-Touchscreen baby! I didn't realize what I was missing until I got this little guy. I got an RCA (10.1 in tablet with keyboard) right before this and that was a joke. That keyboard was so small and was so uncomfortable typing on.\\n-The tablet itself is very solid and doesn't feel cheap (like the one I purchased before it)\\n-It's 32 GB already but also has expandable memory (For all those pictures and music files...and whatever else)\\n-Oh yes it has an HDMI port (but I'm sure most tablets do now).\\n-Screen resolution is amazing. I love being able to pinch and zoom in on what I'm reading but again, the picture quality is excellent.\\n-Battery life. Oh man, I LOVE this one. It gets very good battery life (much better than my HP but to my HP's defense, it does have a much larger screen and is more powerful).\\n-The size and weight. I can easily pack this up in my backpack when I'm on the go without it weighing me down.\\nI'm sure I'm missing a few PRO's but oh well...now to the CONS:\\n-Picture quality (front and back) suck! The pictures come out pretty blurry and grainy and there is no amount of photo editing that will help that (at least, in my case).  I didn't get this to take pictures though.\\n-Windows 10 (UGH). I contemplated on getting an Android tablet but opted for this instead and I'm glad I did. I'm still not quite used to Windows 10 yet.\\n(I can't think of any further cons but I will update if I see fit)\\nOverall, this is a great little tablet for an even better price. If you're streaming the web, watching You Tube videos, or shopping I wouldn't hesitate to get it.\",\n",
       " u\"This is could be a great tablet, but there are problems with the sound.  I cannot get stereo sound in my headphones.  After too many customer service support contacts, I had to send it back to have it repaired.  It came back without Windows 10 (they put it back to Windows 8.1) and the sound worked.  After upgrading to Windows 10 again, the sound worked for about a month.  They want me to send it back again.  I use my tablet a lot when I travel and almost daily at home.  I use it almost exclusively to watch video and without decent sound, this is a worthless device.  Everything else about the tablet is great.  The magnetic dock is strong and I can use it as a laptop--the keyboard is large enough that I can type just as well on it as I can on a full-sized keyboard.  It doesn't tip when the screen is pushed back as other reviews have said and when the screen and keyboard are not docked, it's a great tablet.  This would be a five-star rating if it wasn't for the constant sound problems.\",\n",
       " u'None',\n",
       " u\"It doesn't function well often\",\n",
       " u'It worked for two days. Now it is a paper weight. I always thoroughly research products because like most people, I have not got money to waste. I never would have bought it based on the reviews that are posted now.',\n",
       " u'None',\n",
       " u'None',\n",
       " u'None',\n",
       " u'Beware of this product. Something went wrong after a restart one week into owning it and I could not recover the laptop through any means. I contacted support and their comment was essentially we\\xc2\\x92re sorry but it will cost $45 for a recovery disk.',\n",
       " u'None',\n",
       " u'None',\n",
       " u'None',\n",
       " u\"I've had my computer for about 6 months and it runs fine. I brought a disk drive for it but it steam movies perfectly and its smaller and lighter than my 16inch laptop plus its also a tablet great purchase.\",\n",
       " u'None',\n",
       " u'None',\n",
       " u'Just what I needed',\n",
       " u'None',\n",
       " u\"THE BOTTOM LINE:\\nThe Switch 10 truly reflects its name: it's the perfect amalgam of a tablet and a netbook. It boots quickly, opens programs and files with little to no latency, and can run multiple programs at once without the performance tanking. Expandable storage, decent speakers, light(ish) weight, and a sleek look on top of the wonderful performance make the Switch 10 something that will satisfy both basic and advanced users.\\nTHE PRO:\\nI have been pleasantly surprised by this little tablet/netbook. I've had the 64gb Switch 10 for a little over 3 months now and it's working wonderfully. Unlike Mac tablets - you aren't restricted to a mobile OS - nor are you locked into 64 gigs of storage. Currently I have a 128 gb micro SD holding all of my documents/photos/videos/etc. With the Switch you have all the good things about a tablet AND a netbook with a fully functional OS. The Switch is the best of both worlds. I would highly recommend it to anyone looking to upgrade a netbook as ... Read more\",\n",
       " u'None',\n",
       " u'Good',\n",
       " u'None',\n",
       " u\"i bought this back in april and it was okay, ought to have gone with something with a bigger screen, but i didn't have any other problems with it. it's fairly fast, although over the months it has noticeably decreased in speed. it's pretty durable, i've dropped it a few times and the worst damage it's got is that it broke around the usb port but the port still works just fine. my problem with it is that for the past month or so every now and then it freezes and the screen starts glitching and flickering. i can't find any solution other than to forcibly shut it down and that takes nearly 10 seconds and sometimes it'll glitch again before i can log in. i also can't turn off the adaptive brightness, so it's really annoying when it randomly dims and brightens. update: won't even turn on anymore. don't waste your money on this heap of junk.\",\n",
       " u'please, get something else for a tad more money, i have had nothing but problems with this',\n",
       " u'None',\n",
       " u'None']"
      ]
     },
     "execution_count": 52,
     "metadata": {},
     "output_type": "execute_result"
    }
   ],
   "source": [
    "myReviews"
   ]
  },
  {
   "cell_type": "code",
   "execution_count": 37,
   "metadata": {
    "collapsed": true
   },
   "outputs": [],
   "source": [
    "# To store the reviews in text file and named as it's Product ID. \n",
    "\n",
    "def Review_Store_File(p,myRID,myReviews):\n",
    "    \n",
    "    review_file = open('Reviews_Data/' + p.asin + '.txt','a')\n",
    "    for i in range(len(myRID)):\n",
    "\n",
    "        review_file.write(myRID[i] + \"->\" + myReviews[i].replace(\"\\n\", \" \").encode('utf-8') + \"\\n\")\n",
    "\n",
    "\n",
    "    review_file.close()"
   ]
  },
  {
   "cell_type": "code",
   "execution_count": 48,
   "metadata": {
    "collapsed": false
   },
   "outputs": [],
   "source": [
    "Review_Store_File(p,myRID,myReviews)"
   ]
  },
  {
   "cell_type": "code",
   "execution_count": 12,
   "metadata": {
    "collapsed": true
   },
   "outputs": [],
   "source": [
    "# To store the Item into items.txt to keep track of all items.\n",
    "\n",
    "\n",
    "def Item_Store_File(p):\n",
    "\n",
    "    items_file = open('items.txt',\"a\")\n",
    "    items_file.write(p.asin + \"\\t\" + p.title.encode('utf-8') + \"\\t\" + p.manufacturer + \"\\n\")\n",
    "\n",
    "    items_file.close()\n"
   ]
  },
  {
   "cell_type": "code",
   "execution_count": 13,
   "metadata": {
    "collapsed": true
   },
   "outputs": [],
   "source": [
    "Item_Store_File(p)"
   ]
  },
  {
   "cell_type": "code",
   "execution_count": 14,
   "metadata": {
    "collapsed": false
   },
   "outputs": [],
   "source": [
    "# To see the list of Items stored in 'items.txt' file. Here 3 columns are there. first depicts the Product IDs, \n",
    "# second gives Product titles and last column gives Manufacturer details.  \n",
    "\n",
    "def Items(itm):\n",
    "\n",
    "    itm_file = open(itm,\"r\")\n",
    "    print itm_file.read()\n",
    "    itm_file.close()\n"
   ]
  },
  {
   "cell_type": "code",
   "execution_count": 15,
   "metadata": {
    "collapsed": false,
    "scrolled": true
   },
   "outputs": [
    {
     "name": "stdout",
     "output_type": "stream",
     "text": [
      "B00THEP15O\tDell Inspiron 15.6 Inch Laptop\tDell Computers\n",
      "B00ZOO1RFO\tDell Inspiron i3543 15.6-Inch Touchscreen Laptop\tDell Computers\n",
      "B015JVB9C2\tDell Inspiron i3000-5099SLV Touchscreen Laptop\tDell Marketing USA, LP\n",
      "B010DOD2G6\tDell Inspiron 15 5000 15.6 Inch Laptop\tDell Marketing USA, LP\n",
      "B00VKL0I96\tDell Latitude E6420 Premium 14.1-Inch Business Laptop\tDell Computers\n",
      "B010DODAWM\tDell Inspiron 11 3000 Series 2-in-1  11.6 Inch Laptop\tDell Marketing USA, LP\n",
      "B013PK8LGQ\tDell Inspiron 3000 15.6-Inches Windows 8.1 Laptop \tDell Computers\n",
      "B012BPRLO4\tDell Latitude E6400 Laptop Core 2 Duo\tDell Computers\n",
      "B00YD1OQ1G\tDell Inspiron N2840 14-Inch Laptop\tDell Computers\n",
      "B014B9IS1S\t2015 Newest Dell Chromebook, 11.6 inch HD Non-Touch LCD\tDell Computers\n",
      "B00V2KX5JA\t2015 Newest Model Dell Inspiron 15 Laptop Computer\tDell Computers\n",
      "B00ZS64K7K\tDell Inspiron 15 i5548-4167SLV - 15.6\" Touchscreen\tDell Computers\n",
      "B00KMRGF28\tDell Inspiron i3531-1200BK 16-Inch Laptop,Black\tDell Computer\n",
      "B00Z1R85O0\t2015 Newest Dell Inspiron 2 in 1 Convertible Touchscreen Laptop\tDell Computers\n",
      "B00XPUUGDI\tDell Inspiron 15 i5548-1670SLV Touchscreen Laptop\tDell Computers\n",
      "B011N5HFOE\tNewest Dell Inspiron 15 3000 Series 3551 Laptop\tDell Computers\n",
      "B015PYZXRU\tDell Inspiron i5552-4391BLK 15.6 Inch Touchscreen Laptop\tDell Marketing USA, LP\n",
      "B00PGELA04\tDell 15 5000 i15547-5003sLV 16-Inch Touch Screen Laptop\tDell\n",
      "B015JVBD64\tDell Inspiron i5558-2859BLK 15.6 Inch Touchscreen Laptop\tDell Marketing USA, LP\n",
      "B00IB04M5K\tDell Inspiron i3541-2001BLK 15.6-Inch Laptop\tDell Computer\n",
      "B00RY4X8A4\t2015 Newest Model Dell XPS13 Ultrabook Computer\tDell Computers\n",
      "B00ZOLT5YC\t2015 Newest Model DELL Inspiron 15 Touchscreen Laptop\tDell Computers\n",
      "B015P3SH9W\tDell Inspiron i7359-6790SLV 2-in-1 Touchscreen Laptop\tDell Marketing USA, LP\n",
      "B00U8DHPX4\tDell - Inspiron I3542-11001BK 15.6\" Touch-Screen Laptop\tDell Computers\n",
      "B00K4PATO8\tDell Inspiron i5748-2143sLV 17.3-Inch Laptop\tDell Computer\n",
      "B004KZJ0UM\tDell Latitude D630 14.1-Inch Notebook PC - Silver 2011 Model\tDell Marketing USA, LP\n",
      "B011KFQASE\tASUS F555LA-AB31 15.6-inch Full-HD Laptop\tASUS Computers\n",
      "B00NJNE6AA\tDell Inspiron 15 7000 Series i7537T Touchscreen Laptop\tDell Computer\n",
      "B00VJ1P7TS\tApple MacBook Air MJVE2LL/A 13-inch Laptop\tApple Computer\n",
      "B01606KJ6C\tMicrosoft Surface Pro 4, Intel Core i5\tMicrosoft PC\n",
      "B00VGNZ4PG\tMicrosoft Surface 3 Tablet\tMicrosoft PC\n",
      "B00FF6J532\tMicrosoft Surface 2 (32 GB)\tMicrosoft Surface\n",
      "B0163GQJOU\tMicrosoft Surface Book Intel Core i5\tMicrosoft\n",
      "B00IU745S8\tG-Tab Iota Quad Core Android Tablet PC\tMatricom\n",
      "B00N9ERISQ\tMicrosoft Surface 2 32GB 10.6\" Tablet\tMicrosoft\n",
      "B00PPTP9IO\tToshiba Radius 2-in-1 11.6\" Touch-screen Laptop\tToshiba\n",
      "B00K4PAV5U\tDell Inspiron 15.6-Inch Touchscreen Laptop\tDell Computer\n",
      "B00MMLW3X2\tASUS K200MA-DS01T(S) 11.6-Inch HD Touchscreen Laptop (Black)\tAsus\n",
      "B00X9KPSKK\tHP Pavilion X360 13.3-Inch WLED HD Touch-screen Convertible Laptop\thp\n",
      "B00HRO37UC\tDell Inspiron 15.6-Inch Touchscreen Laptop (i15RVT-6195BLK)\tDell Computer\n",
      "B00K6ZIL0K\tLenovo Flex 2 15.6-Inch Touchscreen Laptop (59418271) Black\tLenovo\n",
      "B00KDI9C4O\tHP Pavilion x360 13-a010nr Convertible Touchscreen Laptop\thp\n",
      "B00SV72ZA2\tASUS X551MA 15.6 Inch Laptop \tASUS Computers\n",
      "B015JJNF8K\tAcer Aspire Switch 10 E SW3-013-1566 2-in-1 Tablet & Laptop - (32GB & Windows 10)\tAcer\n",
      "\n"
     ]
    }
   ],
   "source": [
    "Items('items.txt')"
   ]
  }
 ],
 "metadata": {
  "kernelspec": {
   "display_name": "Python 2",
   "language": "python",
   "name": "python2"
  },
  "language_info": {
   "codemirror_mode": {
    "name": "ipython",
    "version": 2
   },
   "file_extension": ".py",
   "mimetype": "text/x-python",
   "name": "python",
   "nbconvert_exporter": "python",
   "pygments_lexer": "ipython2",
   "version": "2.7.6"
  }
 },
 "nbformat": 4,
 "nbformat_minor": 0
}
