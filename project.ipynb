{
 "cells": [
  {
   "cell_type": "code",
   "execution_count": 2,
   "metadata": {
    "collapsed": true
   },
   "outputs": [],
   "source": [
    "# All Imports\n",
    "from collections import Counter\n",
    "from operator import itemgetter\n",
    "import ConfigParser\n",
    "import matplotlib.pyplot as plt\n",
    "import networkx as nx\n",
    "import sys\n",
    "import time\n",
    "import io\n",
    "import re\n",
    "import nltk\n",
    "#nltk.download()\n",
    "from tabulate import tabulate\n",
    "from nltk.corpus import sentiwordnet\n",
    "from nltk.corpus import SentiWordNetCorpusReader, SentiSynset\n",
    "import pylab as plt\n",
    "\n",
    "%matplotlib inline\n",
    "swn_root = './'\n",
    "swn_filename = 'SentiWordNet_3.0.0_20130122.txt'\n",
    "swn = SentiWordNetCorpusReader(swn_root,swn_filename,encoding='utf-8')"
   ]
  },
  {
   "cell_type": "code",
   "execution_count": 3,
   "metadata": {
    "collapsed": true
   },
   "outputs": [],
   "source": [
    "# Converts a file to list of strings where each item is one line of the file.\n",
    "def file2string(filename):\n",
    "    result = []\n",
    "    result = io.open(filename, encoding='utf8').readlines()\n",
    "    for val in range(0,len(result)):\n",
    "        result[val]=re.sub(\"\\n\",\"\",result[val])        \n",
    "    return result"
   ]
  },
  {
   "cell_type": "code",
   "execution_count": 4,
   "metadata": {
    "collapsed": false
   },
   "outputs": [
    {
     "name": "stdout",
     "output_type": "stream",
     "text": [
      "Created product dictionary with 39 products\n"
     ]
    }
   ],
   "source": [
    "#Create a dictionary with product id as key and item title and manufacturer tuple as value taking a file as input\n",
    "def productsDictionary(productsfile):\n",
    "    productlst = file2string(productsfile)\n",
    "    result = {}\n",
    "    for product in productlst:\n",
    "        temp = product.split(\"\\t\")\n",
    "        result[temp[0]]=(temp[1],temp[2])\n",
    "    return result\n",
    "\n",
    "product_dictionary = productsDictionary(\"items.txt\")\n",
    "print \"Created product dictionary with\",len(product_dictionary.keys()),\"products\""
   ]
  },
  {
   "cell_type": "code",
   "execution_count": 5,
   "metadata": {
    "collapsed": true
   },
   "outputs": [],
   "source": [
    "def calculateSynsetScore(review):\n",
    "    tokens = nltk.word_tokenize(review)\n",
    "    score = 0\n",
    "    for t in tokens:\n",
    "        try:\n",
    "            synset = swn.senti_synsets(t)[0]\n",
    "            #print t,\"\\t\",synset\n",
    "            score = score + synset.pos_score() - synset.neg_score()\n",
    "        except(IndexError):\n",
    "            #print \"Index error at:\", t\n",
    "            pass\n",
    "    return score"
   ]
  },
  {
   "cell_type": "code",
   "execution_count": 6,
   "metadata": {
    "collapsed": false
   },
   "outputs": [
    {
     "data": {
      "text/plain": [
       "'this would not be replaced. '"
      ]
     },
     "execution_count": 6,
     "metadata": {},
     "output_type": "execute_result"
    }
   ],
   "source": [
    "#Replace the word which contains n't i.e wouldn't,shouldn't  \n",
    "#   with  would not, should not and return the string.   \n",
    "\n",
    "def replace_with_not(string):\n",
    "    ns = \"\"\n",
    "    suffix = \"n't\"\n",
    "    word = \"not\"\n",
    "    for stn in string.split():\n",
    "        if stn.endswith(suffix):\n",
    "            stn = stn[:-3]\n",
    "            ns += stn + ' ' + word + ' '\n",
    "        else:\n",
    "            ns += stn + ' '\n",
    "    return ns\n",
    "    \n",
    "replace_with_not(\"this wouldn't be replaced.\")"
   ]
  },
  {
   "cell_type": "code",
   "execution_count": 7,
   "metadata": {
    "collapsed": true
   },
   "outputs": [],
   "source": [
    "# Reads a file named (productID).txt and returns a list of all reviews present in that file for the given productID\n",
    "def getAllReviews(productID):\n",
    "    reviews = file2string(\"Reviews_Data/\"+ productID+\".txt\") \n",
    "    result = []\n",
    "    for review_line in reviews:\n",
    "        #print review.split(\"->\")[1],\"\\n\"\n",
    "        review = review_line.split(\"->\")[1]\n",
    "        review = replace_with_not(review)\n",
    "        score = calculateSynsetScore(review)\n",
    "        result.append((review,score))\n",
    "    return result"
   ]
  },
  {
   "cell_type": "code",
   "execution_count": 8,
   "metadata": {
    "collapsed": false
   },
   "outputs": [
    {
     "name": "stdout",
     "output_type": "stream",
     "text": [
      "Reading reviews for Product ID: B011N5HFOE \tNumber of total reviews: 8\n",
      "Reading reviews for Product ID: B004KZJ0UM \tNumber of total reviews: 316\n",
      "Reading reviews for Product ID: B00ZOO1RFO \tNumber of total reviews: 76\n",
      "Reading reviews for Product ID: B012BPRLO4 \tNumber of total reviews: 3\n",
      "Reading reviews for Product ID: B00PGELA04 \tNumber of total reviews: 46\n",
      "Reading reviews for Product ID: B011KFQASE \tNumber of total reviews: 100\n",
      "Reading reviews for Product ID: B00PPTP9IO \tNumber of total reviews: 92\n",
      "Reading reviews for Product ID: B00Z1R85O0 \tNumber of total reviews: 15\n",
      "Reading reviews for Product ID: B00VGNZ4PG \tNumber of total reviews: 50\n",
      "Reading reviews for Product ID: B015P3SH9W \tNumber of total reviews: 59\n",
      "Reading reviews for Product ID: B00VJ1P7TS \tNumber of total reviews: 27\n",
      "Reading reviews for Product ID: B01606KJ6C \tNumber of total reviews: 49\n",
      "Reading reviews for Product ID: B015PYZXRU \tNumber of total reviews: 39\n",
      "Reading reviews for Product ID: B00VKL0I96 \tNumber of total reviews: 39\n",
      "Reading reviews for Product ID: B00XPUUGDI \tNumber of total reviews: 74\n",
      "Reading reviews for Product ID: B00V2KX5JA \tNumber of total reviews: 8\n",
      "Reading reviews for Product ID: B00MMLW3X2 \tNumber of total reviews: 100\n",
      "Reading reviews for Product ID: B00RY4X8A4 \tNumber of total reviews: 100\n",
      "Reading reviews for Product ID: B00ZS64K7K \tNumber of total reviews: 23\n",
      "Reading reviews for Product ID: B00X9KPSKK \tNumber of total reviews: 10\n",
      "Reading reviews for Product ID: B00FF6J532 \tNumber of total reviews: 244\n",
      "Reading reviews for Product ID: B00K4PATO8 \tNumber of total reviews: 100\n",
      "Reading reviews for Product ID: B00IU745S8 \tNumber of total reviews: 85\n",
      "Reading reviews for Product ID: B0163GQJOU \tNumber of total reviews: 10\n",
      "Reading reviews for Product ID: B00NJNE6AA \tNumber of total reviews: 99\n",
      "Reading reviews for Product ID: B015JVBD64 \tNumber of total reviews: 39\n",
      "Reading reviews for Product ID: B00N9ERISQ \tNumber of total reviews: 51\n",
      "Reading reviews for Product ID: B00K4PAV5U \tNumber of total reviews: 74\n",
      "Reading reviews for Product ID: B00YD1OQ1G \tNumber of total reviews: 38\n",
      "Reading reviews for Product ID: B00U8DHPX4 \tNumber of total reviews: 60\n",
      "Reading reviews for Product ID: B013PK8LGQ \tNumber of total reviews: 18\n",
      "Reading reviews for Product ID: B014B9IS1S \tNumber of total reviews: 6\n",
      "Reading reviews for Product ID: B015JVB9C2 \tNumber of total reviews: 30\n",
      "Reading reviews for Product ID: B00THEP15O \tNumber of total reviews: 55\n",
      "Reading reviews for Product ID: B010DODAWM \tNumber of total reviews: 37\n",
      "Reading reviews for Product ID: B00IB04M5K \tNumber of total reviews: 79\n",
      "Reading reviews for Product ID: B010DOD2G6 \tNumber of total reviews: 30\n",
      "Reading reviews for Product ID: B00ZOLT5YC \tNumber of total reviews: 100\n",
      "Reading reviews for Product ID: B00KMRGF28 \tNumber of total reviews: 100\n",
      "\n",
      "Counter({100: 6, 39: 3, 8: 2, 10: 2, 30: 2, 74: 2, 3: 1, 6: 1, 15: 1, 18: 1, 23: 1, 27: 1, 37: 1, 38: 1, 46: 1, 49: 1, 50: 1, 51: 1, 55: 1, 59: 1, 316: 1, 76: 1, 79: 1, 85: 1, 92: 1, 99: 1, 60: 1, 244: 1})\n"
     ]
    }
   ],
   "source": [
    "#Create a dictionary with product id as key and list of its reviews as value.\n",
    "\n",
    "product_ids = product_dictionary.keys()\n",
    "product_reviews = {}\n",
    "\n",
    "for id in product_ids:\n",
    "    reviews = getAllReviews(id)\n",
    "    product_reviews[id]=reviews;\n",
    "    print \"Reading reviews for Product ID:\",id,\"\\tNumber of total reviews:\",len(reviews)\n",
    "\n",
    "cnt = Counter()\n",
    "for key in product_reviews.keys():\n",
    "    #print \"Product ID:\",key,\"\\tNumber of reviews:\",len(product_reviews[key])\n",
    "    cnt[len(product_reviews[key])]+=1\n",
    "print \"\\n\",cnt"
   ]
  },
  {
   "cell_type": "code",
   "execution_count": 9,
   "metadata": {
    "collapsed": false,
    "scrolled": false
   },
   "outputs": [
    {
     "name": "stdout",
     "output_type": "stream",
     "text": [
      "╒═══════════════╤════════════════════════════════════════════════════════════════════╤═══════════════════╕\n",
      "│  Item Number  │ Product Title                                                      │  Sentiment Score  │\n",
      "╞═══════════════╪════════════════════════════════════════════════════════════════════╪═══════════════════╡\n",
      "│       1       │ 2015 Newest Dell Chromebook, 11.6 inch HD Non-Touch LCD            │       1.125       │\n",
      "├───────────────┼────────────────────────────────────────────────────────────────────┼───────────────────┤\n",
      "│       2       │ Dell Inspiron i7359-6790SLV 2-in-1 Touchscreen Laptop              │      1.09746      │\n",
      "├───────────────┼────────────────────────────────────────────────────────────────────┼───────────────────┤\n",
      "│       3       │ Microsoft Surface 2 (32 GB)                                        │      1.01102      │\n",
      "├───────────────┼────────────────────────────────────────────────────────────────────┼───────────────────┤\n",
      "│       4       │ G-Tab Iota Quad Core Android Tablet PC                             │     0.814706      │\n",
      "├───────────────┼────────────────────────────────────────────────────────────────────┼───────────────────┤\n",
      "│       5       │ Dell Inspiron 3000 15.6-Inches Windows 8.1 Laptop                  │      0.8125       │\n",
      "├───────────────┼────────────────────────────────────────────────────────────────────┼───────────────────┤\n",
      "│       6       │ 2015 Newest Model Dell Inspiron 15 Laptop Computer                 │     0.734375      │\n",
      "├───────────────┼────────────────────────────────────────────────────────────────────┼───────────────────┤\n",
      "│       7       │ Apple MacBook Air MJVE2LL/A 13-inch Laptop                         │     0.597222      │\n",
      "├───────────────┼────────────────────────────────────────────────────────────────────┼───────────────────┤\n",
      "│       8       │ Dell 15 5000 i15547-5003sLV 16-Inch Touch Screen Laptop            │      0.57337      │\n",
      "├───────────────┼────────────────────────────────────────────────────────────────────┼───────────────────┤\n",
      "│       9       │ Dell Inspiron 15 i5548-1670SLV Touchscreen Laptop                  │     0.540541      │\n",
      "├───────────────┼────────────────────────────────────────────────────────────────────┼───────────────────┤\n",
      "│      10       │ Dell Inspiron 15 7000 Series i7537T Touchscreen Laptop             │     0.535485      │\n",
      "├───────────────┼────────────────────────────────────────────────────────────────────┼───────────────────┤\n",
      "│      11       │ 2015 Newest Dell Inspiron 2 in 1 Convertible Touchscreen Laptop    │        0.5        │\n",
      "├───────────────┼────────────────────────────────────────────────────────────────────┼───────────────────┤\n",
      "│      12       │ ASUS F555LA-AB31 15.6-inch Full-HD Laptop                          │      0.49853      │\n",
      "├───────────────┼────────────────────────────────────────────────────────────────────┼───────────────────┤\n",
      "│      13       │ Dell Inspiron i5552-4391BLK 15.6 Inch Touchscreen Laptop           │     0.471154      │\n",
      "├───────────────┼────────────────────────────────────────────────────────────────────┼───────────────────┤\n",
      "│      14       │ Dell Inspiron i5558-2859BLK 15.6 Inch Touchscreen Laptop           │     0.471154      │\n",
      "├───────────────┼────────────────────────────────────────────────────────────────────┼───────────────────┤\n",
      "│      15       │ Microsoft Surface 3 Tablet                                         │       0.47        │\n",
      "├───────────────┼────────────────────────────────────────────────────────────────────┼───────────────────┤\n",
      "│      16       │ Microsoft Surface Pro 4, Intel Core i5                             │     0.469388      │\n",
      "├───────────────┼────────────────────────────────────────────────────────────────────┼───────────────────┤\n",
      "│      17       │ Newest Dell Inspiron 15 3000 Series 3551 Laptop                    │     0.453125      │\n",
      "├───────────────┼────────────────────────────────────────────────────────────────────┼───────────────────┤\n",
      "│      18       │ Microsoft Surface Book Intel Core i5                               │      0.4375       │\n",
      "├───────────────┼────────────────────────────────────────────────────────────────────┼───────────────────┤\n",
      "│      19       │ Dell Inspiron i3000-5099SLV Touchscreen Laptop                     │     0.429167      │\n",
      "├───────────────┼────────────────────────────────────────────────────────────────────┼───────────────────┤\n",
      "│      20       │ Dell Inspiron 15.6-Inch Touchscreen Laptop                         │     0.402027      │\n",
      "├───────────────┼────────────────────────────────────────────────────────────────────┼───────────────────┤\n",
      "│      21       │ 2015 Newest Model Dell XPS13 Ultrabook Computer                    │       0.39        │\n",
      "├───────────────┼────────────────────────────────────────────────────────────────────┼───────────────────┤\n",
      "│      22       │ Dell Latitude D630 14.1-Inch Notebook PC - Silver 2011 Model       │      0.36588      │\n",
      "├───────────────┼────────────────────────────────────────────────────────────────────┼───────────────────┤\n",
      "│      23       │ Dell Inspiron i3543 15.6-Inch Touchscreen Laptop                   │     0.314145      │\n",
      "├───────────────┼────────────────────────────────────────────────────────────────────┼───────────────────┤\n",
      "│      24       │ Dell Latitude E6420 Premium 14.1-Inch Business Laptop              │     0.288462      │\n",
      "├───────────────┼────────────────────────────────────────────────────────────────────┼───────────────────┤\n",
      "│      25       │ ASUS K200MA-DS01T(S) 11.6-Inch HD Touchscreen Laptop (Black)       │      0.23625      │\n",
      "├───────────────┼────────────────────────────────────────────────────────────────────┼───────────────────┤\n",
      "│      26       │ Dell Inspiron N2840 14-Inch Laptop                                 │     0.230263      │\n",
      "├───────────────┼────────────────────────────────────────────────────────────────────┼───────────────────┤\n",
      "│      27       │ Dell Inspiron i3541-2001BLK 15.6-Inch Laptop                       │      0.21519      │\n",
      "├───────────────┼────────────────────────────────────────────────────────────────────┼───────────────────┤\n",
      "│      28       │ Dell Inspiron 11 3000 Series 2-in-1  11.6 Inch Laptop              │     0.185811      │\n",
      "├───────────────┼────────────────────────────────────────────────────────────────────┼───────────────────┤\n",
      "│      29       │ 2015 Newest Model DELL Inspiron 15 Touchscreen Laptop              │      0.1775       │\n",
      "├───────────────┼────────────────────────────────────────────────────────────────────┼───────────────────┤\n",
      "│      30       │ Toshiba Radius 2-in-1 11.6\" Touch-screen Laptop                    │     0.163043      │\n",
      "├───────────────┼────────────────────────────────────────────────────────────────────┼───────────────────┤\n",
      "│      31       │ Dell - Inspiron I3542-11001BK 15.6\" Touch-Screen Laptop            │       0.15        │\n",
      "├───────────────┼────────────────────────────────────────────────────────────────────┼───────────────────┤\n",
      "│      32       │ Dell Inspiron 15.6 Inch Laptop                                     │     0.120455      │\n",
      "├───────────────┼────────────────────────────────────────────────────────────────────┼───────────────────┤\n",
      "│      33       │ Dell Inspiron 15 5000 15.6 Inch Laptop                             │     0.108333      │\n",
      "├───────────────┼────────────────────────────────────────────────────────────────────┼───────────────────┤\n",
      "│      34       │ Dell Inspiron i3531-1200BK 16-Inch Laptop,Black                    │      0.0025       │\n",
      "├───────────────┼────────────────────────────────────────────────────────────────────┼───────────────────┤\n",
      "│      35       │ Dell Inspiron i5748-2143sLV 17.3-Inch Laptop                       │     -0.00875      │\n",
      "├───────────────┼────────────────────────────────────────────────────────────────────┼───────────────────┤\n",
      "│      36       │ Microsoft Surface 2 32GB 10.6\" Tablet                              │     -0.120098     │\n",
      "├───────────────┼────────────────────────────────────────────────────────────────────┼───────────────────┤\n",
      "│      37       │ Dell Latitude E6400 Laptop Core 2 Duo                              │       -0.25       │\n",
      "├───────────────┼────────────────────────────────────────────────────────────────────┼───────────────────┤\n",
      "│      38       │ Dell Inspiron 15 i5548-4167SLV - 15.6\" Touchscreen                 │     -0.266304     │\n",
      "├───────────────┼────────────────────────────────────────────────────────────────────┼───────────────────┤\n",
      "│      39       │ HP Pavilion X360 13.3-Inch WLED HD Touch-screen Convertible Laptop │       -0.65       │\n",
      "╘═══════════════╧════════════════════════════════════════════════════════════════════╧═══════════════════╛\n"
     ]
    }
   ],
   "source": [
    "#Calculates average sentiment of all reviews that a product received.\n",
    "def productAverageScore(reviews_dict):\n",
    "    result = []\n",
    "    for pid in reviews_dict.keys():\n",
    "        reviews_lst = reviews_dict[pid]\n",
    "        sum = 0\n",
    "        for review in reviews_lst:\n",
    "            sum+=review[1]\n",
    "        \n",
    "        avg = sum/len(reviews_lst)\n",
    "        result.append((pid,avg))\n",
    "        result = sorted(result,key = itemgetter(1),reverse = True)\n",
    "    \n",
    "    return result\n",
    "        \n",
    "product_avg = productAverageScore(product_reviews)\n",
    "#print product_avg\n",
    "\n",
    "cnt = 0\n",
    "table = []\n",
    "for val in range(len(product_avg)):\n",
    "    cnt+=1\n",
    "    table.append([cnt,product_dictionary[product_avg[val][0]][0],product_avg[val][1]])\n",
    "    \n",
    "print tabulate(table,headers=[\"Item Number\",\"Product Title\",\"Sentiment Score\"], tablefmt=\"fancy_grid\", numalign=\"center\")\n"
   ]
  },
  {
   "cell_type": "code",
   "execution_count": 10,
   "metadata": {
    "collapsed": false
   },
   "outputs": [],
   "source": [
    "#Calculates average sentiment of all reviews that a product received.\n",
    "def productFeatureScore(reviews_dict,feature):\n",
    "    result = []\n",
    "    for pid in reviews_dict.keys():\n",
    "        reviews_lst = reviews_dict[pid]\n",
    "        sum = 0.0\n",
    "        cnt = 0.0\n",
    "        for review in reviews_lst:\n",
    "            reviewstr = review[0].lower()\n",
    "            if re.findall(feature, reviewstr):\n",
    "                sum+=review[1]\n",
    "                cnt+=1\n",
    "        if cnt != 0:\n",
    "            avg = sum/cnt\n",
    "            result.append((pid,avg))\n",
    "        result = sorted(result,key = itemgetter(1),reverse = True)\n",
    "    return result"
   ]
  },
  {
   "cell_type": "code",
   "execution_count": 11,
   "metadata": {
    "collapsed": false,
    "scrolled": false
   },
   "outputs": [
    {
     "name": "stdout",
     "output_type": "stream",
     "text": [
      "╒═══════════════╤════════════════════════════════════════════════════════════════════╤═══════════════════╕\n",
      "│  Item Number  │ Product Title                                                      │  Sentiment Score  │\n",
      "╞═══════════════╪════════════════════════════════════════════════════════════════════╪═══════════════════╡\n",
      "│       1       │ Microsoft Surface 2 (32 GB)                                        │      3.31023      │\n",
      "├───────────────┼────────────────────────────────────────────────────────────────────┼───────────────────┤\n",
      "│       2       │ Dell Inspiron i3000-5099SLV Touchscreen Laptop                     │       3.125       │\n",
      "├───────────────┼────────────────────────────────────────────────────────────────────┼───────────────────┤\n",
      "│       3       │ 2015 Newest Model Dell Inspiron 15 Laptop Computer                 │         3         │\n",
      "├───────────────┼────────────────────────────────────────────────────────────────────┼───────────────────┤\n",
      "│       4       │ Dell Inspiron i7359-6790SLV 2-in-1 Touchscreen Laptop              │      1.99457      │\n",
      "├───────────────┼────────────────────────────────────────────────────────────────────┼───────────────────┤\n",
      "│       5       │ Newest Dell Inspiron 15 3000 Series 3551 Laptop                    │       1.875       │\n",
      "├───────────────┼────────────────────────────────────────────────────────────────────┼───────────────────┤\n",
      "│       6       │ Dell Inspiron 15 7000 Series i7537T Touchscreen Laptop             │      1.51012      │\n",
      "├───────────────┼────────────────────────────────────────────────────────────────────┼───────────────────┤\n",
      "│       7       │ ASUS F555LA-AB31 15.6-inch Full-HD Laptop                          │      1.24843      │\n",
      "├───────────────┼────────────────────────────────────────────────────────────────────┼───────────────────┤\n",
      "│       8       │ Dell Inspiron i3543 15.6-Inch Touchscreen Laptop                   │      1.15625      │\n",
      "├───────────────┼────────────────────────────────────────────────────────────────────┼───────────────────┤\n",
      "│       9       │ Microsoft Surface Pro 4, Intel Core i5                             │       1.125       │\n",
      "├───────────────┼────────────────────────────────────────────────────────────────────┼───────────────────┤\n",
      "│      10       │ Toshiba Radius 2-in-1 11.6\" Touch-screen Laptop                    │     0.932692      │\n",
      "├───────────────┼────────────────────────────────────────────────────────────────────┼───────────────────┤\n",
      "│      11       │ 2015 Newest Dell Inspiron 2 in 1 Convertible Touchscreen Laptop    │       0.875       │\n",
      "├───────────────┼────────────────────────────────────────────────────────────────────┼───────────────────┤\n",
      "│      12       │ Dell Latitude D630 14.1-Inch Notebook PC - Silver 2011 Model       │     0.791667      │\n",
      "├───────────────┼────────────────────────────────────────────────────────────────────┼───────────────────┤\n",
      "│      13       │ Dell Inspiron 15.6-Inch Touchscreen Laptop                         │     0.742188      │\n",
      "├───────────────┼────────────────────────────────────────────────────────────────────┼───────────────────┤\n",
      "│      14       │ Dell - Inspiron I3542-11001BK 15.6\" Touch-Screen Laptop            │     0.734375      │\n",
      "├───────────────┼────────────────────────────────────────────────────────────────────┼───────────────────┤\n",
      "│      15       │ Microsoft Surface 3 Tablet                                         │     0.704545      │\n",
      "├───────────────┼────────────────────────────────────────────────────────────────────┼───────────────────┤\n",
      "│      16       │ Dell Inspiron 15 i5548-1670SLV Touchscreen Laptop                  │     0.696429      │\n",
      "├───────────────┼────────────────────────────────────────────────────────────────────┼───────────────────┤\n",
      "│      17       │ G-Tab Iota Quad Core Android Tablet PC                             │      0.6875       │\n",
      "├───────────────┼────────────────────────────────────────────────────────────────────┼───────────────────┤\n",
      "│      18       │ Dell Inspiron i3531-1200BK 16-Inch Laptop,Black                    │        0.5        │\n",
      "├───────────────┼────────────────────────────────────────────────────────────────────┼───────────────────┤\n",
      "│      19       │ Dell Inspiron 11 3000 Series 2-in-1  11.6 Inch Laptop              │       0.375       │\n",
      "├───────────────┼────────────────────────────────────────────────────────────────────┼───────────────────┤\n",
      "│      20       │ ASUS K200MA-DS01T(S) 11.6-Inch HD Touchscreen Laptop (Black)       │     0.341667      │\n",
      "├───────────────┼────────────────────────────────────────────────────────────────────┼───────────────────┤\n",
      "│      21       │ Dell 15 5000 i15547-5003sLV 16-Inch Touch Screen Laptop            │     0.0416667     │\n",
      "├───────────────┼────────────────────────────────────────────────────────────────────┼───────────────────┤\n",
      "│      22       │ Dell Inspiron 15.6 Inch Laptop                                     │         0         │\n",
      "├───────────────┼────────────────────────────────────────────────────────────────────┼───────────────────┤\n",
      "│      23       │ 2015 Newest Model Dell XPS13 Ultrabook Computer                    │      -0.0375      │\n",
      "├───────────────┼────────────────────────────────────────────────────────────────────┼───────────────────┤\n",
      "│      24       │ 2015 Newest Model DELL Inspiron 15 Touchscreen Laptop              │    -0.0480769     │\n",
      "├───────────────┼────────────────────────────────────────────────────────────────────┼───────────────────┤\n",
      "│      25       │ Dell Inspiron i5552-4391BLK 15.6 Inch Touchscreen Laptop           │      -0.4375      │\n",
      "├───────────────┼────────────────────────────────────────────────────────────────────┼───────────────────┤\n",
      "│      26       │ Dell Inspiron i5558-2859BLK 15.6 Inch Touchscreen Laptop           │      -0.4375      │\n",
      "├───────────────┼────────────────────────────────────────────────────────────────────┼───────────────────┤\n",
      "│      27       │ Dell Inspiron 15 5000 15.6 Inch Laptop                             │      -0.4375      │\n",
      "├───────────────┼────────────────────────────────────────────────────────────────────┼───────────────────┤\n",
      "│      28       │ Dell Inspiron i5748-2143sLV 17.3-Inch Laptop                       │     -0.511364     │\n",
      "├───────────────┼────────────────────────────────────────────────────────────────────┼───────────────────┤\n",
      "│      29       │ Dell Inspiron i3541-2001BLK 15.6-Inch Laptop                       │       -0.8        │\n",
      "├───────────────┼────────────────────────────────────────────────────────────────────┼───────────────────┤\n",
      "│      30       │ Microsoft Surface 2 32GB 10.6\" Tablet                              │     -0.90625      │\n",
      "├───────────────┼────────────────────────────────────────────────────────────────────┼───────────────────┤\n",
      "│      31       │ Microsoft Surface Book Intel Core i5                               │     -1.03125      │\n",
      "├───────────────┼────────────────────────────────────────────────────────────────────┼───────────────────┤\n",
      "│      32       │ Dell Inspiron 15 i5548-4167SLV - 15.6\" Touchscreen                 │        -2         │\n",
      "├───────────────┼────────────────────────────────────────────────────────────────────┼───────────────────┤\n",
      "│      33       │ HP Pavilion X360 13.3-Inch WLED HD Touch-screen Convertible Laptop │      -2.875       │\n",
      "├───────────────┼────────────────────────────────────────────────────────────────────┼───────────────────┤\n",
      "│      34       │ Apple MacBook Air MJVE2LL/A 13-inch Laptop                         │       -3.5        │\n",
      "╘═══════════════╧════════════════════════════════════════════════════════════════════╧═══════════════════╛\n"
     ]
    }
   ],
   "source": [
    "#Searching for products with reviews related to touch\n",
    "product_touch = productFeatureScore(product_reviews,\"touch\")\n",
    "\n",
    "cnt = 0\n",
    "table = []\n",
    "for val in range(len(product_touch)):\n",
    "    cnt+=1\n",
    "    table.append([cnt,product_dictionary[product_touch[val][0]][0],product_touch[val][1]])\n",
    "print tabulate(table,headers=[\"Item Number\",\"Product Title\",\"Sentiment Score\"], tablefmt=\"fancy_grid\", numalign=\"center\")"
   ]
  },
  {
   "cell_type": "code",
   "execution_count": 12,
   "metadata": {
    "collapsed": false,
    "scrolled": false
   },
   "outputs": [
    {
     "name": "stdout",
     "output_type": "stream",
     "text": [
      "╒═══════════════╤════════════════════════════════════════════════════════════════════╤═══════════════════╕\n",
      "│  Item Number  │ Product Title                                                      │  Sentiment Score  │\n",
      "╞═══════════════╪════════════════════════════════════════════════════════════════════╪═══════════════════╡\n",
      "│       1       │ Dell Latitude E6420 Premium 14.1-Inch Business Laptop              │       6.25        │\n",
      "├───────────────┼────────────────────────────────────────────────────────────────────┼───────────────────┤\n",
      "│       2       │ Dell - Inspiron I3542-11001BK 15.6\" Touch-Screen Laptop            │       5.125       │\n",
      "├───────────────┼────────────────────────────────────────────────────────────────────┼───────────────────┤\n",
      "│       3       │ Toshiba Radius 2-in-1 11.6\" Touch-screen Laptop                    │        4.5        │\n",
      "├───────────────┼────────────────────────────────────────────────────────────────────┼───────────────────┤\n",
      "│       4       │ Microsoft Surface 2 (32 GB)                                        │      3.83333      │\n",
      "├───────────────┼────────────────────────────────────────────────────────────────────┼───────────────────┤\n",
      "│       5       │ 2015 Newest Model Dell Inspiron 15 Laptop Computer                 │         3         │\n",
      "├───────────────┼────────────────────────────────────────────────────────────────────┼───────────────────┤\n",
      "│       6       │ Microsoft Surface Book Intel Core i5                               │         3         │\n",
      "├───────────────┼────────────────────────────────────────────────────────────────────┼───────────────────┤\n",
      "│       7       │ Dell Inspiron i7359-6790SLV 2-in-1 Touchscreen Laptop              │       2.325       │\n",
      "├───────────────┼────────────────────────────────────────────────────────────────────┼───────────────────┤\n",
      "│       8       │ Dell Latitude D630 14.1-Inch Notebook PC - Silver 2011 Model       │      1.80517      │\n",
      "├───────────────┼────────────────────────────────────────────────────────────────────┼───────────────────┤\n",
      "│       9       │ ASUS F555LA-AB31 15.6-inch Full-HD Laptop                          │      1.75687      │\n",
      "├───────────────┼────────────────────────────────────────────────────────────────────┼───────────────────┤\n",
      "│      10       │ 2015 Newest Dell Chromebook, 11.6 inch HD Non-Touch LCD            │       1.625       │\n",
      "├───────────────┼────────────────────────────────────────────────────────────────────┼───────────────────┤\n",
      "│      11       │ Dell 15 5000 i15547-5003sLV 16-Inch Touch Screen Laptop            │      1.5625       │\n",
      "├───────────────┼────────────────────────────────────────────────────────────────────┼───────────────────┤\n",
      "│      12       │ Microsoft Surface 3 Tablet                                         │     0.958333      │\n",
      "├───────────────┼────────────────────────────────────────────────────────────────────┼───────────────────┤\n",
      "│      13       │ Dell Inspiron i5748-2143sLV 17.3-Inch Laptop                       │      0.9375       │\n",
      "├───────────────┼────────────────────────────────────────────────────────────────────┼───────────────────┤\n",
      "│      14       │ G-Tab Iota Quad Core Android Tablet PC                             │     0.921875      │\n",
      "├───────────────┼────────────────────────────────────────────────────────────────────┼───────────────────┤\n",
      "│      15       │ Dell Inspiron 15 i5548-1670SLV Touchscreen Laptop                  │       0.875       │\n",
      "├───────────────┼────────────────────────────────────────────────────────────────────┼───────────────────┤\n",
      "│      16       │ Dell Inspiron 15.6-Inch Touchscreen Laptop                         │     0.666667      │\n",
      "├───────────────┼────────────────────────────────────────────────────────────────────┼───────────────────┤\n",
      "│      17       │ Dell Inspiron 15 7000 Series i7537T Touchscreen Laptop             │      0.4605       │\n",
      "├───────────────┼────────────────────────────────────────────────────────────────────┼───────────────────┤\n",
      "│      18       │ Dell Inspiron 15 5000 15.6 Inch Laptop                             │       0.25        │\n",
      "├───────────────┼────────────────────────────────────────────────────────────────────┼───────────────────┤\n",
      "│      19       │ 2015 Newest Model Dell XPS13 Ultrabook Computer                    │        0.2        │\n",
      "├───────────────┼────────────────────────────────────────────────────────────────────┼───────────────────┤\n",
      "│      20       │ ASUS K200MA-DS01T(S) 11.6-Inch HD Touchscreen Laptop (Black)       │     0.0416667     │\n",
      "├───────────────┼────────────────────────────────────────────────────────────────────┼───────────────────┤\n",
      "│      21       │ Dell Inspiron i3543 15.6-Inch Touchscreen Laptop                   │         0         │\n",
      "├───────────────┼────────────────────────────────────────────────────────────────────┼───────────────────┤\n",
      "│      22       │ Dell Latitude E6400 Laptop Core 2 Duo                              │       -0.25       │\n",
      "├───────────────┼────────────────────────────────────────────────────────────────────┼───────────────────┤\n",
      "│      23       │ Dell Inspiron i3541-2001BLK 15.6-Inch Laptop                       │      -0.3375      │\n",
      "├───────────────┼────────────────────────────────────────────────────────────────────┼───────────────────┤\n",
      "│      24       │ Microsoft Surface Pro 4, Intel Core i5                             │      -0.375       │\n",
      "├───────────────┼────────────────────────────────────────────────────────────────────┼───────────────────┤\n",
      "│      25       │ Dell Inspiron i5552-4391BLK 15.6 Inch Touchscreen Laptop           │      -0.625       │\n",
      "├───────────────┼────────────────────────────────────────────────────────────────────┼───────────────────┤\n",
      "│      26       │ Dell Inspiron i5558-2859BLK 15.6 Inch Touchscreen Laptop           │      -0.625       │\n",
      "├───────────────┼────────────────────────────────────────────────────────────────────┼───────────────────┤\n",
      "│      27       │ Dell Inspiron 15.6 Inch Laptop                                     │       -0.75       │\n",
      "├───────────────┼────────────────────────────────────────────────────────────────────┼───────────────────┤\n",
      "│      28       │ Newest Dell Inspiron 15 3000 Series 3551 Laptop                    │       -0.75       │\n",
      "├───────────────┼────────────────────────────────────────────────────────────────────┼───────────────────┤\n",
      "│      29       │ 2015 Newest Model DELL Inspiron 15 Touchscreen Laptop              │       -0.75       │\n",
      "├───────────────┼────────────────────────────────────────────────────────────────────┼───────────────────┤\n",
      "│      30       │ Dell Inspiron i3531-1200BK 16-Inch Laptop,Black                    │     -1.70833      │\n",
      "├───────────────┼────────────────────────────────────────────────────────────────────┼───────────────────┤\n",
      "│      31       │ HP Pavilion X360 13.3-Inch WLED HD Touch-screen Convertible Laptop │      -2.875       │\n",
      "├───────────────┼────────────────────────────────────────────────────────────────────┼───────────────────┤\n",
      "│      32       │ Dell Inspiron 15 i5548-4167SLV - 15.6\" Touchscreen                 │        -3         │\n",
      "╘═══════════════╧════════════════════════════════════════════════════════════════════╧═══════════════════╛\n"
     ]
    }
   ],
   "source": [
    "#Searching for products with reviews related to processor\n",
    "product_processor = productFeatureScore(product_reviews,\"processor\")\n",
    "\n",
    "cnt = 0\n",
    "table = []\n",
    "for val in range(len(product_processor)):\n",
    "    cnt+=1\n",
    "    table.append([cnt,product_dictionary[product_processor[val][0]][0],product_processor[val][1]])\n",
    "print tabulate(table,headers=[\"Item Number\",\"Product Title\",\"Sentiment Score\"], tablefmt=\"fancy_grid\", numalign=\"center\")"
   ]
  },
  {
   "cell_type": "code",
   "execution_count": 13,
   "metadata": {
    "collapsed": false,
    "scrolled": false
   },
   "outputs": [
    {
     "name": "stdout",
     "output_type": "stream",
     "text": [
      "╒═══════════════╤═════════════════════════════════════════════════════════╤═══════════════════╕\n",
      "│  Item Number  │ Product Title                                           │  Sentiment Score  │\n",
      "╞═══════════════╪═════════════════════════════════════════════════════════╪═══════════════════╡\n",
      "│       1       │ Dell Inspiron i3531-1200BK 16-Inch Laptop,Black         │       2.875       │\n",
      "├───────────────┼─────────────────────────────────────────────────────────┼───────────────────┤\n",
      "│       2       │ Microsoft Surface 2 (32 GB)                             │      2.63462      │\n",
      "├───────────────┼─────────────────────────────────────────────────────────┼───────────────────┤\n",
      "│       3       │ 2015 Newest Model DELL Inspiron 15 Touchscreen Laptop   │       1.875       │\n",
      "├───────────────┼─────────────────────────────────────────────────────────┼───────────────────┤\n",
      "│       4       │ 2015 Newest Model Dell XPS13 Ultrabook Computer         │       0.875       │\n",
      "├───────────────┼─────────────────────────────────────────────────────────┼───────────────────┤\n",
      "│       5       │ G-Tab Iota Quad Core Android Tablet PC                  │       0.875       │\n",
      "├───────────────┼─────────────────────────────────────────────────────────┼───────────────────┤\n",
      "│       6       │ Dell - Inspiron I3542-11001BK 15.6\" Touch-Screen Laptop │       0.75        │\n",
      "├───────────────┼─────────────────────────────────────────────────────────┼───────────────────┤\n",
      "│       7       │ Dell Inspiron i3543 15.6-Inch Touchscreen Laptop        │       0.625       │\n",
      "├───────────────┼─────────────────────────────────────────────────────────┼───────────────────┤\n",
      "│       8       │ Dell Inspiron 15 i5548-4167SLV - 15.6\" Touchscreen      │       0.125       │\n",
      "├───────────────┼─────────────────────────────────────────────────────────┼───────────────────┤\n",
      "│       9       │ Toshiba Radius 2-in-1 11.6\" Touch-screen Laptop         │      -0.0625      │\n",
      "├───────────────┼─────────────────────────────────────────────────────────┼───────────────────┤\n",
      "│      10       │ Dell Inspiron 15 i5548-1670SLV Touchscreen Laptop       │      -0.125       │\n",
      "├───────────────┼─────────────────────────────────────────────────────────┼───────────────────┤\n",
      "│      11       │ Dell Inspiron 11 3000 Series 2-in-1  11.6 Inch Laptop   │       -0.25       │\n",
      "├───────────────┼─────────────────────────────────────────────────────────┼───────────────────┤\n",
      "│      12       │ Microsoft Surface 3 Tablet                              │      -0.4375      │\n",
      "├───────────────┼─────────────────────────────────────────────────────────┼───────────────────┤\n",
      "│      13       │ Dell Inspiron 15.6 Inch Laptop                          │      -0.9375      │\n",
      "├───────────────┼─────────────────────────────────────────────────────────┼───────────────────┤\n",
      "│      14       │ ASUS F555LA-AB31 15.6-inch Full-HD Laptop               │        -1         │\n",
      "├───────────────┼─────────────────────────────────────────────────────────┼───────────────────┤\n",
      "│      15       │ Dell Inspiron i5748-2143sLV 17.3-Inch Laptop            │      -2.125       │\n",
      "╘═══════════════╧═════════════════════════════════════════════════════════╧═══════════════════╛\n"
     ]
    }
   ],
   "source": [
    "#Searching for products with reviews related to processor\n",
    "product_storage = productFeatureScore(product_reviews,\"storage\")\n",
    "\n",
    "cnt =0\n",
    "table = []\n",
    "for val in range(len(product_storage)):\n",
    "    cnt+=1\n",
    "    table.append([cnt,product_dictionary[product_storage[val][0]][0],product_storage[val][1]])\n",
    "print tabulate(table,headers=[\"Item Number\",\"Product Title\",\"Sentiment Score\"], tablefmt=\"fancy_grid\", numalign=\"center\")\n",
    "    "
   ]
  },
  {
   "cell_type": "code",
   "execution_count": 14,
   "metadata": {
    "collapsed": true
   },
   "outputs": [],
   "source": [
    "#Create Graph for Every method. \n",
    "\n",
    "def Create_Graph(var):\n",
    "    x = []\n",
    "    y = []\n",
    "    p = []\n",
    "    for i in range(len(var)):\n",
    "        p.append(i+1)\n",
    "        #print p\n",
    "        x.append(var[i][0])            \n",
    "        y.append(var[i][1])\n",
    "    plt.bar(p,y,align='center')\n",
    "    #plt.figure(figsize=(1,1))\n",
    "    plt.xticks(p)\n",
    "    plt.xlabel('Products')\n",
    "    plt.ylabel('Average Ratings')\n",
    "    plt.show()\n",
    "    table = []\n",
    "    cnt = 0\n",
    "    for i in x:\n",
    "        cnt+=1\n",
    "        table.append([cnt,i])\n",
    "    print tabulate(table,headers=[\"Item Number\",\"Product ID\"], tablefmt=\"grid\", numalign=\"center\")\n"
   ]
  },
  {
   "cell_type": "code",
   "execution_count": 15,
   "metadata": {
    "collapsed": false,
    "scrolled": false
   },
   "outputs": [
    {
     "data": {
      "image/png": "[encoded data removed]",
      "text/plain": [
       "<matplotlib.figure.Figure at 0x7f7c54168e10>"
      ]
     },
     "metadata": {},
     "output_type": "display_data"
    },
    {
     "name": "stdout",
     "output_type": "stream",
     "text": [
      "+---------------+--------------+\n",
      "|  Item Number  | Product ID   |\n",
      "+===============+==============+\n",
      "|       1       | B00FF6J532   |\n",
      "+---------------+--------------+\n",
      "|       2       | B015JVB9C2   |\n",
      "+---------------+--------------+\n",
      "|       3       | B00V2KX5JA   |\n",
      "+---------------+--------------+\n",
      "|       4       | B015P3SH9W   |\n",
      "+---------------+--------------+\n",
      "|       5       | B011N5HFOE   |\n",
      "+---------------+--------------+\n",
      "|       6       | B00NJNE6AA   |\n",
      "+---------------+--------------+\n",
      "|       7       | B011KFQASE   |\n",
      "+---------------+--------------+\n",
      "|       8       | B00ZOO1RFO   |\n",
      "+---------------+--------------+\n",
      "|       9       | B01606KJ6C   |\n",
      "+---------------+--------------+\n",
      "|      10       | B00PPTP9IO   |\n",
      "+---------------+--------------+\n"
     ]
    }
   ],
   "source": [
    "#lis = [('p',3),('q',3),('r',5),('s',1)]\n",
    "\n",
    "Create_Graph(product_touch[:10])"
   ]
  }
 ],
 "metadata": {
  "kernelspec": {
   "display_name": "Python 2",
   "language": "python",
   "name": "python2"
  },
  "language_info": {
   "codemirror_mode": {
    "name": "ipython",
    "version": 2
   },
   "file_extension": ".py",
   "mimetype": "text/x-python",
   "name": "python",
   "nbconvert_exporter": "python",
   "pygments_lexer": "ipython2",
   "version": "2.7.6"
  }
 },
 "nbformat": 4,
 "nbformat_minor": 0
}
