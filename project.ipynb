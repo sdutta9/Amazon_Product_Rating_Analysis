{
 "cells": [
  {
   "cell_type": "code",
   "execution_count": 1,
   "metadata": {
    "collapsed": true
   },
   "outputs": [],
   "source": [
    "# All Imports\n",
    "from collections import Counter\n",
    "from operator import itemgetter\n",
    "import ConfigParser\n",
    "import matplotlib.pyplot as plt\n",
    "import networkx as nx\n",
    "import sys\n",
    "import time\n",
    "import io\n",
    "import os\n",
    "import re\n",
    "import nltk\n",
    "import string\n",
    "import shutil\n",
    "import hashlib\n",
    "from sklearn.cross_validation import KFold\n",
    "from sklearn import cross_validation\n",
    "from sklearn.feature_extraction.text import CountVectorizer\n",
    "from sklearn.linear_model import LogisticRegression\n",
    "from sklearn.metrics import accuracy_score\n",
    "#nltk.download()\n",
    "from tabulate import tabulate\n",
    "from nltk.corpus import sentiwordnet\n",
    "from nltk.corpus import SentiWordNetCorpusReader, SentiSynset\n",
    "import pylab as plt\n",
    "import numpy as np\n",
    "import scipy.stats as stats\n",
    "import pylab as pl\n",
    "%matplotlib inline\n",
    "swn_root = './'\n",
    "swn_filename = 'SentiWordNet_3.0.0_20130122.txt'\n",
    "swn = SentiWordNetCorpusReader(swn_root,swn_filename,encoding='utf-8')"
   ]
  },
  {
   "cell_type": "code",
   "execution_count": 2,
   "metadata": {
    "collapsed": true
   },
   "outputs": [],
   "source": [
    "# Converts a file to list of strings where each item is one line of the file.\n",
    "def file2string(filename):\n",
    "    result = []\n",
    "    result = io.open(filename, encoding='utf8').readlines()\n",
    "    for val in range(0,len(result)):\n",
    "        result[val]=re.sub(\"\\n\",\"\",result[val])        \n",
    "    return result"
   ]
  },
  {
   "cell_type": "code",
   "execution_count": 102,
   "metadata": {
    "collapsed": false
   },
   "outputs": [
    {
     "name": "stdout",
     "output_type": "stream",
     "text": [
      "Created product dictionary with 42 products\n"
     ]
    }
   ],
   "source": [
    "#Create a dictionary with product id as key and item title and manufacturer tuple as value taking a file as input\n",
    "def productsDictionary(productsfile):\n",
    "    productlst = file2string(productsfile)\n",
    "    result = {}\n",
    "    for product in productlst:\n",
    "        temp = product.split(\"\\t\")\n",
    "        result[temp[0]]=(temp[1],temp[2])\n",
    "    return result\n",
    "\n",
    "product_dictionary = productsDictionary(\"items.txt\")\n",
    "print \"Created product dictionary with\",len(product_dictionary.keys()),\"products\""
   ]
  },
  {
   "cell_type": "code",
   "execution_count": 4,
   "metadata": {
    "collapsed": true
   },
   "outputs": [],
   "source": [
    "def calculateSynsetScore(review):\n",
    "    tokens = nltk.word_tokenize(review)\n",
    "    score = 0\n",
    "    for t in tokens:\n",
    "        try:\n",
    "            synset = swn.senti_synsets(t)[0]\n",
    "            #print t,\"\\t\",synset\n",
    "            score = score + synset.pos_score() - synset.neg_score()\n",
    "        except(IndexError):\n",
    "            #print \"Index error at:\", t\n",
    "            pass\n",
    "    return score"
   ]
  },
  {
   "cell_type": "code",
   "execution_count": 96,
   "metadata": {
    "collapsed": false
   },
   "outputs": [],
   "source": [
    "# preprocess the review data\n",
    "\n",
    "\n",
    "# URLs\n",
    "reg_URL = re.compile(r\"http\\S+\")\n",
    "\n",
    "# Spliting by word boundaries\n",
    "reg_Wordbound = re.compile(r\"\\W+\")\n",
    "\n",
    "# Replace Repeating words like gooooooooood \n",
    "\n",
    "reg_Repeat = re.compile(r\"(.)\\1{1,}\", re.IGNORECASE);\n",
    "\n",
    "def replace_repeat(match):\n",
    "    return match.group(1)+match.group(1)\n",
    "\n",
    "# Emoticons\n",
    "#replacing emoticons, you can specify any name\n",
    "\n",
    "emoticons = [('', [':-)', ':)', '(:', '(-:', ':-D', ':D', 'X-D', 'XD', 'xD', '<3', ':\\*', ';-)', ';)', ';-D', ';D', '(;', '(-;', ':-(', ':(', '(:', '(-:', ':,(', ':\\'(', ':\"(', ':(('] )]\n",
    "\n",
    "\n",
    "punct_list = []\n",
    "\n",
    "for i in string.punctuation:\n",
    "    punct_list.append(i)\n",
    "    \n",
    "# Punctuations\n",
    "punctuations = \\\n",
    "    [   #Classify all punctuation as same\n",
    "        #you can control which punctuation to use by creating new punctuation list\n",
    "        #i have stripped down all the punctuations, you can put something in that blank\n",
    "        ('',punct_list ),\\\n",
    "    ]\n",
    "\n",
    "\n",
    "#For emoticon regexes\n",
    "\n",
    "def escape_paren(arr):\n",
    "    return [review.replace(')', '[)}\\]]').replace('(', '[({\\[]') for review in arr]\n",
    "\n",
    "def reg_Union(arr):\n",
    "    return '(' + '|'.join( arr ) + ')'\n",
    "\n",
    "reg_Emoticons = [ (repl, re.compile(regUnion(escape_paren(regx))) ) \\\n",
    "                    for (repl, regx) in emoticons ]\n",
    "\n",
    "\n",
    "#For punctuation replacement\n",
    "def replace_punctuations(match):\n",
    "    review = match.group(0)\n",
    "    repl = []\n",
    "    for (key, parr) in punctuations :\n",
    "        for punc in parr :\n",
    "            if punc in review:\n",
    "                repl.append(key)\n",
    "    if( len(repl)>0 ) :\n",
    "        return ' ' + ' '.join(repl) + ' '\n",
    "    else :\n",
    "        return ' '\n",
    "\n",
    "\n",
    "def preprocess_Urls(review, subject='', query=[]):\n",
    "    return re.sub( regURL, '', review )\n",
    "\n",
    "def preprocess_Emoticons(review, subject='', query=[]):\n",
    "    for (repl, regx) in regEmoticons :\n",
    "        review = re.sub(regx, ' '+repl+' ', review)\n",
    "    return review\n",
    "\n",
    "def preprocess_Punctuations(review, subject='', query=[]):\n",
    "    return re.sub( reg_Wordbound , replace_punctuations, review )\n",
    "\n",
    "def preprocess_Repeatings(review, subject='', query=[]):\n",
    "    return re.sub( reg_Repeat, replace_repeat, review )\n",
    "\n",
    "\n",
    "def processAll(review, subject='', query=[]):\n",
    "\n",
    "    if(len(query)>0):\n",
    "        query_regex = \"|\".join([ re.escape(q) for q in query])\n",
    "        review = re.sub(query_regex, '', review, flags=re.IGNORECASE )\n",
    "    \n",
    "    review = re.sub( reg_URL, '', review )\n",
    "    \n",
    "\n",
    "    for (repl, regx) in reg_Emoticons :\n",
    "        review = re.sub(regx, ' '+repl+' ', review)\n",
    "\n",
    "\n",
    "    review = review.replace('\\'',' ')\n",
    "\n",
    "    #replcae underscore with space\n",
    "    review = review.replace('_',' ')\n",
    "    \n",
    "\n",
    "    review = re.sub( reg_Wordbound , replace_punctuations, review )\n",
    "    review = re.sub( reg_Repeat, replace_repeat, review )\n",
    "    \n",
    "    lst = review.lower().split()\n",
    "    \n",
    "    \n",
    "    return ' '.join(lst)"
   ]
  },
  {
   "cell_type": "code",
   "execution_count": 43,
   "metadata": {
    "collapsed": false
   },
   "outputs": [
    {
     "data": {
      "text/plain": [
       "'this would not be replaced. '"
      ]
     },
     "execution_count": 43,
     "metadata": {},
     "output_type": "execute_result"
    }
   ],
   "source": [
    "#Replace the word which contains n't i.e wouldn't,shouldn't  \n",
    "#   with  would not, should not and return the string.   \n",
    "\n",
    "def replace_with_not(string):\n",
    "    ns = \"\"\n",
    "    suffix = \"n't\"\n",
    "    word = \"not\"\n",
    "    for stn in string.split():\n",
    "        if stn.endswith(suffix):\n",
    "            stn = stn[:-3]\n",
    "            ns += stn + ' ' + word + ' '\n",
    "        else:\n",
    "            ns += stn + ' '\n",
    "    return ns\n",
    "    \n",
    "replace_with_not(\"this wouldn't be replaced.\")"
   ]
  },
  {
   "cell_type": "code",
   "execution_count": 103,
   "metadata": {
    "collapsed": true
   },
   "outputs": [],
   "source": [
    "# Reads a file named (productID).txt and returns a list of all reviews present in that file for the given productID\n",
    "def getAllReviews(productID):\n",
    "    reviews = file2string(\"Reviews_Data/\"+ productID+\".txt\") \n",
    "    result = []\n",
    "    for review_line in reviews:\n",
    "        #print review.split(\"->\")[1],\"\\n\"\n",
    "        review = review_line.split(\"->\")[1]\n",
    "        r1 = processAll(review)\n",
    "        review = replace_with_not(r1)\n",
    "        score = calculateSynsetScore(review)\n",
    "        result.append((review,score))\n",
    "    return result"
   ]
  },
  {
   "cell_type": "code",
   "execution_count": 104,
   "metadata": {
    "collapsed": false
   },
   "outputs": [
    {
     "name": "stdout",
     "output_type": "stream",
     "text": [
      "Reading reviews for Product ID: B011N5HFOE \tNumber of total reviews: 8\n",
      "Reading reviews for Product ID: B004KZJ0UM \tNumber of total reviews: 316\n",
      "Reading reviews for Product ID: B00ZOO1RFO \tNumber of total reviews: 76\n",
      "Reading reviews for Product ID: B00K6ZIL0K \tNumber of total reviews: 22\n",
      "Reading reviews for Product ID: B012BPRLO4 \tNumber of total reviews: 3\n",
      "Reading reviews for Product ID: B00PGELA04 \tNumber of total reviews: 46\n",
      "Reading reviews for Product ID: B00HRO37UC \tNumber of total reviews: 53\n",
      "Reading reviews for Product ID: B011KFQASE \tNumber of total reviews: 100\n",
      "Reading reviews for Product ID: B00PPTP9IO \tNumber of total reviews: 92\n",
      "Reading reviews for Product ID: B00Z1R85O0 \tNumber of total reviews: 15\n",
      "Reading reviews for Product ID: B00VGNZ4PG \tNumber of total reviews: 50\n",
      "Reading reviews for Product ID: B015P3SH9W \tNumber of total reviews: 59\n",
      "Reading reviews for Product ID: B00VJ1P7TS \tNumber of total reviews: 126\n",
      "Reading reviews for Product ID: B01606KJ6C \tNumber of total reviews: 49\n",
      "Reading reviews for Product ID: B015PYZXRU \tNumber of total reviews: 39\n",
      "Reading reviews for Product ID: B00VKL0I96 \tNumber of total reviews: 39\n",
      "Reading reviews for Product ID: B00XPUUGDI \tNumber of total reviews: 74\n",
      "Reading reviews for Product ID: B00V2KX5JA \tNumber of total reviews: 74\n",
      "Reading reviews for Product ID: B00MMLW3X2 \tNumber of total reviews: 100\n",
      "Reading reviews for Product ID: B00KDI9C4O \tNumber of total reviews: 52\n",
      "Reading reviews for Product ID: B00RY4X8A4 \tNumber of total reviews: 100\n",
      "Reading reviews for Product ID: B00ZS64K7K \tNumber of total reviews: 23\n",
      "Reading reviews for Product ID: B00X9KPSKK \tNumber of total reviews: 73\n",
      "Reading reviews for Product ID: B00FF6J532 \tNumber of total reviews: 244\n",
      "Reading reviews for Product ID: B00K4PATO8 \tNumber of total reviews: 100\n",
      "Reading reviews for Product ID: B00IU745S8 \tNumber of total reviews: 85\n",
      "Reading reviews for Product ID: B0163GQJOU \tNumber of total reviews: 10\n",
      "Reading reviews for Product ID: B00NJNE6AA \tNumber of total reviews: 99\n",
      "Reading reviews for Product ID: B015JVBD64 \tNumber of total reviews: 39\n",
      "Reading reviews for Product ID: B00N9ERISQ \tNumber of total reviews: 51\n",
      "Reading reviews for Product ID: B00K4PAV5U \tNumber of total reviews: 74\n",
      "Reading reviews for Product ID: B00YD1OQ1G \tNumber of total reviews: 38\n",
      "Reading reviews for Product ID: B00U8DHPX4 \tNumber of total reviews: 60\n",
      "Reading reviews for Product ID: B013PK8LGQ \tNumber of total reviews: 18\n",
      "Reading reviews for Product ID: B014B9IS1S \tNumber of total reviews: 6\n",
      "Reading reviews for Product ID: B015JVB9C2 \tNumber of total reviews: 30\n",
      "Reading reviews for Product ID: B00THEP15O \tNumber of total reviews: 55\n",
      "Reading reviews for Product ID: B010DODAWM \tNumber of total reviews: 37\n",
      "Reading reviews for Product ID: B00IB04M5K \tNumber of total reviews: 79\n",
      "Reading reviews for Product ID: B010DOD2G6 \tNumber of total reviews: 30\n",
      "Reading reviews for Product ID: B00ZOLT5YC \tNumber of total reviews: 100\n",
      "Reading reviews for Product ID: B00KMRGF28 \tNumber of total reviews: 100\n",
      "\n",
      "Counter({100: 6, 39: 3, 74: 3, 30: 2, 3: 1, 6: 1, 8: 1, 10: 1, 15: 1, 18: 1, 22: 1, 23: 1, 37: 1, 38: 1, 46: 1, 49: 1, 50: 1, 51: 1, 52: 1, 53: 1, 55: 1, 59: 1, 316: 1, 73: 1, 76: 1, 79: 1, 85: 1, 92: 1, 99: 1, 60: 1, 244: 1, 126: 1})\n"
     ]
    }
   ],
   "source": [
    "#Create a dictionary with product id as key and list of its reviews as value.\n",
    "\n",
    "product_ids = product_dictionary.keys()\n",
    "product_reviews = {}\n",
    "\n",
    "for id in product_ids:\n",
    "    reviews = getAllReviews(id)\n",
    "    product_reviews[id]=reviews;\n",
    "    print \"Reading reviews for Product ID:\",id,\"\\tNumber of total reviews:\",len(reviews)\n",
    "\n",
    "cnt = Counter()\n",
    "for key in product_reviews.keys():\n",
    "    #print \"Product ID:\",key,\"\\tNumber of reviews:\",len(product_reviews[key])\n",
    "    cnt[len(product_reviews[key])]+=1\n",
    "print \"\\n\",cnt"
   ]
  },
  {
   "cell_type": "code",
   "execution_count": null,
   "metadata": {
    "collapsed": false
   },
   "outputs": [],
   "source": []
  },
  {
   "cell_type": "code",
   "execution_count": 100,
   "metadata": {
    "collapsed": false,
    "scrolled": true
   },
   "outputs": [
    {
     "name": "stdout",
     "output_type": "stream",
     "text": [
      "╒═══════════════╤════════════════════════════════════════════════════════════════════╤═══════════════════╕\n",
      "│  Item Number  │ Product Title                                                      │  Sentiment Score  │\n",
      "╞═══════════════╪════════════════════════════════════════════════════════════════════╪═══════════════════╡\n",
      "│       1       │ Microsoft Surface 2 (32 GB)                                        │      1.94442      │\n",
      "├───────────────┼────────────────────────────────────────────────────────────────────┼───────────────────┤\n",
      "│       2       │ Dell Inspiron i7359-6790SLV 2-in-1 Touchscreen Laptop              │      1.74788      │\n",
      "├───────────────┼────────────────────────────────────────────────────────────────────┼───────────────────┤\n",
      "│       3       │ G-Tab Iota Quad Core Android Tablet PC                             │      1.45588      │\n",
      "├───────────────┼────────────────────────────────────────────────────────────────────┼───────────────────┤\n",
      "│       4       │ 2015 Newest Dell Chromebook, 11.6 inch HD Non-Touch LCD            │       1.25        │\n",
      "├───────────────┼────────────────────────────────────────────────────────────────────┼───────────────────┤\n",
      "│       5       │ Microsoft Surface Pro 4, Intel Core i5                             │      1.23724      │\n",
      "├───────────────┼────────────────────────────────────────────────────────────────────┼───────────────────┤\n",
      "│       6       │ Dell Inspiron 3000 15.6-Inches Windows 8.1 Laptop                  │      1.05556      │\n",
      "├───────────────┼────────────────────────────────────────────────────────────────────┼───────────────────┤\n",
      "│       7       │ Microsoft Surface 3 Tablet                                         │       0.94        │\n",
      "├───────────────┼────────────────────────────────────────────────────────────────────┼───────────────────┤\n",
      "│       8       │ Dell 15 5000 i15547-5003sLV 16-Inch Touch Screen Laptop            │     0.923913      │\n",
      "├───────────────┼────────────────────────────────────────────────────────────────────┼───────────────────┤\n",
      "│       9       │ ASUS F555LA-AB31 15.6-inch Full-HD Laptop                          │      0.83728      │\n",
      "├───────────────┼────────────────────────────────────────────────────────────────────┼───────────────────┤\n",
      "│      10       │ Apple MacBook Air MJVE2LL/A 13-inch Laptop                         │     0.800926      │\n",
      "├───────────────┼────────────────────────────────────────────────────────────────────┼───────────────────┤\n",
      "│      11       │ Dell Inspiron 15 7000 Series i7537T Touchscreen Laptop             │     0.784222      │\n",
      "├───────────────┼────────────────────────────────────────────────────────────────────┼───────────────────┤\n",
      "│      12       │ Microsoft Surface Book Intel Core i5                               │       0.775       │\n",
      "├───────────────┼────────────────────────────────────────────────────────────────────┼───────────────────┤\n",
      "│      13       │ Dell Inspiron 15 i5548-1670SLV Touchscreen Laptop                  │     0.758446      │\n",
      "├───────────────┼────────────────────────────────────────────────────────────────────┼───────────────────┤\n",
      "│      14       │ 2015 Newest Model Dell XPS13 Ultrabook Computer                    │      0.7475       │\n",
      "├───────────────┼────────────────────────────────────────────────────────────────────┼───────────────────┤\n",
      "│      15       │ Lenovo Flex 2 15.6-Inch Touchscreen Laptop (59418271) Black        │     0.636364      │\n",
      "├───────────────┼────────────────────────────────────────────────────────────────────┼───────────────────┤\n",
      "│      16       │ 2015 Newest Dell Inspiron 2 in 1 Convertible Touchscreen Laptop    │     0.633333      │\n",
      "├───────────────┼────────────────────────────────────────────────────────────────────┼───────────────────┤\n",
      "│      17       │ Dell Inspiron 15.6-Inch Touchscreen Laptop (i15RVT-6195BLK)        │     0.608491      │\n",
      "├───────────────┼────────────────────────────────────────────────────────────────────┼───────────────────┤\n",
      "│      18       │ Dell Inspiron 15.6-Inch Touchscreen Laptop                         │     0.569257      │\n",
      "├───────────────┼────────────────────────────────────────────────────────────────────┼───────────────────┤\n",
      "│      19       │ Dell Inspiron i5552-4391BLK 15.6 Inch Touchscreen Laptop           │     0.560897      │\n",
      "├───────────────┼────────────────────────────────────────────────────────────────────┼───────────────────┤\n",
      "│      20       │ Dell Inspiron i5558-2859BLK 15.6 Inch Touchscreen Laptop           │     0.560897      │\n",
      "├───────────────┼────────────────────────────────────────────────────────────────────┼───────────────────┤\n",
      "│      21       │ Dell Inspiron i3541-2001BLK 15.6-Inch Laptop                       │     0.530063      │\n",
      "├───────────────┼────────────────────────────────────────────────────────────────────┼───────────────────┤\n",
      "│      22       │ Dell Latitude D630 14.1-Inch Notebook PC - Silver 2011 Model       │     0.528063      │\n",
      "├───────────────┼────────────────────────────────────────────────────────────────────┼───────────────────┤\n",
      "│      23       │ Dell Inspiron i3000-5099SLV Touchscreen Laptop                     │       0.475       │\n",
      "├───────────────┼────────────────────────────────────────────────────────────────────┼───────────────────┤\n",
      "│      24       │ Newest Dell Inspiron 15 3000 Series 3551 Laptop                    │      0.46875      │\n",
      "├───────────────┼────────────────────────────────────────────────────────────────────┼───────────────────┤\n",
      "│      25       │ Dell Inspiron i3543 15.6-Inch Touchscreen Laptop                   │     0.460526      │\n",
      "├───────────────┼────────────────────────────────────────────────────────────────────┼───────────────────┤\n",
      "│      26       │ Toshiba Radius 2-in-1 11.6\" Touch-screen Laptop                    │     0.449728      │\n",
      "├───────────────┼────────────────────────────────────────────────────────────────────┼───────────────────┤\n",
      "│      27       │ Dell Inspiron 15 i5548-4167SLV - 15.6\" Touchscreen                 │      0.38587      │\n",
      "├───────────────┼────────────────────────────────────────────────────────────────────┼───────────────────┤\n",
      "│      28       │ 2015 Newest Model DELL Inspiron 15 Touchscreen Laptop              │       0.375       │\n",
      "├───────────────┼────────────────────────────────────────────────────────────────────┼───────────────────┤\n",
      "│      29       │ Dell Inspiron N2840 14-Inch Laptop                                 │     0.371711      │\n",
      "├───────────────┼────────────────────────────────────────────────────────────────────┼───────────────────┤\n",
      "│      30       │ ASUS K200MA-DS01T(S) 11.6-Inch HD Touchscreen Laptop (Black)       │       0.365       │\n",
      "├───────────────┼────────────────────────────────────────────────────────────────────┼───────────────────┤\n",
      "│      31       │ Dell Inspiron 11 3000 Series 2-in-1  11.6 Inch Laptop              │     0.364865      │\n",
      "├───────────────┼────────────────────────────────────────────────────────────────────┼───────────────────┤\n",
      "│      32       │ Dell Inspiron 15.6 Inch Laptop                                     │     0.363636      │\n",
      "├───────────────┼────────────────────────────────────────────────────────────────────┼───────────────────┤\n",
      "│      33       │ Dell Latitude E6420 Premium 14.1-Inch Business Laptop              │     0.333333      │\n",
      "├───────────────┼────────────────────────────────────────────────────────────────────┼───────────────────┤\n",
      "│      34       │ Dell - Inspiron I3542-11001BK 15.6\" Touch-Screen Laptop            │     0.252083      │\n",
      "├───────────────┼────────────────────────────────────────────────────────────────────┼───────────────────┤\n",
      "│      35       │ Dell Inspiron i3531-1200BK 16-Inch Laptop,Black                    │      0.23125      │\n",
      "├───────────────┼────────────────────────────────────────────────────────────────────┼───────────────────┤\n",
      "│      36       │ Dell Inspiron i5748-2143sLV 17.3-Inch Laptop                       │      0.2225       │\n",
      "├───────────────┼────────────────────────────────────────────────────────────────────┼───────────────────┤\n",
      "│      37       │ Microsoft Surface 2 32GB 10.6\" Tablet                              │     0.156863      │\n",
      "├───────────────┼────────────────────────────────────────────────────────────────────┼───────────────────┤\n",
      "│      38       │ 2015 Newest Model Dell Inspiron 15 Laptop Computer                 │     0.155405      │\n",
      "├───────────────┼────────────────────────────────────────────────────────────────────┼───────────────────┤\n",
      "│      39       │ HP Pavilion x360 13-a010nr Convertible Touchscreen Laptop          │     0.146212      │\n",
      "├───────────────┼────────────────────────────────────────────────────────────────────┼───────────────────┤\n",
      "│      40       │ Dell Inspiron 15 5000 15.6 Inch Laptop                             │      0.1375       │\n",
      "├───────────────┼────────────────────────────────────────────────────────────────────┼───────────────────┤\n",
      "│      41       │ HP Pavilion X360 13.3-Inch WLED HD Touch-screen Convertible Laptop │       0.125       │\n",
      "├───────────────┼────────────────────────────────────────────────────────────────────┼───────────────────┤\n",
      "│      42       │ Dell Latitude E6400 Laptop Core 2 Duo                              │       -0.25       │\n",
      "╘═══════════════╧════════════════════════════════════════════════════════════════════╧═══════════════════╛\n"
     ]
    }
   ],
   "source": [
    "#Calculates average sentiment of all reviews that a product received.\n",
    "def productAverageScore(reviews_dict):\n",
    "    result = []\n",
    "    for pid in reviews_dict.keys():\n",
    "        reviews_lst = reviews_dict[pid]\n",
    "        sum = 0\n",
    "        for review in reviews_lst:\n",
    "            sum+=review[1]\n",
    "        \n",
    "        avg = sum/len(reviews_lst)\n",
    "        result.append((pid,avg))\n",
    "        result = sorted(result,key = itemgetter(1),reverse = True)\n",
    "    \n",
    "    return result\n",
    "        \n",
    "product_avg = productAverageScore(product_reviews)\n",
    "#print product_avg[0][1]\n",
    "\n",
    "cnt = 0\n",
    "table = []\n",
    "for val in range(len(product_avg)):\n",
    "    cnt+=1\n",
    "    table.append([cnt,product_dictionary[product_avg[val][0]][0],product_avg[val][1]])\n",
    "    \n",
    "print tabulate(table,headers=[\"Item Number\",\"Product Title\",\"Sentiment Score\"], tablefmt=\"fancy_grid\", numalign=\"center\")\n"
   ]
  },
  {
   "cell_type": "code",
   "execution_count": 106,
   "metadata": {
    "collapsed": false,
    "scrolled": false
   },
   "outputs": [
    {
     "data": {
      "image/png": "[encoded data removed]",
      "text/plain": [
       "<matplotlib.figure.Figure at 0x7fe39647d210>"
      ]
     },
     "metadata": {},
     "output_type": "display_data"
    }
   ],
   "source": [
    "h = []\n",
    "for i in range(len(product_avg)):\n",
    "    h.append(product_avg[i][1])\n",
    "\n",
    "h = sorted(h)\n",
    "#print h   \n",
    "fit = stats.norm.pdf(h, np.mean(h), np.std(h))  #this is a fitting indeed\n",
    "\n",
    "pl.plot(h,fit,'-o')\n",
    "\n",
    "pl.hist(h,normed=True)      #use this to draw histogram of your data\n",
    "\n",
    "pl.show()"
   ]
  },
  {
   "cell_type": "code",
   "execution_count": 48,
   "metadata": {
    "collapsed": false
   },
   "outputs": [],
   "source": [
    "#Calculates average sentiment of all reviews that a product received.\n",
    "def productFeatureScore(reviews_dict,feature):\n",
    "    result = []\n",
    "    for pid in reviews_dict.keys():\n",
    "        reviews_lst = reviews_dict[pid]\n",
    "        sum = 0.0\n",
    "        cnt = 0.0\n",
    "        for review in reviews_lst:\n",
    "            reviewstr = review[0].lower()\n",
    "            if re.findall(feature, reviewstr):\n",
    "                sum+=review[1]\n",
    "                cnt+=1\n",
    "        if cnt != 0:\n",
    "            avg = sum/cnt\n",
    "            result.append((pid,avg))\n",
    "        result = sorted(result,key = itemgetter(1),reverse = True)\n",
    "    return result"
   ]
  },
  {
   "cell_type": "code",
   "execution_count": 105,
   "metadata": {
    "collapsed": false,
    "scrolled": true
   },
   "outputs": [
    {
     "name": "stdout",
     "output_type": "stream",
     "text": [
      "╒═══════════════╤════════════════════════════════════════════════════════════════════╤═══════════════════╕\n",
      "│  Item Number  │ Product Title                                                      │  Sentiment Score  │\n",
      "╞═══════════════╪════════════════════════════════════════════════════════════════════╪═══════════════════╡\n",
      "│       1       │ Microsoft Surface 2 (32 GB)                                        │      5.29421      │\n",
      "├───────────────┼────────────────────────────────────────────────────────────────────┼───────────────────┤\n",
      "│       2       │ Dell Inspiron i7359-6790SLV 2-in-1 Touchscreen Laptop              │      3.40217      │\n",
      "├───────────────┼────────────────────────────────────────────────────────────────────┼───────────────────┤\n",
      "│       3       │ Dell Inspiron i3000-5099SLV Touchscreen Laptop                     │       3.375       │\n",
      "├───────────────┼────────────────────────────────────────────────────────────────────┼───────────────────┤\n",
      "│       4       │ Microsoft Surface Pro 4, Intel Core i5                             │      2.41667      │\n",
      "├───────────────┼────────────────────────────────────────────────────────────────────┼───────────────────┤\n",
      "│       5       │ Dell Inspiron 15 i5548-4167SLV - 15.6\" Touchscreen                 │      2.33333      │\n",
      "├───────────────┼────────────────────────────────────────────────────────────────────┼───────────────────┤\n",
      "│       6       │ G-Tab Iota Quad Core Android Tablet PC                             │        2.2        │\n",
      "├───────────────┼────────────────────────────────────────────────────────────────────┼───────────────────┤\n",
      "│       7       │ Dell Inspiron 15 7000 Series i7537T Touchscreen Laptop             │      1.96685      │\n",
      "├───────────────┼────────────────────────────────────────────────────────────────────┼───────────────────┤\n",
      "│       8       │ Microsoft Surface 3 Tablet                                         │      1.93182      │\n",
      "├───────────────┼────────────────────────────────────────────────────────────────────┼───────────────────┤\n",
      "│       9       │ Newest Dell Inspiron 15 3000 Series 3551 Laptop                    │       1.875       │\n",
      "├───────────────┼────────────────────────────────────────────────────────────────────┼───────────────────┤\n",
      "│      10       │ ASUS F555LA-AB31 15.6-inch Full-HD Laptop                          │       1.802       │\n",
      "├───────────────┼────────────────────────────────────────────────────────────────────┼───────────────────┤\n",
      "│      11       │ Lenovo Flex 2 15.6-Inch Touchscreen Laptop (59418271) Black        │       1.55        │\n",
      "├───────────────┼────────────────────────────────────────────────────────────────────┼───────────────────┤\n",
      "│      12       │ Toshiba Radius 2-in-1 11.6\" Touch-screen Laptop                    │        1.5        │\n",
      "├───────────────┼────────────────────────────────────────────────────────────────────┼───────────────────┤\n",
      "│      13       │ Dell Inspiron i3543 15.6-Inch Touchscreen Laptop                   │      1.45833      │\n",
      "├───────────────┼────────────────────────────────────────────────────────────────────┼───────────────────┤\n",
      "│      14       │ Dell Inspiron 15 i5548-1670SLV Touchscreen Laptop                  │      1.40179      │\n",
      "├───────────────┼────────────────────────────────────────────────────────────────────┼───────────────────┤\n",
      "│      15       │ Dell Inspiron 15.6-Inch Touchscreen Laptop                         │      1.32031      │\n",
      "├───────────────┼────────────────────────────────────────────────────────────────────┼───────────────────┤\n",
      "│      16       │ Dell Inspiron 11 3000 Series 2-in-1  11.6 Inch Laptop              │      1.3125       │\n",
      "├───────────────┼────────────────────────────────────────────────────────────────────┼───────────────────┤\n",
      "│      17       │ Dell - Inspiron I3542-11001BK 15.6\" Touch-Screen Laptop            │      1.26562      │\n",
      "├───────────────┼────────────────────────────────────────────────────────────────────┼───────────────────┤\n",
      "│      18       │ 2015 Newest Model Dell XPS13 Ultrabook Computer                    │      1.09375      │\n",
      "├───────────────┼────────────────────────────────────────────────────────────────────┼───────────────────┤\n",
      "│      19       │ 2015 Newest Model Dell Inspiron 15 Laptop Computer                 │      1.08333      │\n",
      "├───────────────┼────────────────────────────────────────────────────────────────────┼───────────────────┤\n",
      "│      20       │ Dell Inspiron 15.6-Inch Touchscreen Laptop (i15RVT-6195BLK)        │      1.06818      │\n",
      "├───────────────┼────────────────────────────────────────────────────────────────────┼───────────────────┤\n",
      "│      21       │ Dell 15 5000 i15547-5003sLV 16-Inch Touch Screen Laptop            │     0.958333      │\n",
      "├───────────────┼────────────────────────────────────────────────────────────────────┼───────────────────┤\n",
      "│      22       │ 2015 Newest Dell Inspiron 2 in 1 Convertible Touchscreen Laptop    │       0.875       │\n",
      "├───────────────┼────────────────────────────────────────────────────────────────────┼───────────────────┤\n",
      "│      23       │ 2015 Newest Model DELL Inspiron 15 Touchscreen Laptop              │     0.855769      │\n",
      "├───────────────┼────────────────────────────────────────────────────────────────────┼───────────────────┤\n",
      "│      24       │ Dell Latitude D630 14.1-Inch Notebook PC - Silver 2011 Model       │     0.791667      │\n",
      "├───────────────┼────────────────────────────────────────────────────────────────────┼───────────────────┤\n",
      "│      25       │ Dell Inspiron i3541-2001BLK 15.6-Inch Laptop                       │      0.6625       │\n",
      "├───────────────┼────────────────────────────────────────────────────────────────────┼───────────────────┤\n",
      "│      26       │ HP Pavilion x360 13-a010nr Convertible Touchscreen Laptop          │      0.6585       │\n",
      "├───────────────┼────────────────────────────────────────────────────────────────────┼───────────────────┤\n",
      "│      27       │ ASUS K200MA-DS01T(S) 11.6-Inch HD Touchscreen Laptop (Black)       │     0.566667      │\n",
      "├───────────────┼────────────────────────────────────────────────────────────────────┼───────────────────┤\n",
      "│      28       │ Dell Inspiron i3531-1200BK 16-Inch Laptop,Black                    │        0.5        │\n",
      "├───────────────┼────────────────────────────────────────────────────────────────────┼───────────────────┤\n",
      "│      29       │ Dell Inspiron i5748-2143sLV 17.3-Inch Laptop                       │     0.0909091     │\n",
      "├───────────────┼────────────────────────────────────────────────────────────────────┼───────────────────┤\n",
      "│      30       │ HP Pavilion X360 13.3-Inch WLED HD Touch-screen Convertible Laptop │     0.0568182     │\n",
      "├───────────────┼────────────────────────────────────────────────────────────────────┼───────────────────┤\n",
      "│      31       │ Dell Inspiron 15.6 Inch Laptop                                     │         0         │\n",
      "├───────────────┼────────────────────────────────────────────────────────────────────┼───────────────────┤\n",
      "│      32       │ Microsoft Surface 2 32GB 10.6\" Tablet                              │      -0.125       │\n",
      "├───────────────┼────────────────────────────────────────────────────────────────────┼───────────────────┤\n",
      "│      33       │ Microsoft Surface Book Intel Core i5                               │     -0.46875      │\n",
      "├───────────────┼────────────────────────────────────────────────────────────────────┼───────────────────┤\n",
      "│      34       │ Dell Inspiron i5552-4391BLK 15.6 Inch Touchscreen Laptop           │       -0.5        │\n",
      "├───────────────┼────────────────────────────────────────────────────────────────────┼───────────────────┤\n",
      "│      35       │ Dell Inspiron i5558-2859BLK 15.6 Inch Touchscreen Laptop           │       -0.5        │\n",
      "├───────────────┼────────────────────────────────────────────────────────────────────┼───────────────────┤\n",
      "│      36       │ Dell Inspiron 15 5000 15.6 Inch Laptop                             │       -0.5        │\n",
      "├───────────────┼────────────────────────────────────────────────────────────────────┼───────────────────┤\n",
      "│      37       │ Apple MacBook Air MJVE2LL/A 13-inch Laptop                         │     -1.16667      │\n",
      "╘═══════════════╧════════════════════════════════════════════════════════════════════╧═══════════════════╛\n"
     ]
    }
   ],
   "source": [
    "#Searching for products with reviews related to touch\n",
    "product_touch = productFeatureScore(product_reviews,\"touch\")\n",
    "\n",
    "cnt = 0\n",
    "table = []\n",
    "for val in range(len(product_touch)):\n",
    "    cnt+=1\n",
    "    table.append([cnt,product_dictionary[product_touch[val][0]][0],product_touch[val][1]])\n",
    "print tabulate(table,headers=[\"Item Number\",\"Product Title\",\"Sentiment Score\"], tablefmt=\"fancy_grid\", numalign=\"center\")"
   ]
  },
  {
   "cell_type": "code",
   "execution_count": 101,
   "metadata": {
    "collapsed": false,
    "scrolled": true
   },
   "outputs": [
    {
     "name": "stdout",
     "output_type": "stream",
     "text": [
      "╒═══════════════╤════════════════════════════════════════════════════════════════════╤═══════════════════╕\n",
      "│  Item Number  │ Product Title                                                      │  Sentiment Score  │\n",
      "╞═══════════════╪════════════════════════════════════════════════════════════════════╪═══════════════════╡\n",
      "│       1       │ Microsoft Surface 2 (32 GB)                                        │       9.625       │\n",
      "├───────────────┼────────────────────────────────────────────────────────────────────┼───────────────────┤\n",
      "│       2       │ Dell Latitude E6420 Premium 14.1-Inch Business Laptop              │       6.125       │\n",
      "├───────────────┼────────────────────────────────────────────────────────────────────┼───────────────────┤\n",
      "│       3       │ Dell - Inspiron I3542-11001BK 15.6\" Touch-Screen Laptop            │       5.125       │\n",
      "├───────────────┼────────────────────────────────────────────────────────────────────┼───────────────────┤\n",
      "│       4       │ Dell Inspiron i7359-6790SLV 2-in-1 Touchscreen Laptop              │       5.025       │\n",
      "├───────────────┼────────────────────────────────────────────────────────────────────┼───────────────────┤\n",
      "│       5       │ Toshiba Radius 2-in-1 11.6\" Touch-screen Laptop                    │      4.5625       │\n",
      "├───────────────┼────────────────────────────────────────────────────────────────────┼───────────────────┤\n",
      "│       6       │ Microsoft Surface Book Intel Core i5                               │       3.625       │\n",
      "├───────────────┼────────────────────────────────────────────────────────────────────┼───────────────────┤\n",
      "│       7       │ Dell Inspiron 15 i5548-4167SLV - 15.6\" Touchscreen                 │        3.5        │\n",
      "├───────────────┼────────────────────────────────────────────────────────────────────┼───────────────────┤\n",
      "│       8       │ ASUS F555LA-AB31 15.6-inch Full-HD Laptop                          │      2.40687      │\n",
      "├───────────────┼────────────────────────────────────────────────────────────────────┼───────────────────┤\n",
      "│       9       │ Dell Latitude D630 14.1-Inch Notebook PC - Silver 2011 Model       │      2.34683      │\n",
      "├───────────────┼────────────────────────────────────────────────────────────────────┼───────────────────┤\n",
      "│      10       │ Dell Inspiron i5748-2143sLV 17.3-Inch Laptop                       │      2.3125       │\n",
      "├───────────────┼────────────────────────────────────────────────────────────────────┼───────────────────┤\n",
      "│      11       │ Dell Inspiron 15 i5548-1670SLV Touchscreen Laptop                  │       2.25        │\n",
      "├───────────────┼────────────────────────────────────────────────────────────────────┼───────────────────┤\n",
      "│      12       │ Lenovo Flex 2 15.6-Inch Touchscreen Laptop (59418271) Black        │       1.875       │\n",
      "├───────────────┼────────────────────────────────────────────────────────────────────┼───────────────────┤\n",
      "│      13       │ G-Tab Iota Quad Core Android Tablet PC                             │      1.78125      │\n",
      "├───────────────┼────────────────────────────────────────────────────────────────────┼───────────────────┤\n",
      "│      14       │ Microsoft Surface Pro 4, Intel Core i5                             │       1.75        │\n",
      "├───────────────┼────────────────────────────────────────────────────────────────────┼───────────────────┤\n",
      "│      15       │ Dell Inspiron 15.6-Inch Touchscreen Laptop (i15RVT-6195BLK)        │      1.66667      │\n",
      "├───────────────┼────────────────────────────────────────────────────────────────────┼───────────────────┤\n",
      "│      16       │ 2015 Newest Model Dell Inspiron 15 Laptop Computer                 │       1.65        │\n",
      "├───────────────┼────────────────────────────────────────────────────────────────────┼───────────────────┤\n",
      "│      17       │ 2015 Newest Dell Chromebook, 11.6 inch HD Non-Touch LCD            │       1.625       │\n",
      "├───────────────┼────────────────────────────────────────────────────────────────────┼───────────────────┤\n",
      "│      18       │ Dell 15 5000 i15547-5003sLV 16-Inch Touch Screen Laptop            │      1.5625       │\n",
      "├───────────────┼────────────────────────────────────────────────────────────────────┼───────────────────┤\n",
      "│      19       │ Microsoft Surface 3 Tablet                                         │      1.45833      │\n",
      "├───────────────┼────────────────────────────────────────────────────────────────────┼───────────────────┤\n",
      "│      20       │ Dell Inspiron 15 7000 Series i7537T Touchscreen Laptop             │       1.273       │\n",
      "├───────────────┼────────────────────────────────────────────────────────────────────┼───────────────────┤\n",
      "│      21       │ 2015 Newest Model Dell XPS13 Ultrabook Computer                    │       1.15        │\n",
      "├───────────────┼────────────────────────────────────────────────────────────────────┼───────────────────┤\n",
      "│      22       │ Dell Inspiron 15.6-Inch Touchscreen Laptop                         │         1         │\n",
      "├───────────────┼────────────────────────────────────────────────────────────────────┼───────────────────┤\n",
      "│      23       │ Dell Inspiron i3541-2001BLK 15.6-Inch Laptop                       │       0.525       │\n",
      "├───────────────┼────────────────────────────────────────────────────────────────────┼───────────────────┤\n",
      "│      24       │ ASUS K200MA-DS01T(S) 11.6-Inch HD Touchscreen Laptop (Black)       │       0.25        │\n",
      "├───────────────┼────────────────────────────────────────────────────────────────────┼───────────────────┤\n",
      "│      25       │ HP Pavilion x360 13-a010nr Convertible Touchscreen Laptop          │       0.25        │\n",
      "├───────────────┼────────────────────────────────────────────────────────────────────┼───────────────────┤\n",
      "│      26       │ Dell Inspiron 15 5000 15.6 Inch Laptop                             │       0.125       │\n",
      "├───────────────┼────────────────────────────────────────────────────────────────────┼───────────────────┤\n",
      "│      27       │ Dell Inspiron i3543 15.6-Inch Touchscreen Laptop                   │         0         │\n",
      "├───────────────┼────────────────────────────────────────────────────────────────────┼───────────────────┤\n",
      "│      28       │ 2015 Newest Model DELL Inspiron 15 Touchscreen Laptop              │      -0.125       │\n",
      "├───────────────┼────────────────────────────────────────────────────────────────────┼───────────────────┤\n",
      "│      29       │ Dell Latitude E6400 Laptop Core 2 Duo                              │       -0.25       │\n",
      "├───────────────┼────────────────────────────────────────────────────────────────────┼───────────────────┤\n",
      "│      30       │ Dell Inspiron i5552-4391BLK 15.6 Inch Touchscreen Laptop           │      -0.6875      │\n",
      "├───────────────┼────────────────────────────────────────────────────────────────────┼───────────────────┤\n",
      "│      31       │ Dell Inspiron i5558-2859BLK 15.6 Inch Touchscreen Laptop           │      -0.6875      │\n",
      "├───────────────┼────────────────────────────────────────────────────────────────────┼───────────────────┤\n",
      "│      32       │ Dell Inspiron 15.6 Inch Laptop                                     │       -0.75       │\n",
      "├───────────────┼────────────────────────────────────────────────────────────────────┼───────────────────┤\n",
      "│      33       │ Newest Dell Inspiron 15 3000 Series 3551 Laptop                    │       -0.75       │\n",
      "├───────────────┼────────────────────────────────────────────────────────────────────┼───────────────────┤\n",
      "│      34       │ Dell Inspiron i3531-1200BK 16-Inch Laptop,Black                    │      -0.875       │\n",
      "├───────────────┼────────────────────────────────────────────────────────────────────┼───────────────────┤\n",
      "│      35       │ HP Pavilion X360 13.3-Inch WLED HD Touch-screen Convertible Laptop │      -1.375       │\n",
      "╘═══════════════╧════════════════════════════════════════════════════════════════════╧═══════════════════╛\n"
     ]
    }
   ],
   "source": [
    "#Searching for products with reviews related to processor\n",
    "product_processor = productFeatureScore(product_reviews,\"processor\")\n",
    "\n",
    "cnt = 0\n",
    "table = []\n",
    "for val in range(len(product_processor)):\n",
    "    cnt+=1\n",
    "    table.append([cnt,product_dictionary[product_processor[val][0]][0],product_processor[val][1]])\n",
    "print tabulate(table,headers=[\"Item Number\",\"Product Title\",\"Sentiment Score\"], tablefmt=\"fancy_grid\", numalign=\"center\")"
   ]
  },
  {
   "cell_type": "code",
   "execution_count": 52,
   "metadata": {
    "collapsed": false,
    "scrolled": false
   },
   "outputs": [
    {
     "name": "stdout",
     "output_type": "stream",
     "text": [
      "╒═══════════════╤═════════════════════════════════════════════════════════════╤═══════════════════╕\n",
      "│  Item Number  │ Product Title                                               │  Sentiment Score  │\n",
      "╞═══════════════╪═════════════════════════════════════════════════════════════╪═══════════════════╡\n",
      "│       1       │ Microsoft Surface 2 (32 GB)                                 │      5.36538      │\n",
      "├───────────────┼─────────────────────────────────────────────────────────────┼───────────────────┤\n",
      "│       2       │ Dell Inspiron 15.6-Inch Touchscreen Laptop (i15RVT-6195BLK) │       4.25        │\n",
      "├───────────────┼─────────────────────────────────────────────────────────────┼───────────────────┤\n",
      "│       3       │ Dell Inspiron i3531-1200BK 16-Inch Laptop,Black             │       4.25        │\n",
      "├───────────────┼─────────────────────────────────────────────────────────────┼───────────────────┤\n",
      "│       4       │ G-Tab Iota Quad Core Android Tablet PC                      │         3         │\n",
      "├───────────────┼─────────────────────────────────────────────────────────────┼───────────────────┤\n",
      "│       5       │ Dell Inspiron i5748-2143sLV 17.3-Inch Laptop                │       1.875       │\n",
      "├───────────────┼─────────────────────────────────────────────────────────────┼───────────────────┤\n",
      "│       6       │ 2015 Newest Model DELL Inspiron 15 Touchscreen Laptop       │       1.875       │\n",
      "├───────────────┼─────────────────────────────────────────────────────────────┼───────────────────┤\n",
      "│       7       │ Dell Inspiron 11 3000 Series 2-in-1  11.6 Inch Laptop       │       1.625       │\n",
      "├───────────────┼─────────────────────────────────────────────────────────────┼───────────────────┤\n",
      "│       8       │ Dell Inspiron 15 i5548-1670SLV Touchscreen Laptop           │       1.125       │\n",
      "├───────────────┼─────────────────────────────────────────────────────────────┼───────────────────┤\n",
      "│       9       │ Dell - Inspiron I3542-11001BK 15.6\" Touch-Screen Laptop     │       1.125       │\n",
      "├───────────────┼─────────────────────────────────────────────────────────────┼───────────────────┤\n",
      "│      10       │ 2015 Newest Model Dell XPS13 Ultrabook Computer             │      1.0625       │\n",
      "├───────────────┼─────────────────────────────────────────────────────────────┼───────────────────┤\n",
      "│      11       │ Dell Inspiron i3543 15.6-Inch Touchscreen Laptop            │       0.625       │\n",
      "├───────────────┼─────────────────────────────────────────────────────────────┼───────────────────┤\n",
      "│      12       │ Microsoft Surface 3 Tablet                                  │      0.4375       │\n",
      "├───────────────┼─────────────────────────────────────────────────────────────┼───────────────────┤\n",
      "│      13       │ Dell Inspiron 15 i5548-4167SLV - 15.6\" Touchscreen          │       0.125       │\n",
      "├───────────────┼─────────────────────────────────────────────────────────────┼───────────────────┤\n",
      "│      14       │ Toshiba Radius 2-in-1 11.6\" Touch-screen Laptop             │      -0.0625      │\n",
      "├───────────────┼─────────────────────────────────────────────────────────────┼───────────────────┤\n",
      "│      15       │ Dell Inspiron 15.6 Inch Laptop                              │      -0.5625      │\n",
      "├───────────────┼─────────────────────────────────────────────────────────────┼───────────────────┤\n",
      "│      16       │ ASUS F555LA-AB31 15.6-inch Full-HD Laptop                   │      -3.625       │\n",
      "╘═══════════════╧═════════════════════════════════════════════════════════════╧═══════════════════╛\n"
     ]
    }
   ],
   "source": [
    "#Searching for products with reviews related to processor\n",
    "product_storage = productFeatureScore(product_reviews,\"storage\")\n",
    "\n",
    "cnt =0\n",
    "table = []\n",
    "for val in range(len(product_storage)):\n",
    "    cnt+=1\n",
    "    table.append([cnt,product_dictionary[product_storage[val][0]][0],product_storage[val][1]])\n",
    "print tabulate(table,headers=[\"Item Number\",\"Product Title\",\"Sentiment Score\"], tablefmt=\"fancy_grid\", numalign=\"center\")\n",
    "    "
   ]
  },
  {
   "cell_type": "code",
   "execution_count": 53,
   "metadata": {
    "collapsed": true
   },
   "outputs": [],
   "source": [
    "#Create Graph for Every method. \n",
    "\n",
    "def Create_Graph(var):\n",
    "    x = []\n",
    "    y = []\n",
    "    p = []\n",
    "    for i in range(len(var)):\n",
    "        p.append(i+1)\n",
    "        #print p\n",
    "        x.append(var[i][0])            \n",
    "        y.append(var[i][1])\n",
    "    plt.bar(p,y,align='center')\n",
    "    #plt.figure(figsize=(1,1))\n",
    "    plt.xticks(p)\n",
    "    plt.xlabel('Products')\n",
    "    plt.ylabel('Average Ratings')\n",
    "    plt.show()\n",
    "    table = []\n",
    "    cnt = 0\n",
    "    for i in x:\n",
    "        cnt+=1\n",
    "        table.append([cnt,i])\n",
    "    print tabulate(table,headers=[\"Item Number\",\"Product ID\"], tablefmt=\"grid\", numalign=\"center\")"
   ]
  },
  {
   "cell_type": "code",
   "execution_count": 54,
   "metadata": {
    "collapsed": false,
    "scrolled": false
   },
   "outputs": [
    {
     "data": {
      "image/png": "[encoded data removed]",
      "text/plain": [
       "<matplotlib.figure.Figure at 0x7fe3963f66d0>"
      ]
     },
     "metadata": {},
     "output_type": "display_data"
    },
    {
     "name": "stdout",
     "output_type": "stream",
     "text": [
      "+---------------+--------------+\n",
      "|  Item Number  | Product ID   |\n",
      "+===============+==============+\n",
      "|       1       | B00FF6J532   |\n",
      "+---------------+--------------+\n",
      "|       2       | B015P3SH9W   |\n",
      "+---------------+--------------+\n",
      "|       3       | B015JVB9C2   |\n",
      "+---------------+--------------+\n",
      "|       4       | B01606KJ6C   |\n",
      "+---------------+--------------+\n",
      "|       5       | B00ZS64K7K   |\n",
      "+---------------+--------------+\n",
      "|       6       | B00IU745S8   |\n",
      "+---------------+--------------+\n",
      "|       7       | B00NJNE6AA   |\n",
      "+---------------+--------------+\n",
      "|       8       | B00VGNZ4PG   |\n",
      "+---------------+--------------+\n",
      "|       9       | B011N5HFOE   |\n",
      "+---------------+--------------+\n",
      "|      10       | B011KFQASE   |\n",
      "+---------------+--------------+\n"
     ]
    }
   ],
   "source": [
    "#lis = [('p',3),('q',3),('r',5),('s',1)]\n",
    "\n",
    "Create_Graph(product_touch[:10])"
   ]
  },
  {
   "cell_type": "code",
   "execution_count": null,
   "metadata": {
    "collapsed": false
   },
   "outputs": [],
   "source": []
  },
  {
   "cell_type": "code",
   "execution_count": 111,
   "metadata": {
    "collapsed": false
   },
   "outputs": [
    {
     "name": "stdout",
     "output_type": "stream",
     "text": [
      "First Product ID is B011N5HFOE\n"
     ]
    }
   ],
   "source": [
    "## Stroing all Product IDs in one list. \n",
    "\n",
    "pid = []\n",
    "for i in (product_ids):\n",
    "    pid.append(str(i))\n",
    "    \n",
    "    \n",
    "print \"First Product ID is %s\" %pid[0]"
   ]
  },
  {
   "cell_type": "code",
   "execution_count": 112,
   "metadata": {
    "collapsed": false
   },
   "outputs": [
    {
     "name": "stdout",
     "output_type": "stream",
     "text": [
      "Total number of Reviews collected are 2844.\n"
     ]
    }
   ],
   "source": [
    "## Storing one by one processed review in result set. So result set has all the reviews. \n",
    "\n",
    "\n",
    "result = []\n",
    "for i in pid:\n",
    "    reviews = file2string(\"Reviews_Data/\"+ i +\".txt\")\n",
    "    for review_line in reviews:\n",
    "        review = review_line.split(\"->\")[1]\n",
    "        r1 = processAll(review)\n",
    "        \n",
    "        result.append(review)\n",
    "        \n",
    "print \"Total number of Reviews collected are %d.\" %len(result)"
   ]
  },
  {
   "cell_type": "code",
   "execution_count": 120,
   "metadata": {
    "collapsed": true
   },
   "outputs": [],
   "source": [
    "## Do not run this \n",
    "## I have already done this and store all the reviews in Data Folder. \n",
    "\n",
    "i = 1\n",
    "rslt = []\n",
    "for review in result:\n",
    "    score = calculateSynsetScore(review)\n",
    "    rslt.append((review,score))\n",
    "    f = open('Data/r'+ str(i) +'.txt','w+')\n",
    "    f.write(review)\n",
    "    f.close()\n",
    "    i += 1"
   ]
  },
  {
   "cell_type": "code",
   "execution_count": 113,
   "metadata": {
    "collapsed": false
   },
   "outputs": [
    {
     "name": "stdout",
     "output_type": "stream",
     "text": [
      "subdirectories are:['test', 'train']\n"
     ]
    }
   ],
   "source": [
    "# Here is the path to the data directory.\n",
    "\n",
    "path = 'Data'\n",
    "print('subdirectories are:' + str(os.listdir(path)))"
   ]
  },
  {
   "cell_type": "code",
   "execution_count": 114,
   "metadata": {
    "collapsed": true
   },
   "outputs": [],
   "source": [
    "## To get the list of files on specific path. \n",
    "\n",
    "def get_files(path):\n",
    "    list = []\n",
    "    #get list of files in geiven directory\n",
    "    for a in sorted(os.listdir(path)):\n",
    "        #append all files path to list\n",
    "        list.append(path + os.sep + a)\n",
    "    return list"
   ]
  },
  {
   "cell_type": "code",
   "execution_count": null,
   "metadata": {
    "collapsed": false
   },
   "outputs": [],
   "source": []
  },
  {
   "cell_type": "code",
   "execution_count": 202,
   "metadata": {
    "collapsed": false
   },
   "outputs": [],
   "source": [
    "######     Do not run this code   #########\n",
    "## This script is for distinguishing reviews based on it's sentiment score. if score > 0 then put it in pos folder\n",
    "##      else move into neg folder. \n",
    "\n",
    "pos = []\n",
    "neg = []\n",
    "\n",
    "dest1 = 'Data/train/pos'        ## or 'Data/test/pos'\n",
    "dest2 = 'Data/train/neg'        ## or 'Data/train/neg'\n",
    "\n",
    "for file in files:\n",
    "    f = open(file,'r+')\n",
    "    m = processAll(f.read())\n",
    "    review = replace_with_not(m)\n",
    "    score = calculateSynsetScore(review)\n",
    "    if score > 0:\n",
    "        #pos.append(m)\n",
    "        shutil.move(file, dest1)\n",
    "    else:\n",
    "        #neg.append(m)\n",
    "        shutil.move(file, dest2)\n",
    "    \n",
    "        \n",
    "    f.close()\n",
    "\n",
    "    f = open(file,'wb')\n",
    "    f.write(str(review))\n",
    "    f.close()"
   ]
  },
  {
   "cell_type": "code",
   "execution_count": 115,
   "metadata": {
    "collapsed": false
   },
   "outputs": [
    {
     "name": "stdout",
     "output_type": "stream",
     "text": [
      "found 1103 positive and 1092 negative training files\n",
      "first positive file: Data/train/pos/r1.txt\n",
      "first negative file: Data/train/neg/r10.txt\n"
     ]
    }
   ],
   "source": [
    "pos_train_files = get_files(path + os.sep + 'train' + os.sep + 'pos')\n",
    "neg_train_files = get_files(path + os.sep + 'train' + os.sep + 'neg')\n",
    "all_train_files = pos_train_files + neg_train_files\n",
    "\n",
    "print('found %d positive and %d negative training files' %\n",
    "      (len(pos_train_files), len(neg_train_files)))\n",
    "print('first positive file: %s' % pos_train_files[0])\n",
    "print('first negative file: %s' % neg_train_files[0])"
   ]
  },
  {
   "cell_type": "code",
   "execution_count": 60,
   "metadata": {
    "collapsed": false
   },
   "outputs": [
    {
     "name": "stdout",
     "output_type": "stream",
     "text": [
      "first 3 and last 3 labels are: [1 1 1 0 0 0]\n"
     ]
    }
   ],
   "source": [
    "def get_true_labels(file_names):\n",
    "    \"\"\"Return a *numpy array* of ints for the true sentiment labels of each file.\n",
    "    1 means positive, 0 means negative. Use the name of the file to determine\n",
    "    the true label.\n",
    "    Params:\n",
    "        file_names....a list of .txt file paths, e.g., data/train/pos/10057_9.txt\n",
    "    Returns:\n",
    "        a numpy array of 1 or 0 values corresponding to each element\n",
    "        of file_names, where 1 indicates a positive review, and 0\n",
    "        indicates a negative review.\n",
    "    \"\"\"\n",
    "    ###TODO\n",
    "    ###\n",
    "    labels =[]\n",
    "    for f in file_names:\n",
    "        if 'pos' in f:\n",
    "            labels.append(1)\n",
    "        elif 'neg' in f:\n",
    "            labels.append(0)\n",
    "    lst = np.array(labels)\n",
    "    return lst\n",
    "\n",
    "labels = get_true_labels(all_train_files)\n",
    "print('first 3 and last 3 labels are: %s' % str(labels[[1,2,3,-3,-2,-1]]))"
   ]
  },
  {
   "cell_type": "code",
   "execution_count": 87,
   "metadata": {
    "collapsed": false
   },
   "outputs": [
    {
     "name": "stdout",
     "output_type": "stream",
     "text": [
      "Positive Movie Review:  just exactly what i wanted and would recommend to anyone looking for a great personal computer for everyday use very satisfied \n",
      "\n",
      "Negative Movie Review:  it s disappointing how limited this version of the surface is my daughter cannot use many online textbooks or watch videos for school because the microsoft 8 rt os doesn t allow installation of the necessary plugins or software \n",
      "\n"
     ]
    }
   ],
   "source": [
    "#let's look randomly how does a Posotive, negative review look like\n",
    "\n",
    "f = open(pos_train_files[3],'r')\n",
    "print \"Positive Movie Review: \", f.read(), \"\\n\"\n",
    "f.close()\n",
    "\n",
    "f = open(neg_train_files[0],'r')\n",
    "print \"Negative Movie Review: \", f.read(), \"\\n\"\n",
    "f.close()"
   ]
  },
  {
   "cell_type": "code",
   "execution_count": 64,
   "metadata": {
    "collapsed": false
   },
   "outputs": [],
   "source": [
    "def tokenize(text):\n",
    "    \"\"\"Given a string, return a list of tokens such that: (1) all\n",
    "    tokens are lowercase, (2) all punctuation is removed. Note that\n",
    "    underscore (_) is not considered punctuation.\n",
    "    Params:\n",
    "        text....a string\n",
    "    Returns:\n",
    "        a list of tokens\n",
    "    \"\"\"\n",
    "    \"\"\"regex = re.compile('[%s]' % re.escape(string.punctuation))\n",
    "    text = regex.sub('\\P{P}_','',text)\n",
    "    #text = regex.sub(\\P{P}_+,\"\", text)\n",
    "    #text = text.translate(string.maketrans(\"\",\"\"), string.punctuation)\n",
    "    #preg_replace('/^[^\\P{P}_-]+|[^\\P{P}_-]+$/u', '', text)\n",
    "    print text   \"\"\"\n",
    "    \n",
    "    return processAll(text).split()"
   ]
  },
  {
   "cell_type": "code",
   "execution_count": 70,
   "metadata": {
    "collapsed": false
   },
   "outputs": [
    {
     "name": "stdout",
     "output_type": "stream",
     "text": [
      "Without common Stop Words Matrix represents 2195 Documents with 7687 Features \n",
      "\n",
      "first document has terms:\n",
      "[6, 28, 93, 164, 203, 235, 282, 323, 356, 505, 528, 547, 577, 578, 584, 590, 595, 612, 615, 663, 678, 694, 702, 727, 753, 808, 823, 881, 922, 931, 959, 972, 1022, 1174, 1188, 1216, 1222, 1244, 1409, 1488, 1495, 1632, 1728, 1731, 1757, 1818, 1867, 1886, 1889, 1906, 1991, 2021, 2039, 2157, 2167, 2169, 2173, 2181, 2236, 2293, 2295, 2324, 2345, 2461, 2463, 2465, 2474, 2486, 2492, 2504, 2548, 2557, 2584, 2674, 2694, 2726, 2729, 2790, 2824, 2836, 2870, 2886, 2912, 2929, 2935, 2975, 3006, 3028, 3032, 3050, 3061, 3102, 3151, 3201, 3213, 3368, 3376, 3402, 3433, 3483, 3576, 3589, 3591, 3612, 3645, 3680, 3695, 3702, 3707, 3712, 3768, 3784, 3839, 3919, 3945, 3983, 4006, 4039, 4040, 4045, 4060, 4065, 4153, 4156, 4165, 4184, 4230, 4244, 4292, 4300, 4318, 4343, 4395, 4401, 4413, 4424, 4439, 4445, 4476, 4490, 4496, 4556, 4571, 4651, 4660, 4676, 4679, 4720, 4730, 4735, 4736, 4744, 4760, 4905, 5046, 5053, 5075, 5091, 5105, 5125, 5198, 5205, 5215, 5308, 5309, 5431, 5442, 5481, 5687, 5747, 5817, 5828, 5852, 5860, 5861, 5876, 5889, 5944, 5949, 6038, 6086, 6126, 6138, 6146, 6180, 6233, 6265, 6353, 6366, 6391, 6408, 6435, 6454, 6488, 6489, 6544, 6545, 6632, 6649, 6687, 6706, 6733, 6743, 6775, 6808, 6810, 6813, 6835, 6841, 6853, 6857, 6887, 6907, 6925, 7080, 7083, 7209, 7211, 7213, 7214, 7244, 7248, 7251, 7257, 7307, 7314, 7388, 7411, 7441, 7444, 7452, 7463, 7467, 7470, 7476, 7484, 7514, 7522, 7546, 7583, 7587, 7604, 7663]\n"
     ]
    }
   ],
   "source": [
    "def do_vectorize_including_stop_words(filenames, tokenizer_fn=tokenize, min_df=1,\n",
    "                 max_df=1., binary=True, ngram_range=(1,1)):\n",
    "    \"\"\"\n",
    "    Convert a list of filenames into a sparse csr_matrix, where\n",
    "    each row is a file and each column represents a unique word.\n",
    "    Use sklearn's CountVectorizer: http://goo.gl/eJ2PJ5\n",
    "    Params:\n",
    "        filenames.......list of review file names\n",
    "        tokenizer_fn....the function used to tokenize each document\n",
    "        min_df..........remove terms from the vocabulary that don't appear\n",
    "                        in at least this many documents\n",
    "        max_df..........remove terms from the vocabulary that appear in more\n",
    "                        than this fraction of documents\n",
    "        binary..........If true, each documents is represented by a binary\n",
    "                        vector, where 1 means a term occurs at least once in \n",
    "                        the document. If false, the term frequency is used instead.\n",
    "        ngram_range.....A tuple (n,m) means to use phrases of length n to m inclusive.\n",
    "                        E.g., (1,2) means consider unigrams and bigrams.\n",
    "    Return:\n",
    "        A tuple (X, vec), where X is the csr_matrix of feature vectors,\n",
    "        and vec is the CountVectorizer object.\n",
    "    \"\"\"\n",
    "    ###TODO\n",
    "    ###\n",
    "    \n",
    "    \n",
    "    vec = CountVectorizer(input = 'filename', tokenizer = tokenizer_fn,\n",
    "                         min_df = min_df, max_df = max_df, binary = binary, ngram_range = ngram_range,dtype=int)    \n",
    "    X=vec.fit_transform(filenames)\n",
    "    return (X,vec)\n",
    "\n",
    "    \n",
    "matrix_stop, vec_stop = do_vectorize_including_stop_words(all_train_files)\n",
    "print ('Without common Stop Words Matrix represents %d Documents with %d Features ' % (matrix_stop.shape[0], matrix_stop.shape[1]))\n",
    "print\n",
    "print('first document has terms:\\n%s' % (str(sorted(matrix_stop[1].nonzero()[1]))))"
   ]
  },
  {
   "cell_type": "code",
   "execution_count": 66,
   "metadata": {
    "collapsed": false
   },
   "outputs": [
    {
     "name": "stdout",
     "output_type": "stream",
     "text": [
      "[u'a', u'about', u'above', u'after', u'again', u'against', u'all', u'am', u'an', u'and', u'any', u'are', u\"aren't\", u'as', u'at', u'be', u'because', u'been', u'before', u'being', u'below', u'between', u'both', u'but', u'by', u\"can't\", u'cannot', u'could', u\"couldn't\", u'did', u\"didn't\", u'do', u'does', u\"doesn't\", u'doing', u\"don't\", u'down', u'during', u'each', u'few', u'for', u'from', u'further', u'had', u\"hadn't\", u'has', u\"hasn't\", u'have', u\"haven't\", u'having', u'he', u\"he'd\", u\"he'll\", u\"he's\", u'her', u'here', u\"here's\", u'hers', u'herself', u'him', u'himself', u'his', u'how', u\"how's\", u'i', u\"i'd\", u\"i'll\", u\"i'm\", u\"i've\", u'if', u'in', u'into', u'is', u\"isn't\", u'it', u\"it's\", u'its', u'itself', u\"let's\", u'me', u'more', u'most', u\"mustn't\", u'my', u'myself', u'no', u'nor', u'not', u'of', u'off', u'on', u'once', u'only', u'or', u'other', u'ought', u'our', u'ours', u'ourselves', u'out', u'over', u'own', u'same', u\"shan't\", u'she', u\"she'd\", u\"she'll\", u\"she's\", u'should', u\"shouldn't\", u'so', u'some', u'such', u'than', u'that', u\"that's\", u'the', u'their', u'theirs', u'them', u'themselves', u'then', u'there', u\"there's\", u'these', u'they', u\"they'd\", u\"they'll\", u\"they're\", u\"they've\", u'this', u'those', u'through', u'to', u'too', u'under', u'until', u'up', u'very', u'was', u\"wasn't\", u'we', u\"we'd\", u\"we'll\", u\"we're\", u\"we've\", u'were', u\"weren't\", u'what', u\"what's\", u'when', u\"when's\", u'where', u\"where's\", u'which', u'while', u'who', u\"who's\", u'whom', u'why', u\"why's\", u'with', u\"won't\", u'would', u\"wouldn't\", u'you', u\"you'd\", u\"you'll\", u\"you're\", u\"you've\", u'your', u'yours', u'yourself', u'yourselves']\n",
      "\n",
      "There are total 174 stop words in English\n"
     ]
    }
   ],
   "source": [
    "##  Get the Common stop words in English \n",
    "##  https://github.com/Alir3z4/python-stop-words\n",
    "\n",
    "\n",
    "from stop_words import get_stop_words\n",
    "\n",
    "stop_words = get_stop_words('english')\n",
    "print stop_words\n",
    "print\n",
    "\n",
    "print (\"There are total %d stop words in English\" % len(stop_words))"
   ]
  },
  {
   "cell_type": "code",
   "execution_count": 67,
   "metadata": {
    "collapsed": false
   },
   "outputs": [
    {
     "name": "stdout",
     "output_type": "stream",
     "text": [
      "Our feature vector has 120 stop words\n"
     ]
    }
   ],
   "source": [
    "## Find how many words are there in our feature matrix\n",
    "\n",
    "cnt = len(set(vec_stop.get_feature_names()).intersection(stop_words))\n",
    "print \"Our feature vector has %d stop words\" % (cnt)"
   ]
  },
  {
   "cell_type": "code",
   "execution_count": null,
   "metadata": {
    "collapsed": false
   },
   "outputs": [],
   "source": []
  },
  {
   "cell_type": "code",
   "execution_count": 89,
   "metadata": {
    "collapsed": false
   },
   "outputs": [
    {
     "name": "stdout",
     "output_type": "stream",
     "text": [
      "matrix represents 2195 documents with 7407 features excluding stop words\n",
      "first document has terms:\n",
      "[6, 28, 93, 164, 203, 235, 282, 323, 501, 539, 636, 651, 667, 777, 791, 887, 911, 923, 973, 1162, 1187, 1352, 1431, 1438, 1574, 1668, 1671, 1697, 1757, 1806, 1825, 1828, 1845, 1929, 1958, 1976, 2103, 2105, 2109, 2117, 2170, 2224, 2226, 2255, 2274, 2386, 2404, 2410, 2421, 2465, 2474, 2501, 2591, 2642, 2700, 2734, 2791, 2837, 2876, 2927, 2931, 2959, 3000, 3261, 3455, 3468, 3470, 3491, 3523, 3557, 3578, 3641, 3656, 3711, 3788, 3813, 3851, 3874, 3907, 3908, 3913, 3928, 3933, 4020, 4023, 4032, 4107, 4155, 4163, 4180, 4204, 4258, 4269, 4294, 4326, 4340, 4346, 4399, 4495, 4558, 4581, 4724, 4862, 4869, 4891, 4907, 4921, 4941, 5014, 5021, 5031, 5124, 5125, 5244, 5255, 5294, 5500, 5560, 5630, 5641, 5665, 5673, 5688, 5701, 5756, 5761, 5891, 5928, 5940, 5980, 6033, 6145, 6158, 6183, 6200, 6227, 6246, 6279, 6280, 6335, 6336, 6422, 6439, 6476, 6521, 6531, 6562, 6609, 6652, 6687, 6837, 6840, 6964, 6966, 6967, 6995, 6999, 7002, 7008, 7058, 7137, 7188, 7191, 7199, 7251, 7309, 7313]\n"
     ]
    }
   ],
   "source": [
    "def do_vectorize(filenames, tokenizer_fn=tokenize, min_df=1,\n",
    "                 max_df=1., binary=True, ngram_range=(1,1)):\n",
    "    \n",
    "    \"\"\"\n",
    "    Convert a list of filenames into a sparse csr_matrix, where\n",
    "    each row is a file and each column represents a unique word.\n",
    "    Use sklearn's CountVectorizer: http://goo.gl/eJ2PJ5\n",
    "    Params:\n",
    "        filenames.......list of review file names\n",
    "        tokenizer_fn....the function used to tokenize each document\n",
    "        min_df..........remove terms from the vocabulary that don't appear\n",
    "                        in at least this many documents\n",
    "        max_df..........remove terms from the vocabulary that appear in more\n",
    "                        than this fraction of documents\n",
    "        binary..........If true, each documents is represented by a binary\n",
    "                        vector, where 1 means a term occurs at least once in \n",
    "                        the document. If false, the term frequency is used instead.\n",
    "        ngram_range.....A tuple (n,m) means to use phrases of length n to m inclusive.\n",
    "                        E.g., (1,2) means consider unigrams and bigrams.\n",
    "    Return:\n",
    "        A tuple (X, vec), where X is the csr_matrix of feature vectors,\n",
    "        and vec is the CountVectorizer object.\n",
    "    \"\"\"\n",
    "    ###TODO\n",
    "    ###\n",
    "    \n",
    "    vec = CountVectorizer(input='filename', tokenizer=tokenizer_fn, min_df=min_df,\n",
    "                 max_df=max_df, binary=binary, ngram_range=ngram_range, stop_words = 'english', dtype=int)\n",
    "    \n",
    "    X = vec.fit_transform(filenames)   \n",
    "    return (X,vec)\n",
    "    \n",
    "matrix, vec = do_vectorize(all_train_files)\n",
    "print ('matrix represents %d documents with %d features excluding stop words' % (matrix.shape[0], matrix.shape[1]))\n",
    "print('first document has terms:\\n%s' % ((sorted(matrix[1].nonzero()[1]))))"
   ]
  },
  {
   "cell_type": "code",
   "execution_count": 75,
   "metadata": {
    "collapsed": true
   },
   "outputs": [],
   "source": [
    "def tokenize_with_not(text):\n",
    "    \"\"\"Does the same thing as tokenize_with_punct, with the following difference:\n",
    "    whenever the term 'not' appears, change the two subsequent tokens to have the prefix\n",
    "    'not_' prior to the token. See the example below. You may call \n",
    "    tokenize_with_punct as a subroutine.\n",
    "    Params:\n",
    "        text....a string\n",
    "    Returns:\n",
    "        a list of tokens\n",
    "    \"\"\"\n",
    "    ###TODO\n",
    "    ###\n",
    "    not_tokens = tokenize(text)\n",
    "    i=0\n",
    "    while (i<len(not_tokens)):\n",
    "        if not_tokens[i] == 'not':\n",
    "            if i < len(not_tokens)-2:\n",
    "                not_tokens[i+1] = \"not_\" + not_tokens[i+1]\n",
    "                not_tokens[i+2] = \"not_\" + not_tokens[i+2]\n",
    "                i+=2\n",
    "                \n",
    "            elif i< len(not_tokens)-1:\n",
    "                not_tokens[i+1] =\"not_\"+ not_tokens[i+1]\n",
    "                i+=1\n",
    "                \n",
    "        i+=1\n",
    "        \n",
    "    return not_tokens"
   ]
  },
  {
   "cell_type": "code",
   "execution_count": 77,
   "metadata": {
    "collapsed": false
   },
   "outputs": [
    {
     "name": "stdout",
     "output_type": "stream",
     "text": [
      "matrix represents 2195 documents with 7408 features (tokenize with not)\n",
      "first doc has terms:\n",
      "[6, 28, 93, 164, 203, 235, 282, 323, 501, 539, 636, 651, 667, 777, 791, 887, 911, 923, 973, 1162, 1187, 1352, 1431, 1438, 1574, 1668, 1671, 1697, 1757, 1806, 1825, 1828, 1845, 1929, 1958, 1976, 2103, 2105, 2109, 2117, 2170, 2224, 2226, 2255, 2274, 2386, 2404, 2410, 2421, 2465, 2474, 2501, 2591, 2642, 2700, 2734, 2791, 2837, 2876, 2927, 2931, 2959, 3000, 3261, 3455, 3468, 3470, 3491, 3523, 3557, 3578, 3641, 3656, 3711, 3788, 3813, 3851, 3874, 3907, 3908, 3913, 3928, 3933, 4020, 4023, 4032, 4107, 4155, 4163, 4180, 4204, 4258, 4269, 4294, 4326, 4340, 4346, 4399, 4412, 4496, 4559, 4582, 4725, 4863, 4870, 4892, 4908, 4922, 4942, 5015, 5022, 5032, 5125, 5126, 5245, 5256, 5295, 5501, 5561, 5631, 5642, 5666, 5674, 5689, 5702, 5757, 5762, 5892, 5929, 5941, 5981, 6034, 6146, 6159, 6184, 6201, 6228, 6247, 6280, 6281, 6336, 6337, 6423, 6440, 6477, 6522, 6532, 6563, 6610, 6653, 6688, 6838, 6841, 6965, 6967, 6968, 6996, 7000, 7003, 7009, 7059, 7138, 7189, 7192, 7200, 7252, 7310, 7314]\n"
     ]
    }
   ],
   "source": [
    "matrix, vec = do_vectorize(all_train_files, tokenizer_fn=tokenize_with_not)\n",
    "print ('matrix represents %d documents with %d features (tokenize with not)' % (matrix.shape[0], matrix.shape[1]))\n",
    "print('first document has terms:\\n%s' % (str(sorted(matrix[1].nonzero()[1]))))"
   ]
  },
  {
   "cell_type": "code",
   "execution_count": 78,
   "metadata": {
    "collapsed": false
   },
   "outputs": [
    {
     "name": "stdout",
     "output_type": "stream",
     "text": [
      "not the fiancée of not Henri\n",
      "tokenize: not, the, fianc, e, of, not, henri\n",
      "tokenize_with_not: not, not_the, not_fianc, e, of, not, not_henri\n"
     ]
    }
   ],
   "source": [
    "nonascii_string = u'not the fiancée of not Henri'\n",
    "print nonascii_string\n",
    "print('tokenize: %s' % \n",
    "      ', '.join(tokenize(nonascii_string)))\n",
    "\n",
    "print('tokenize_with_not: %s' %\n",
    "      ', '.join(tokenize_with_not(nonascii_string)))\n"
   ]
  },
  {
   "cell_type": "code",
   "execution_count": 252,
   "metadata": {
    "collapsed": false
   },
   "outputs": [
    {
     "name": "stdout",
     "output_type": "stream",
     "text": [
      "first shuffled document Data/train/pos/r1181.txt has label 1 and terms: [71, 1415, 1459, 1874, 1910, 1929, 2229, 2404, 2417, 2552, 2566, 2941, 2958, 3210, 3581, 3732, 3900, 4507, 4551, 4870, 5055, 5649, 5838, 6094, 6610, 6965, 7000, 7011, 7312, 7314, 7374]\n"
     ]
    }
   ],
   "source": [
    "# Do not modify. This is to randomize the order of the documents, but\n",
    "# in a way that is consistent across platforms.\n",
    "# See: http://stackoverflow.com/a/18992474/1756896\n",
    "# You should run this block once to get the shuffled data.\n",
    "def repeatable_random(seed):\n",
    "    hash = str(seed)\n",
    "    while True:\n",
    "        hash = hashlib.md5(hash).digest()\n",
    "        for c in hash:\n",
    "            yield ord(c)\n",
    "\n",
    "def repeatable_shuffle(X, y, filenames):\n",
    "    r = repeatable_random(42) \n",
    "    indices = sorted(range(X.shape[0]), key=lambda x: next(r))\n",
    "    return X[indices], y[indices], np.array(filenames)[indices]\n",
    "\n",
    "X, y, filenames = repeatable_shuffle(matrix, labels, all_train_files)\n",
    "\n",
    "print('first shuffled document %s has label %d and terms: %s' % \n",
    "      (filenames[0], y[0], sorted(X[0].nonzero()[1])))"
   ]
  },
  {
   "cell_type": "code",
   "execution_count": 254,
   "metadata": {
    "collapsed": false
   },
   "outputs": [
    {
     "name": "stdout",
     "output_type": "stream",
     "text": [
      "matrix represents 2195 documents with 6701 features (Here stop words are REMOVED)\n",
      "first doc has terms:\n",
      "[6, 28, 93, 163, 202, 233, 280, 321, 485, 521, 610, 623, 638, 741, 755, 842, 865, 875, 921, 1088, 1110, 1259, 1326, 1333, 1453, 1535, 1561, 1616, 1661, 1679, 1682, 1697, 1772, 1798, 1813, 1925, 1929, 1933, 1939, 1986, 2033, 2035, 2063, 2080, 2182, 2200, 2205, 2216, 2257, 2264, 2290, 2375, 2420, 2466, 2498, 2551, 2593, 2628, 2674, 2677, 2703, 2741, 2785, 2975, 3155, 3168, 3170, 3189, 3220, 3254, 3274, 3330, 3344, 3390, 3461, 3481, 3513, 3530, 3561, 3562, 3566, 3579, 3585, 3664, 3673, 3741, 3780, 3787, 3802, 3822, 3870, 3878, 3902, 3934, 3948, 3953, 4003, 4016, 4093, 4152, 4173, 4301, 4425, 4433, 4453, 4466, 4478, 4496, 4562, 4567, 4574, 4653, 4654, 4757, 4767, 4805, 4994, 5044, 5113, 5124, 5148, 5156, 5169, 5182, 5227, 5232, 5345, 5376, 5387, 5423, 5473, 5561, 5582, 5604, 5621, 5642, 5657, 5685, 5686, 5733, 5734, 5815, 5831, 5863, 5903, 5911, 5938, 5980, 6016, 6045, 6177, 6300, 6302, 6328, 6332, 6335, 6340, 6386, 6439, 6457, 6501, 6503, 6507, 6557, 6602, 6609]\n"
     ]
    }
   ],
   "source": [
    "\"\"\"from nltk import word_tokenize          \n",
    "from nltk.stem import WordNetLemmatizer \n",
    "class LemmaTokenizer(object):\n",
    "    def __init__(self):\n",
    "        self.wnl = WordNetLemmatizer()\n",
    "    def __call__(self, doc):\n",
    "        return [self.wnl.lemmatize(t) for t in word_tokenize(doc)]\n",
    "    \n",
    "def do_vectorize(filenames, tokenizer_fn=tokenize, min_df=1,\n",
    "                 max_df=1., binary=True, ngram_range=(1,1)):\n",
    "    \n",
    "    #Convert a collection of text documents to a matrix of token counts\n",
    "    vectorizer = CountVectorizer(input='filename', tokenizer=LemmaTokenizer(), min_df=min_df,\n",
    "                 max_df=max_df, binary=binary, ngram_range=ngram_range, stop_words = 'english', dtype=int)\n",
    "    #return term-document matrix\n",
    "    X = vectorizer.fit_transform(filenames)   \n",
    "    return (X,vectorizer)\n",
    "    \n",
    "matrix_sl, vec_sl = do_vectorize(all_train_files)\n",
    "print ('matrix represents %d documents with %d features (Here stop words are REMOVED)' % (matrix_sl.shape[0], matrix_sl.shape[1]))\n",
    "print('first doc has terms:\\n%s' % (str(sorted(matrix_sl[1].nonzero()[1]))))\"\"\""
   ]
  },
  {
   "cell_type": "code",
   "execution_count": 79,
   "metadata": {
    "collapsed": true
   },
   "outputs": [],
   "source": [
    "from sklearn.naive_bayes import MultinomialNB\n",
    "\n",
    "def get_clf():\n",
    "    return MultinomialNB(alpha = 0.1)"
   ]
  },
  {
   "cell_type": "code",
   "execution_count": 261,
   "metadata": {
    "collapsed": false
   },
   "outputs": [
    {
     "name": "stdout",
     "output_type": "stream",
     "text": [
      "fold 0 accuracy=0.6948\n",
      "fold 1 accuracy=0.6993\n",
      "fold 2 accuracy=0.6629\n",
      "fold 3 accuracy=0.6583\n",
      "fold 4 accuracy=0.6811\n",
      "average cross validation accuracy=0.6793\n"
     ]
    }
   ],
   "source": [
    "def do_cross_validation(X, y, n_folds=5, verbose=False):\n",
    "    \"\"\"\n",
    "    Perform n-fold cross validation, calling get_clf() to train n\n",
    "    different classifiers. Use sklearn's KFold class: http://goo.gl/wmyFhi\n",
    "    Be sure not to shuffle the data, otherwise your output will differ.\n",
    "    Params:\n",
    "        X.........a csr_matrix of feature vectors\n",
    "        y.........the true labels of each document\n",
    "        n_folds...the number of folds of cross-validation to do\n",
    "        verbose...If true, report the testing accuracy for each fold.\n",
    "    Return:\n",
    "        the average testing accuracy across all folds.\n",
    "    \"\"\"\n",
    "    ###TODO\n",
    "    ###\n",
    "    g = get_clf()\n",
    "    kf = cross_validation.KFold(len(y), n_folds=n_folds)\n",
    "    accuracies = []\n",
    "    \n",
    "    for train_idx, test_idx in kf:    \n",
    "        g.fit(X[train_idx], y[train_idx])\n",
    "        #print len(train_idx)\n",
    "        predicted = g.predict(X[test_idx])\n",
    "        acc = accuracy_score(y[test_idx], predicted)\n",
    "        if verbose:\n",
    "            print \"fold %d accuracy=%.4f\"  %(len(accuracies),acc)\n",
    "        accuracies.append(acc)\n",
    "    avg = np.mean(accuracies)\n",
    "    return avg\n",
    "\n",
    "print('average cross validation accuracy=%.4f' %\n",
    "      do_cross_validation(X, y, verbose=True))"
   ]
  },
  {
   "cell_type": "code",
   "execution_count": 262,
   "metadata": {
    "collapsed": false
   },
   "outputs": [
    {
     "name": "stdout",
     "output_type": "stream",
     "text": [
      "accuracy using default settings: 0.6802\n"
     ]
    }
   ],
   "source": [
    "def do_expt(filenames, y, tokenizer_fn=tokenize_with_not,\n",
    "            min_df=1, max_df=1., binary=True,\n",
    "            ngram_range=(1,1), n_folds=5):\n",
    "\n",
    "    #single method to call do_vectorize and do_cross_validation\n",
    "    matrix, vec = do_vectorize(filenames, tokenizer_fn, min_df, max_df, binary, ngram_range)\n",
    "    return do_cross_validation(matrix, y, n_folds=n_folds, verbose=False)\n",
    "print('accuracy using default settings: %.4g' % do_expt(filenames, y))"
   ]
  },
  {
   "cell_type": "code",
   "execution_count": 263,
   "metadata": {
    "collapsed": false
   },
   "outputs": [
    {
     "data": {
      "image/png": "[encoded data removed]",
      "text/plain": [
       "<matplotlib.figure.Figure at 0x7fa5dc6fb110>"
      ]
     },
     "metadata": {},
     "output_type": "display_data"
    },
    {
     "data": {
      "text/plain": [
       "[0.68885086500191783,\n",
       " 0.68018223234624142,\n",
       " 0.68746160232461606,\n",
       " 0.69108423686405351]"
      ]
     },
     "execution_count": 263,
     "metadata": {},
     "output_type": "execute_result"
    }
   ],
   "source": [
    "def compare_n_folds(filenames, y):\n",
    "    \"\"\"\n",
    "    Vary the setting of n_folds parameter in the do_expt \n",
    "    function to be in [2,5,10,20]. For each setting, call do_expt and \n",
    "    store the resulting accuracy. Plot the accuracies for each setting.\n",
    "    Also return the list of accuracies. Use the default value for all\n",
    "    other arguments to the do_expt function.\n",
    "    Params:\n",
    "        filenames....list of training file names\n",
    "        y............true labels for each file (a numpy array)\n",
    "    Returns:\n",
    "        a list of average testing accuracies, one per fold.\n",
    "    \"\"\"\n",
    "    ###TODO\n",
    "    ###\n",
    "    fold_list = [2,5,10,20]\n",
    "    \n",
    "    result = [do_expt(filenames,y,n_folds = nf) for nf in fold_list]\n",
    "    plt.plot(fold_list, result,'bo-')\n",
    "    plt.xlabel('n_folds')\n",
    "    plt.ylabel('accuracy')\n",
    "    plt.show()\n",
    "    return result    \n",
    "    \n",
    "compare_n_folds(filenames, y)"
   ]
  },
  {
   "cell_type": "code",
   "execution_count": 265,
   "metadata": {
    "collapsed": false
   },
   "outputs": [
    {
     "data": {
      "text/plain": [
       "[0.68018223234624142, 0.7517084282460138]"
      ]
     },
     "execution_count": 265,
     "metadata": {},
     "output_type": "execute_result"
    }
   ],
   "source": [
    "def compare_binary(filenames, y):\n",
    "    \"\"\"\n",
    "    How does the binary parameter affect results? \n",
    "    Call do_expt twice, once with binary=True, and once with binary=False.\n",
    "    Return the average accuracies for each. Use the default parameters for the\n",
    "    remaining arguments in do_expt.\n",
    "    Params:\n",
    "        filenames....list of training file names\n",
    "        y............true labels for each file (a numpy array)\n",
    "    Returns:\n",
    "        a list of average testing accuracies. The first entry\n",
    "        is for binary=True, the second is for binary=False.\n",
    "    \"\"\"\n",
    "    ###TODO\n",
    "    ###\n",
    "    accuracies=[]\n",
    "    accuracies.append(do_expt(filenames,y,binary=True))\n",
    "    accuracies.append(do_expt(filenames,y,binary=False))\n",
    "    return accuracies\n",
    "          \n",
    "compare_binary(filenames, y)"
   ]
  },
  {
   "cell_type": "code",
   "execution_count": 266,
   "metadata": {
    "collapsed": true
   },
   "outputs": [],
   "source": [
    "def tokenize_with_punct(text):\n",
    "    \"\"\"Given a string, return a list of tokens such that: (1) all\n",
    "    tokens are lowercase, (2) all punctuation is kept as separate tokens.\n",
    "    Note that underscore (_) is not considered punctuation.\n",
    "    Params:\n",
    "        text....a string\n",
    "    Returns:\n",
    "        a list of tokens\n",
    "    \"\"\"\n",
    "    ###TODO\n",
    "    ###\n",
    "    \n",
    "    text = re.sub(r'[\\x85]',\" \",text)\n",
    "    return re.findall(r\"[\\w]+|[^\\w\\s]\", text.lower())\n",
    "   "
   ]
  },
  {
   "cell_type": "code",
   "execution_count": 267,
   "metadata": {
    "collapsed": true
   },
   "outputs": [],
   "source": [
    "def tokenize_with_not(text):\n",
    "    \"\"\"Does the same thing as tokenize_with_punct, with the following difference:\n",
    "    whenever the term 'not' appears, change the two subsequent tokens to have the prefix\n",
    "    'not_' prior to the token. See the example below. You may call \n",
    "    tokenize_with_punct as a subroutine.\n",
    "    Params:\n",
    "        text....a string\n",
    "    Returns:\n",
    "        a list of tokens\n",
    "    \"\"\"\n",
    "    ###TODO\n",
    "    ###\n",
    "    not_tokens = tokenize_with_punct(text)\n",
    "    i=0\n",
    "    while (i<len(not_tokens)):\n",
    "        if not_tokens[i] == 'not':\n",
    "            if i < len(not_tokens)-2:\n",
    "                not_tokens[i+1] = \"not_\" + not_tokens[i+1]\n",
    "                not_tokens[i+2] = \"not_\" + not_tokens[i+2]\n",
    "                i+=2\n",
    "                \n",
    "            elif i< len(not_tokens)-1:\n",
    "                not_tokens[i+1] =\"not_\"+ not_tokens[i+1]\n",
    "                i+=1\n",
    "                \n",
    "        i+=1\n",
    "        \n",
    "    return not_tokens"
   ]
  },
  {
   "cell_type": "code",
   "execution_count": 268,
   "metadata": {
    "collapsed": false
   },
   "outputs": [
    {
     "data": {
      "text/plain": [
       "[0.68018223234624142, 0.68018223234624142, 0.68018223234624142]"
      ]
     },
     "execution_count": 268,
     "metadata": {},
     "output_type": "execute_result"
    }
   ],
   "source": [
    "def tokenizer_expt(all_train_files, y):\n",
    "    \"\"\"\n",
    "    How does the tokenizer affect results? \n",
    "    Call do_expt three times, using three different tokenizers:\n",
    "    1- tokenize\n",
    "    2- tokenize_with_punct\n",
    "    3- tokenize_with_not\n",
    "    Return the average cross-validation accuracy for each approach,\n",
    "    in the above order. Use the default parameters for all other \n",
    "    arguments to do_expt.\n",
    "    Params:\n",
    "        filenames....list of training file names\n",
    "        y............true labels for each file (a numpy array)\n",
    "    Returns:\n",
    "        a list of average testing accuracies for each tokenizer.\n",
    "    \"\"\"\n",
    "    ###TODO\n",
    "    ###      \n",
    "    return [do_expt(filenames=all_train_files, y=y,tokenizer_fn = t) \n",
    "            for t in [tokenize,tokenize_with_punct,tokenize_with_not]]\n",
    "\n",
    "tokenizer_expt(filenames, y)"
   ]
  },
  {
   "cell_type": "code",
   "execution_count": 269,
   "metadata": {
    "collapsed": false
   },
   "outputs": [
    {
     "data": {
      "image/png": "[encoded data removed]",
      "text/plain": [
       "<matplotlib.figure.Figure at 0x7fa5e6724d90>"
      ]
     },
     "metadata": {},
     "output_type": "display_data"
    },
    {
     "data": {
      "text/plain": [
       "[0.68018223234624142,\n",
       " 0.68519362186788157,\n",
       " 0.69020501138952162,\n",
       " 0.69066059225512522,\n",
       " 0.68792710706150351,\n",
       " 0.69794988610478359,\n",
       " 0.69521640091116166,\n",
       " 0.69248291571753984,\n",
       " 0.69931662870159461,\n",
       " 0.69521640091116166]"
      ]
     },
     "execution_count": 269,
     "metadata": {},
     "output_type": "execute_result"
    }
   ],
   "source": [
    "def min_df_expt(filenames, y):\n",
    "    \"\"\"\n",
    "    Vary the setting of min_df parameter in the do_expt \n",
    "    function to be ints in the range (1,10) (inclusive). For each setting,\n",
    "    call do_expt and store the resulting accuracy. Plot the accuracies for each setting.\n",
    "    Also return the list of accuracies. Use the default value for all\n",
    "    other arguments to the do_expt function, except that the tokenizer\n",
    "    should be tokenize_with_not.\n",
    "    Params:\n",
    "        filenames....list of training file names\n",
    "        y............true labels for each file (a numpy array)\n",
    "    Returns:\n",
    "        a list of average testing accuracies, one per min_df value.\n",
    "    \"\"\"\n",
    "    ###TODO\n",
    "    ###\n",
    "    accuracy = [ do_expt(filenames,y,tokenizer_fn = tokenize_with_not, min_df=i) for i in range(1,11)]\n",
    "    plt.plot(range(1,11), accuracy,'bo-')\n",
    "    plt.xlabel('min_df')\n",
    "    plt.ylabel('accuracy')\n",
    "    plt.show()\n",
    "    return accuracy\n",
    "\n",
    "min_df_expt(filenames, y)"
   ]
  },
  {
   "cell_type": "code",
   "execution_count": 270,
   "metadata": {
    "collapsed": false
   },
   "outputs": [
    {
     "data": {
      "image/png": "[encoded data removed]",
      "text/plain": [
       "<matplotlib.figure.Figure at 0x7fa5dc43af50>"
      ]
     },
     "metadata": {},
     "output_type": "display_data"
    },
    {
     "data": {
      "text/plain": [
       "[0.62596810933940772,\n",
       " 0.64783599088838262,\n",
       " 0.65922551252847383,\n",
       " 0.68519362186788157,\n",
       " 0.68519362186788157,\n",
       " 0.68519362186788157,\n",
       " 0.68519362186788157,\n",
       " 0.68519362186788157,\n",
       " 0.68519362186788157,\n",
       " 0.68519362186788157]"
      ]
     },
     "execution_count": 270,
     "metadata": {},
     "output_type": "execute_result"
    }
   ],
   "source": [
    "def max_df_expt(filenames, y):\n",
    "    \"\"\"\n",
    "    Vary the setting of max_df parameter in the do_expt \n",
    "    function to be one of [.1, .2, .3, .4, .5, .6, .7, .8, .9, 1.].\n",
    "    For each setting, call do_expt and store the resulting accuracy.\n",
    "    Plot the accuracies for each setting. Also return the list of accuracies.\n",
    "    Use the default value for all other arguments to the do_expt function,\n",
    "    except that the tokenizer=tokenize_with_not and min_df=2.\n",
    "    Params:\n",
    "        filenames....list of training file names\n",
    "        y............true labels for each file (a numpy array)\n",
    "    Returns:\n",
    "        a list of average testing accuracies, one per max_df value.\n",
    "    \"\"\"\n",
    "    ###TODO\n",
    "    ###\n",
    "    max_dflist = [.1, .2, .3, .4, .5, .6, .7, .8, .9, 1.]\n",
    "    accuracy = [do_expt(filenames, y, tokenizer_fn = tokenize_with_not, min_df = 2, max_df = i) \n",
    "                for i in max_dflist]\n",
    "    plt.plot(max_dflist, accuracy,'bo-')\n",
    "    plt.xlabel('max_df')\n",
    "    plt.ylabel('accuracy')\n",
    "    plt.show()\n",
    "    return accuracy\n",
    "    \n",
    "max_df_expt(filenames, y)\n"
   ]
  },
  {
   "cell_type": "code",
   "execution_count": null,
   "metadata": {
    "collapsed": true
   },
   "outputs": [],
   "source": []
  },
  {
   "cell_type": "code",
   "execution_count": null,
   "metadata": {
    "collapsed": true
   },
   "outputs": [],
   "source": []
  }
 ],
 "metadata": {
  "kernelspec": {
   "display_name": "Python 2",
   "language": "python",
   "name": "python2"
  },
  "language_info": {
   "codemirror_mode": {
    "name": "ipython",
    "version": 2
   },
   "file_extension": ".py",
   "mimetype": "text/x-python",
   "name": "python",
   "nbconvert_exporter": "python",
   "pygments_lexer": "ipython2",
   "version": "2.7.6"
  }
 },
 "nbformat": 4,
 "nbformat_minor": 0
}
